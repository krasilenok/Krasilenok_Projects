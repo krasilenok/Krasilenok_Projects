{
 "cells": [
  {
   "cell_type": "markdown",
   "metadata": {},
   "source": [
    "# Определение стоимости автомобилей"
   ]
  },
  {
   "cell_type": "markdown",
   "metadata": {},
   "source": [
    "Сервис по продаже автомобилей с пробегом «Не бит, не крашен» разрабатывает приложение для привлечения новых клиентов. В нём можно быстро узнать рыночную стоимость своего автомобиля. В нашем распоряжении исторические данные: технические характеристики, комплектации и цены автомобилей. \n",
    "\n",
    "**Основная задача:** нужно построить модель для определения стоимости. \n",
    "\n",
    "Заказчику важны:\n",
    "\n",
    "- качество предсказания;\n",
    "- скорость предсказания;\n",
    "- время обучения.\n",
    "\n",
    "Для оценки качества моделей необходимо применить метрику RMSE.\n",
    "\n",
    "*Описание данных:*\n",
    "- DateCrawled — дата скачивания анкеты из базы\n",
    "- VehicleType — тип автомобильного кузова\n",
    "- RegistrationYear — год регистрации автомобиля\n",
    "- Gearbox — тип коробки передач\n",
    "- Power — мощность (л. с.)\n",
    "- Model — модель автомобиля\n",
    "- Kilometer — пробег (км)\n",
    "- RegistrationMonth — месяц регистрации автомобиля\n",
    "- FuelType — тип топлива\n",
    "- Brand — марка автомобиля\n",
    "- NotRepaired — была машина в ремонте или нет\n",
    "- DateCreated — дата создания анкеты\n",
    "- NumberOfPictures — количество фотографий автомобиля\n",
    "- PostalCode — почтовый индекс владельца анкеты (пользователя)\n",
    "- LastSeen — дата последней активности пользователя\n",
    "\n",
    "*Целевой признак:*\n",
    "- Price — цена (евро)"
   ]
  },
  {
   "cell_type": "markdown",
   "metadata": {},
   "source": [
    "## 1. Подготовка данных"
   ]
  },
  {
   "cell_type": "markdown",
   "metadata": {},
   "source": [
    "### 1.1. Загрузка и изучение данных"
   ]
  },
  {
   "cell_type": "markdown",
   "metadata": {},
   "source": [
    "Импортируем нужные библиотеки:"
   ]
  },
  {
   "cell_type": "code",
   "execution_count": 1,
   "metadata": {},
   "outputs": [],
   "source": [
    "import pandas as pd\n",
    "import numpy as np\n",
    "import matplotlib.pyplot as plt\n",
    "from sklearn.linear_model import LinearRegression\n",
    "from sklearn.ensemble import RandomForestRegressor\n",
    "from sklearn.tree import DecisionTreeRegressor\n",
    "from sklearn.dummy import DummyRegressor\n",
    "from sklearn.model_selection import cross_val_score, train_test_split, GridSearchCV\n",
    "from sklearn.metrics import mean_squared_error, make_scorer\n",
    "import warnings\n",
    "from io import BytesIO\n",
    "import requests\n",
    "from sklearn.preprocessing import StandardScaler, OrdinalEncoder\n",
    "import lightgbm as lgb"
   ]
  },
  {
   "cell_type": "code",
   "execution_count": 2,
   "metadata": {},
   "outputs": [],
   "source": [
    "warnings.filterwarnings('ignore')\n",
    "pd.options.mode.chained_assignment = None\n",
    "pd.options.display.min_rows=30\n",
    "pd.options.display.max_columns=50"
   ]
  },
  {
   "cell_type": "markdown",
   "metadata": {},
   "source": [
    "Загрузим исходные данные, сохраним в `df`. Выведем основную информацию о датафрейме и первые 5 строк:"
   ]
  },
  {
   "cell_type": "code",
   "execution_count": 3,
   "metadata": {},
   "outputs": [],
   "source": [
    "df = pd.read_csv('C:\\\\Users\\\\Public\\\\Documents\\\\datasets\\\\price_autos.csv')"
   ]
  },
  {
   "cell_type": "code",
   "execution_count": 4,
   "metadata": {},
   "outputs": [
    {
     "name": "stdout",
     "output_type": "stream",
     "text": [
      "<class 'pandas.core.frame.DataFrame'>\n",
      "RangeIndex: 354369 entries, 0 to 354368\n",
      "Data columns (total 16 columns):\n",
      " #   Column             Non-Null Count   Dtype \n",
      "---  ------             --------------   ----- \n",
      " 0   DateCrawled        354369 non-null  object\n",
      " 1   Price              354369 non-null  int64 \n",
      " 2   VehicleType        316879 non-null  object\n",
      " 3   RegistrationYear   354369 non-null  int64 \n",
      " 4   Gearbox            334536 non-null  object\n",
      " 5   Power              354369 non-null  int64 \n",
      " 6   Model              334664 non-null  object\n",
      " 7   Kilometer          354369 non-null  int64 \n",
      " 8   RegistrationMonth  354369 non-null  int64 \n",
      " 9   FuelType           321474 non-null  object\n",
      " 10  Brand              354369 non-null  object\n",
      " 11  NotRepaired        283215 non-null  object\n",
      " 12  DateCreated        354369 non-null  object\n",
      " 13  NumberOfPictures   354369 non-null  int64 \n",
      " 14  PostalCode         354369 non-null  int64 \n",
      " 15  LastSeen           354369 non-null  object\n",
      "dtypes: int64(7), object(9)\n",
      "memory usage: 43.3+ MB\n"
     ]
    }
   ],
   "source": [
    "df.info()"
   ]
  },
  {
   "cell_type": "code",
   "execution_count": 5,
   "metadata": {
    "scrolled": true
   },
   "outputs": [
    {
     "data": {
      "text/html": [
       "<div>\n",
       "<style scoped>\n",
       "    .dataframe tbody tr th:only-of-type {\n",
       "        vertical-align: middle;\n",
       "    }\n",
       "\n",
       "    .dataframe tbody tr th {\n",
       "        vertical-align: top;\n",
       "    }\n",
       "\n",
       "    .dataframe thead th {\n",
       "        text-align: right;\n",
       "    }\n",
       "</style>\n",
       "<table border=\"1\" class=\"dataframe\">\n",
       "  <thead>\n",
       "    <tr style=\"text-align: right;\">\n",
       "      <th></th>\n",
       "      <th>DateCrawled</th>\n",
       "      <th>Price</th>\n",
       "      <th>VehicleType</th>\n",
       "      <th>RegistrationYear</th>\n",
       "      <th>Gearbox</th>\n",
       "      <th>Power</th>\n",
       "      <th>Model</th>\n",
       "      <th>Kilometer</th>\n",
       "      <th>RegistrationMonth</th>\n",
       "      <th>FuelType</th>\n",
       "      <th>Brand</th>\n",
       "      <th>NotRepaired</th>\n",
       "      <th>DateCreated</th>\n",
       "      <th>NumberOfPictures</th>\n",
       "      <th>PostalCode</th>\n",
       "      <th>LastSeen</th>\n",
       "    </tr>\n",
       "  </thead>\n",
       "  <tbody>\n",
       "    <tr>\n",
       "      <th>0</th>\n",
       "      <td>2016-03-24 11:52:17</td>\n",
       "      <td>480</td>\n",
       "      <td>NaN</td>\n",
       "      <td>1993</td>\n",
       "      <td>manual</td>\n",
       "      <td>0</td>\n",
       "      <td>golf</td>\n",
       "      <td>150000</td>\n",
       "      <td>0</td>\n",
       "      <td>petrol</td>\n",
       "      <td>volkswagen</td>\n",
       "      <td>NaN</td>\n",
       "      <td>2016-03-24 00:00:00</td>\n",
       "      <td>0</td>\n",
       "      <td>70435</td>\n",
       "      <td>2016-04-07 03:16:57</td>\n",
       "    </tr>\n",
       "    <tr>\n",
       "      <th>1</th>\n",
       "      <td>2016-03-24 10:58:45</td>\n",
       "      <td>18300</td>\n",
       "      <td>coupe</td>\n",
       "      <td>2011</td>\n",
       "      <td>manual</td>\n",
       "      <td>190</td>\n",
       "      <td>NaN</td>\n",
       "      <td>125000</td>\n",
       "      <td>5</td>\n",
       "      <td>gasoline</td>\n",
       "      <td>audi</td>\n",
       "      <td>yes</td>\n",
       "      <td>2016-03-24 00:00:00</td>\n",
       "      <td>0</td>\n",
       "      <td>66954</td>\n",
       "      <td>2016-04-07 01:46:50</td>\n",
       "    </tr>\n",
       "    <tr>\n",
       "      <th>2</th>\n",
       "      <td>2016-03-14 12:52:21</td>\n",
       "      <td>9800</td>\n",
       "      <td>suv</td>\n",
       "      <td>2004</td>\n",
       "      <td>auto</td>\n",
       "      <td>163</td>\n",
       "      <td>grand</td>\n",
       "      <td>125000</td>\n",
       "      <td>8</td>\n",
       "      <td>gasoline</td>\n",
       "      <td>jeep</td>\n",
       "      <td>NaN</td>\n",
       "      <td>2016-03-14 00:00:00</td>\n",
       "      <td>0</td>\n",
       "      <td>90480</td>\n",
       "      <td>2016-04-05 12:47:46</td>\n",
       "    </tr>\n",
       "    <tr>\n",
       "      <th>3</th>\n",
       "      <td>2016-03-17 16:54:04</td>\n",
       "      <td>1500</td>\n",
       "      <td>small</td>\n",
       "      <td>2001</td>\n",
       "      <td>manual</td>\n",
       "      <td>75</td>\n",
       "      <td>golf</td>\n",
       "      <td>150000</td>\n",
       "      <td>6</td>\n",
       "      <td>petrol</td>\n",
       "      <td>volkswagen</td>\n",
       "      <td>no</td>\n",
       "      <td>2016-03-17 00:00:00</td>\n",
       "      <td>0</td>\n",
       "      <td>91074</td>\n",
       "      <td>2016-03-17 17:40:17</td>\n",
       "    </tr>\n",
       "    <tr>\n",
       "      <th>4</th>\n",
       "      <td>2016-03-31 17:25:20</td>\n",
       "      <td>3600</td>\n",
       "      <td>small</td>\n",
       "      <td>2008</td>\n",
       "      <td>manual</td>\n",
       "      <td>69</td>\n",
       "      <td>fabia</td>\n",
       "      <td>90000</td>\n",
       "      <td>7</td>\n",
       "      <td>gasoline</td>\n",
       "      <td>skoda</td>\n",
       "      <td>no</td>\n",
       "      <td>2016-03-31 00:00:00</td>\n",
       "      <td>0</td>\n",
       "      <td>60437</td>\n",
       "      <td>2016-04-06 10:17:21</td>\n",
       "    </tr>\n",
       "  </tbody>\n",
       "</table>\n",
       "</div>"
      ],
      "text/plain": [
       "           DateCrawled  Price VehicleType  RegistrationYear Gearbox  Power  \\\n",
       "0  2016-03-24 11:52:17    480         NaN              1993  manual      0   \n",
       "1  2016-03-24 10:58:45  18300       coupe              2011  manual    190   \n",
       "2  2016-03-14 12:52:21   9800         suv              2004    auto    163   \n",
       "3  2016-03-17 16:54:04   1500       small              2001  manual     75   \n",
       "4  2016-03-31 17:25:20   3600       small              2008  manual     69   \n",
       "\n",
       "   Model  Kilometer  RegistrationMonth  FuelType       Brand NotRepaired  \\\n",
       "0   golf     150000                  0    petrol  volkswagen         NaN   \n",
       "1    NaN     125000                  5  gasoline        audi         yes   \n",
       "2  grand     125000                  8  gasoline        jeep         NaN   \n",
       "3   golf     150000                  6    petrol  volkswagen          no   \n",
       "4  fabia      90000                  7  gasoline       skoda          no   \n",
       "\n",
       "           DateCreated  NumberOfPictures  PostalCode             LastSeen  \n",
       "0  2016-03-24 00:00:00                 0       70435  2016-04-07 03:16:57  \n",
       "1  2016-03-24 00:00:00                 0       66954  2016-04-07 01:46:50  \n",
       "2  2016-03-14 00:00:00                 0       90480  2016-04-05 12:47:46  \n",
       "3  2016-03-17 00:00:00                 0       91074  2016-03-17 17:40:17  \n",
       "4  2016-03-31 00:00:00                 0       60437  2016-04-06 10:17:21  "
      ]
     },
     "execution_count": 5,
     "metadata": {},
     "output_type": "execute_result"
    }
   ],
   "source": [
    "df.head()"
   ]
  },
  {
   "cell_type": "markdown",
   "metadata": {},
   "source": [
    "Посмотрим, за какой период нам предоставлены данные:"
   ]
  },
  {
   "cell_type": "code",
   "execution_count": 6,
   "metadata": {},
   "outputs": [
    {
     "name": "stdout",
     "output_type": "stream",
     "text": [
      "Даты создания анкет на авто: от  2014-03-10 00:00:00 до  2016-04-07 00:00:00\n"
     ]
    }
   ],
   "source": [
    "print('Даты создания анкет на авто: от ', df.DateCreated.min(), 'до ', df.DateCreated.max())"
   ]
  },
  {
   "cell_type": "markdown",
   "metadata": {},
   "source": [
    "Данные содержат пропуски, подсчитаем их количество:"
   ]
  },
  {
   "cell_type": "code",
   "execution_count": 7,
   "metadata": {
    "scrolled": true
   },
   "outputs": [
    {
     "data": {
      "text/plain": [
       "DateCrawled              0\n",
       "Price                    0\n",
       "VehicleType          37490\n",
       "RegistrationYear         0\n",
       "Gearbox              19833\n",
       "Power                    0\n",
       "Model                19705\n",
       "Kilometer                0\n",
       "RegistrationMonth        0\n",
       "FuelType             32895\n",
       "Brand                    0\n",
       "NotRepaired          71154\n",
       "DateCreated              0\n",
       "NumberOfPictures         0\n",
       "PostalCode               0\n",
       "LastSeen                 0\n",
       "dtype: int64"
      ]
     },
     "execution_count": 7,
     "metadata": {},
     "output_type": "execute_result"
    }
   ],
   "source": [
    "df.isna().sum()"
   ]
  },
  {
   "cell_type": "markdown",
   "metadata": {},
   "source": [
    "Подсчитаем процент пропущенных данных:"
   ]
  },
  {
   "cell_type": "code",
   "execution_count": 8,
   "metadata": {
    "scrolled": false
   },
   "outputs": [
    {
     "data": {
      "text/plain": [
       "DateCrawled           0.00\n",
       "Price                 0.00\n",
       "VehicleType          10.58\n",
       "RegistrationYear      0.00\n",
       "Gearbox               5.60\n",
       "Power                 0.00\n",
       "Model                 5.56\n",
       "Kilometer             0.00\n",
       "RegistrationMonth     0.00\n",
       "FuelType              9.28\n",
       "Brand                 0.00\n",
       "NotRepaired          20.08\n",
       "DateCreated           0.00\n",
       "NumberOfPictures      0.00\n",
       "PostalCode            0.00\n",
       "LastSeen              0.00\n",
       "dtype: float64"
      ]
     },
     "execution_count": 8,
     "metadata": {},
     "output_type": "execute_result"
    }
   ],
   "source": [
    "(df.isna().sum()/len(df)*100).round(2)"
   ]
  },
  {
   "cell_type": "markdown",
   "metadata": {},
   "source": [
    "Проверим исходные данные на наличие явных дубликатов:"
   ]
  },
  {
   "cell_type": "code",
   "execution_count": 9,
   "metadata": {},
   "outputs": [
    {
     "name": "stdout",
     "output_type": "stream",
     "text": [
      "Число явных дубликатов в исходных данных: 4\n"
     ]
    }
   ],
   "source": [
    "print(\"Число явных дубликатов в исходных данных:\", df.duplicated().sum())"
   ]
  },
  {
   "cell_type": "markdown",
   "metadata": {},
   "source": [
    "Выведем описательную статистику по числовым столбцам:"
   ]
  },
  {
   "cell_type": "code",
   "execution_count": 10,
   "metadata": {
    "scrolled": true
   },
   "outputs": [
    {
     "data": {
      "text/html": [
       "<div>\n",
       "<style scoped>\n",
       "    .dataframe tbody tr th:only-of-type {\n",
       "        vertical-align: middle;\n",
       "    }\n",
       "\n",
       "    .dataframe tbody tr th {\n",
       "        vertical-align: top;\n",
       "    }\n",
       "\n",
       "    .dataframe thead th {\n",
       "        text-align: right;\n",
       "    }\n",
       "</style>\n",
       "<table border=\"1\" class=\"dataframe\">\n",
       "  <thead>\n",
       "    <tr style=\"text-align: right;\">\n",
       "      <th></th>\n",
       "      <th>count</th>\n",
       "      <th>mean</th>\n",
       "      <th>std</th>\n",
       "      <th>min</th>\n",
       "      <th>25%</th>\n",
       "      <th>50%</th>\n",
       "      <th>75%</th>\n",
       "      <th>max</th>\n",
       "    </tr>\n",
       "  </thead>\n",
       "  <tbody>\n",
       "    <tr>\n",
       "      <th>Price</th>\n",
       "      <td>354369.0</td>\n",
       "      <td>4416.656776</td>\n",
       "      <td>4514.158514</td>\n",
       "      <td>0.0</td>\n",
       "      <td>1050.0</td>\n",
       "      <td>2700.0</td>\n",
       "      <td>6400.0</td>\n",
       "      <td>20000.0</td>\n",
       "    </tr>\n",
       "    <tr>\n",
       "      <th>RegistrationYear</th>\n",
       "      <td>354369.0</td>\n",
       "      <td>2004.234448</td>\n",
       "      <td>90.227958</td>\n",
       "      <td>1000.0</td>\n",
       "      <td>1999.0</td>\n",
       "      <td>2003.0</td>\n",
       "      <td>2008.0</td>\n",
       "      <td>9999.0</td>\n",
       "    </tr>\n",
       "    <tr>\n",
       "      <th>Power</th>\n",
       "      <td>354369.0</td>\n",
       "      <td>110.094337</td>\n",
       "      <td>189.850405</td>\n",
       "      <td>0.0</td>\n",
       "      <td>69.0</td>\n",
       "      <td>105.0</td>\n",
       "      <td>143.0</td>\n",
       "      <td>20000.0</td>\n",
       "    </tr>\n",
       "    <tr>\n",
       "      <th>Kilometer</th>\n",
       "      <td>354369.0</td>\n",
       "      <td>128211.172535</td>\n",
       "      <td>37905.341530</td>\n",
       "      <td>5000.0</td>\n",
       "      <td>125000.0</td>\n",
       "      <td>150000.0</td>\n",
       "      <td>150000.0</td>\n",
       "      <td>150000.0</td>\n",
       "    </tr>\n",
       "    <tr>\n",
       "      <th>RegistrationMonth</th>\n",
       "      <td>354369.0</td>\n",
       "      <td>5.714645</td>\n",
       "      <td>3.726421</td>\n",
       "      <td>0.0</td>\n",
       "      <td>3.0</td>\n",
       "      <td>6.0</td>\n",
       "      <td>9.0</td>\n",
       "      <td>12.0</td>\n",
       "    </tr>\n",
       "    <tr>\n",
       "      <th>NumberOfPictures</th>\n",
       "      <td>354369.0</td>\n",
       "      <td>0.000000</td>\n",
       "      <td>0.000000</td>\n",
       "      <td>0.0</td>\n",
       "      <td>0.0</td>\n",
       "      <td>0.0</td>\n",
       "      <td>0.0</td>\n",
       "      <td>0.0</td>\n",
       "    </tr>\n",
       "    <tr>\n",
       "      <th>PostalCode</th>\n",
       "      <td>354369.0</td>\n",
       "      <td>50508.689087</td>\n",
       "      <td>25783.096248</td>\n",
       "      <td>1067.0</td>\n",
       "      <td>30165.0</td>\n",
       "      <td>49413.0</td>\n",
       "      <td>71083.0</td>\n",
       "      <td>99998.0</td>\n",
       "    </tr>\n",
       "  </tbody>\n",
       "</table>\n",
       "</div>"
      ],
      "text/plain": [
       "                      count           mean           std     min       25%  \\\n",
       "Price              354369.0    4416.656776   4514.158514     0.0    1050.0   \n",
       "RegistrationYear   354369.0    2004.234448     90.227958  1000.0    1999.0   \n",
       "Power              354369.0     110.094337    189.850405     0.0      69.0   \n",
       "Kilometer          354369.0  128211.172535  37905.341530  5000.0  125000.0   \n",
       "RegistrationMonth  354369.0       5.714645      3.726421     0.0       3.0   \n",
       "NumberOfPictures   354369.0       0.000000      0.000000     0.0       0.0   \n",
       "PostalCode         354369.0   50508.689087  25783.096248  1067.0   30165.0   \n",
       "\n",
       "                        50%       75%       max  \n",
       "Price                2700.0    6400.0   20000.0  \n",
       "RegistrationYear     2003.0    2008.0    9999.0  \n",
       "Power                 105.0     143.0   20000.0  \n",
       "Kilometer          150000.0  150000.0  150000.0  \n",
       "RegistrationMonth       6.0       9.0      12.0  \n",
       "NumberOfPictures        0.0       0.0       0.0  \n",
       "PostalCode          49413.0   71083.0   99998.0  "
      ]
     },
     "execution_count": 10,
     "metadata": {},
     "output_type": "execute_result"
    }
   ],
   "source": [
    "df.describe().T"
   ]
  },
  {
   "cell_type": "markdown",
   "metadata": {},
   "source": [
    "Построим гистограмму распределения цен на авто:"
   ]
  },
  {
   "cell_type": "code",
   "execution_count": 11,
   "metadata": {},
   "outputs": [
    {
     "data": {
      "image/png": "[encoded data removed]",
      "text/plain": [
       "<Figure size 432x288 with 1 Axes>"
      ]
     },
     "metadata": {
      "needs_background": "light"
     },
     "output_type": "display_data"
    }
   ],
   "source": [
    "plt.hist(df['Price'], label='Цена авто', bins=20) \n",
    "plt.title('Гистограмма стоимости автомобилей')\n",
    "plt.legend()\n",
    "plt.show()"
   ]
  },
  {
   "cell_type": "markdown",
   "metadata": {},
   "source": [
    "Стоит отметить, что несмотря на отсутствие пропусков в целевом признаке 'Price', распределение цен на авто начинается с нуля, что не может соответствовать действительности. Посмотрим, много ли нулевых цен в данных:"
   ]
  },
  {
   "cell_type": "code",
   "execution_count": 12,
   "metadata": {},
   "outputs": [
    {
     "name": "stdout",
     "output_type": "stream",
     "text": [
      "Число записей с нулевой стоимостью авто: 10772\n",
      "Процент записей с нулевой стоимостью авто: 3.04%\n"
     ]
    }
   ],
   "source": [
    "print('Число записей с нулевой стоимостью авто:', df[df.Price == 0].shape[0])\n",
    "print(f'Процент записей с нулевой стоимостью авто: {round((df[df.Price == 0].shape[0]/len(df)*100),2)}%')"
   ]
  },
  {
   "cell_type": "markdown",
   "metadata": {},
   "source": [
    "Проверим линейную связь факторов на исходных данных, построим матрицу корреляций:"
   ]
  },
  {
   "cell_type": "code",
   "execution_count": 13,
   "metadata": {
    "scrolled": false
   },
   "outputs": [
    {
     "data": {
      "text/html": [
       "<div>\n",
       "<style scoped>\n",
       "    .dataframe tbody tr th:only-of-type {\n",
       "        vertical-align: middle;\n",
       "    }\n",
       "\n",
       "    .dataframe tbody tr th {\n",
       "        vertical-align: top;\n",
       "    }\n",
       "\n",
       "    .dataframe thead th {\n",
       "        text-align: right;\n",
       "    }\n",
       "</style>\n",
       "<table border=\"1\" class=\"dataframe\">\n",
       "  <thead>\n",
       "    <tr style=\"text-align: right;\">\n",
       "      <th></th>\n",
       "      <th>Price</th>\n",
       "      <th>RegistrationYear</th>\n",
       "      <th>Power</th>\n",
       "      <th>Kilometer</th>\n",
       "      <th>RegistrationMonth</th>\n",
       "      <th>NumberOfPictures</th>\n",
       "      <th>PostalCode</th>\n",
       "    </tr>\n",
       "  </thead>\n",
       "  <tbody>\n",
       "    <tr>\n",
       "      <th>Price</th>\n",
       "      <td>1.000000</td>\n",
       "      <td>0.550988</td>\n",
       "      <td>0.512604</td>\n",
       "      <td>-0.314412</td>\n",
       "      <td>0.155247</td>\n",
       "      <td>NaN</td>\n",
       "      <td>0.078933</td>\n",
       "    </tr>\n",
       "    <tr>\n",
       "      <th>RegistrationYear</th>\n",
       "      <td>0.550988</td>\n",
       "      <td>1.000000</td>\n",
       "      <td>0.160182</td>\n",
       "      <td>-0.294567</td>\n",
       "      <td>0.052692</td>\n",
       "      <td>NaN</td>\n",
       "      <td>0.034934</td>\n",
       "    </tr>\n",
       "    <tr>\n",
       "      <th>Power</th>\n",
       "      <td>0.512604</td>\n",
       "      <td>0.160182</td>\n",
       "      <td>1.000000</td>\n",
       "      <td>0.084509</td>\n",
       "      <td>0.128826</td>\n",
       "      <td>NaN</td>\n",
       "      <td>0.081066</td>\n",
       "    </tr>\n",
       "    <tr>\n",
       "      <th>Kilometer</th>\n",
       "      <td>-0.314412</td>\n",
       "      <td>-0.294567</td>\n",
       "      <td>0.084509</td>\n",
       "      <td>1.000000</td>\n",
       "      <td>-0.011119</td>\n",
       "      <td>NaN</td>\n",
       "      <td>-0.017086</td>\n",
       "    </tr>\n",
       "    <tr>\n",
       "      <th>RegistrationMonth</th>\n",
       "      <td>0.155247</td>\n",
       "      <td>0.052692</td>\n",
       "      <td>0.128826</td>\n",
       "      <td>-0.011119</td>\n",
       "      <td>1.000000</td>\n",
       "      <td>NaN</td>\n",
       "      <td>0.014935</td>\n",
       "    </tr>\n",
       "    <tr>\n",
       "      <th>NumberOfPictures</th>\n",
       "      <td>NaN</td>\n",
       "      <td>NaN</td>\n",
       "      <td>NaN</td>\n",
       "      <td>NaN</td>\n",
       "      <td>NaN</td>\n",
       "      <td>NaN</td>\n",
       "      <td>NaN</td>\n",
       "    </tr>\n",
       "    <tr>\n",
       "      <th>PostalCode</th>\n",
       "      <td>0.078933</td>\n",
       "      <td>0.034934</td>\n",
       "      <td>0.081066</td>\n",
       "      <td>-0.017086</td>\n",
       "      <td>0.014935</td>\n",
       "      <td>NaN</td>\n",
       "      <td>1.000000</td>\n",
       "    </tr>\n",
       "  </tbody>\n",
       "</table>\n",
       "</div>"
      ],
      "text/plain": [
       "                      Price  RegistrationYear     Power  Kilometer  \\\n",
       "Price              1.000000          0.550988  0.512604  -0.314412   \n",
       "RegistrationYear   0.550988          1.000000  0.160182  -0.294567   \n",
       "Power              0.512604          0.160182  1.000000   0.084509   \n",
       "Kilometer         -0.314412         -0.294567  0.084509   1.000000   \n",
       "RegistrationMonth  0.155247          0.052692  0.128826  -0.011119   \n",
       "NumberOfPictures        NaN               NaN       NaN        NaN   \n",
       "PostalCode         0.078933          0.034934  0.081066  -0.017086   \n",
       "\n",
       "                   RegistrationMonth  NumberOfPictures  PostalCode  \n",
       "Price                       0.155247               NaN    0.078933  \n",
       "RegistrationYear            0.052692               NaN    0.034934  \n",
       "Power                       0.128826               NaN    0.081066  \n",
       "Kilometer                  -0.011119               NaN   -0.017086  \n",
       "RegistrationMonth           1.000000               NaN    0.014935  \n",
       "NumberOfPictures                 NaN               NaN         NaN  \n",
       "PostalCode                  0.014935               NaN    1.000000  "
      ]
     },
     "execution_count": 13,
     "metadata": {},
     "output_type": "execute_result"
    }
   ],
   "source": [
    "df.corr(method='spearman')"
   ]
  },
  {
   "cell_type": "markdown",
   "metadata": {},
   "source": [
    "*Выводы:*\n",
    "\n",
    "Нам представлены данные о продажах 354369 автомобилей за 2 года: с марта 2014г по апрель 2016г.\n",
    "Стоит отметить, что несмотря на отсутствие пропусков в целевом признаке 'Price', распределение цен на авто начинается с нуля, что не может соответствовать действительности - 3% записей с нулевой стоимостью авто.\n",
    "\n",
    "Данные содержат пропуски: \n",
    "- 20% пропусков по столбцу о наличии прошлых ремонтов,\n",
    "- 11% пропусков по типу кузова,\n",
    "- 9% пропусков по типу топлива,\n",
    "- 6% пропусков в указании модели транспортного средства,\n",
    "- 6% пропусков в указании типа коробки передач.\n",
    "\n",
    "Данные содержат артефакты:\n",
    "- нулевые цены автомобилей,\n",
    "- год регистрации с 1000г до 9999г, а по части анкет год регистрации авто превышает год размещения анкеты,\n",
    "- мощность содержит нулевые значения и неадекватные максимальные значения (20 тыс. л.с.),\n",
    "- месяц регистрации ТС содержит нулевые значения.\n",
    "\n",
    "Линейная связь между ценой и годом регистрации, пробегом, мощностью средней или слабой тесноты, так как среди выборки представлены автомобили разных сегментов (и премиальные бренды, и массовые). Если строить матрицу корреляций в отдельности по каждому бренду или модели автомобиля, то связь будет более сильная. Характеристики линейной связи на общих данных:\n",
    "- Прямая линейная связь средней силы наблюдается между ценой и годом регистрации авто (коэф. корреляции = 0.55) - это логично, так как новые автомобили, как правило, стоят дороже, чем авто бывшие в эксплуатации (если речь не о ретро-автомобилях). \n",
    "- Прямая линейная связь между ценой и мощностью (коэф. корреляции = 0.51) - чем мощнее автомобиль, тем выше цена. \n",
    "- Обратная линейная связь между ценой и пробегом (коэф. корреляции = -0.31) - чем меньше пробег, тем моложе и дороже стоит транспортное средство.\n",
    "\n",
    "Между факторами связь слабая. Самый высокий коэф. корреляции среди факторов - между пробегом и годом регистрации, где коэффициент корреляции равен -0.29. Это интуитивно понятная зависимость: чем моложе автомобиль (чем больше год его регистрации), тем меньше пробег.\n",
    "\n",
    "Данные требуют предобработки. Необходимо предпринять следующие действия:\n",
    "- преобразовать названия столбцов,\n",
    "- удалить дубликаты (в данных 4 явных дубликата, неявные будем искать),\n",
    "- заполнить пропуски,\n",
    "- преобразовать типы данных,\n",
    "- удалить неинформативные данные (например, столбец с кол-вом фотографий, так как он имеет везде значение = 0)\n",
    "- обработать артефакты в данных."
   ]
  },
  {
   "cell_type": "markdown",
   "metadata": {},
   "source": [
    "### 1.2. Предобработка данных"
   ]
  },
  {
   "cell_type": "markdown",
   "metadata": {},
   "source": [
    "#### 1.2.1. Преобразование типов, работа с дубликатами"
   ]
  },
  {
   "cell_type": "markdown",
   "metadata": {},
   "source": [
    "Преобразуем названия столбцов (приведем в \"змеиный регистр\"):"
   ]
  },
  {
   "cell_type": "code",
   "execution_count": 14,
   "metadata": {},
   "outputs": [
    {
     "data": {
      "text/plain": [
       "Index(['datecrawled', 'price', 'vehicletype', 'registrationyear', 'gearbox',\n",
       "       'power', 'model', 'kilometer', 'registrationmonth', 'fueltype', 'brand',\n",
       "       'notrepaired', 'datecreated', 'numberofpictures', 'postalcode',\n",
       "       'lastseen'],\n",
       "      dtype='object')"
      ]
     },
     "execution_count": 14,
     "metadata": {},
     "output_type": "execute_result"
    }
   ],
   "source": [
    "df.columns = df.columns.str.lower()\n",
    "df.columns"
   ]
  },
  {
   "cell_type": "code",
   "execution_count": 15,
   "metadata": {},
   "outputs": [],
   "source": [
    "df.columns = ['date_crawled', 'price', 'vehicle_type', 'registration_year', 'gearbox',\n",
    "       'power', 'model', 'kilometer', 'registration_month', 'fuel_type', 'brand',\n",
    "       'not_repaired', 'date_created', 'number_of_pictures', 'postal_code',\n",
    "       'last_seen']"
   ]
  },
  {
   "cell_type": "markdown",
   "metadata": {},
   "source": [
    "Преобразуем типы данных в столбцах с датами:"
   ]
  },
  {
   "cell_type": "code",
   "execution_count": 16,
   "metadata": {},
   "outputs": [],
   "source": [
    "df['date_crawled'] = pd.to_datetime(df['date_crawled'], format='%Y-%m-%d %H:%M:%S')\n",
    "df['date_created'] = pd.to_datetime(df['date_created'], format='%Y-%m-%d %H:%M:%S')\n",
    "df['last_seen'] = pd.to_datetime(df['last_seen'], format='%Y-%m-%d %H:%M:%S')"
   ]
  },
  {
   "cell_type": "markdown",
   "metadata": {},
   "source": [
    "Проверим, нет ли неявных дубликатов значений в текстовых столбцах:"
   ]
  },
  {
   "cell_type": "code",
   "execution_count": 17,
   "metadata": {
    "scrolled": true
   },
   "outputs": [
    {
     "name": "stdout",
     "output_type": "stream",
     "text": [
      "Список значений столбца vehicle_type:\n"
     ]
    },
    {
     "data": {
      "text/plain": [
       "array(['bus', 'convertible', 'coupe', 'other', 'sedan', 'small', 'suv',\n",
       "       'wagon', nan], dtype=object)"
      ]
     },
     "metadata": {},
     "output_type": "display_data"
    },
    {
     "name": "stdout",
     "output_type": "stream",
     "text": [
      "---------------\n",
      "Список значений столбца gearbox:\n"
     ]
    },
    {
     "data": {
      "text/plain": [
       "array(['auto', 'manual', nan], dtype=object)"
      ]
     },
     "metadata": {},
     "output_type": "display_data"
    },
    {
     "name": "stdout",
     "output_type": "stream",
     "text": [
      "---------------\n",
      "Список значений столбца model:\n"
     ]
    },
    {
     "data": {
      "text/plain": [
       "array(['100', '145', '147', '156', '159', '1_reihe', '1er', '200',\n",
       "       '2_reihe', '300c', '3_reihe', '3er', '4_reihe', '500', '5_reihe',\n",
       "       '5er', '601', '6_reihe', '6er', '7er', '80', '850', '90', '900',\n",
       "       '9000', '911', 'a1', 'a2', 'a3', 'a4', 'a5', 'a6', 'a8',\n",
       "       'a_klasse', 'accord', 'agila', 'alhambra', 'almera', 'altea',\n",
       "       'amarok', 'antara', 'arosa', 'astra', 'auris', 'avensis', 'aveo',\n",
       "       'aygo', 'b_klasse', 'b_max', 'beetle', 'berlingo', 'bora',\n",
       "       'boxster', 'bravo', 'c1', 'c2', 'c3', 'c4', 'c5', 'c_klasse',\n",
       "       'c_max', 'c_reihe', 'caddy', 'calibra', 'captiva', 'carisma',\n",
       "       'carnival', 'cayenne', 'cc', 'ceed', 'charade', 'cherokee',\n",
       "       'citigo', 'civic', 'cl', 'clio', 'clk', 'clubman', 'colt', 'combo',\n",
       "       'cooper', 'cordoba', 'corolla', 'corsa', 'cr_reihe', 'croma',\n",
       "       'crossfire', 'cuore', 'cx_reihe', 'defender', 'delta', 'discovery',\n",
       "       'doblo', 'ducato', 'duster', 'e_klasse', 'elefantino', 'eos',\n",
       "       'escort', 'espace', 'exeo', 'fabia', 'fiesta', 'focus', 'forester',\n",
       "       'forfour', 'fortwo', 'fox', 'freelander', 'fusion', 'g_klasse',\n",
       "       'galant', 'galaxy', 'getz', 'gl', 'glk', 'golf', 'grand', 'i3',\n",
       "       'i_reihe', 'ibiza', 'impreza', 'insignia', 'jazz', 'jetta',\n",
       "       'jimny', 'juke', 'justy', 'ka', 'kadett', 'kaefer', 'kalina',\n",
       "       'kalos', 'kangoo', 'kappa', 'kuga', 'laguna', 'lancer', 'lanos',\n",
       "       'legacy', 'leon', 'lodgy', 'logan', 'lupo', 'lybra', 'm_klasse',\n",
       "       'm_reihe', 'materia', 'matiz', 'megane', 'meriva', 'micra', 'mii',\n",
       "       'modus', 'mondeo', 'move', 'musa', 'mustang', 'mx_reihe', 'navara',\n",
       "       'niva', 'note', 'nubira', 'octavia', 'omega', 'one', 'other',\n",
       "       'outlander', 'pajero', 'panda', 'passat', 'phaeton', 'picanto',\n",
       "       'polo', 'primera', 'ptcruiser', 'punto', 'q3', 'q5', 'q7',\n",
       "       'qashqai', 'r19', 'range_rover', 'range_rover_evoque',\n",
       "       'range_rover_sport', 'rangerover', 'rav', 'rio', 'roadster',\n",
       "       'roomster', 'rx_reihe', 's60', 's_klasse', 's_max', 's_type',\n",
       "       'samara', 'sandero', 'santa', 'scenic', 'scirocco', 'seicento',\n",
       "       'serie_1', 'serie_2', 'serie_3', 'sharan', 'signum', 'sirion',\n",
       "       'sl', 'slk', 'sorento', 'spark', 'spider', 'sportage', 'sprinter',\n",
       "       'stilo', 'superb', 'swift', 'terios', 'tigra', 'tiguan', 'toledo',\n",
       "       'touareg', 'touran', 'transit', 'transporter', 'tt', 'tucson',\n",
       "       'twingo', 'up', 'v40', 'v50', 'v60', 'v70', 'v_klasse', 'vectra',\n",
       "       'verso', 'viano', 'vito', 'vivaro', 'voyager', 'wrangler',\n",
       "       'x_reihe', 'x_trail', 'x_type', 'xc_reihe', 'yaris', 'yeti',\n",
       "       'ypsilon', 'z_reihe', 'zafira', nan], dtype=object)"
      ]
     },
     "metadata": {},
     "output_type": "display_data"
    },
    {
     "name": "stdout",
     "output_type": "stream",
     "text": [
      "---------------\n",
      "Список значений столбца fuel_type:\n"
     ]
    },
    {
     "data": {
      "text/plain": [
       "array(['cng', 'electric', 'gasoline', 'hybrid', 'lpg', 'other', 'petrol',\n",
       "       nan], dtype=object)"
      ]
     },
     "metadata": {},
     "output_type": "display_data"
    },
    {
     "name": "stdout",
     "output_type": "stream",
     "text": [
      "---------------\n",
      "Список значений столбца brand:\n"
     ]
    },
    {
     "data": {
      "text/plain": [
       "array(['alfa_romeo', 'audi', 'bmw', 'chevrolet', 'chrysler', 'citroen',\n",
       "       'dacia', 'daewoo', 'daihatsu', 'fiat', 'ford', 'honda', 'hyundai',\n",
       "       'jaguar', 'jeep', 'kia', 'lada', 'lancia', 'land_rover', 'mazda',\n",
       "       'mercedes_benz', 'mini', 'mitsubishi', 'nissan', 'opel', 'peugeot',\n",
       "       'porsche', 'renault', 'rover', 'saab', 'seat', 'skoda', 'smart',\n",
       "       'sonstige_autos', 'subaru', 'suzuki', 'toyota', 'trabant',\n",
       "       'volkswagen', 'volvo'], dtype=object)"
      ]
     },
     "metadata": {},
     "output_type": "display_data"
    },
    {
     "name": "stdout",
     "output_type": "stream",
     "text": [
      "---------------\n",
      "Список значений столбца not_repaired:\n"
     ]
    },
    {
     "data": {
      "text/plain": [
       "array(['no', 'yes', nan], dtype=object)"
      ]
     },
     "metadata": {},
     "output_type": "display_data"
    },
    {
     "name": "stdout",
     "output_type": "stream",
     "text": [
      "---------------\n"
     ]
    }
   ],
   "source": [
    "for name in df.select_dtypes('object').columns:\n",
    "    print(f'Список значений столбца {name}:')\n",
    "    display(df[name].sort_values().unique())\n",
    "    print('---------------')"
   ]
  },
  {
   "cell_type": "markdown",
   "metadata": {},
   "source": [
    "Неявных дубликатов в основных тестовых столбцах не обнаружено. Удалим явные дубликаты:"
   ]
  },
  {
   "cell_type": "code",
   "execution_count": 18,
   "metadata": {},
   "outputs": [
    {
     "data": {
      "text/plain": [
       "(354365, 16)"
      ]
     },
     "execution_count": 18,
     "metadata": {},
     "output_type": "execute_result"
    }
   ],
   "source": [
    "df = df.drop_duplicates()\n",
    "df.shape"
   ]
  },
  {
   "cell_type": "markdown",
   "metadata": {},
   "source": [
    "#### 1.2.2. Обработка пропусков"
   ]
  },
  {
   "cell_type": "markdown",
   "metadata": {},
   "source": [
    "Займемся обработкой пропусков в столбцах. Нужно заполнить:\n",
    "- 20% пропусков по столбцу о наличии прошлых ремонтов,\n",
    "- 11% пропусков по типу кузова,\n",
    "- 9% пропусков по типу топлива,\n",
    "- 6% пропусков в указании модели транспортного средства,\n",
    "- 6% пропусков в указании типа коробки передач.\n",
    "\n",
    "Если значения в столбце о прошлых ремонтах \"not_repaired\" заполнялись экспертами сервис «Не бит, не крашен», то пропуски очевидно означают, что замечаний по машине не было найдено. Поэтому заполним данные пропуски значением 'no'."
   ]
  },
  {
   "cell_type": "code",
   "execution_count": 19,
   "metadata": {},
   "outputs": [],
   "source": [
    "df['not_repaired'] = df['not_repaired'].fillna('no')"
   ]
  },
  {
   "cell_type": "markdown",
   "metadata": {},
   "source": [
    "Поле \"vehicle_type\" (тип кузова) имеет 11% пропусков. Но при этом в рамках даже одной модели ТС могут выпускаться авто с разными кузовами. Пока не ясно, насколько этот фактор влияет на финальную цену. Пропуски заполним самыми популярными типами кузова для каждой из моделей ТС. Для этого создадим словарь `dict_vehicle`, где ключами будут выступать модели ТС, а значения ключей - самый популярный тип кузова."
   ]
  },
  {
   "cell_type": "code",
   "execution_count": 20,
   "metadata": {},
   "outputs": [
    {
     "data": {
      "text/plain": [
       "{'golf': 'sedan',\n",
       " 'corsa': 'small',\n",
       " 'polo': 'small',\n",
       " '3er': 'sedan',\n",
       " 'passat': 'wagon',\n",
       " 'other': 'sedan',\n",
       " 'a4': 'wagon',\n",
       " 'fiesta': 'small',\n",
       " '5er': 'sedan',\n",
       " 'twingo': 'small',\n",
       " 'c_klasse': 'sedan',\n",
       " 'transporter': 'bus',\n",
       " 'astra': 'sedan',\n",
       " 'e_klasse': 'sedan',\n",
       " 'a6': 'wagon',\n",
       " 'clio': 'small',\n",
       " 'a3': 'sedan',\n",
       " 'fortwo': 'small',\n",
       " 'focus': 'wagon',\n",
       " 'touran': 'bus',\n",
       " '1er': 'sedan',\n",
       " 'a_klasse': 'sedan',\n",
       " 'punto': 'small',\n",
       " '2_reihe': 'small',\n",
       " 'zafira': 'bus',\n",
       " 'mondeo': 'wagon',\n",
       " 'lupo': 'small',\n",
       " 'vectra': 'sedan',\n",
       " 'ka': 'small',\n",
       " 'ibiza': 'small',\n",
       " 'octavia': 'wagon',\n",
       " 'micra': 'small',\n",
       " '3_reihe': 'sedan',\n",
       " 'clk': 'coupe',\n",
       " 'slk': 'convertible',\n",
       " 'sharan': 'bus',\n",
       " 'cooper': 'small',\n",
       " 'leon': 'sedan',\n",
       " '1_reihe': 'small',\n",
       " 'scenic': 'bus',\n",
       " '80': 'sedan',\n",
       " 'galaxy': 'bus',\n",
       " '7er': 'sedan',\n",
       " 'fabia': 'small',\n",
       " 'mx_reihe': 'convertible',\n",
       " 'm_klasse': 'suv',\n",
       " 'yaris': 'small',\n",
       " 'laguna': 'wagon',\n",
       " 'megane': 'sedan',\n",
       " 'meriva': 'bus',\n",
       " 's_klasse': 'sedan',\n",
       " 'x_reihe': 'suv',\n",
       " 'arosa': 'small',\n",
       " 'vito': 'bus',\n",
       " 'v40': 'wagon',\n",
       " 'omega': 'wagon',\n",
       " 'civic': 'sedan',\n",
       " 'fox': 'small',\n",
       " 'z_reihe': 'convertible',\n",
       " '6_reihe': 'wagon',\n",
       " 'one': 'small',\n",
       " 'caddy': 'wagon',\n",
       " 'tiguan': 'suv',\n",
       " 'b_klasse': 'bus',\n",
       " 'tt': 'coupe',\n",
       " 'v70': 'wagon',\n",
       " '500': 'small',\n",
       " 'panda': 'small',\n",
       " 'swift': 'small',\n",
       " 'seicento': 'small',\n",
       " 'kangoo': 'bus',\n",
       " 'touareg': 'suv',\n",
       " 'scirocco': 'coupe',\n",
       " 'berlingo': 'bus',\n",
       " 'a1': 'small',\n",
       " 'transit': 'bus',\n",
       " 'c_max': 'bus',\n",
       " 'eos': 'convertible',\n",
       " 'espace': 'bus',\n",
       " 'bora': 'sedan',\n",
       " 'a8': 'sedan',\n",
       " 'sprinter': 'bus',\n",
       " 'i_reihe': 'small',\n",
       " 'grand': 'suv',\n",
       " 'a5': 'coupe',\n",
       " 'signum': 'wagon',\n",
       " 's_max': 'bus',\n",
       " 'tigra': 'convertible',\n",
       " 'avensis': 'wagon',\n",
       " 'matiz': 'small',\n",
       " 'insignia': 'wagon',\n",
       " 'aygo': 'small',\n",
       " 'carisma': 'sedan',\n",
       " 'corolla': 'sedan',\n",
       " 'c1': 'small',\n",
       " 'getz': 'small',\n",
       " '147': 'sedan',\n",
       " 'sl': 'convertible',\n",
       " 'c2': 'small',\n",
       " 'colt': 'sedan',\n",
       " '5_reihe': 'bus',\n",
       " 'rav': 'suv',\n",
       " 'agila': 'small',\n",
       " 'picanto': 'small',\n",
       " 'up': 'small',\n",
       " 'cuore': 'small',\n",
       " 'sorento': 'suv',\n",
       " 'c3': 'small',\n",
       " 'alhambra': 'bus',\n",
       " 'forfour': 'small',\n",
       " 'jetta': 'sedan',\n",
       " 'primera': 'sedan',\n",
       " 'kuga': 'suv',\n",
       " 'beetle': 'sedan',\n",
       " '4_reihe': 'wagon',\n",
       " 'c5': 'wagon',\n",
       " 'santa': 'suv',\n",
       " 'voyager': 'bus',\n",
       " 'a2': 'small',\n",
       " '156': 'wagon',\n",
       " 'stilo': 'sedan',\n",
       " '100': 'sedan',\n",
       " 'qashqai': 'sedan',\n",
       " 'verso': 'bus',\n",
       " 'toledo': 'sedan',\n",
       " 'ducato': 'bus',\n",
       " 'altea': 'bus',\n",
       " 'vivaro': 'bus',\n",
       " 'jazz': 'small',\n",
       " 'v50': 'wagon',\n",
       " 'escort': 'sedan',\n",
       " 'viano': 'bus',\n",
       " 'sportage': 'suv',\n",
       " 'almera': 'sedan',\n",
       " 'logan': 'wagon',\n",
       " 'carnival': 'bus',\n",
       " 'accord': 'sedan',\n",
       " 'doblo': 'bus',\n",
       " 'cayenne': 'suv',\n",
       " 'tucson': 'suv',\n",
       " 'xc_reihe': 'suv',\n",
       " 'sandero': 'small',\n",
       " 'boxster': 'convertible',\n",
       " 'fusion': 'small',\n",
       " 'roomster': 'bus',\n",
       " 'rio': 'small',\n",
       " 'cl': 'coupe',\n",
       " 'phaeton': 'sedan',\n",
       " 'freelander': 'suv',\n",
       " 'x_trail': 'suv',\n",
       " 'duster': 'suv',\n",
       " 'pajero': 'suv',\n",
       " 'jimny': 'suv',\n",
       " 'auris': 'sedan',\n",
       " 'superb': 'sedan',\n",
       " 'ypsilon': 'small',\n",
       " '850': 'wagon',\n",
       " '601': 'sedan',\n",
       " 'spider': 'convertible',\n",
       " 'combo': 'bus',\n",
       " 'modus': 'bus',\n",
       " 'bravo': 'sedan',\n",
       " 'yeti': 'suv',\n",
       " 'captiva': 'suv',\n",
       " 'ceed': 'sedan',\n",
       " 'c4': 'sedan',\n",
       " 'cr_reihe': 'suv',\n",
       " 'ptcruiser': 'wagon',\n",
       " 'calibra': 'coupe',\n",
       " 'cherokee': 'suv',\n",
       " 'roadster': 'convertible',\n",
       " '159': 'wagon',\n",
       " 'cordoba': 'wagon',\n",
       " 's60': 'sedan',\n",
       " 'v_klasse': 'bus',\n",
       " 'impreza': 'sedan',\n",
       " 'kadett': 'sedan',\n",
       " 'legacy': 'wagon',\n",
       " 'x_type': 'sedan',\n",
       " 's_type': 'sedan',\n",
       " 'galant': 'sedan',\n",
       " 'clubman': 'wagon',\n",
       " 'rx_reihe': 'coupe',\n",
       " 'sirion': 'small',\n",
       " 'lancer': 'sedan',\n",
       " 'spark': 'small',\n",
       " '6er': 'coupe',\n",
       " 'niva': 'suv',\n",
       " 'kaefer': 'sedan',\n",
       " 'mustang': 'coupe',\n",
       " 'justy': 'small',\n",
       " 'q7': 'suv',\n",
       " 'wrangler': 'suv',\n",
       " 'note': 'bus',\n",
       " 'navara': 'suv',\n",
       " 'cc': 'coupe',\n",
       " 'citigo': 'small',\n",
       " 'aveo': 'small',\n",
       " 'exeo': 'wagon',\n",
       " 'antara': 'suv',\n",
       " 'g_klasse': 'suv',\n",
       " 'kalos': 'small',\n",
       " 'forester': 'wagon',\n",
       " 'discovery': 'suv',\n",
       " 'mii': 'small',\n",
       " '90': 'sedan',\n",
       " 'c_reihe': 'convertible',\n",
       " 'range_rover': 'suv',\n",
       " 'defender': 'suv',\n",
       " '300c': 'wagon',\n",
       " 'juke': 'small',\n",
       " 'outlander': 'suv',\n",
       " 'cx_reihe': 'suv',\n",
       " 'glk': 'suv',\n",
       " 'range_rover_sport': 'suv',\n",
       " 'q5': 'suv',\n",
       " 'r19': 'sedan',\n",
       " 'm_reihe': 'sedan',\n",
       " '911': 'coupe',\n",
       " '900': 'convertible',\n",
       " 'crossfire': 'coupe',\n",
       " 'v60': 'wagon',\n",
       " 'lybra': 'wagon',\n",
       " 'nubira': 'wagon',\n",
       " 'croma': 'wagon',\n",
       " 'lanos': 'small',\n",
       " 'lodgy': 'bus',\n",
       " 'b_max': 'bus',\n",
       " '9000': 'sedan',\n",
       " 'move': 'small',\n",
       " '145': 'small',\n",
       " 'terios': 'sedan',\n",
       " 'charade': 'small',\n",
       " 'delta': 'sedan',\n",
       " '200': 'sedan',\n",
       " 'amarok': 'suv',\n",
       " 'musa': 'bus',\n",
       " 'gl': 'suv',\n",
       " 'q3': 'sedan',\n",
       " 'materia': 'wagon',\n",
       " 'kappa': 'sedan',\n",
       " 'elefantino': 'small',\n",
       " 'samara': 'sedan',\n",
       " 'i3': 'sedan',\n",
       " 'serie_2': 'other',\n",
       " 'serie_3': 'suv',\n",
       " 'kalina': 'sedan',\n",
       " 'range_rover_evoque': 'suv',\n",
       " 'rangerover': 'suv',\n",
       " 'serie_1': 'wagon'}"
      ]
     },
     "execution_count": 20,
     "metadata": {},
     "output_type": "execute_result"
    }
   ],
   "source": [
    "# группировка модель-кузов по убыванию популярности:\n",
    "dict_vehicle = df.groupby(['model','vehicle_type'])['price'].count().sort_values(ascending=False).reset_index()\n",
    "\n",
    "# удаляем дубликаты моделей:\n",
    "dict_vehicle = dict_vehicle.drop_duplicates(subset=['model'])\n",
    "\n",
    "# преобразуем данные в словарь:\n",
    "dict_vehicle = dict_vehicle[['model','vehicle_type']].set_index('model').T.to_dict('index')['vehicle_type']\n",
    "dict_vehicle"
   ]
  },
  {
   "cell_type": "markdown",
   "metadata": {},
   "source": [
    "Заполним пропуски по типу кузова данными из словаря `dict_vehicle`:"
   ]
  },
  {
   "cell_type": "code",
   "execution_count": 21,
   "metadata": {
    "scrolled": true
   },
   "outputs": [
    {
     "name": "stdout",
     "output_type": "stream",
     "text": [
      "Осталось пропусков по типу кузова: 6828 шт.\n",
      "Осталось пропусков по типу кузова: 1.93%\n"
     ]
    }
   ],
   "source": [
    "df['vehicle_type'] = df['vehicle_type'].fillna(df['model'].map(dict_vehicle))\n",
    "print(f'Осталось пропусков по типу кузова: {df[\"vehicle_type\"].isna().sum()} шт.')\n",
    "print(f'Осталось пропусков по типу кузова: {(df[\"vehicle_type\"].isna().sum()/len(df)*100).round(2)}%')"
   ]
  },
  {
   "cell_type": "markdown",
   "metadata": {},
   "source": [
    "Аналогичным образом заполним пропуски в типе топлива: создадим словарь `dict_fuel`, где ключами будут выступать модели ТС, а значения ключей - самый популярный тип топлива:"
   ]
  },
  {
   "cell_type": "code",
   "execution_count": 22,
   "metadata": {},
   "outputs": [
    {
     "data": {
      "text/plain": [
       "{'golf': 'petrol',\n",
       " 'other': 'petrol',\n",
       " '3er': 'petrol',\n",
       " 'corsa': 'petrol',\n",
       " 'polo': 'petrol',\n",
       " 'astra': 'petrol',\n",
       " 'passat': 'gasoline',\n",
       " 'a4': 'gasoline',\n",
       " 'fiesta': 'petrol',\n",
       " 'c_klasse': 'petrol',\n",
       " 'twingo': 'petrol',\n",
       " '2_reihe': 'petrol',\n",
       " 'transporter': 'gasoline',\n",
       " '5er': 'gasoline',\n",
       " 'a6': 'gasoline',\n",
       " 'focus': 'petrol',\n",
       " 'e_klasse': 'gasoline',\n",
       " 'fortwo': 'petrol',\n",
       " 'a3': 'petrol',\n",
       " 'vectra': 'petrol',\n",
       " 'clio': 'petrol',\n",
       " 'punto': 'petrol',\n",
       " 'a_klasse': 'petrol',\n",
       " 'touran': 'gasoline',\n",
       " '3_reihe': 'petrol',\n",
       " 'ka': 'petrol',\n",
       " 'lupo': 'petrol',\n",
       " 'ibiza': 'petrol',\n",
       " 'megane': 'petrol',\n",
       " '1er': 'petrol',\n",
       " 'mondeo': 'petrol',\n",
       " 'cooper': 'petrol',\n",
       " 'fabia': 'petrol',\n",
       " 'micra': 'petrol',\n",
       " 'clk': 'petrol',\n",
       " 'zafira': 'petrol',\n",
       " '80': 'petrol',\n",
       " 'x_reihe': 'gasoline',\n",
       " 'slk': 'petrol',\n",
       " '1_reihe': 'petrol',\n",
       " 'sharan': 'gasoline',\n",
       " 'civic': 'petrol',\n",
       " 'octavia': 'gasoline',\n",
       " 'omega': 'petrol',\n",
       " 'caddy': 'gasoline',\n",
       " 'tt': 'petrol',\n",
       " 'mx_reihe': 'petrol',\n",
       " 'scenic': 'petrol',\n",
       " 'yaris': 'petrol',\n",
       " 'i_reihe': 'petrol',\n",
       " '500': 'petrol',\n",
       " 'one': 'petrol',\n",
       " 'laguna': 'petrol',\n",
       " 'leon': 'petrol',\n",
       " 'vito': 'gasoline',\n",
       " 'colt': 'petrol',\n",
       " 'meriva': 'petrol',\n",
       " 'escort': 'petrol',\n",
       " '6_reihe': 'petrol',\n",
       " 'arosa': 'petrol',\n",
       " 'sprinter': 'gasoline',\n",
       " 'tigra': 'petrol',\n",
       " 'z_reihe': 'petrol',\n",
       " 'transit': 'gasoline',\n",
       " 'beetle': 'petrol',\n",
       " 'm_klasse': 'gasoline',\n",
       " 'swift': 'petrol',\n",
       " 'fox': 'petrol',\n",
       " 'galaxy': 'gasoline',\n",
       " '7er': 'petrol',\n",
       " 'seicento': 'petrol',\n",
       " 'panda': 'petrol',\n",
       " 'bora': 'petrol',\n",
       " 'v40': 'petrol',\n",
       " 'corolla': 'petrol',\n",
       " 's_klasse': 'petrol',\n",
       " 'touareg': 'gasoline',\n",
       " 'scirocco': 'petrol',\n",
       " 'insignia': 'gasoline',\n",
       " 'primera': 'petrol',\n",
       " 'kangoo': 'petrol',\n",
       " 'b_klasse': 'petrol',\n",
       " 'tiguan': 'gasoline',\n",
       " 'almera': 'petrol',\n",
       " 'stilo': 'petrol',\n",
       " 'a1': 'petrol',\n",
       " 'berlingo': 'petrol',\n",
       " 'aygo': 'petrol',\n",
       " '147': 'petrol',\n",
       " 'agila': 'petrol',\n",
       " 'matiz': 'petrol',\n",
       " 'ducato': 'gasoline',\n",
       " 'c3': 'petrol',\n",
       " 's_max': 'gasoline',\n",
       " 'sl': 'petrol',\n",
       " '156': 'petrol',\n",
       " 'c1': 'petrol',\n",
       " '100': 'petrol',\n",
       " 'getz': 'petrol',\n",
       " 'carisma': 'petrol',\n",
       " 'v70': 'petrol',\n",
       " 'eos': 'petrol',\n",
       " 'a5': 'gasoline',\n",
       " 'c_max': 'gasoline',\n",
       " 'kaefer': 'petrol',\n",
       " 'up': 'petrol',\n",
       " 'picanto': 'petrol',\n",
       " 'cuore': 'petrol',\n",
       " '4_reihe': 'gasoline',\n",
       " 'cordoba': 'petrol',\n",
       " 'c5': 'gasoline',\n",
       " 'vivaro': 'gasoline',\n",
       " 'kadett': 'petrol',\n",
       " 'sorento': 'gasoline',\n",
       " 'espace': 'petrol',\n",
       " 'c2': 'petrol',\n",
       " 'rio': 'petrol',\n",
       " 'avensis': 'petrol',\n",
       " 'jazz': 'petrol',\n",
       " 'alhambra': 'gasoline',\n",
       " 'signum': 'gasoline',\n",
       " 'forfour': 'petrol',\n",
       " 'grand': 'gasoline',\n",
       " 'qashqai': 'gasoline',\n",
       " 'kuga': 'gasoline',\n",
       " 'accord': 'petrol',\n",
       " 'superb': 'gasoline',\n",
       " 'viano': 'gasoline',\n",
       " '5_reihe': 'gasoline',\n",
       " 'combo': 'gasoline',\n",
       " '601': 'petrol',\n",
       " 'modus': 'petrol',\n",
       " 'sandero': 'petrol',\n",
       " 'cr_reihe': 'petrol',\n",
       " 'carnival': 'gasoline',\n",
       " 'xc_reihe': 'gasoline',\n",
       " 'galant': 'petrol',\n",
       " 'toledo': 'petrol',\n",
       " 'a8': 'gasoline',\n",
       " 'c4': 'gasoline',\n",
       " 'altea': 'gasoline',\n",
       " 'doblo': 'gasoline',\n",
       " 'jetta': 'petrol',\n",
       " 'fusion': 'petrol',\n",
       " 'boxster': 'petrol',\n",
       " 'logan': 'petrol',\n",
       " 'bravo': 'petrol',\n",
       " 'a2': 'petrol',\n",
       " 'cayenne': 'petrol',\n",
       " 'jimny': 'petrol',\n",
       " 'v50': 'gasoline',\n",
       " 'impreza': 'petrol',\n",
       " 'ptcruiser': 'petrol',\n",
       " 'ypsilon': 'petrol',\n",
       " '850': 'petrol',\n",
       " 'ceed': 'petrol',\n",
       " 'rav': 'petrol',\n",
       " 'q7': 'gasoline',\n",
       " 'roadster': 'petrol',\n",
       " 'cl': 'petrol',\n",
       " 'calibra': 'petrol',\n",
       " 'spider': 'petrol',\n",
       " 'roomster': 'petrol',\n",
       " 'verso': 'petrol',\n",
       " 'lancer': 'petrol',\n",
       " 'voyager': 'petrol',\n",
       " 'phaeton': 'gasoline',\n",
       " 'x_trail': 'gasoline',\n",
       " 'clubman': 'petrol',\n",
       " 'tucson': 'petrol',\n",
       " 'santa': 'gasoline',\n",
       " 'freelander': 'gasoline',\n",
       " 'mustang': 'petrol',\n",
       " '159': 'gasoline',\n",
       " 'sportage': 'petrol',\n",
       " 'pajero': 'gasoline',\n",
       " 'rx_reihe': 'petrol',\n",
       " '6er': 'petrol',\n",
       " 'sirion': 'petrol',\n",
       " 'justy': 'petrol',\n",
       " 'legacy': 'petrol',\n",
       " 'spark': 'petrol',\n",
       " 'm_reihe': 'petrol',\n",
       " '900': 'petrol',\n",
       " 'auris': 'petrol',\n",
       " 'r19': 'petrol',\n",
       " 'note': 'petrol',\n",
       " 'niva': 'petrol',\n",
       " 'c_reihe': 'petrol',\n",
       " 'forester': 'petrol',\n",
       " 'v_klasse': 'gasoline',\n",
       " 'duster': 'petrol',\n",
       " 'navara': 'gasoline',\n",
       " 'x_type': 'petrol',\n",
       " 'aveo': 'petrol',\n",
       " 'captiva': 'gasoline',\n",
       " 'yeti': 'petrol',\n",
       " 'citigo': 'petrol',\n",
       " 'q5': 'gasoline',\n",
       " '90': 'petrol',\n",
       " 'cc': 'gasoline',\n",
       " '300c': 'gasoline',\n",
       " 's_type': 'petrol',\n",
       " 'exeo': 'gasoline',\n",
       " 'wrangler': 'petrol',\n",
       " 'mii': 'petrol',\n",
       " 'kalos': 'petrol',\n",
       " 's60': 'petrol',\n",
       " 'juke': 'petrol',\n",
       " 'antara': 'gasoline',\n",
       " 'lanos': 'petrol',\n",
       " 'discovery': 'gasoline',\n",
       " 'cherokee': 'petrol',\n",
       " 'defender': 'gasoline',\n",
       " '911': 'petrol',\n",
       " 'outlander': 'gasoline',\n",
       " 'g_klasse': 'gasoline',\n",
       " 'crossfire': 'petrol',\n",
       " 'move': 'petrol',\n",
       " 'range_rover_sport': 'gasoline',\n",
       " 'glk': 'gasoline',\n",
       " 'nubira': 'petrol',\n",
       " '145': 'petrol',\n",
       " 'cx_reihe': 'gasoline',\n",
       " 'range_rover': 'petrol',\n",
       " 'terios': 'petrol',\n",
       " 'v60': 'gasoline',\n",
       " 'lybra': 'petrol',\n",
       " '9000': 'petrol',\n",
       " 'croma': 'gasoline',\n",
       " 'delta': 'petrol',\n",
       " 'lodgy': 'gasoline',\n",
       " 'charade': 'petrol',\n",
       " 'materia': 'petrol',\n",
       " 'musa': 'petrol',\n",
       " 'b_max': 'petrol',\n",
       " 'amarok': 'gasoline',\n",
       " '200': 'petrol',\n",
       " 'gl': 'gasoline',\n",
       " 'q3': 'gasoline',\n",
       " 'kappa': 'petrol',\n",
       " 'samara': 'petrol',\n",
       " 'elefantino': 'petrol',\n",
       " 'kalina': 'petrol',\n",
       " 'i3': 'petrol',\n",
       " 'serie_2': 'gasoline',\n",
       " 'rangerover': 'gasoline',\n",
       " 'range_rover_evoque': 'gasoline',\n",
       " 'serie_3': 'gasoline',\n",
       " 'serie_1': 'gasoline'}"
      ]
     },
     "execution_count": 22,
     "metadata": {},
     "output_type": "execute_result"
    }
   ],
   "source": [
    "dict_fuel = df.groupby(['model','fuel_type'])['price'].count().sort_values(ascending=False).reset_index()\n",
    "dict_fuel = dict_fuel.drop_duplicates(subset=['model'])\n",
    "# преобразуем данные в словарь:\n",
    "dict_fuel = dict_fuel[['model','fuel_type']].set_index('model').T.to_dict('index')['fuel_type']\n",
    "dict_fuel"
   ]
  },
  {
   "cell_type": "markdown",
   "metadata": {},
   "source": [
    "Заполним пропуски по типу топлива данными из словаря `dict_fuel`:"
   ]
  },
  {
   "cell_type": "code",
   "execution_count": 23,
   "metadata": {},
   "outputs": [
    {
     "name": "stdout",
     "output_type": "stream",
     "text": [
      "Осталось пропусков по типу топлива: 7163 шт.\n",
      "Осталось пропусков по типу топлива: 2.02%\n"
     ]
    }
   ],
   "source": [
    "df['fuel_type'] = df['fuel_type'].fillna(df['model'].map(dict_fuel))\n",
    "print(f'Осталось пропусков по типу топлива: {df[\"fuel_type\"].isna().sum()} шт.')\n",
    "print(f'Осталось пропусков по типу топлива: {(df[\"fuel_type\"].isna().sum()/len(df)*100).round(2)}%')"
   ]
  },
  {
   "cell_type": "markdown",
   "metadata": {},
   "source": [
    "Заполним пропуски в типе коробки передач: создадим словарь `dict_gearbox`, где ключами будут выступать модели ТС, а значения ключей - самый популярный тип КПП:"
   ]
  },
  {
   "cell_type": "code",
   "execution_count": 24,
   "metadata": {},
   "outputs": [
    {
     "data": {
      "text/plain": [
       "{'golf': 'manual',\n",
       " 'other': 'manual',\n",
       " '3er': 'manual',\n",
       " 'polo': 'manual',\n",
       " 'corsa': 'manual',\n",
       " 'astra': 'manual',\n",
       " 'passat': 'manual',\n",
       " 'a4': 'manual',\n",
       " 'focus': 'manual',\n",
       " 'fiesta': 'manual',\n",
       " 'a3': 'manual',\n",
       " 'e_klasse': 'auto',\n",
       " '2_reihe': 'manual',\n",
       " 'c_klasse': 'manual',\n",
       " 'twingo': 'manual',\n",
       " '5er': 'auto',\n",
       " 'transporter': 'manual',\n",
       " 'vectra': 'manual',\n",
       " 'a6': 'auto',\n",
       " 'clio': 'manual',\n",
       " 'fortwo': 'auto',\n",
       " '3_reihe': 'manual',\n",
       " 'punto': 'manual',\n",
       " 'mondeo': 'manual',\n",
       " '1er': 'manual',\n",
       " 'a_klasse': 'manual',\n",
       " 'megane': 'manual',\n",
       " 'zafira': 'manual',\n",
       " 'ibiza': 'manual',\n",
       " 'ka': 'manual',\n",
       " 'touran': 'manual',\n",
       " 'lupo': 'manual',\n",
       " 'fabia': 'manual',\n",
       " 'octavia': 'manual',\n",
       " 'cooper': 'manual',\n",
       " 'micra': 'manual',\n",
       " 'caddy': 'manual',\n",
       " '80': 'manual',\n",
       " 'clk': 'auto',\n",
       " 'scenic': 'manual',\n",
       " 'leon': 'manual',\n",
       " 'civic': 'manual',\n",
       " '6_reihe': 'manual',\n",
       " '1_reihe': 'manual',\n",
       " 'laguna': 'manual',\n",
       " 'i_reihe': 'manual',\n",
       " 'sharan': 'manual',\n",
       " 'mx_reihe': 'manual',\n",
       " 'x_reihe': 'auto',\n",
       " 'meriva': 'manual',\n",
       " '7er': 'auto',\n",
       " 'yaris': 'manual',\n",
       " 'galaxy': 'manual',\n",
       " 'tt': 'manual',\n",
       " 'm_klasse': 'auto',\n",
       " 'omega': 'manual',\n",
       " 'kangoo': 'manual',\n",
       " 'one': 'manual',\n",
       " '500': 'manual',\n",
       " 's_klasse': 'auto',\n",
       " 'arosa': 'manual',\n",
       " 'escort': 'manual',\n",
       " 'colt': 'manual',\n",
       " 'berlingo': 'manual',\n",
       " 'bora': 'manual',\n",
       " 'beetle': 'manual',\n",
       " 'tigra': 'manual',\n",
       " 'fox': 'manual',\n",
       " 'transit': 'manual',\n",
       " 'v40': 'manual',\n",
       " 'sprinter': 'manual',\n",
       " 'vito': 'manual',\n",
       " 'panda': 'manual',\n",
       " 'swift': 'manual',\n",
       " 'z_reihe': 'manual',\n",
       " 'c_max': 'manual',\n",
       " 'slk': 'auto',\n",
       " 'corolla': 'manual',\n",
       " 'seicento': 'manual',\n",
       " '156': 'manual',\n",
       " 'primera': 'manual',\n",
       " 'stilo': 'manual',\n",
       " 'almera': 'manual',\n",
       " 'b_klasse': 'manual',\n",
       " '147': 'manual',\n",
       " '4_reihe': 'manual',\n",
       " 'avensis': 'manual',\n",
       " 'a1': 'manual',\n",
       " 'a8': 'auto',\n",
       " 'tiguan': 'manual',\n",
       " 'scirocco': 'manual',\n",
       " 'touareg': 'auto',\n",
       " 'espace': 'manual',\n",
       " 'eos': 'manual',\n",
       " 'c3': 'manual',\n",
       " 'insignia': 'manual',\n",
       " 'qashqai': 'manual',\n",
       " 'matiz': 'manual',\n",
       " 'ducato': 'manual',\n",
       " 'getz': 'manual',\n",
       " 'agila': 'manual',\n",
       " '5_reihe': 'manual',\n",
       " 'v70': 'manual',\n",
       " 'combo': 'manual',\n",
       " 'aygo': 'manual',\n",
       " 'cordoba': 'manual',\n",
       " 'sl': 'auto',\n",
       " 'c1': 'manual',\n",
       " 'rio': 'manual',\n",
       " 'carisma': 'manual',\n",
       " 'picanto': 'manual',\n",
       " 'grand': 'auto',\n",
       " 'a2': 'manual',\n",
       " 's_max': 'manual',\n",
       " '100': 'manual',\n",
       " 'c2': 'manual',\n",
       " 'up': 'manual',\n",
       " 'kaefer': 'manual',\n",
       " 'alhambra': 'manual',\n",
       " 'c4': 'manual',\n",
       " 'cuore': 'manual',\n",
       " 'logan': 'manual',\n",
       " 'toledo': 'manual',\n",
       " 'doblo': 'manual',\n",
       " 'signum': 'manual',\n",
       " 'altea': 'manual',\n",
       " 'bravo': 'manual',\n",
       " 'a5': 'manual',\n",
       " 'c5': 'manual',\n",
       " 'cr_reihe': 'manual',\n",
       " 'vivaro': 'manual',\n",
       " 'sandero': 'manual',\n",
       " 'rav': 'manual',\n",
       " '601': 'manual',\n",
       " 'forfour': 'manual',\n",
       " 'modus': 'manual',\n",
       " 'kuga': 'manual',\n",
       " 'kadett': 'manual',\n",
       " 'jetta': 'manual',\n",
       " 'roomster': 'manual',\n",
       " 'verso': 'manual',\n",
       " 'accord': 'manual',\n",
       " 'fusion': 'manual',\n",
       " 'ptcruiser': 'manual',\n",
       " 'jazz': 'manual',\n",
       " 'ceed': 'manual',\n",
       " 'santa': 'manual',\n",
       " 'v50': 'manual',\n",
       " 'superb': 'manual',\n",
       " 'phaeton': 'auto',\n",
       " 'cayenne': 'auto',\n",
       " 'impreza': 'manual',\n",
       " 'sportage': 'manual',\n",
       " 'duster': 'manual',\n",
       " 'q7': 'auto',\n",
       " 'tucson': 'manual',\n",
       " 'xc_reihe': 'auto',\n",
       " 'sorento': 'auto',\n",
       " 'jimny': 'manual',\n",
       " 'calibra': 'manual',\n",
       " 'ypsilon': 'manual',\n",
       " 'x_trail': 'manual',\n",
       " '159': 'manual',\n",
       " 'boxster': 'manual',\n",
       " 'lancer': 'manual',\n",
       " 'cl': 'auto',\n",
       " 'voyager': 'manual',\n",
       " 'clubman': 'manual',\n",
       " 'auris': 'manual',\n",
       " 'spider': 'manual',\n",
       " 'freelander': 'manual',\n",
       " 'galant': 'manual',\n",
       " 'viano': 'auto',\n",
       " '850': 'manual',\n",
       " 'carnival': 'manual',\n",
       " 'roadster': 'auto',\n",
       " 'yeti': 'manual',\n",
       " '300c': 'auto',\n",
       " 'c_reihe': 'manual',\n",
       " 'rx_reihe': 'manual',\n",
       " 'justy': 'manual',\n",
       " 'cherokee': 'auto',\n",
       " 'pajero': 'manual',\n",
       " 'spark': 'manual',\n",
       " 'note': 'manual',\n",
       " 'niva': 'manual',\n",
       " 'captiva': 'manual',\n",
       " 's_type': 'auto',\n",
       " 'legacy': 'manual',\n",
       " 'sirion': 'manual',\n",
       " 'mustang': 'auto',\n",
       " 'aveo': 'manual',\n",
       " 'r19': 'manual',\n",
       " '6er': 'auto',\n",
       " 'forester': 'manual',\n",
       " '900': 'manual',\n",
       " 's60': 'manual',\n",
       " '90': 'manual',\n",
       " 'citigo': 'manual',\n",
       " 'wrangler': 'manual',\n",
       " 'kalos': 'manual',\n",
       " 'lanos': 'manual',\n",
       " 'exeo': 'manual',\n",
       " 'x_type': 'manual',\n",
       " 'juke': 'manual',\n",
       " 'm_reihe': 'manual',\n",
       " 'mii': 'manual',\n",
       " 'navara': 'manual',\n",
       " 'cc': 'manual',\n",
       " 'outlander': 'manual',\n",
       " 'v_klasse': 'manual',\n",
       " 'antara': 'manual',\n",
       " 'q5': 'auto',\n",
       " 'defender': 'manual',\n",
       " 'range_rover': 'auto',\n",
       " 'glk': 'auto',\n",
       " 'g_klasse': 'manual',\n",
       " 'cx_reihe': 'manual',\n",
       " 'nubira': 'manual',\n",
       " 'range_rover_sport': 'auto',\n",
       " 'lybra': 'manual',\n",
       " 'move': 'manual',\n",
       " 'discovery': 'auto',\n",
       " 'crossfire': 'auto',\n",
       " '145': 'manual',\n",
       " '911': 'manual',\n",
       " 'lodgy': 'manual',\n",
       " 'delta': 'manual',\n",
       " 'terios': 'manual',\n",
       " 'croma': 'manual',\n",
       " 'v60': 'manual',\n",
       " 'b_max': 'manual',\n",
       " 'charade': 'manual',\n",
       " 'materia': 'manual',\n",
       " 'musa': 'manual',\n",
       " '9000': 'manual',\n",
       " 'amarok': 'manual',\n",
       " 'samara': 'manual',\n",
       " 'gl': 'auto',\n",
       " '200': 'manual',\n",
       " 'q3': 'manual',\n",
       " 'elefantino': 'manual',\n",
       " 'kappa': 'manual',\n",
       " 'kalina': 'manual',\n",
       " 'serie_2': 'manual',\n",
       " 'i3': 'manual',\n",
       " 'serie_3': 'manual',\n",
       " 'rangerover': 'manual',\n",
       " 'range_rover_evoque': 'auto',\n",
       " 'serie_1': 'manual'}"
      ]
     },
     "execution_count": 24,
     "metadata": {},
     "output_type": "execute_result"
    }
   ],
   "source": [
    "dict_gearbox = df.groupby(['model','gearbox'])['price'].count().sort_values(ascending=False).reset_index()\n",
    "dict_gearbox = dict_gearbox.drop_duplicates(subset=['model'])\n",
    "# преобразуем данные в словарь:\n",
    "dict_gearbox = dict_gearbox[['model','gearbox']].set_index('model').T.to_dict('index')['gearbox']\n",
    "dict_gearbox"
   ]
  },
  {
   "cell_type": "markdown",
   "metadata": {},
   "source": [
    "Заполним пропуски по типу КПП данными из словаря `dict_gearbox`:"
   ]
  },
  {
   "cell_type": "code",
   "execution_count": 25,
   "metadata": {
    "scrolled": true
   },
   "outputs": [
    {
     "name": "stdout",
     "output_type": "stream",
     "text": [
      "Осталось пропусков по типу КПП: 4131 шт.\n",
      "Осталось пропусков по типу КПП: 1.17%\n"
     ]
    }
   ],
   "source": [
    "df['gearbox'] = df['gearbox'].fillna(df['model'].map(dict_gearbox))\n",
    "print(f'Осталось пропусков по типу КПП: {df[\"gearbox\"].isna().sum()} шт.')\n",
    "print(f'Осталось пропусков по типу КПП: {(df[\"gearbox\"].isna().sum()/len(df)*100).round(2)}%')"
   ]
  },
  {
   "cell_type": "markdown",
   "metadata": {},
   "source": [
    "Заполним пропуски в наименовании моделей ТС похожим образом, по словарю. Для начала создадим столбец 'dict_model', содержащий сцепку основных параметров машин: марка, тип кузова. мощность. Эта сцепка и будет ключом по словарю `dict_model` с моделями машин."
   ]
  },
  {
   "cell_type": "code",
   "execution_count": 26,
   "metadata": {},
   "outputs": [],
   "source": [
    "df['dict_model'] = df['brand'] + df['vehicle_type'] + str(df['power'])"
   ]
  },
  {
   "cell_type": "code",
   "execution_count": 27,
   "metadata": {},
   "outputs": [],
   "source": [
    "dict_model = df.groupby(['model','dict_model'])['price'].count().sort_values(ascending=False).reset_index()\n",
    "dict_model = dict_model.drop_duplicates(subset=['dict_model'])\n",
    "# преобразуем данные в словарь:\n",
    "dict_model = dict_model[['model','dict_model']].set_index('dict_model').T.to_dict('index')['model']"
   ]
  },
  {
   "cell_type": "markdown",
   "metadata": {},
   "source": [
    "Заполним пропуски:"
   ]
  },
  {
   "cell_type": "code",
   "execution_count": 28,
   "metadata": {},
   "outputs": [
    {
     "name": "stdout",
     "output_type": "stream",
     "text": [
      "Осталось пропусков по модели авто: 9163 шт.\n",
      "Осталось пропусков по модели авто: 2.59%\n"
     ]
    }
   ],
   "source": [
    "df['model'] = df['model'].fillna(df['dict_model'].map(dict_model))\n",
    "print(f'Осталось пропусков по модели авто: {df[\"model\"].isna().sum()} шт.')\n",
    "print(f'Осталось пропусков по модели авто: {(df[\"model\"].isna().sum()/len(df)*100).round(2)}%')"
   ]
  },
  {
   "cell_type": "markdown",
   "metadata": {},
   "source": [
    "Удалим ненужный столбец 'dict_model':"
   ]
  },
  {
   "cell_type": "code",
   "execution_count": 29,
   "metadata": {},
   "outputs": [
    {
     "data": {
      "text/html": [
       "<div>\n",
       "<style scoped>\n",
       "    .dataframe tbody tr th:only-of-type {\n",
       "        vertical-align: middle;\n",
       "    }\n",
       "\n",
       "    .dataframe tbody tr th {\n",
       "        vertical-align: top;\n",
       "    }\n",
       "\n",
       "    .dataframe thead th {\n",
       "        text-align: right;\n",
       "    }\n",
       "</style>\n",
       "<table border=\"1\" class=\"dataframe\">\n",
       "  <thead>\n",
       "    <tr style=\"text-align: right;\">\n",
       "      <th></th>\n",
       "      <th>date_crawled</th>\n",
       "      <th>price</th>\n",
       "      <th>vehicle_type</th>\n",
       "      <th>registration_year</th>\n",
       "      <th>gearbox</th>\n",
       "      <th>power</th>\n",
       "      <th>model</th>\n",
       "      <th>kilometer</th>\n",
       "      <th>registration_month</th>\n",
       "      <th>fuel_type</th>\n",
       "      <th>brand</th>\n",
       "      <th>not_repaired</th>\n",
       "      <th>date_created</th>\n",
       "      <th>number_of_pictures</th>\n",
       "      <th>postal_code</th>\n",
       "      <th>last_seen</th>\n",
       "    </tr>\n",
       "  </thead>\n",
       "  <tbody>\n",
       "    <tr>\n",
       "      <th>0</th>\n",
       "      <td>2016-03-24 11:52:17</td>\n",
       "      <td>480</td>\n",
       "      <td>sedan</td>\n",
       "      <td>1993</td>\n",
       "      <td>manual</td>\n",
       "      <td>0</td>\n",
       "      <td>golf</td>\n",
       "      <td>150000</td>\n",
       "      <td>0</td>\n",
       "      <td>petrol</td>\n",
       "      <td>volkswagen</td>\n",
       "      <td>no</td>\n",
       "      <td>2016-03-24</td>\n",
       "      <td>0</td>\n",
       "      <td>70435</td>\n",
       "      <td>2016-04-07 03:16:57</td>\n",
       "    </tr>\n",
       "    <tr>\n",
       "      <th>1</th>\n",
       "      <td>2016-03-24 10:58:45</td>\n",
       "      <td>18300</td>\n",
       "      <td>coupe</td>\n",
       "      <td>2011</td>\n",
       "      <td>manual</td>\n",
       "      <td>190</td>\n",
       "      <td>tt</td>\n",
       "      <td>125000</td>\n",
       "      <td>5</td>\n",
       "      <td>gasoline</td>\n",
       "      <td>audi</td>\n",
       "      <td>yes</td>\n",
       "      <td>2016-03-24</td>\n",
       "      <td>0</td>\n",
       "      <td>66954</td>\n",
       "      <td>2016-04-07 01:46:50</td>\n",
       "    </tr>\n",
       "    <tr>\n",
       "      <th>2</th>\n",
       "      <td>2016-03-14 12:52:21</td>\n",
       "      <td>9800</td>\n",
       "      <td>suv</td>\n",
       "      <td>2004</td>\n",
       "      <td>auto</td>\n",
       "      <td>163</td>\n",
       "      <td>grand</td>\n",
       "      <td>125000</td>\n",
       "      <td>8</td>\n",
       "      <td>gasoline</td>\n",
       "      <td>jeep</td>\n",
       "      <td>no</td>\n",
       "      <td>2016-03-14</td>\n",
       "      <td>0</td>\n",
       "      <td>90480</td>\n",
       "      <td>2016-04-05 12:47:46</td>\n",
       "    </tr>\n",
       "    <tr>\n",
       "      <th>3</th>\n",
       "      <td>2016-03-17 16:54:04</td>\n",
       "      <td>1500</td>\n",
       "      <td>small</td>\n",
       "      <td>2001</td>\n",
       "      <td>manual</td>\n",
       "      <td>75</td>\n",
       "      <td>golf</td>\n",
       "      <td>150000</td>\n",
       "      <td>6</td>\n",
       "      <td>petrol</td>\n",
       "      <td>volkswagen</td>\n",
       "      <td>no</td>\n",
       "      <td>2016-03-17</td>\n",
       "      <td>0</td>\n",
       "      <td>91074</td>\n",
       "      <td>2016-03-17 17:40:17</td>\n",
       "    </tr>\n",
       "    <tr>\n",
       "      <th>4</th>\n",
       "      <td>2016-03-31 17:25:20</td>\n",
       "      <td>3600</td>\n",
       "      <td>small</td>\n",
       "      <td>2008</td>\n",
       "      <td>manual</td>\n",
       "      <td>69</td>\n",
       "      <td>fabia</td>\n",
       "      <td>90000</td>\n",
       "      <td>7</td>\n",
       "      <td>gasoline</td>\n",
       "      <td>skoda</td>\n",
       "      <td>no</td>\n",
       "      <td>2016-03-31</td>\n",
       "      <td>0</td>\n",
       "      <td>60437</td>\n",
       "      <td>2016-04-06 10:17:21</td>\n",
       "    </tr>\n",
       "  </tbody>\n",
       "</table>\n",
       "</div>"
      ],
      "text/plain": [
       "         date_crawled  price vehicle_type  registration_year gearbox  power  \\\n",
       "0 2016-03-24 11:52:17    480        sedan               1993  manual      0   \n",
       "1 2016-03-24 10:58:45  18300        coupe               2011  manual    190   \n",
       "2 2016-03-14 12:52:21   9800          suv               2004    auto    163   \n",
       "3 2016-03-17 16:54:04   1500        small               2001  manual     75   \n",
       "4 2016-03-31 17:25:20   3600        small               2008  manual     69   \n",
       "\n",
       "   model  kilometer  registration_month fuel_type       brand not_repaired  \\\n",
       "0   golf     150000                   0    petrol  volkswagen           no   \n",
       "1     tt     125000                   5  gasoline        audi          yes   \n",
       "2  grand     125000                   8  gasoline        jeep           no   \n",
       "3   golf     150000                   6    petrol  volkswagen           no   \n",
       "4  fabia      90000                   7  gasoline       skoda           no   \n",
       "\n",
       "  date_created  number_of_pictures  postal_code           last_seen  \n",
       "0   2016-03-24                   0        70435 2016-04-07 03:16:57  \n",
       "1   2016-03-24                   0        66954 2016-04-07 01:46:50  \n",
       "2   2016-03-14                   0        90480 2016-04-05 12:47:46  \n",
       "3   2016-03-17                   0        91074 2016-03-17 17:40:17  \n",
       "4   2016-03-31                   0        60437 2016-04-06 10:17:21  "
      ]
     },
     "execution_count": 29,
     "metadata": {},
     "output_type": "execute_result"
    }
   ],
   "source": [
    "df = df.drop('dict_model', axis=1)\n",
    "df.head()"
   ]
  },
  {
   "cell_type": "markdown",
   "metadata": {},
   "source": [
    "Подсчитаем число строк, где данные пропущены сразу в нескольких столбцах:"
   ]
  },
  {
   "cell_type": "code",
   "execution_count": 30,
   "metadata": {},
   "outputs": [
    {
     "name": "stdout",
     "output_type": "stream",
     "text": [
      "Число строк с пропусками во всех 4-х столбцах, содержащих пропуски: 2392\n"
     ]
    }
   ],
   "source": [
    "print('Число строк с пропусками во всех 4-х столбцах, содержащих пропуски:', len(df[\n",
    "    df.vehicle_type.isna()&\n",
    "    df.gearbox.isna()&\n",
    "    df.model.isna()&\n",
    "    df.fuel_type.isna()]))"
   ]
  },
  {
   "cell_type": "markdown",
   "metadata": {},
   "source": [
    "Перезапишем датафрейм, исключив строки, содержащие пропуски сразу в нескольких столбцах - они только будут мешать моделированию"
   ]
  },
  {
   "cell_type": "code",
   "execution_count": 31,
   "metadata": {},
   "outputs": [],
   "source": [
    "df = df[~(df.vehicle_type.isna()&\n",
    "    df.gearbox.isna()&\n",
    "    df.model.isna()&\n",
    "    df.fuel_type.isna())]"
   ]
  },
  {
   "cell_type": "markdown",
   "metadata": {},
   "source": [
    "Подсчитаем, какой процент пропусков остался:"
   ]
  },
  {
   "cell_type": "code",
   "execution_count": 32,
   "metadata": {
    "scrolled": true
   },
   "outputs": [
    {
     "data": {
      "text/plain": [
       "date_crawled          0.00\n",
       "price                 0.00\n",
       "vehicle_type          1.26\n",
       "registration_year     0.00\n",
       "gearbox               0.49\n",
       "power                 0.00\n",
       "model                 1.92\n",
       "kilometer             0.00\n",
       "registration_month    0.00\n",
       "fuel_type             1.36\n",
       "brand                 0.00\n",
       "not_repaired          0.00\n",
       "date_created          0.00\n",
       "number_of_pictures    0.00\n",
       "postal_code           0.00\n",
       "last_seen             0.00\n",
       "dtype: float64"
      ]
     },
     "execution_count": 32,
     "metadata": {},
     "output_type": "execute_result"
    }
   ],
   "source": [
    "(df.isna().sum()/len(df)*100).round(2)"
   ]
  },
  {
   "cell_type": "markdown",
   "metadata": {},
   "source": [
    "Таким образом, мы существенно сократили доли пропусков. К сожалению, наименование модели автомобиля более неоткуда брать - строки с пропусками в этом столбце заменим на \"other\" (\"прочие\"):"
   ]
  },
  {
   "cell_type": "code",
   "execution_count": 33,
   "metadata": {},
   "outputs": [],
   "source": [
    "df['model'] = df['model'].fillna('other')"
   ]
  },
  {
   "cell_type": "markdown",
   "metadata": {},
   "source": [
    "Осталось совсем немного пропусков в столбцах \"gearbox\" и \"fuel_type\", \"vehicle_type\" - заполним их самыми популярными значениями внутри бренда:"
   ]
  },
  {
   "cell_type": "code",
   "execution_count": 34,
   "metadata": {},
   "outputs": [],
   "source": [
    "dict_gearbox_brand = df.groupby(['brand','gearbox'])['price'].count().sort_values(ascending=False).reset_index()\n",
    "dict_gearbox_brand = dict_gearbox_brand.drop_duplicates(subset=['brand'])\n",
    "# преобразуем данные в словарь:\n",
    "dict_gearbox_brand = dict_gearbox_brand[['brand','gearbox']].set_index('brand').T.to_dict('index')['gearbox']\n",
    "df['gearbox'] = df['gearbox'].fillna(df['brand'].map(dict_gearbox_brand))"
   ]
  },
  {
   "cell_type": "code",
   "execution_count": 35,
   "metadata": {},
   "outputs": [],
   "source": [
    "dict_fuel_brand = df.groupby(['brand','fuel_type'])['price'].count().sort_values(ascending=False).reset_index()\n",
    "dict_fuel_brand = dict_fuel_brand.drop_duplicates(subset=['brand'])\n",
    "# преобразуем данные в словарь:\n",
    "dict_fuel_brand = dict_fuel_brand[['brand','fuel_type']].set_index('brand').T.to_dict('index')['fuel_type']\n",
    "df['fuel_type'] = df['fuel_type'].fillna(df['brand'].map(dict_fuel_brand))"
   ]
  },
  {
   "cell_type": "code",
   "execution_count": 36,
   "metadata": {},
   "outputs": [],
   "source": [
    "dict_vehicle_brand = df.groupby(['brand','vehicle_type'])['price'].count().sort_values(ascending=False).reset_index()\n",
    "dict_vehicle_brand = dict_vehicle_brand.drop_duplicates(subset=['brand'])\n",
    "# преобразуем данные в словарь:\n",
    "dict_vehicle_brand = dict_vehicle_brand[['brand','vehicle_type']].set_index('brand').T.to_dict('index')['vehicle_type']\n",
    "df['vehicle_type'] = df['vehicle_type'].fillna(df['brand'].map(dict_vehicle_brand))"
   ]
  },
  {
   "cell_type": "code",
   "execution_count": 37,
   "metadata": {},
   "outputs": [
    {
     "name": "stdout",
     "output_type": "stream",
     "text": [
      "Процент пропусков:\n"
     ]
    },
    {
     "data": {
      "text/plain": [
       "date_crawled          0.0\n",
       "price                 0.0\n",
       "vehicle_type          0.0\n",
       "registration_year     0.0\n",
       "gearbox               0.0\n",
       "power                 0.0\n",
       "model                 0.0\n",
       "kilometer             0.0\n",
       "registration_month    0.0\n",
       "fuel_type             0.0\n",
       "brand                 0.0\n",
       "not_repaired          0.0\n",
       "date_created          0.0\n",
       "number_of_pictures    0.0\n",
       "postal_code           0.0\n",
       "last_seen             0.0\n",
       "dtype: float64"
      ]
     },
     "execution_count": 37,
     "metadata": {},
     "output_type": "execute_result"
    }
   ],
   "source": [
    "print('Процент пропусков:')\n",
    "(df.isna().sum()/len(df)*100)"
   ]
  },
  {
   "cell_type": "markdown",
   "metadata": {},
   "source": [
    "Вывод: все пропуски обработаны"
   ]
  },
  {
   "cell_type": "markdown",
   "metadata": {},
   "source": [
    "#### 1.2.3. Обработка артефактов"
   ]
  },
  {
   "cell_type": "markdown",
   "metadata": {},
   "source": [
    "Данные содержат артефакты:\n",
    "- нулевые цены автомобилей,\n",
    "- год регистрации с 1000г до 9999г, а по части анкет год регистрации авто превышает год размещения анкеты,\n",
    "- мощность содержит нулевые значения и неадекватные максимальные значения (20 тыс. л.с.),\n",
    "- месяц регистрации ТС содержит нулевые значения.\n",
    "\n",
    "Первым делом избавимся от артефактов в ценах авто: не может быть нулевой или близкой к нулю стоимости. Так как цена - это целевой признак, пропуски (нули) заполнять нельзя - мы просто удалим записи ниже 10 евро"
   ]
  },
  {
   "cell_type": "code",
   "execution_count": 38,
   "metadata": {
    "scrolled": true
   },
   "outputs": [
    {
     "name": "stdout",
     "output_type": "stream",
     "text": [
      "Число строк, где цена менее 10 евро: 11190\n",
      "Процент строк, где цена менее 10 евро: 3.2%\n"
     ]
    }
   ],
   "source": [
    "print('Число строк, где цена менее 10 евро:', df[df.price<=10].shape[0])\n",
    "print(f'Процент строк, где цена менее 10 евро: {round(df[df.price<=10].shape[0]/len(df)*100,1)}%')"
   ]
  },
  {
   "cell_type": "markdown",
   "metadata": {},
   "source": [
    "Перезапишем датафрейм, исключив цены до 10 евро:"
   ]
  },
  {
   "cell_type": "code",
   "execution_count": 39,
   "metadata": {},
   "outputs": [
    {
     "name": "stdout",
     "output_type": "stream",
     "text": [
      "Осталось наблюдений: 340783\n"
     ]
    }
   ],
   "source": [
    "df = df[df.price>10]\n",
    "print('Осталось наблюдений:', df.shape[0])"
   ]
  },
  {
   "cell_type": "markdown",
   "metadata": {},
   "source": [
    "Год регистрации ТС также содержит артефакты: объявления с годами до ХХ века есть смысл удалить. Также артефакты есть в максимальных значениях года регистрации. Данные в анкетах заполнялись не позже апреля 2016г, поэтому машин старше 2016г быть не должно."
   ]
  },
  {
   "cell_type": "code",
   "execution_count": 40,
   "metadata": {
    "scrolled": true
   },
   "outputs": [
    {
     "name": "stdout",
     "output_type": "stream",
     "text": [
      "Число строк, где год регистрации до 1900г или после 2016г: 13568\n"
     ]
    }
   ],
   "source": [
    "print('Число строк, где год регистрации до 1900г или после 2016г:', \n",
    "      df[(df.registration_year<=1900) | (df.registration_year>2016)].shape[0])"
   ]
  },
  {
   "cell_type": "markdown",
   "metadata": {},
   "source": [
    "Заменим значения старше 2016г на 2016г, а значения до 1900г на 1900г:"
   ]
  },
  {
   "cell_type": "code",
   "execution_count": 41,
   "metadata": {},
   "outputs": [],
   "source": [
    "def reg_year(year):\n",
    "    if year < 1900:\n",
    "        return 1900\n",
    "    elif year > 2016:\n",
    "        return 2016\n",
    "    else:\n",
    "        return year"
   ]
  },
  {
   "cell_type": "code",
   "execution_count": 42,
   "metadata": {},
   "outputs": [],
   "source": [
    "df.registration_year = df.registration_year.apply(reg_year)"
   ]
  },
  {
   "cell_type": "code",
   "execution_count": 43,
   "metadata": {},
   "outputs": [
    {
     "data": {
      "text/plain": [
       "count    340783.000000\n",
       "mean       2003.149559\n",
       "std           7.256733\n",
       "min        1900.000000\n",
       "25%        1999.000000\n",
       "50%        2003.000000\n",
       "75%        2008.000000\n",
       "max        2016.000000\n",
       "Name: registration_year, dtype: float64"
      ]
     },
     "execution_count": 43,
     "metadata": {},
     "output_type": "execute_result"
    }
   ],
   "source": [
    "df.registration_year.describe()"
   ]
  },
  {
   "cell_type": "markdown",
   "metadata": {},
   "source": [
    "Мощность содержит нулевые значения и неадекватные максимальные значения. Даже гоночные болиды не имеют мощностей выше 1000 л.с. Поэтому данные свыше 800-1000 л.с. точно можно считать артефактами\n",
    "Построим диаграмму размаха по мощности:"
   ]
  },
  {
   "cell_type": "code",
   "execution_count": 44,
   "metadata": {},
   "outputs": [
    {
     "data": {
      "text/plain": [
       "<AxesSubplot:>"
      ]
     },
     "execution_count": 44,
     "metadata": {},
     "output_type": "execute_result"
    },
    {
     "data": {
      "image/png": "[encoded data removed]",
      "text/plain": [
       "<Figure size 432x288 with 1 Axes>"
      ]
     },
     "metadata": {
      "needs_background": "light"
     },
     "output_type": "display_data"
    }
   ],
   "source": [
    "df.boxplot('power')"
   ]
  },
  {
   "cell_type": "code",
   "execution_count": 45,
   "metadata": {},
   "outputs": [
    {
     "name": "stdout",
     "output_type": "stream",
     "text": [
      "Число строк, где мощность более 800 л.с.: 309\n",
      "Процент строк, где мощность более 800 л.с.:0.09%\n"
     ]
    }
   ],
   "source": [
    "print('Число строк, где мощность более 800 л.с.:',df[df.power>800].shape[0])\n",
    "print(f'Процент строк, где мощность более 800 л.с.:{round(df[df.power>800].shape[0]/len(df)*100,2)}%')"
   ]
  },
  {
   "cell_type": "markdown",
   "metadata": {},
   "source": [
    "Посмотрим на произвольные 5 строк с мощностью авто свыше 800 л.с.:"
   ]
  },
  {
   "cell_type": "code",
   "execution_count": 46,
   "metadata": {
    "scrolled": true
   },
   "outputs": [
    {
     "data": {
      "text/html": [
       "<div>\n",
       "<style scoped>\n",
       "    .dataframe tbody tr th:only-of-type {\n",
       "        vertical-align: middle;\n",
       "    }\n",
       "\n",
       "    .dataframe tbody tr th {\n",
       "        vertical-align: top;\n",
       "    }\n",
       "\n",
       "    .dataframe thead th {\n",
       "        text-align: right;\n",
       "    }\n",
       "</style>\n",
       "<table border=\"1\" class=\"dataframe\">\n",
       "  <thead>\n",
       "    <tr style=\"text-align: right;\">\n",
       "      <th></th>\n",
       "      <th>date_crawled</th>\n",
       "      <th>price</th>\n",
       "      <th>vehicle_type</th>\n",
       "      <th>registration_year</th>\n",
       "      <th>gearbox</th>\n",
       "      <th>power</th>\n",
       "      <th>model</th>\n",
       "      <th>kilometer</th>\n",
       "      <th>registration_month</th>\n",
       "      <th>fuel_type</th>\n",
       "      <th>brand</th>\n",
       "      <th>not_repaired</th>\n",
       "      <th>date_created</th>\n",
       "      <th>number_of_pictures</th>\n",
       "      <th>postal_code</th>\n",
       "      <th>last_seen</th>\n",
       "    </tr>\n",
       "  </thead>\n",
       "  <tbody>\n",
       "    <tr>\n",
       "      <th>253791</th>\n",
       "      <td>2016-03-17 16:55:13</td>\n",
       "      <td>300</td>\n",
       "      <td>sedan</td>\n",
       "      <td>2016</td>\n",
       "      <td>manual</td>\n",
       "      <td>12512</td>\n",
       "      <td>vectra</td>\n",
       "      <td>150000</td>\n",
       "      <td>0</td>\n",
       "      <td>petrol</td>\n",
       "      <td>opel</td>\n",
       "      <td>yes</td>\n",
       "      <td>2016-03-17</td>\n",
       "      <td>0</td>\n",
       "      <td>88690</td>\n",
       "      <td>2016-03-23 05:20:52</td>\n",
       "    </tr>\n",
       "    <tr>\n",
       "      <th>273346</th>\n",
       "      <td>2016-03-14 11:37:23</td>\n",
       "      <td>3500</td>\n",
       "      <td>convertible</td>\n",
       "      <td>2006</td>\n",
       "      <td>manual</td>\n",
       "      <td>1363</td>\n",
       "      <td>3_reihe</td>\n",
       "      <td>150000</td>\n",
       "      <td>4</td>\n",
       "      <td>gasoline</td>\n",
       "      <td>peugeot</td>\n",
       "      <td>no</td>\n",
       "      <td>2016-03-14</td>\n",
       "      <td>0</td>\n",
       "      <td>52355</td>\n",
       "      <td>2016-03-14 11:37:23</td>\n",
       "    </tr>\n",
       "    <tr>\n",
       "      <th>36599</th>\n",
       "      <td>2016-03-09 10:53:28</td>\n",
       "      <td>1800</td>\n",
       "      <td>sedan</td>\n",
       "      <td>1998</td>\n",
       "      <td>manual</td>\n",
       "      <td>1597</td>\n",
       "      <td>mondeo</td>\n",
       "      <td>60000</td>\n",
       "      <td>9</td>\n",
       "      <td>petrol</td>\n",
       "      <td>ford</td>\n",
       "      <td>no</td>\n",
       "      <td>2016-03-09</td>\n",
       "      <td>0</td>\n",
       "      <td>9212</td>\n",
       "      <td>2016-04-05 15:17:21</td>\n",
       "    </tr>\n",
       "    <tr>\n",
       "      <th>308234</th>\n",
       "      <td>2016-03-28 22:49:54</td>\n",
       "      <td>3300</td>\n",
       "      <td>sedan</td>\n",
       "      <td>2001</td>\n",
       "      <td>auto</td>\n",
       "      <td>1933</td>\n",
       "      <td>5er</td>\n",
       "      <td>150000</td>\n",
       "      <td>2</td>\n",
       "      <td>gasoline</td>\n",
       "      <td>bmw</td>\n",
       "      <td>no</td>\n",
       "      <td>2016-03-28</td>\n",
       "      <td>0</td>\n",
       "      <td>45468</td>\n",
       "      <td>2016-04-07 06:16:37</td>\n",
       "    </tr>\n",
       "    <tr>\n",
       "      <th>353493</th>\n",
       "      <td>2016-04-02 20:54:21</td>\n",
       "      <td>12500</td>\n",
       "      <td>sedan</td>\n",
       "      <td>2016</td>\n",
       "      <td>manual</td>\n",
       "      <td>2000</td>\n",
       "      <td>other</td>\n",
       "      <td>60000</td>\n",
       "      <td>0</td>\n",
       "      <td>gasoline</td>\n",
       "      <td>chrysler</td>\n",
       "      <td>no</td>\n",
       "      <td>2016-04-02</td>\n",
       "      <td>0</td>\n",
       "      <td>44145</td>\n",
       "      <td>2016-04-06 21:44:39</td>\n",
       "    </tr>\n",
       "  </tbody>\n",
       "</table>\n",
       "</div>"
      ],
      "text/plain": [
       "              date_crawled  price vehicle_type  registration_year gearbox  \\\n",
       "253791 2016-03-17 16:55:13    300        sedan               2016  manual   \n",
       "273346 2016-03-14 11:37:23   3500  convertible               2006  manual   \n",
       "36599  2016-03-09 10:53:28   1800        sedan               1998  manual   \n",
       "308234 2016-03-28 22:49:54   3300        sedan               2001    auto   \n",
       "353493 2016-04-02 20:54:21  12500        sedan               2016  manual   \n",
       "\n",
       "        power    model  kilometer  registration_month fuel_type     brand  \\\n",
       "253791  12512   vectra     150000                   0    petrol      opel   \n",
       "273346   1363  3_reihe     150000                   4  gasoline   peugeot   \n",
       "36599    1597   mondeo      60000                   9    petrol      ford   \n",
       "308234   1933      5er     150000                   2  gasoline       bmw   \n",
       "353493   2000    other      60000                   0  gasoline  chrysler   \n",
       "\n",
       "       not_repaired date_created  number_of_pictures  postal_code  \\\n",
       "253791          yes   2016-03-17                   0        88690   \n",
       "273346           no   2016-03-14                   0        52355   \n",
       "36599            no   2016-03-09                   0         9212   \n",
       "308234           no   2016-03-28                   0        45468   \n",
       "353493           no   2016-04-02                   0        44145   \n",
       "\n",
       "                 last_seen  \n",
       "253791 2016-03-23 05:20:52  \n",
       "273346 2016-03-14 11:37:23  \n",
       "36599  2016-04-05 15:17:21  \n",
       "308234 2016-04-07 06:16:37  \n",
       "353493 2016-04-06 21:44:39  "
      ]
     },
     "execution_count": 46,
     "metadata": {},
     "output_type": "execute_result"
    }
   ],
   "source": [
    "df[df.power>800].sample(5)"
   ]
  },
  {
   "cell_type": "markdown",
   "metadata": {},
   "source": [
    "Очень похоже, что данные были загружены некорректно - потерялся разделитель между целой и десятичной частью числа. Скорректируем данные в мощности:"
   ]
  },
  {
   "cell_type": "code",
   "execution_count": 47,
   "metadata": {},
   "outputs": [],
   "source": [
    "def power_new(power):\n",
    "    if power>=800 and power<8000:\n",
    "        return power/10\n",
    "    elif power>=8000:\n",
    "        return power/100\n",
    "    else:\n",
    "        return power"
   ]
  },
  {
   "cell_type": "code",
   "execution_count": 48,
   "metadata": {},
   "outputs": [
    {
     "name": "stdout",
     "output_type": "stream",
     "text": [
      "Число строк, где мощность более 800 л.с.: 0\n"
     ]
    }
   ],
   "source": [
    "df['power'] = df['power'].apply(power_new)\n",
    "print('Число строк, где мощность более 800 л.с.:',df[df.power>800].shape[0])"
   ]
  },
  {
   "cell_type": "markdown",
   "metadata": {},
   "source": [
    "Проверим, сколько нулевых мощностей в данных:"
   ]
  },
  {
   "cell_type": "code",
   "execution_count": 49,
   "metadata": {},
   "outputs": [
    {
     "name": "stdout",
     "output_type": "stream",
     "text": [
      "Число строк, где мощность нулевая: 34510\n",
      "Процент строк, где мощность нулевая.:10.13%\n"
     ]
    }
   ],
   "source": [
    "print('Число строк, где мощность нулевая:',df[df.power==0].shape[0])\n",
    "print(f'Процент строк, где мощность нулевая.:{round(df[df.power==0].shape[0]/len(df)*100,2)}%')"
   ]
  },
  {
   "cell_type": "markdown",
   "metadata": {},
   "source": [
    "Нулевых мощностей довольно много. Возможно, по незнанию указывались нули или данные были выгружены с ошибками. Удалять такую существенную часть данных кажется неправильным. Попробуем обучать модели с этими признаками.\n",
    "\n",
    "Среди артефактов мы выделяли также месяц регистрации ТС, который содержит нулевые значения. Так как это категориальный признак, и идей по замене нулей нет, сохраним данные в этом виде.\n",
    "\n",
    "*Выводы:* предобработка данных произведена. Перейдем к процессу обучения моделей."
   ]
  },
  {
   "cell_type": "markdown",
   "metadata": {},
   "source": [
    "## 2. Обучение моделей"
   ]
  },
  {
   "cell_type": "markdown",
   "metadata": {},
   "source": [
    "### 2.1. Подготовка данных для моделирования"
   ]
  },
  {
   "cell_type": "markdown",
   "metadata": {},
   "source": [
    "Прежде чем задать `features` определимся с лишними столбцами:\n",
    "- date_crawled - дата скачивания анкеты из базы\n",
    "- last_seen - дата последней активности пользователя\n",
    "- date_created - дата создания анкеты\n",
    "- number_of_pictures - количество фотографий автомобиля (неинформативный столбец, так как он содержит везде одно и то же значение = 0).\n",
    "\n",
    "Имеет смысл добавить столбец 'car_age' с возрастом автомобиля в годах: разница между датой создания анкеты и датой регистрации авто."
   ]
  },
  {
   "cell_type": "code",
   "execution_count": 50,
   "metadata": {},
   "outputs": [
    {
     "data": {
      "text/html": [
       "<div>\n",
       "<style scoped>\n",
       "    .dataframe tbody tr th:only-of-type {\n",
       "        vertical-align: middle;\n",
       "    }\n",
       "\n",
       "    .dataframe tbody tr th {\n",
       "        vertical-align: top;\n",
       "    }\n",
       "\n",
       "    .dataframe thead th {\n",
       "        text-align: right;\n",
       "    }\n",
       "</style>\n",
       "<table border=\"1\" class=\"dataframe\">\n",
       "  <thead>\n",
       "    <tr style=\"text-align: right;\">\n",
       "      <th></th>\n",
       "      <th>date_crawled</th>\n",
       "      <th>price</th>\n",
       "      <th>vehicle_type</th>\n",
       "      <th>registration_year</th>\n",
       "      <th>gearbox</th>\n",
       "      <th>power</th>\n",
       "      <th>model</th>\n",
       "      <th>kilometer</th>\n",
       "      <th>registration_month</th>\n",
       "      <th>fuel_type</th>\n",
       "      <th>brand</th>\n",
       "      <th>not_repaired</th>\n",
       "      <th>date_created</th>\n",
       "      <th>number_of_pictures</th>\n",
       "      <th>postal_code</th>\n",
       "      <th>last_seen</th>\n",
       "      <th>car_age</th>\n",
       "    </tr>\n",
       "  </thead>\n",
       "  <tbody>\n",
       "    <tr>\n",
       "      <th>0</th>\n",
       "      <td>2016-03-24 11:52:17</td>\n",
       "      <td>480</td>\n",
       "      <td>sedan</td>\n",
       "      <td>1993</td>\n",
       "      <td>manual</td>\n",
       "      <td>0.0</td>\n",
       "      <td>golf</td>\n",
       "      <td>150000</td>\n",
       "      <td>0</td>\n",
       "      <td>petrol</td>\n",
       "      <td>volkswagen</td>\n",
       "      <td>no</td>\n",
       "      <td>2016-03-24</td>\n",
       "      <td>0</td>\n",
       "      <td>70435</td>\n",
       "      <td>2016-04-07 03:16:57</td>\n",
       "      <td>23</td>\n",
       "    </tr>\n",
       "    <tr>\n",
       "      <th>1</th>\n",
       "      <td>2016-03-24 10:58:45</td>\n",
       "      <td>18300</td>\n",
       "      <td>coupe</td>\n",
       "      <td>2011</td>\n",
       "      <td>manual</td>\n",
       "      <td>190.0</td>\n",
       "      <td>tt</td>\n",
       "      <td>125000</td>\n",
       "      <td>5</td>\n",
       "      <td>gasoline</td>\n",
       "      <td>audi</td>\n",
       "      <td>yes</td>\n",
       "      <td>2016-03-24</td>\n",
       "      <td>0</td>\n",
       "      <td>66954</td>\n",
       "      <td>2016-04-07 01:46:50</td>\n",
       "      <td>5</td>\n",
       "    </tr>\n",
       "    <tr>\n",
       "      <th>2</th>\n",
       "      <td>2016-03-14 12:52:21</td>\n",
       "      <td>9800</td>\n",
       "      <td>suv</td>\n",
       "      <td>2004</td>\n",
       "      <td>auto</td>\n",
       "      <td>163.0</td>\n",
       "      <td>grand</td>\n",
       "      <td>125000</td>\n",
       "      <td>8</td>\n",
       "      <td>gasoline</td>\n",
       "      <td>jeep</td>\n",
       "      <td>no</td>\n",
       "      <td>2016-03-14</td>\n",
       "      <td>0</td>\n",
       "      <td>90480</td>\n",
       "      <td>2016-04-05 12:47:46</td>\n",
       "      <td>12</td>\n",
       "    </tr>\n",
       "    <tr>\n",
       "      <th>3</th>\n",
       "      <td>2016-03-17 16:54:04</td>\n",
       "      <td>1500</td>\n",
       "      <td>small</td>\n",
       "      <td>2001</td>\n",
       "      <td>manual</td>\n",
       "      <td>75.0</td>\n",
       "      <td>golf</td>\n",
       "      <td>150000</td>\n",
       "      <td>6</td>\n",
       "      <td>petrol</td>\n",
       "      <td>volkswagen</td>\n",
       "      <td>no</td>\n",
       "      <td>2016-03-17</td>\n",
       "      <td>0</td>\n",
       "      <td>91074</td>\n",
       "      <td>2016-03-17 17:40:17</td>\n",
       "      <td>15</td>\n",
       "    </tr>\n",
       "    <tr>\n",
       "      <th>4</th>\n",
       "      <td>2016-03-31 17:25:20</td>\n",
       "      <td>3600</td>\n",
       "      <td>small</td>\n",
       "      <td>2008</td>\n",
       "      <td>manual</td>\n",
       "      <td>69.0</td>\n",
       "      <td>fabia</td>\n",
       "      <td>90000</td>\n",
       "      <td>7</td>\n",
       "      <td>gasoline</td>\n",
       "      <td>skoda</td>\n",
       "      <td>no</td>\n",
       "      <td>2016-03-31</td>\n",
       "      <td>0</td>\n",
       "      <td>60437</td>\n",
       "      <td>2016-04-06 10:17:21</td>\n",
       "      <td>8</td>\n",
       "    </tr>\n",
       "  </tbody>\n",
       "</table>\n",
       "</div>"
      ],
      "text/plain": [
       "         date_crawled  price vehicle_type  registration_year gearbox  power  \\\n",
       "0 2016-03-24 11:52:17    480        sedan               1993  manual    0.0   \n",
       "1 2016-03-24 10:58:45  18300        coupe               2011  manual  190.0   \n",
       "2 2016-03-14 12:52:21   9800          suv               2004    auto  163.0   \n",
       "3 2016-03-17 16:54:04   1500        small               2001  manual   75.0   \n",
       "4 2016-03-31 17:25:20   3600        small               2008  manual   69.0   \n",
       "\n",
       "   model  kilometer  registration_month fuel_type       brand not_repaired  \\\n",
       "0   golf     150000                   0    petrol  volkswagen           no   \n",
       "1     tt     125000                   5  gasoline        audi          yes   \n",
       "2  grand     125000                   8  gasoline        jeep           no   \n",
       "3   golf     150000                   6    petrol  volkswagen           no   \n",
       "4  fabia      90000                   7  gasoline       skoda           no   \n",
       "\n",
       "  date_created  number_of_pictures  postal_code           last_seen  car_age  \n",
       "0   2016-03-24                   0        70435 2016-04-07 03:16:57       23  \n",
       "1   2016-03-24                   0        66954 2016-04-07 01:46:50        5  \n",
       "2   2016-03-14                   0        90480 2016-04-05 12:47:46       12  \n",
       "3   2016-03-17                   0        91074 2016-03-17 17:40:17       15  \n",
       "4   2016-03-31                   0        60437 2016-04-06 10:17:21        8  "
      ]
     },
     "execution_count": 50,
     "metadata": {},
     "output_type": "execute_result"
    }
   ],
   "source": [
    "df['car_age'] = pd.DatetimeIndex(df['date_created']).year-df['registration_year']\n",
    "df.head()"
   ]
  },
  {
   "cell_type": "markdown",
   "metadata": {},
   "source": [
    "Рассмотрим категориальный признак \"postal_code\":"
   ]
  },
  {
   "cell_type": "code",
   "execution_count": 51,
   "metadata": {},
   "outputs": [
    {
     "name": "stdout",
     "output_type": "stream",
     "text": [
      "Число уникальных индексов: 8135\n"
     ]
    }
   ],
   "source": [
    "print('Число уникальных индексов:', len(df.postal_code.unique()))"
   ]
  },
  {
   "cell_type": "code",
   "execution_count": 52,
   "metadata": {},
   "outputs": [
    {
     "name": "stdout",
     "output_type": "stream",
     "text": [
      "Минимальное значение индекса: 1067\n",
      "Максимальное значение индекса: 99998\n"
     ]
    }
   ],
   "source": [
    "print('Минимальное значение индекса:', df.postal_code.min())\n",
    "print('Максимальное значение индекса:', df.postal_code.max())"
   ]
  },
  {
   "cell_type": "markdown",
   "metadata": {},
   "source": [
    "Вбив в поиске несколько произвольных индексов, было выявлено, что в таблице предоставлены почтовые индексы разных регионов Германии. Сгенерируем дополнительный фактор - регион внутри Германии. Диапазоны индексов для разных регионов Германии взяты из сети интернет:"
   ]
  },
  {
   "cell_type": "code",
   "execution_count": 53,
   "metadata": {},
   "outputs": [
    {
     "data": {
      "text/html": [
       "<div>\n",
       "<style scoped>\n",
       "    .dataframe tbody tr th:only-of-type {\n",
       "        vertical-align: middle;\n",
       "    }\n",
       "\n",
       "    .dataframe tbody tr th {\n",
       "        vertical-align: top;\n",
       "    }\n",
       "\n",
       "    .dataframe thead th {\n",
       "        text-align: right;\n",
       "    }\n",
       "</style>\n",
       "<table border=\"1\" class=\"dataframe\">\n",
       "  <thead>\n",
       "    <tr style=\"text-align: right;\">\n",
       "      <th></th>\n",
       "      <th>postal_code_min</th>\n",
       "      <th>postal_code_max</th>\n",
       "      <th>region</th>\n",
       "    </tr>\n",
       "  </thead>\n",
       "  <tbody>\n",
       "    <tr>\n",
       "      <th>0</th>\n",
       "      <td>1067</td>\n",
       "      <td>3041</td>\n",
       "      <td>Саксония (земля)</td>\n",
       "    </tr>\n",
       "    <tr>\n",
       "      <th>1</th>\n",
       "      <td>3042</td>\n",
       "      <td>3253</td>\n",
       "      <td>Бранденбург</td>\n",
       "    </tr>\n",
       "    <tr>\n",
       "      <th>2</th>\n",
       "      <td>3254</td>\n",
       "      <td>4889</td>\n",
       "      <td>Саксония (земля)</td>\n",
       "    </tr>\n",
       "    <tr>\n",
       "      <th>3</th>\n",
       "      <td>6108</td>\n",
       "      <td>6928</td>\n",
       "      <td>Саксония-Анхальт</td>\n",
       "    </tr>\n",
       "    <tr>\n",
       "      <th>4</th>\n",
       "      <td>7318</td>\n",
       "      <td>7989</td>\n",
       "      <td>Тюрингия</td>\n",
       "    </tr>\n",
       "    <tr>\n",
       "      <th>5</th>\n",
       "      <td>8056</td>\n",
       "      <td>9669</td>\n",
       "      <td>Саксония (земля)</td>\n",
       "    </tr>\n",
       "    <tr>\n",
       "      <th>6</th>\n",
       "      <td>10115</td>\n",
       "      <td>14199</td>\n",
       "      <td>Берлин</td>\n",
       "    </tr>\n",
       "    <tr>\n",
       "      <th>7</th>\n",
       "      <td>14200</td>\n",
       "      <td>17032</td>\n",
       "      <td>Бранденбург</td>\n",
       "    </tr>\n",
       "    <tr>\n",
       "      <th>8</th>\n",
       "      <td>17033</td>\n",
       "      <td>19417</td>\n",
       "      <td>Мекленбург - Передняя Померания</td>\n",
       "    </tr>\n",
       "    <tr>\n",
       "      <th>9</th>\n",
       "      <td>20038</td>\n",
       "      <td>21149</td>\n",
       "      <td>Гамбург</td>\n",
       "    </tr>\n",
       "    <tr>\n",
       "      <th>10</th>\n",
       "      <td>21217</td>\n",
       "      <td>21789</td>\n",
       "      <td>Нижняя Саксония</td>\n",
       "    </tr>\n",
       "    <tr>\n",
       "      <th>11</th>\n",
       "      <td>22041</td>\n",
       "      <td>22769</td>\n",
       "      <td>Гамбург</td>\n",
       "    </tr>\n",
       "    <tr>\n",
       "      <th>12</th>\n",
       "      <td>22844</td>\n",
       "      <td>25999</td>\n",
       "      <td>Шлезвиг-Гольштейн</td>\n",
       "    </tr>\n",
       "    <tr>\n",
       "      <th>13</th>\n",
       "      <td>26121</td>\n",
       "      <td>27567</td>\n",
       "      <td>Нижняя Саксония</td>\n",
       "    </tr>\n",
       "    <tr>\n",
       "      <th>14</th>\n",
       "      <td>27568</td>\n",
       "      <td>28779</td>\n",
       "      <td>Бремен (земля)</td>\n",
       "    </tr>\n",
       "    <tr>\n",
       "      <th>15</th>\n",
       "      <td>32049</td>\n",
       "      <td>33829</td>\n",
       "      <td>Северный Рейн-Вестфалия</td>\n",
       "    </tr>\n",
       "    <tr>\n",
       "      <th>16</th>\n",
       "      <td>34117</td>\n",
       "      <td>37299</td>\n",
       "      <td>Гессен</td>\n",
       "    </tr>\n",
       "    <tr>\n",
       "      <th>17</th>\n",
       "      <td>38820</td>\n",
       "      <td>39649</td>\n",
       "      <td>Саксония-Анхальт</td>\n",
       "    </tr>\n",
       "    <tr>\n",
       "      <th>18</th>\n",
       "      <td>40196</td>\n",
       "      <td>49073</td>\n",
       "      <td>Северный Рейн-Вестфалия</td>\n",
       "    </tr>\n",
       "    <tr>\n",
       "      <th>19</th>\n",
       "      <td>49074</td>\n",
       "      <td>49849</td>\n",
       "      <td>Нижняя Саксония</td>\n",
       "    </tr>\n",
       "    <tr>\n",
       "      <th>20</th>\n",
       "      <td>54290</td>\n",
       "      <td>57648</td>\n",
       "      <td>Рейнланд-Пфальц</td>\n",
       "    </tr>\n",
       "    <tr>\n",
       "      <th>21</th>\n",
       "      <td>58084</td>\n",
       "      <td>59969</td>\n",
       "      <td>Северный Рейн-Вестфалия</td>\n",
       "    </tr>\n",
       "    <tr>\n",
       "      <th>22</th>\n",
       "      <td>60306</td>\n",
       "      <td>65936</td>\n",
       "      <td>Гессен</td>\n",
       "    </tr>\n",
       "    <tr>\n",
       "      <th>23</th>\n",
       "      <td>66041</td>\n",
       "      <td>66839</td>\n",
       "      <td>Саар</td>\n",
       "    </tr>\n",
       "    <tr>\n",
       "      <th>24</th>\n",
       "      <td>66849</td>\n",
       "      <td>67829</td>\n",
       "      <td>Рейнланд-Пфальц</td>\n",
       "    </tr>\n",
       "    <tr>\n",
       "      <th>25</th>\n",
       "      <td>68131</td>\n",
       "      <td>79879</td>\n",
       "      <td>Баден-Вюртемберг</td>\n",
       "    </tr>\n",
       "    <tr>\n",
       "      <th>26</th>\n",
       "      <td>80331</td>\n",
       "      <td>88211</td>\n",
       "      <td>Бавария</td>\n",
       "    </tr>\n",
       "    <tr>\n",
       "      <th>27</th>\n",
       "      <td>88212</td>\n",
       "      <td>89198</td>\n",
       "      <td>Баден-Вюртемберг</td>\n",
       "    </tr>\n",
       "    <tr>\n",
       "      <th>28</th>\n",
       "      <td>98527</td>\n",
       "      <td>99998</td>\n",
       "      <td>Тюрингия</td>\n",
       "    </tr>\n",
       "  </tbody>\n",
       "</table>\n",
       "</div>"
      ],
      "text/plain": [
       "    postal_code_min  postal_code_max                           region\n",
       "0              1067             3041                 Саксония (земля)\n",
       "1              3042             3253                      Бранденбург\n",
       "2              3254             4889                 Саксония (земля)\n",
       "3              6108             6928                 Саксония-Анхальт\n",
       "4              7318             7989                         Тюрингия\n",
       "5              8056             9669                 Саксония (земля)\n",
       "6             10115            14199                           Берлин\n",
       "7             14200            17032                      Бранденбург\n",
       "8             17033            19417  Мекленбург - Передняя Померания\n",
       "9             20038            21149                          Гамбург\n",
       "10            21217            21789                  Нижняя Саксония\n",
       "11            22041            22769                          Гамбург\n",
       "12            22844            25999                Шлезвиг-Гольштейн\n",
       "13            26121            27567                  Нижняя Саксония\n",
       "14            27568            28779                   Бремен (земля)\n",
       "15            32049            33829          Северный Рейн-Вестфалия\n",
       "16            34117            37299                           Гессен\n",
       "17            38820            39649                 Саксония-Анхальт\n",
       "18            40196            49073          Северный Рейн-Вестфалия\n",
       "19            49074            49849                  Нижняя Саксония\n",
       "20            54290            57648                  Рейнланд-Пфальц\n",
       "21            58084            59969          Северный Рейн-Вестфалия\n",
       "22            60306            65936                           Гессен\n",
       "23            66041            66839                             Саар\n",
       "24            66849            67829                  Рейнланд-Пфальц\n",
       "25            68131            79879                 Баден-Вюртемберг\n",
       "26            80331            88211                          Бавария\n",
       "27            88212            89198                 Баден-Вюртемберг\n",
       "28            98527            99998                         Тюрингия"
      ]
     },
     "execution_count": 53,
     "metadata": {},
     "output_type": "execute_result"
    }
   ],
   "source": [
    "spreadsheet_id = '1p2OgR6xuy34vus_3orzaBe1huVM92ehlzqyzba7SUlo'\n",
    "file_name = 'https://docs.google.com/spreadsheets/d/{}/export?format=csv'.format(spreadsheet_id)\n",
    "r = requests.get(file_name)\n",
    "postal_code = pd.read_csv(BytesIO(r.content), sep=',')\n",
    "postal_code"
   ]
  },
  {
   "cell_type": "markdown",
   "metadata": {},
   "source": [
    "Для удобства создадим датафрейм с полным перечнем индексов из диапазонов и наименованием региона:"
   ]
  },
  {
   "cell_type": "code",
   "execution_count": 54,
   "metadata": {},
   "outputs": [
    {
     "data": {
      "text/html": [
       "<div>\n",
       "<style scoped>\n",
       "    .dataframe tbody tr th:only-of-type {\n",
       "        vertical-align: middle;\n",
       "    }\n",
       "\n",
       "    .dataframe tbody tr th {\n",
       "        vertical-align: top;\n",
       "    }\n",
       "\n",
       "    .dataframe thead th {\n",
       "        text-align: right;\n",
       "    }\n",
       "</style>\n",
       "<table border=\"1\" class=\"dataframe\">\n",
       "  <thead>\n",
       "    <tr style=\"text-align: right;\">\n",
       "      <th></th>\n",
       "      <th>postal_code</th>\n",
       "      <th>region</th>\n",
       "    </tr>\n",
       "  </thead>\n",
       "  <tbody>\n",
       "    <tr>\n",
       "      <th>61780</th>\n",
       "      <td>77345</td>\n",
       "      <td>Баден-Вюртемберг</td>\n",
       "    </tr>\n",
       "    <tr>\n",
       "      <th>5432</th>\n",
       "      <td>8172</td>\n",
       "      <td>Саксония (земля)</td>\n",
       "    </tr>\n",
       "    <tr>\n",
       "      <th>11874</th>\n",
       "      <td>15059</td>\n",
       "      <td>Бранденбург</td>\n",
       "    </tr>\n",
       "    <tr>\n",
       "      <th>11095</th>\n",
       "      <td>14280</td>\n",
       "      <td>Бранденбург</td>\n",
       "    </tr>\n",
       "    <tr>\n",
       "      <th>67929</th>\n",
       "      <td>83945</td>\n",
       "      <td>Бавария</td>\n",
       "    </tr>\n",
       "  </tbody>\n",
       "</table>\n",
       "</div>"
      ],
      "text/plain": [
       "       postal_code            region\n",
       "61780        77345  Баден-Вюртемберг\n",
       "5432          8172  Саксония (земля)\n",
       "11874        15059       Бранденбург\n",
       "11095        14280       Бранденбург\n",
       "67929        83945           Бавария"
      ]
     },
     "execution_count": 54,
     "metadata": {},
     "output_type": "execute_result"
    }
   ],
   "source": [
    "code=[]        # список индексов\n",
    "region=[]      # список регионов\n",
    "for i in range(len(postal_code)):\n",
    "    for j in range(postal_code.loc[i,'postal_code_min'], postal_code.loc[i,'postal_code_max']+1):\n",
    "        code.append(j)\n",
    "        region.append(postal_code.loc[i,'region'])\n",
    "        \n",
    "df_postal_code = pd.DataFrame({'postal_code': code, 'region':region})\n",
    "df_postal_code.sample(5)"
   ]
  },
  {
   "cell_type": "markdown",
   "metadata": {},
   "source": [
    "Добавим регион в наш датафрейм:"
   ]
  },
  {
   "cell_type": "code",
   "execution_count": 55,
   "metadata": {},
   "outputs": [
    {
     "data": {
      "text/html": [
       "<div>\n",
       "<style scoped>\n",
       "    .dataframe tbody tr th:only-of-type {\n",
       "        vertical-align: middle;\n",
       "    }\n",
       "\n",
       "    .dataframe tbody tr th {\n",
       "        vertical-align: top;\n",
       "    }\n",
       "\n",
       "    .dataframe thead th {\n",
       "        text-align: right;\n",
       "    }\n",
       "</style>\n",
       "<table border=\"1\" class=\"dataframe\">\n",
       "  <thead>\n",
       "    <tr style=\"text-align: right;\">\n",
       "      <th></th>\n",
       "      <th>date_crawled</th>\n",
       "      <th>price</th>\n",
       "      <th>vehicle_type</th>\n",
       "      <th>registration_year</th>\n",
       "      <th>gearbox</th>\n",
       "      <th>power</th>\n",
       "      <th>model</th>\n",
       "      <th>kilometer</th>\n",
       "      <th>registration_month</th>\n",
       "      <th>fuel_type</th>\n",
       "      <th>brand</th>\n",
       "      <th>not_repaired</th>\n",
       "      <th>date_created</th>\n",
       "      <th>number_of_pictures</th>\n",
       "      <th>postal_code</th>\n",
       "      <th>last_seen</th>\n",
       "      <th>car_age</th>\n",
       "      <th>region</th>\n",
       "    </tr>\n",
       "  </thead>\n",
       "  <tbody>\n",
       "    <tr>\n",
       "      <th>0</th>\n",
       "      <td>2016-03-24 11:52:17</td>\n",
       "      <td>480</td>\n",
       "      <td>sedan</td>\n",
       "      <td>1993</td>\n",
       "      <td>manual</td>\n",
       "      <td>0.0</td>\n",
       "      <td>golf</td>\n",
       "      <td>150000</td>\n",
       "      <td>0</td>\n",
       "      <td>petrol</td>\n",
       "      <td>volkswagen</td>\n",
       "      <td>no</td>\n",
       "      <td>2016-03-24</td>\n",
       "      <td>0</td>\n",
       "      <td>70435</td>\n",
       "      <td>2016-04-07 03:16:57</td>\n",
       "      <td>23</td>\n",
       "      <td>Баден-Вюртемберг</td>\n",
       "    </tr>\n",
       "    <tr>\n",
       "      <th>1</th>\n",
       "      <td>2016-03-29 18:37:21</td>\n",
       "      <td>250</td>\n",
       "      <td>small</td>\n",
       "      <td>1999</td>\n",
       "      <td>manual</td>\n",
       "      <td>60.0</td>\n",
       "      <td>fiesta</td>\n",
       "      <td>150000</td>\n",
       "      <td>7</td>\n",
       "      <td>petrol</td>\n",
       "      <td>ford</td>\n",
       "      <td>yes</td>\n",
       "      <td>2016-03-29</td>\n",
       "      <td>0</td>\n",
       "      <td>70435</td>\n",
       "      <td>2016-03-29 18:37:21</td>\n",
       "      <td>17</td>\n",
       "      <td>Баден-Вюртемберг</td>\n",
       "    </tr>\n",
       "    <tr>\n",
       "      <th>2</th>\n",
       "      <td>2016-03-09 21:51:01</td>\n",
       "      <td>2500</td>\n",
       "      <td>small</td>\n",
       "      <td>2004</td>\n",
       "      <td>manual</td>\n",
       "      <td>54.0</td>\n",
       "      <td>panda</td>\n",
       "      <td>80000</td>\n",
       "      <td>4</td>\n",
       "      <td>petrol</td>\n",
       "      <td>fiat</td>\n",
       "      <td>no</td>\n",
       "      <td>2016-03-09</td>\n",
       "      <td>0</td>\n",
       "      <td>70435</td>\n",
       "      <td>2016-03-14 18:44:37</td>\n",
       "      <td>12</td>\n",
       "      <td>Баден-Вюртемберг</td>\n",
       "    </tr>\n",
       "    <tr>\n",
       "      <th>3</th>\n",
       "      <td>2016-03-17 11:47:25</td>\n",
       "      <td>1800</td>\n",
       "      <td>small</td>\n",
       "      <td>2001</td>\n",
       "      <td>manual</td>\n",
       "      <td>125.0</td>\n",
       "      <td>corsa</td>\n",
       "      <td>150000</td>\n",
       "      <td>10</td>\n",
       "      <td>petrol</td>\n",
       "      <td>opel</td>\n",
       "      <td>no</td>\n",
       "      <td>2016-03-17</td>\n",
       "      <td>0</td>\n",
       "      <td>70435</td>\n",
       "      <td>2016-04-06 11:46:09</td>\n",
       "      <td>15</td>\n",
       "      <td>Баден-Вюртемберг</td>\n",
       "    </tr>\n",
       "    <tr>\n",
       "      <th>4</th>\n",
       "      <td>2016-03-28 00:49:04</td>\n",
       "      <td>18300</td>\n",
       "      <td>suv</td>\n",
       "      <td>2007</td>\n",
       "      <td>auto</td>\n",
       "      <td>426.0</td>\n",
       "      <td>grand</td>\n",
       "      <td>100000</td>\n",
       "      <td>4</td>\n",
       "      <td>petrol</td>\n",
       "      <td>jeep</td>\n",
       "      <td>no</td>\n",
       "      <td>2016-03-27</td>\n",
       "      <td>0</td>\n",
       "      <td>70435</td>\n",
       "      <td>2016-04-06 09:15:19</td>\n",
       "      <td>9</td>\n",
       "      <td>Баден-Вюртемберг</td>\n",
       "    </tr>\n",
       "  </tbody>\n",
       "</table>\n",
       "</div>"
      ],
      "text/plain": [
       "         date_crawled  price vehicle_type  registration_year gearbox  power  \\\n",
       "0 2016-03-24 11:52:17    480        sedan               1993  manual    0.0   \n",
       "1 2016-03-29 18:37:21    250        small               1999  manual   60.0   \n",
       "2 2016-03-09 21:51:01   2500        small               2004  manual   54.0   \n",
       "3 2016-03-17 11:47:25   1800        small               2001  manual  125.0   \n",
       "4 2016-03-28 00:49:04  18300          suv               2007    auto  426.0   \n",
       "\n",
       "    model  kilometer  registration_month fuel_type       brand not_repaired  \\\n",
       "0    golf     150000                   0    petrol  volkswagen           no   \n",
       "1  fiesta     150000                   7    petrol        ford          yes   \n",
       "2   panda      80000                   4    petrol        fiat           no   \n",
       "3   corsa     150000                  10    petrol        opel           no   \n",
       "4   grand     100000                   4    petrol        jeep           no   \n",
       "\n",
       "  date_created  number_of_pictures  postal_code           last_seen  car_age  \\\n",
       "0   2016-03-24                   0        70435 2016-04-07 03:16:57       23   \n",
       "1   2016-03-29                   0        70435 2016-03-29 18:37:21       17   \n",
       "2   2016-03-09                   0        70435 2016-03-14 18:44:37       12   \n",
       "3   2016-03-17                   0        70435 2016-04-06 11:46:09       15   \n",
       "4   2016-03-27                   0        70435 2016-04-06 09:15:19        9   \n",
       "\n",
       "             region  \n",
       "0  Баден-Вюртемберг  \n",
       "1  Баден-Вюртемберг  \n",
       "2  Баден-Вюртемберг  \n",
       "3  Баден-Вюртемберг  \n",
       "4  Баден-Вюртемберг  "
      ]
     },
     "execution_count": 55,
     "metadata": {},
     "output_type": "execute_result"
    }
   ],
   "source": [
    "df = df.merge(df_postal_code)\n",
    "df.head()"
   ]
  },
  {
   "cell_type": "markdown",
   "metadata": {},
   "source": [
    "Проверим, какие регионы есть в нашем датафрейме:"
   ]
  },
  {
   "cell_type": "code",
   "execution_count": 56,
   "metadata": {},
   "outputs": [
    {
     "data": {
      "text/plain": [
       "Северный Рейн-Вестфалия            61408\n",
       "Баден-Вюртемберг                   37990\n",
       "Гессен                             33718\n",
       "Бавария                            24785\n",
       "Рейнланд-Пфальц                    20876\n",
       "Нижняя Саксония                    18743\n",
       "Берлин                             14509\n",
       "Шлезвиг-Гольштейн                  13131\n",
       "Саксония (земля)                   10713\n",
       "Бранденбург                         7403\n",
       "Гамбург                             6624\n",
       "Саксония-Анхальт                    6571\n",
       "Саар                                6005\n",
       "Тюрингия                            5302\n",
       "Мекленбург - Передняя Померания     5053\n",
       "Бремен (земля)                      4790\n",
       "Name: region, dtype: int64"
      ]
     },
     "metadata": {},
     "output_type": "display_data"
    },
    {
     "name": "stdout",
     "output_type": "stream",
     "text": [
      "Число регионов в датафрейме: 16\n"
     ]
    }
   ],
   "source": [
    "display(df.region.value_counts())\n",
    "print('Число регионов в датафрейме:', len(df.region.unique()))"
   ]
  },
  {
   "cell_type": "markdown",
   "metadata": {},
   "source": [
    "Теперь мы можем не использовать столбец с указанием индекса, а использовать только группировку по регионам.\n",
    "\n",
    "Закодируем категориальные переменные с помощью порядкового кодирования (OrdinalEncoder):"
   ]
  },
  {
   "cell_type": "code",
   "execution_count": 57,
   "metadata": {
    "scrolled": true
   },
   "outputs": [
    {
     "data": {
      "text/html": [
       "<div>\n",
       "<style scoped>\n",
       "    .dataframe tbody tr th:only-of-type {\n",
       "        vertical-align: middle;\n",
       "    }\n",
       "\n",
       "    .dataframe tbody tr th {\n",
       "        vertical-align: top;\n",
       "    }\n",
       "\n",
       "    .dataframe thead th {\n",
       "        text-align: right;\n",
       "    }\n",
       "</style>\n",
       "<table border=\"1\" class=\"dataframe\">\n",
       "  <thead>\n",
       "    <tr style=\"text-align: right;\">\n",
       "      <th></th>\n",
       "      <th>vehicle_type</th>\n",
       "      <th>gearbox</th>\n",
       "      <th>brand</th>\n",
       "      <th>model</th>\n",
       "      <th>fuel_type</th>\n",
       "      <th>not_repaired</th>\n",
       "      <th>region</th>\n",
       "    </tr>\n",
       "  </thead>\n",
       "  <tbody>\n",
       "    <tr>\n",
       "      <th>0</th>\n",
       "      <td>4.0</td>\n",
       "      <td>1.0</td>\n",
       "      <td>38.0</td>\n",
       "      <td>116.0</td>\n",
       "      <td>6.0</td>\n",
       "      <td>0.0</td>\n",
       "      <td>1.0</td>\n",
       "    </tr>\n",
       "    <tr>\n",
       "      <th>1</th>\n",
       "      <td>5.0</td>\n",
       "      <td>1.0</td>\n",
       "      <td>10.0</td>\n",
       "      <td>102.0</td>\n",
       "      <td>6.0</td>\n",
       "      <td>1.0</td>\n",
       "      <td>1.0</td>\n",
       "    </tr>\n",
       "    <tr>\n",
       "      <th>2</th>\n",
       "      <td>5.0</td>\n",
       "      <td>1.0</td>\n",
       "      <td>9.0</td>\n",
       "      <td>169.0</td>\n",
       "      <td>6.0</td>\n",
       "      <td>0.0</td>\n",
       "      <td>1.0</td>\n",
       "    </tr>\n",
       "    <tr>\n",
       "      <th>3</th>\n",
       "      <td>5.0</td>\n",
       "      <td>1.0</td>\n",
       "      <td>24.0</td>\n",
       "      <td>83.0</td>\n",
       "      <td>6.0</td>\n",
       "      <td>0.0</td>\n",
       "      <td>1.0</td>\n",
       "    </tr>\n",
       "    <tr>\n",
       "      <th>4</th>\n",
       "      <td>6.0</td>\n",
       "      <td>0.0</td>\n",
       "      <td>14.0</td>\n",
       "      <td>117.0</td>\n",
       "      <td>6.0</td>\n",
       "      <td>0.0</td>\n",
       "      <td>1.0</td>\n",
       "    </tr>\n",
       "  </tbody>\n",
       "</table>\n",
       "</div>"
      ],
      "text/plain": [
       "   vehicle_type  gearbox  brand  model  fuel_type  not_repaired  region\n",
       "0           4.0      1.0   38.0  116.0        6.0           0.0     1.0\n",
       "1           5.0      1.0   10.0  102.0        6.0           1.0     1.0\n",
       "2           5.0      1.0    9.0  169.0        6.0           0.0     1.0\n",
       "3           5.0      1.0   24.0   83.0        6.0           0.0     1.0\n",
       "4           6.0      0.0   14.0  117.0        6.0           0.0     1.0"
      ]
     },
     "execution_count": 57,
     "metadata": {},
     "output_type": "execute_result"
    }
   ],
   "source": [
    "encoder = OrdinalEncoder()\n",
    "df_categorial = df[['vehicle_type',              # категориальные переменные\n",
    "                    'gearbox', \n",
    "                    'brand', \n",
    "                    'model', \n",
    "                    'fuel_type', \n",
    "                    'not_repaired', \n",
    "                    'region']]\n",
    "df_ordinal = pd.DataFrame(encoder.fit_transform(df_categorial), columns = df_categorial.columns)\n",
    "df_ordinal.head()"
   ]
  },
  {
   "cell_type": "markdown",
   "metadata": {},
   "source": [
    "Соберем все необходимые данные для моделирования в датафрейм `df_analyse`, исключив все ненужные столбцы:"
   ]
  },
  {
   "cell_type": "code",
   "execution_count": 58,
   "metadata": {
    "scrolled": true
   },
   "outputs": [
    {
     "data": {
      "text/html": [
       "<div>\n",
       "<style scoped>\n",
       "    .dataframe tbody tr th:only-of-type {\n",
       "        vertical-align: middle;\n",
       "    }\n",
       "\n",
       "    .dataframe tbody tr th {\n",
       "        vertical-align: top;\n",
       "    }\n",
       "\n",
       "    .dataframe thead th {\n",
       "        text-align: right;\n",
       "    }\n",
       "</style>\n",
       "<table border=\"1\" class=\"dataframe\">\n",
       "  <thead>\n",
       "    <tr style=\"text-align: right;\">\n",
       "      <th></th>\n",
       "      <th>price</th>\n",
       "      <th>registration_year</th>\n",
       "      <th>power</th>\n",
       "      <th>kilometer</th>\n",
       "      <th>registration_month</th>\n",
       "      <th>car_age</th>\n",
       "      <th>vehicle_type</th>\n",
       "      <th>gearbox</th>\n",
       "      <th>brand</th>\n",
       "      <th>model</th>\n",
       "      <th>fuel_type</th>\n",
       "      <th>not_repaired</th>\n",
       "      <th>region</th>\n",
       "    </tr>\n",
       "  </thead>\n",
       "  <tbody>\n",
       "    <tr>\n",
       "      <th>0</th>\n",
       "      <td>480</td>\n",
       "      <td>1993</td>\n",
       "      <td>0.0</td>\n",
       "      <td>150000</td>\n",
       "      <td>0</td>\n",
       "      <td>23</td>\n",
       "      <td>4.0</td>\n",
       "      <td>1.0</td>\n",
       "      <td>38.0</td>\n",
       "      <td>116.0</td>\n",
       "      <td>6.0</td>\n",
       "      <td>0.0</td>\n",
       "      <td>1.0</td>\n",
       "    </tr>\n",
       "    <tr>\n",
       "      <th>1</th>\n",
       "      <td>250</td>\n",
       "      <td>1999</td>\n",
       "      <td>60.0</td>\n",
       "      <td>150000</td>\n",
       "      <td>7</td>\n",
       "      <td>17</td>\n",
       "      <td>5.0</td>\n",
       "      <td>1.0</td>\n",
       "      <td>10.0</td>\n",
       "      <td>102.0</td>\n",
       "      <td>6.0</td>\n",
       "      <td>1.0</td>\n",
       "      <td>1.0</td>\n",
       "    </tr>\n",
       "    <tr>\n",
       "      <th>2</th>\n",
       "      <td>2500</td>\n",
       "      <td>2004</td>\n",
       "      <td>54.0</td>\n",
       "      <td>80000</td>\n",
       "      <td>4</td>\n",
       "      <td>12</td>\n",
       "      <td>5.0</td>\n",
       "      <td>1.0</td>\n",
       "      <td>9.0</td>\n",
       "      <td>169.0</td>\n",
       "      <td>6.0</td>\n",
       "      <td>0.0</td>\n",
       "      <td>1.0</td>\n",
       "    </tr>\n",
       "    <tr>\n",
       "      <th>3</th>\n",
       "      <td>1800</td>\n",
       "      <td>2001</td>\n",
       "      <td>125.0</td>\n",
       "      <td>150000</td>\n",
       "      <td>10</td>\n",
       "      <td>15</td>\n",
       "      <td>5.0</td>\n",
       "      <td>1.0</td>\n",
       "      <td>24.0</td>\n",
       "      <td>83.0</td>\n",
       "      <td>6.0</td>\n",
       "      <td>0.0</td>\n",
       "      <td>1.0</td>\n",
       "    </tr>\n",
       "    <tr>\n",
       "      <th>4</th>\n",
       "      <td>18300</td>\n",
       "      <td>2007</td>\n",
       "      <td>426.0</td>\n",
       "      <td>100000</td>\n",
       "      <td>4</td>\n",
       "      <td>9</td>\n",
       "      <td>6.0</td>\n",
       "      <td>0.0</td>\n",
       "      <td>14.0</td>\n",
       "      <td>117.0</td>\n",
       "      <td>6.0</td>\n",
       "      <td>0.0</td>\n",
       "      <td>1.0</td>\n",
       "    </tr>\n",
       "  </tbody>\n",
       "</table>\n",
       "</div>"
      ],
      "text/plain": [
       "   price  registration_year  power  kilometer  registration_month  car_age  \\\n",
       "0    480               1993    0.0     150000                   0       23   \n",
       "1    250               1999   60.0     150000                   7       17   \n",
       "2   2500               2004   54.0      80000                   4       12   \n",
       "3   1800               2001  125.0     150000                  10       15   \n",
       "4  18300               2007  426.0     100000                   4        9   \n",
       "\n",
       "   vehicle_type  gearbox  brand  model  fuel_type  not_repaired  region  \n",
       "0           4.0      1.0   38.0  116.0        6.0           0.0     1.0  \n",
       "1           5.0      1.0   10.0  102.0        6.0           1.0     1.0  \n",
       "2           5.0      1.0    9.0  169.0        6.0           0.0     1.0  \n",
       "3           5.0      1.0   24.0   83.0        6.0           0.0     1.0  \n",
       "4           6.0      0.0   14.0  117.0        6.0           0.0     1.0  "
      ]
     },
     "execution_count": 58,
     "metadata": {},
     "output_type": "execute_result"
    }
   ],
   "source": [
    "df_analyse = df.drop(\n",
    "    ['vehicle_type', 'gearbox', 'brand', 'model', 'fuel_type', 'not_repaired', 'region',\n",
    "    'date_crawled', 'last_seen', 'date_created', 'postal_code', 'number_of_pictures'], axis=1).join(df_ordinal)\n",
    "df_analyse.head()"
   ]
  },
  {
   "cell_type": "markdown",
   "metadata": {},
   "source": [
    "Зададим значения признаков и целевой переменной:"
   ]
  },
  {
   "cell_type": "code",
   "execution_count": 59,
   "metadata": {},
   "outputs": [],
   "source": [
    "features = df_analyse.drop('price', axis=1)\n",
    "target = df_analyse['price']"
   ]
  },
  {
   "cell_type": "markdown",
   "metadata": {},
   "source": [
    "Разделим выборку на обучающую и тестовую:"
   ]
  },
  {
   "cell_type": "code",
   "execution_count": 60,
   "metadata": {},
   "outputs": [],
   "source": [
    "features_train, features_test, target_train, target_test = train_test_split(\n",
    "    features, target, test_size=0.25, random_state=12)"
   ]
  },
  {
   "cell_type": "code",
   "execution_count": 61,
   "metadata": {},
   "outputs": [
    {
     "data": {
      "text/html": [
       "<div>\n",
       "<style scoped>\n",
       "    .dataframe tbody tr th:only-of-type {\n",
       "        vertical-align: middle;\n",
       "    }\n",
       "\n",
       "    .dataframe tbody tr th {\n",
       "        vertical-align: top;\n",
       "    }\n",
       "\n",
       "    .dataframe thead th {\n",
       "        text-align: right;\n",
       "    }\n",
       "</style>\n",
       "<table border=\"1\" class=\"dataframe\">\n",
       "  <thead>\n",
       "    <tr style=\"text-align: right;\">\n",
       "      <th></th>\n",
       "      <th>registration_year</th>\n",
       "      <th>power</th>\n",
       "      <th>kilometer</th>\n",
       "      <th>registration_month</th>\n",
       "      <th>car_age</th>\n",
       "      <th>vehicle_type</th>\n",
       "      <th>gearbox</th>\n",
       "      <th>brand</th>\n",
       "      <th>model</th>\n",
       "      <th>fuel_type</th>\n",
       "      <th>not_repaired</th>\n",
       "      <th>region</th>\n",
       "    </tr>\n",
       "  </thead>\n",
       "  <tbody>\n",
       "    <tr>\n",
       "      <th>229527</th>\n",
       "      <td>1998</td>\n",
       "      <td>751.2</td>\n",
       "      <td>150000</td>\n",
       "      <td>6</td>\n",
       "      <td>18</td>\n",
       "      <td>1.0</td>\n",
       "      <td>1.0</td>\n",
       "      <td>38.0</td>\n",
       "      <td>116.0</td>\n",
       "      <td>6.0</td>\n",
       "      <td>0.0</td>\n",
       "      <td>1.0</td>\n",
       "    </tr>\n",
       "    <tr>\n",
       "      <th>84513</th>\n",
       "      <td>2000</td>\n",
       "      <td>163.0</td>\n",
       "      <td>150000</td>\n",
       "      <td>12</td>\n",
       "      <td>16</td>\n",
       "      <td>1.0</td>\n",
       "      <td>1.0</td>\n",
       "      <td>20.0</td>\n",
       "      <td>208.0</td>\n",
       "      <td>6.0</td>\n",
       "      <td>0.0</td>\n",
       "      <td>9.0</td>\n",
       "    </tr>\n",
       "    <tr>\n",
       "      <th>86700</th>\n",
       "      <td>2008</td>\n",
       "      <td>116.0</td>\n",
       "      <td>100000</td>\n",
       "      <td>7</td>\n",
       "      <td>8</td>\n",
       "      <td>1.0</td>\n",
       "      <td>1.0</td>\n",
       "      <td>21.0</td>\n",
       "      <td>80.0</td>\n",
       "      <td>6.0</td>\n",
       "      <td>0.0</td>\n",
       "      <td>11.0</td>\n",
       "    </tr>\n",
       "    <tr>\n",
       "      <th>42625</th>\n",
       "      <td>2000</td>\n",
       "      <td>90.0</td>\n",
       "      <td>150000</td>\n",
       "      <td>10</td>\n",
       "      <td>16</td>\n",
       "      <td>5.0</td>\n",
       "      <td>1.0</td>\n",
       "      <td>24.0</td>\n",
       "      <td>83.0</td>\n",
       "      <td>6.0</td>\n",
       "      <td>0.0</td>\n",
       "      <td>1.0</td>\n",
       "    </tr>\n",
       "    <tr>\n",
       "      <th>119903</th>\n",
       "      <td>2010</td>\n",
       "      <td>125.0</td>\n",
       "      <td>60000</td>\n",
       "      <td>12</td>\n",
       "      <td>6</td>\n",
       "      <td>0.0</td>\n",
       "      <td>1.0</td>\n",
       "      <td>24.0</td>\n",
       "      <td>249.0</td>\n",
       "      <td>2.0</td>\n",
       "      <td>0.0</td>\n",
       "      <td>1.0</td>\n",
       "    </tr>\n",
       "  </tbody>\n",
       "</table>\n",
       "</div>"
      ],
      "text/plain": [
       "        registration_year  power  kilometer  registration_month  car_age  \\\n",
       "229527               1998  751.2     150000                   6       18   \n",
       "84513                2000  163.0     150000                  12       16   \n",
       "86700                2008  116.0     100000                   7        8   \n",
       "42625                2000   90.0     150000                  10       16   \n",
       "119903               2010  125.0      60000                  12        6   \n",
       "\n",
       "        vehicle_type  gearbox  brand  model  fuel_type  not_repaired  region  \n",
       "229527           1.0      1.0   38.0  116.0        6.0           0.0     1.0  \n",
       "84513            1.0      1.0   20.0  208.0        6.0           0.0     9.0  \n",
       "86700            1.0      1.0   21.0   80.0        6.0           0.0    11.0  \n",
       "42625            5.0      1.0   24.0   83.0        6.0           0.0     1.0  \n",
       "119903           0.0      1.0   24.0  249.0        2.0           0.0     1.0  "
      ]
     },
     "execution_count": 61,
     "metadata": {},
     "output_type": "execute_result"
    }
   ],
   "source": [
    "features_train.head()"
   ]
  },
  {
   "cell_type": "markdown",
   "metadata": {},
   "source": [
    "Проверим размеры выборок:"
   ]
  },
  {
   "cell_type": "code",
   "execution_count": 62,
   "metadata": {},
   "outputs": [
    {
     "data": {
      "text/plain": [
       "[(208215, 12), (69406, 12), (208215,), (69406,)]"
      ]
     },
     "execution_count": 62,
     "metadata": {},
     "output_type": "execute_result"
    }
   ],
   "source": [
    "[x.shape for x in [features_train, features_test, target_train, target_test]]"
   ]
  },
  {
   "cell_type": "markdown",
   "metadata": {},
   "source": [
    "У количественных признаков разный масштаб. Поэтому стандартизируем их с помощью StandardScaler."
   ]
  },
  {
   "cell_type": "code",
   "execution_count": 63,
   "metadata": {},
   "outputs": [
    {
     "data": {
      "text/html": [
       "<div>\n",
       "<style scoped>\n",
       "    .dataframe tbody tr th:only-of-type {\n",
       "        vertical-align: middle;\n",
       "    }\n",
       "\n",
       "    .dataframe tbody tr th {\n",
       "        vertical-align: top;\n",
       "    }\n",
       "\n",
       "    .dataframe thead th {\n",
       "        text-align: right;\n",
       "    }\n",
       "</style>\n",
       "<table border=\"1\" class=\"dataframe\">\n",
       "  <thead>\n",
       "    <tr style=\"text-align: right;\">\n",
       "      <th></th>\n",
       "      <th>registration_year</th>\n",
       "      <th>power</th>\n",
       "      <th>kilometer</th>\n",
       "      <th>registration_month</th>\n",
       "      <th>car_age</th>\n",
       "      <th>vehicle_type</th>\n",
       "      <th>gearbox</th>\n",
       "      <th>brand</th>\n",
       "      <th>model</th>\n",
       "      <th>fuel_type</th>\n",
       "      <th>not_repaired</th>\n",
       "      <th>region</th>\n",
       "    </tr>\n",
       "  </thead>\n",
       "  <tbody>\n",
       "    <tr>\n",
       "      <th>229527</th>\n",
       "      <td>-0.705787</td>\n",
       "      <td>10.179119</td>\n",
       "      <td>0.576756</td>\n",
       "      <td>0.050765</td>\n",
       "      <td>0.705796</td>\n",
       "      <td>1.0</td>\n",
       "      <td>1.0</td>\n",
       "      <td>38.0</td>\n",
       "      <td>116.0</td>\n",
       "      <td>6.0</td>\n",
       "      <td>0.0</td>\n",
       "      <td>1.0</td>\n",
       "    </tr>\n",
       "    <tr>\n",
       "      <th>84513</th>\n",
       "      <td>-0.430426</td>\n",
       "      <td>0.874753</td>\n",
       "      <td>0.576756</td>\n",
       "      <td>1.676372</td>\n",
       "      <td>0.430437</td>\n",
       "      <td>1.0</td>\n",
       "      <td>1.0</td>\n",
       "      <td>20.0</td>\n",
       "      <td>208.0</td>\n",
       "      <td>6.0</td>\n",
       "      <td>0.0</td>\n",
       "      <td>9.0</td>\n",
       "    </tr>\n",
       "    <tr>\n",
       "      <th>86700</th>\n",
       "      <td>0.671015</td>\n",
       "      <td>0.131289</td>\n",
       "      <td>-0.771228</td>\n",
       "      <td>0.321699</td>\n",
       "      <td>-0.671001</td>\n",
       "      <td>1.0</td>\n",
       "      <td>1.0</td>\n",
       "      <td>21.0</td>\n",
       "      <td>80.0</td>\n",
       "      <td>6.0</td>\n",
       "      <td>0.0</td>\n",
       "      <td>11.0</td>\n",
       "    </tr>\n",
       "    <tr>\n",
       "      <th>42625</th>\n",
       "      <td>-0.430426</td>\n",
       "      <td>-0.279988</td>\n",
       "      <td>0.576756</td>\n",
       "      <td>1.134503</td>\n",
       "      <td>0.430437</td>\n",
       "      <td>5.0</td>\n",
       "      <td>1.0</td>\n",
       "      <td>24.0</td>\n",
       "      <td>83.0</td>\n",
       "      <td>6.0</td>\n",
       "      <td>0.0</td>\n",
       "      <td>1.0</td>\n",
       "    </tr>\n",
       "    <tr>\n",
       "      <th>119903</th>\n",
       "      <td>0.946375</td>\n",
       "      <td>0.273655</td>\n",
       "      <td>-1.849616</td>\n",
       "      <td>1.676372</td>\n",
       "      <td>-0.946360</td>\n",
       "      <td>0.0</td>\n",
       "      <td>1.0</td>\n",
       "      <td>24.0</td>\n",
       "      <td>249.0</td>\n",
       "      <td>2.0</td>\n",
       "      <td>0.0</td>\n",
       "      <td>1.0</td>\n",
       "    </tr>\n",
       "  </tbody>\n",
       "</table>\n",
       "</div>"
      ],
      "text/plain": [
       "        registration_year      power  kilometer  registration_month   car_age  \\\n",
       "229527          -0.705787  10.179119   0.576756            0.050765  0.705796   \n",
       "84513           -0.430426   0.874753   0.576756            1.676372  0.430437   \n",
       "86700            0.671015   0.131289  -0.771228            0.321699 -0.671001   \n",
       "42625           -0.430426  -0.279988   0.576756            1.134503  0.430437   \n",
       "119903           0.946375   0.273655  -1.849616            1.676372 -0.946360   \n",
       "\n",
       "        vehicle_type  gearbox  brand  model  fuel_type  not_repaired  region  \n",
       "229527           1.0      1.0   38.0  116.0        6.0           0.0     1.0  \n",
       "84513            1.0      1.0   20.0  208.0        6.0           0.0     9.0  \n",
       "86700            1.0      1.0   21.0   80.0        6.0           0.0    11.0  \n",
       "42625            5.0      1.0   24.0   83.0        6.0           0.0     1.0  \n",
       "119903           0.0      1.0   24.0  249.0        2.0           0.0     1.0  "
      ]
     },
     "execution_count": 63,
     "metadata": {},
     "output_type": "execute_result"
    }
   ],
   "source": [
    "numeric = ['registration_year', 'power', 'kilometer', 'registration_month', 'car_age'] # список количественных признаков\n",
    "scaler = StandardScaler()\n",
    "scaler.fit(features_train[numeric])\n",
    "features_train[numeric]= scaler.transform(features_train[numeric])\n",
    "features_test[numeric]= scaler.transform(features_test[numeric])\n",
    "\n",
    "# первые 5 строк обучающей выборки после стандартизации\n",
    "features_train.head()"
   ]
  },
  {
   "cell_type": "markdown",
   "metadata": {},
   "source": [
    "Напишем функцию для определения RMSE - критерия качества моделей:"
   ]
  },
  {
   "cell_type": "code",
   "execution_count": 64,
   "metadata": {},
   "outputs": [],
   "source": [
    "def rmse(target, predict):\n",
    "    rmse = mean_squared_error(target, predict)**0.5\n",
    "    return rmse\n",
    "\n",
    "rmse_scorer = make_scorer(rmse, greater_is_better=False)"
   ]
  },
  {
   "cell_type": "markdown",
   "metadata": {},
   "source": [
    "*Вывод:* \n",
    "- переменные закодированы, \n",
    "- выборка разделена на обучающую и тестовую,\n",
    "- критерий качества моделей RMSE введен. \n",
    "\n",
    "Можно переходить к моделированию"
   ]
  },
  {
   "cell_type": "markdown",
   "metadata": {},
   "source": [
    "### 2.2. Линейная регрессия"
   ]
  },
  {
   "cell_type": "markdown",
   "metadata": {},
   "source": [
    "Используем ОНЕ-кодирование для категориальных признаков в линейной регрессии:"
   ]
  },
  {
   "cell_type": "code",
   "execution_count": 65,
   "metadata": {},
   "outputs": [
    {
     "data": {
      "text/html": [
       "<div>\n",
       "<style scoped>\n",
       "    .dataframe tbody tr th:only-of-type {\n",
       "        vertical-align: middle;\n",
       "    }\n",
       "\n",
       "    .dataframe tbody tr th {\n",
       "        vertical-align: top;\n",
       "    }\n",
       "\n",
       "    .dataframe thead th {\n",
       "        text-align: right;\n",
       "    }\n",
       "</style>\n",
       "<table border=\"1\" class=\"dataframe\">\n",
       "  <thead>\n",
       "    <tr style=\"text-align: right;\">\n",
       "      <th></th>\n",
       "      <th>registration_year</th>\n",
       "      <th>power</th>\n",
       "      <th>kilometer</th>\n",
       "      <th>registration_month</th>\n",
       "      <th>car_age</th>\n",
       "      <th>vehicle_type_1.0</th>\n",
       "      <th>vehicle_type_2.0</th>\n",
       "      <th>vehicle_type_3.0</th>\n",
       "      <th>vehicle_type_4.0</th>\n",
       "      <th>vehicle_type_5.0</th>\n",
       "      <th>vehicle_type_6.0</th>\n",
       "      <th>vehicle_type_7.0</th>\n",
       "      <th>gearbox_1.0</th>\n",
       "      <th>brand_1.0</th>\n",
       "      <th>brand_2.0</th>\n",
       "      <th>brand_3.0</th>\n",
       "      <th>brand_4.0</th>\n",
       "      <th>brand_5.0</th>\n",
       "      <th>brand_6.0</th>\n",
       "      <th>brand_7.0</th>\n",
       "      <th>brand_8.0</th>\n",
       "      <th>brand_9.0</th>\n",
       "      <th>brand_10.0</th>\n",
       "      <th>brand_11.0</th>\n",
       "      <th>brand_12.0</th>\n",
       "      <th>...</th>\n",
       "      <th>model_247.0</th>\n",
       "      <th>model_248.0</th>\n",
       "      <th>model_249.0</th>\n",
       "      <th>fuel_type_1.0</th>\n",
       "      <th>fuel_type_2.0</th>\n",
       "      <th>fuel_type_3.0</th>\n",
       "      <th>fuel_type_4.0</th>\n",
       "      <th>fuel_type_5.0</th>\n",
       "      <th>fuel_type_6.0</th>\n",
       "      <th>not_repaired_1.0</th>\n",
       "      <th>region_1.0</th>\n",
       "      <th>region_2.0</th>\n",
       "      <th>region_3.0</th>\n",
       "      <th>region_4.0</th>\n",
       "      <th>region_5.0</th>\n",
       "      <th>region_6.0</th>\n",
       "      <th>region_7.0</th>\n",
       "      <th>region_8.0</th>\n",
       "      <th>region_9.0</th>\n",
       "      <th>region_10.0</th>\n",
       "      <th>region_11.0</th>\n",
       "      <th>region_12.0</th>\n",
       "      <th>region_13.0</th>\n",
       "      <th>region_14.0</th>\n",
       "      <th>region_15.0</th>\n",
       "    </tr>\n",
       "  </thead>\n",
       "  <tbody>\n",
       "    <tr>\n",
       "      <th>229527</th>\n",
       "      <td>-0.705787</td>\n",
       "      <td>10.179119</td>\n",
       "      <td>0.576756</td>\n",
       "      <td>0.050765</td>\n",
       "      <td>0.705796</td>\n",
       "      <td>1</td>\n",
       "      <td>0</td>\n",
       "      <td>0</td>\n",
       "      <td>0</td>\n",
       "      <td>0</td>\n",
       "      <td>0</td>\n",
       "      <td>0</td>\n",
       "      <td>1</td>\n",
       "      <td>0</td>\n",
       "      <td>0</td>\n",
       "      <td>0</td>\n",
       "      <td>0</td>\n",
       "      <td>0</td>\n",
       "      <td>0</td>\n",
       "      <td>0</td>\n",
       "      <td>0</td>\n",
       "      <td>0</td>\n",
       "      <td>0</td>\n",
       "      <td>0</td>\n",
       "      <td>0</td>\n",
       "      <td>...</td>\n",
       "      <td>0</td>\n",
       "      <td>0</td>\n",
       "      <td>0</td>\n",
       "      <td>0</td>\n",
       "      <td>0</td>\n",
       "      <td>0</td>\n",
       "      <td>0</td>\n",
       "      <td>0</td>\n",
       "      <td>1</td>\n",
       "      <td>0</td>\n",
       "      <td>1</td>\n",
       "      <td>0</td>\n",
       "      <td>0</td>\n",
       "      <td>0</td>\n",
       "      <td>0</td>\n",
       "      <td>0</td>\n",
       "      <td>0</td>\n",
       "      <td>0</td>\n",
       "      <td>0</td>\n",
       "      <td>0</td>\n",
       "      <td>0</td>\n",
       "      <td>0</td>\n",
       "      <td>0</td>\n",
       "      <td>0</td>\n",
       "      <td>0</td>\n",
       "    </tr>\n",
       "    <tr>\n",
       "      <th>84513</th>\n",
       "      <td>-0.430426</td>\n",
       "      <td>0.874753</td>\n",
       "      <td>0.576756</td>\n",
       "      <td>1.676372</td>\n",
       "      <td>0.430437</td>\n",
       "      <td>1</td>\n",
       "      <td>0</td>\n",
       "      <td>0</td>\n",
       "      <td>0</td>\n",
       "      <td>0</td>\n",
       "      <td>0</td>\n",
       "      <td>0</td>\n",
       "      <td>1</td>\n",
       "      <td>0</td>\n",
       "      <td>0</td>\n",
       "      <td>0</td>\n",
       "      <td>0</td>\n",
       "      <td>0</td>\n",
       "      <td>0</td>\n",
       "      <td>0</td>\n",
       "      <td>0</td>\n",
       "      <td>0</td>\n",
       "      <td>0</td>\n",
       "      <td>0</td>\n",
       "      <td>0</td>\n",
       "      <td>...</td>\n",
       "      <td>0</td>\n",
       "      <td>0</td>\n",
       "      <td>0</td>\n",
       "      <td>0</td>\n",
       "      <td>0</td>\n",
       "      <td>0</td>\n",
       "      <td>0</td>\n",
       "      <td>0</td>\n",
       "      <td>1</td>\n",
       "      <td>0</td>\n",
       "      <td>0</td>\n",
       "      <td>0</td>\n",
       "      <td>0</td>\n",
       "      <td>0</td>\n",
       "      <td>0</td>\n",
       "      <td>0</td>\n",
       "      <td>0</td>\n",
       "      <td>0</td>\n",
       "      <td>1</td>\n",
       "      <td>0</td>\n",
       "      <td>0</td>\n",
       "      <td>0</td>\n",
       "      <td>0</td>\n",
       "      <td>0</td>\n",
       "      <td>0</td>\n",
       "    </tr>\n",
       "    <tr>\n",
       "      <th>86700</th>\n",
       "      <td>0.671015</td>\n",
       "      <td>0.131289</td>\n",
       "      <td>-0.771228</td>\n",
       "      <td>0.321699</td>\n",
       "      <td>-0.671001</td>\n",
       "      <td>1</td>\n",
       "      <td>0</td>\n",
       "      <td>0</td>\n",
       "      <td>0</td>\n",
       "      <td>0</td>\n",
       "      <td>0</td>\n",
       "      <td>0</td>\n",
       "      <td>1</td>\n",
       "      <td>0</td>\n",
       "      <td>0</td>\n",
       "      <td>0</td>\n",
       "      <td>0</td>\n",
       "      <td>0</td>\n",
       "      <td>0</td>\n",
       "      <td>0</td>\n",
       "      <td>0</td>\n",
       "      <td>0</td>\n",
       "      <td>0</td>\n",
       "      <td>0</td>\n",
       "      <td>0</td>\n",
       "      <td>...</td>\n",
       "      <td>0</td>\n",
       "      <td>0</td>\n",
       "      <td>0</td>\n",
       "      <td>0</td>\n",
       "      <td>0</td>\n",
       "      <td>0</td>\n",
       "      <td>0</td>\n",
       "      <td>0</td>\n",
       "      <td>1</td>\n",
       "      <td>0</td>\n",
       "      <td>0</td>\n",
       "      <td>0</td>\n",
       "      <td>0</td>\n",
       "      <td>0</td>\n",
       "      <td>0</td>\n",
       "      <td>0</td>\n",
       "      <td>0</td>\n",
       "      <td>0</td>\n",
       "      <td>0</td>\n",
       "      <td>0</td>\n",
       "      <td>1</td>\n",
       "      <td>0</td>\n",
       "      <td>0</td>\n",
       "      <td>0</td>\n",
       "      <td>0</td>\n",
       "    </tr>\n",
       "    <tr>\n",
       "      <th>42625</th>\n",
       "      <td>-0.430426</td>\n",
       "      <td>-0.279988</td>\n",
       "      <td>0.576756</td>\n",
       "      <td>1.134503</td>\n",
       "      <td>0.430437</td>\n",
       "      <td>0</td>\n",
       "      <td>0</td>\n",
       "      <td>0</td>\n",
       "      <td>0</td>\n",
       "      <td>1</td>\n",
       "      <td>0</td>\n",
       "      <td>0</td>\n",
       "      <td>1</td>\n",
       "      <td>0</td>\n",
       "      <td>0</td>\n",
       "      <td>0</td>\n",
       "      <td>0</td>\n",
       "      <td>0</td>\n",
       "      <td>0</td>\n",
       "      <td>0</td>\n",
       "      <td>0</td>\n",
       "      <td>0</td>\n",
       "      <td>0</td>\n",
       "      <td>0</td>\n",
       "      <td>0</td>\n",
       "      <td>...</td>\n",
       "      <td>0</td>\n",
       "      <td>0</td>\n",
       "      <td>0</td>\n",
       "      <td>0</td>\n",
       "      <td>0</td>\n",
       "      <td>0</td>\n",
       "      <td>0</td>\n",
       "      <td>0</td>\n",
       "      <td>1</td>\n",
       "      <td>0</td>\n",
       "      <td>1</td>\n",
       "      <td>0</td>\n",
       "      <td>0</td>\n",
       "      <td>0</td>\n",
       "      <td>0</td>\n",
       "      <td>0</td>\n",
       "      <td>0</td>\n",
       "      <td>0</td>\n",
       "      <td>0</td>\n",
       "      <td>0</td>\n",
       "      <td>0</td>\n",
       "      <td>0</td>\n",
       "      <td>0</td>\n",
       "      <td>0</td>\n",
       "      <td>0</td>\n",
       "    </tr>\n",
       "    <tr>\n",
       "      <th>119903</th>\n",
       "      <td>0.946375</td>\n",
       "      <td>0.273655</td>\n",
       "      <td>-1.849616</td>\n",
       "      <td>1.676372</td>\n",
       "      <td>-0.946360</td>\n",
       "      <td>0</td>\n",
       "      <td>0</td>\n",
       "      <td>0</td>\n",
       "      <td>0</td>\n",
       "      <td>0</td>\n",
       "      <td>0</td>\n",
       "      <td>0</td>\n",
       "      <td>1</td>\n",
       "      <td>0</td>\n",
       "      <td>0</td>\n",
       "      <td>0</td>\n",
       "      <td>0</td>\n",
       "      <td>0</td>\n",
       "      <td>0</td>\n",
       "      <td>0</td>\n",
       "      <td>0</td>\n",
       "      <td>0</td>\n",
       "      <td>0</td>\n",
       "      <td>0</td>\n",
       "      <td>0</td>\n",
       "      <td>...</td>\n",
       "      <td>0</td>\n",
       "      <td>0</td>\n",
       "      <td>1</td>\n",
       "      <td>0</td>\n",
       "      <td>1</td>\n",
       "      <td>0</td>\n",
       "      <td>0</td>\n",
       "      <td>0</td>\n",
       "      <td>0</td>\n",
       "      <td>0</td>\n",
       "      <td>1</td>\n",
       "      <td>0</td>\n",
       "      <td>0</td>\n",
       "      <td>0</td>\n",
       "      <td>0</td>\n",
       "      <td>0</td>\n",
       "      <td>0</td>\n",
       "      <td>0</td>\n",
       "      <td>0</td>\n",
       "      <td>0</td>\n",
       "      <td>0</td>\n",
       "      <td>0</td>\n",
       "      <td>0</td>\n",
       "      <td>0</td>\n",
       "      <td>0</td>\n",
       "    </tr>\n",
       "  </tbody>\n",
       "</table>\n",
       "<p>5 rows × 323 columns</p>\n",
       "</div>"
      ],
      "text/plain": [
       "        registration_year      power  kilometer  registration_month   car_age  \\\n",
       "229527          -0.705787  10.179119   0.576756            0.050765  0.705796   \n",
       "84513           -0.430426   0.874753   0.576756            1.676372  0.430437   \n",
       "86700            0.671015   0.131289  -0.771228            0.321699 -0.671001   \n",
       "42625           -0.430426  -0.279988   0.576756            1.134503  0.430437   \n",
       "119903           0.946375   0.273655  -1.849616            1.676372 -0.946360   \n",
       "\n",
       "        vehicle_type_1.0  vehicle_type_2.0  vehicle_type_3.0  \\\n",
       "229527                 1                 0                 0   \n",
       "84513                  1                 0                 0   \n",
       "86700                  1                 0                 0   \n",
       "42625                  0                 0                 0   \n",
       "119903                 0                 0                 0   \n",
       "\n",
       "        vehicle_type_4.0  vehicle_type_5.0  vehicle_type_6.0  \\\n",
       "229527                 0                 0                 0   \n",
       "84513                  0                 0                 0   \n",
       "86700                  0                 0                 0   \n",
       "42625                  0                 1                 0   \n",
       "119903                 0                 0                 0   \n",
       "\n",
       "        vehicle_type_7.0  gearbox_1.0  brand_1.0  brand_2.0  brand_3.0  \\\n",
       "229527                 0            1          0          0          0   \n",
       "84513                  0            1          0          0          0   \n",
       "86700                  0            1          0          0          0   \n",
       "42625                  0            1          0          0          0   \n",
       "119903                 0            1          0          0          0   \n",
       "\n",
       "        brand_4.0  brand_5.0  brand_6.0  brand_7.0  brand_8.0  brand_9.0  \\\n",
       "229527          0          0          0          0          0          0   \n",
       "84513           0          0          0          0          0          0   \n",
       "86700           0          0          0          0          0          0   \n",
       "42625           0          0          0          0          0          0   \n",
       "119903          0          0          0          0          0          0   \n",
       "\n",
       "        brand_10.0  brand_11.0  brand_12.0  ...  model_247.0  model_248.0  \\\n",
       "229527           0           0           0  ...            0            0   \n",
       "84513            0           0           0  ...            0            0   \n",
       "86700            0           0           0  ...            0            0   \n",
       "42625            0           0           0  ...            0            0   \n",
       "119903           0           0           0  ...            0            0   \n",
       "\n",
       "        model_249.0  fuel_type_1.0  fuel_type_2.0  fuel_type_3.0  \\\n",
       "229527            0              0              0              0   \n",
       "84513             0              0              0              0   \n",
       "86700             0              0              0              0   \n",
       "42625             0              0              0              0   \n",
       "119903            1              0              1              0   \n",
       "\n",
       "        fuel_type_4.0  fuel_type_5.0  fuel_type_6.0  not_repaired_1.0  \\\n",
       "229527              0              0              1                 0   \n",
       "84513               0              0              1                 0   \n",
       "86700               0              0              1                 0   \n",
       "42625               0              0              1                 0   \n",
       "119903              0              0              0                 0   \n",
       "\n",
       "        region_1.0  region_2.0  region_3.0  region_4.0  region_5.0  \\\n",
       "229527           1           0           0           0           0   \n",
       "84513            0           0           0           0           0   \n",
       "86700            0           0           0           0           0   \n",
       "42625            1           0           0           0           0   \n",
       "119903           1           0           0           0           0   \n",
       "\n",
       "        region_6.0  region_7.0  region_8.0  region_9.0  region_10.0  \\\n",
       "229527           0           0           0           0            0   \n",
       "84513            0           0           0           1            0   \n",
       "86700            0           0           0           0            0   \n",
       "42625            0           0           0           0            0   \n",
       "119903           0           0           0           0            0   \n",
       "\n",
       "        region_11.0  region_12.0  region_13.0  region_14.0  region_15.0  \n",
       "229527            0            0            0            0            0  \n",
       "84513             0            0            0            0            0  \n",
       "86700             1            0            0            0            0  \n",
       "42625             0            0            0            0            0  \n",
       "119903            0            0            0            0            0  \n",
       "\n",
       "[5 rows x 323 columns]"
      ]
     },
     "execution_count": 65,
     "metadata": {},
     "output_type": "execute_result"
    }
   ],
   "source": [
    "features_train_lr = pd.get_dummies(features_train, drop_first=True,\n",
    "                               columns = ['vehicle_type', 'gearbox', 'brand', 'model', 'fuel_type','not_repaired', 'region'])\n",
    "features_train_lr.head()"
   ]
  },
  {
   "cell_type": "code",
   "execution_count": 66,
   "metadata": {},
   "outputs": [
    {
     "data": {
      "text/html": [
       "<div>\n",
       "<style scoped>\n",
       "    .dataframe tbody tr th:only-of-type {\n",
       "        vertical-align: middle;\n",
       "    }\n",
       "\n",
       "    .dataframe tbody tr th {\n",
       "        vertical-align: top;\n",
       "    }\n",
       "\n",
       "    .dataframe thead th {\n",
       "        text-align: right;\n",
       "    }\n",
       "</style>\n",
       "<table border=\"1\" class=\"dataframe\">\n",
       "  <thead>\n",
       "    <tr style=\"text-align: right;\">\n",
       "      <th></th>\n",
       "      <th>registration_year</th>\n",
       "      <th>power</th>\n",
       "      <th>kilometer</th>\n",
       "      <th>registration_month</th>\n",
       "      <th>car_age</th>\n",
       "      <th>vehicle_type_1.0</th>\n",
       "      <th>vehicle_type_2.0</th>\n",
       "      <th>vehicle_type_3.0</th>\n",
       "      <th>vehicle_type_4.0</th>\n",
       "      <th>vehicle_type_5.0</th>\n",
       "      <th>vehicle_type_6.0</th>\n",
       "      <th>vehicle_type_7.0</th>\n",
       "      <th>gearbox_1.0</th>\n",
       "      <th>brand_1.0</th>\n",
       "      <th>brand_2.0</th>\n",
       "      <th>brand_3.0</th>\n",
       "      <th>brand_4.0</th>\n",
       "      <th>brand_5.0</th>\n",
       "      <th>brand_6.0</th>\n",
       "      <th>brand_7.0</th>\n",
       "      <th>brand_8.0</th>\n",
       "      <th>brand_9.0</th>\n",
       "      <th>brand_10.0</th>\n",
       "      <th>brand_11.0</th>\n",
       "      <th>brand_12.0</th>\n",
       "      <th>...</th>\n",
       "      <th>model_247.0</th>\n",
       "      <th>model_248.0</th>\n",
       "      <th>model_249.0</th>\n",
       "      <th>fuel_type_1.0</th>\n",
       "      <th>fuel_type_2.0</th>\n",
       "      <th>fuel_type_3.0</th>\n",
       "      <th>fuel_type_4.0</th>\n",
       "      <th>fuel_type_5.0</th>\n",
       "      <th>fuel_type_6.0</th>\n",
       "      <th>not_repaired_1.0</th>\n",
       "      <th>region_1.0</th>\n",
       "      <th>region_2.0</th>\n",
       "      <th>region_3.0</th>\n",
       "      <th>region_4.0</th>\n",
       "      <th>region_5.0</th>\n",
       "      <th>region_6.0</th>\n",
       "      <th>region_7.0</th>\n",
       "      <th>region_8.0</th>\n",
       "      <th>region_9.0</th>\n",
       "      <th>region_10.0</th>\n",
       "      <th>region_11.0</th>\n",
       "      <th>region_12.0</th>\n",
       "      <th>region_13.0</th>\n",
       "      <th>region_14.0</th>\n",
       "      <th>region_15.0</th>\n",
       "    </tr>\n",
       "  </thead>\n",
       "  <tbody>\n",
       "    <tr>\n",
       "      <th>173483</th>\n",
       "      <td>-2.082588</td>\n",
       "      <td>3.832788</td>\n",
       "      <td>-3.197600</td>\n",
       "      <td>-0.220170</td>\n",
       "      <td>2.082594</td>\n",
       "      <td>0</td>\n",
       "      <td>0</td>\n",
       "      <td>0</td>\n",
       "      <td>1</td>\n",
       "      <td>0</td>\n",
       "      <td>0</td>\n",
       "      <td>0</td>\n",
       "      <td>1</td>\n",
       "      <td>0</td>\n",
       "      <td>0</td>\n",
       "      <td>0</td>\n",
       "      <td>0</td>\n",
       "      <td>0</td>\n",
       "      <td>0</td>\n",
       "      <td>0</td>\n",
       "      <td>0</td>\n",
       "      <td>0</td>\n",
       "      <td>0</td>\n",
       "      <td>0</td>\n",
       "      <td>0</td>\n",
       "      <td>...</td>\n",
       "      <td>0</td>\n",
       "      <td>0</td>\n",
       "      <td>0</td>\n",
       "      <td>0</td>\n",
       "      <td>0</td>\n",
       "      <td>0</td>\n",
       "      <td>0</td>\n",
       "      <td>0</td>\n",
       "      <td>1</td>\n",
       "      <td>0</td>\n",
       "      <td>0</td>\n",
       "      <td>0</td>\n",
       "      <td>0</td>\n",
       "      <td>0</td>\n",
       "      <td>0</td>\n",
       "      <td>0</td>\n",
       "      <td>0</td>\n",
       "      <td>0</td>\n",
       "      <td>0</td>\n",
       "      <td>0</td>\n",
       "      <td>0</td>\n",
       "      <td>0</td>\n",
       "      <td>1</td>\n",
       "      <td>0</td>\n",
       "      <td>0</td>\n",
       "    </tr>\n",
       "    <tr>\n",
       "      <th>44686</th>\n",
       "      <td>-0.843467</td>\n",
       "      <td>-0.517264</td>\n",
       "      <td>0.576756</td>\n",
       "      <td>-0.762039</td>\n",
       "      <td>0.843476</td>\n",
       "      <td>0</td>\n",
       "      <td>0</td>\n",
       "      <td>0</td>\n",
       "      <td>1</td>\n",
       "      <td>0</td>\n",
       "      <td>0</td>\n",
       "      <td>0</td>\n",
       "      <td>1</td>\n",
       "      <td>0</td>\n",
       "      <td>0</td>\n",
       "      <td>0</td>\n",
       "      <td>0</td>\n",
       "      <td>0</td>\n",
       "      <td>0</td>\n",
       "      <td>0</td>\n",
       "      <td>0</td>\n",
       "      <td>0</td>\n",
       "      <td>0</td>\n",
       "      <td>0</td>\n",
       "      <td>0</td>\n",
       "      <td>...</td>\n",
       "      <td>0</td>\n",
       "      <td>0</td>\n",
       "      <td>0</td>\n",
       "      <td>0</td>\n",
       "      <td>0</td>\n",
       "      <td>0</td>\n",
       "      <td>0</td>\n",
       "      <td>0</td>\n",
       "      <td>1</td>\n",
       "      <td>1</td>\n",
       "      <td>0</td>\n",
       "      <td>1</td>\n",
       "      <td>0</td>\n",
       "      <td>0</td>\n",
       "      <td>0</td>\n",
       "      <td>0</td>\n",
       "      <td>0</td>\n",
       "      <td>0</td>\n",
       "      <td>0</td>\n",
       "      <td>0</td>\n",
       "      <td>0</td>\n",
       "      <td>0</td>\n",
       "      <td>0</td>\n",
       "      <td>0</td>\n",
       "      <td>0</td>\n",
       "    </tr>\n",
       "    <tr>\n",
       "      <th>255519</th>\n",
       "      <td>-0.705787</td>\n",
       "      <td>-0.517264</td>\n",
       "      <td>0.576756</td>\n",
       "      <td>-0.491105</td>\n",
       "      <td>0.705796</td>\n",
       "      <td>0</td>\n",
       "      <td>0</td>\n",
       "      <td>0</td>\n",
       "      <td>0</td>\n",
       "      <td>0</td>\n",
       "      <td>0</td>\n",
       "      <td>1</td>\n",
       "      <td>1</td>\n",
       "      <td>0</td>\n",
       "      <td>0</td>\n",
       "      <td>0</td>\n",
       "      <td>0</td>\n",
       "      <td>0</td>\n",
       "      <td>0</td>\n",
       "      <td>0</td>\n",
       "      <td>0</td>\n",
       "      <td>0</td>\n",
       "      <td>0</td>\n",
       "      <td>0</td>\n",
       "      <td>0</td>\n",
       "      <td>...</td>\n",
       "      <td>0</td>\n",
       "      <td>0</td>\n",
       "      <td>0</td>\n",
       "      <td>0</td>\n",
       "      <td>0</td>\n",
       "      <td>0</td>\n",
       "      <td>0</td>\n",
       "      <td>0</td>\n",
       "      <td>1</td>\n",
       "      <td>0</td>\n",
       "      <td>1</td>\n",
       "      <td>0</td>\n",
       "      <td>0</td>\n",
       "      <td>0</td>\n",
       "      <td>0</td>\n",
       "      <td>0</td>\n",
       "      <td>0</td>\n",
       "      <td>0</td>\n",
       "      <td>0</td>\n",
       "      <td>0</td>\n",
       "      <td>0</td>\n",
       "      <td>0</td>\n",
       "      <td>0</td>\n",
       "      <td>0</td>\n",
       "      <td>0</td>\n",
       "    </tr>\n",
       "    <tr>\n",
       "      <th>167883</th>\n",
       "      <td>0.671015</td>\n",
       "      <td>-0.042713</td>\n",
       "      <td>-0.771228</td>\n",
       "      <td>1.405438</td>\n",
       "      <td>-0.671001</td>\n",
       "      <td>0</td>\n",
       "      <td>0</td>\n",
       "      <td>0</td>\n",
       "      <td>1</td>\n",
       "      <td>0</td>\n",
       "      <td>0</td>\n",
       "      <td>0</td>\n",
       "      <td>1</td>\n",
       "      <td>1</td>\n",
       "      <td>0</td>\n",
       "      <td>0</td>\n",
       "      <td>0</td>\n",
       "      <td>0</td>\n",
       "      <td>0</td>\n",
       "      <td>0</td>\n",
       "      <td>0</td>\n",
       "      <td>0</td>\n",
       "      <td>0</td>\n",
       "      <td>0</td>\n",
       "      <td>0</td>\n",
       "      <td>...</td>\n",
       "      <td>0</td>\n",
       "      <td>0</td>\n",
       "      <td>0</td>\n",
       "      <td>0</td>\n",
       "      <td>1</td>\n",
       "      <td>0</td>\n",
       "      <td>0</td>\n",
       "      <td>0</td>\n",
       "      <td>0</td>\n",
       "      <td>0</td>\n",
       "      <td>0</td>\n",
       "      <td>0</td>\n",
       "      <td>0</td>\n",
       "      <td>0</td>\n",
       "      <td>0</td>\n",
       "      <td>0</td>\n",
       "      <td>0</td>\n",
       "      <td>0</td>\n",
       "      <td>0</td>\n",
       "      <td>0</td>\n",
       "      <td>0</td>\n",
       "      <td>0</td>\n",
       "      <td>1</td>\n",
       "      <td>0</td>\n",
       "      <td>0</td>\n",
       "    </tr>\n",
       "    <tr>\n",
       "      <th>77298</th>\n",
       "      <td>0.257974</td>\n",
       "      <td>-0.042713</td>\n",
       "      <td>0.576756</td>\n",
       "      <td>1.405438</td>\n",
       "      <td>-0.257962</td>\n",
       "      <td>0</td>\n",
       "      <td>0</td>\n",
       "      <td>0</td>\n",
       "      <td>0</td>\n",
       "      <td>0</td>\n",
       "      <td>0</td>\n",
       "      <td>1</td>\n",
       "      <td>1</td>\n",
       "      <td>0</td>\n",
       "      <td>0</td>\n",
       "      <td>0</td>\n",
       "      <td>0</td>\n",
       "      <td>0</td>\n",
       "      <td>0</td>\n",
       "      <td>0</td>\n",
       "      <td>0</td>\n",
       "      <td>0</td>\n",
       "      <td>0</td>\n",
       "      <td>0</td>\n",
       "      <td>0</td>\n",
       "      <td>...</td>\n",
       "      <td>0</td>\n",
       "      <td>0</td>\n",
       "      <td>0</td>\n",
       "      <td>0</td>\n",
       "      <td>1</td>\n",
       "      <td>0</td>\n",
       "      <td>0</td>\n",
       "      <td>0</td>\n",
       "      <td>0</td>\n",
       "      <td>0</td>\n",
       "      <td>0</td>\n",
       "      <td>0</td>\n",
       "      <td>0</td>\n",
       "      <td>0</td>\n",
       "      <td>0</td>\n",
       "      <td>0</td>\n",
       "      <td>0</td>\n",
       "      <td>0</td>\n",
       "      <td>0</td>\n",
       "      <td>0</td>\n",
       "      <td>0</td>\n",
       "      <td>0</td>\n",
       "      <td>1</td>\n",
       "      <td>0</td>\n",
       "      <td>0</td>\n",
       "    </tr>\n",
       "  </tbody>\n",
       "</table>\n",
       "<p>5 rows × 320 columns</p>\n",
       "</div>"
      ],
      "text/plain": [
       "        registration_year     power  kilometer  registration_month   car_age  \\\n",
       "173483          -2.082588  3.832788  -3.197600           -0.220170  2.082594   \n",
       "44686           -0.843467 -0.517264   0.576756           -0.762039  0.843476   \n",
       "255519          -0.705787 -0.517264   0.576756           -0.491105  0.705796   \n",
       "167883           0.671015 -0.042713  -0.771228            1.405438 -0.671001   \n",
       "77298            0.257974 -0.042713   0.576756            1.405438 -0.257962   \n",
       "\n",
       "        vehicle_type_1.0  vehicle_type_2.0  vehicle_type_3.0  \\\n",
       "173483                 0                 0                 0   \n",
       "44686                  0                 0                 0   \n",
       "255519                 0                 0                 0   \n",
       "167883                 0                 0                 0   \n",
       "77298                  0                 0                 0   \n",
       "\n",
       "        vehicle_type_4.0  vehicle_type_5.0  vehicle_type_6.0  \\\n",
       "173483                 1                 0                 0   \n",
       "44686                  1                 0                 0   \n",
       "255519                 0                 0                 0   \n",
       "167883                 1                 0                 0   \n",
       "77298                  0                 0                 0   \n",
       "\n",
       "        vehicle_type_7.0  gearbox_1.0  brand_1.0  brand_2.0  brand_3.0  \\\n",
       "173483                 0            1          0          0          0   \n",
       "44686                  0            1          0          0          0   \n",
       "255519                 1            1          0          0          0   \n",
       "167883                 0            1          1          0          0   \n",
       "77298                  1            1          0          0          0   \n",
       "\n",
       "        brand_4.0  brand_5.0  brand_6.0  brand_7.0  brand_8.0  brand_9.0  \\\n",
       "173483          0          0          0          0          0          0   \n",
       "44686           0          0          0          0          0          0   \n",
       "255519          0          0          0          0          0          0   \n",
       "167883          0          0          0          0          0          0   \n",
       "77298           0          0          0          0          0          0   \n",
       "\n",
       "        brand_10.0  brand_11.0  brand_12.0  ...  model_247.0  model_248.0  \\\n",
       "173483           0           0           0  ...            0            0   \n",
       "44686            0           0           0  ...            0            0   \n",
       "255519           0           0           0  ...            0            0   \n",
       "167883           0           0           0  ...            0            0   \n",
       "77298            0           0           0  ...            0            0   \n",
       "\n",
       "        model_249.0  fuel_type_1.0  fuel_type_2.0  fuel_type_3.0  \\\n",
       "173483            0              0              0              0   \n",
       "44686             0              0              0              0   \n",
       "255519            0              0              0              0   \n",
       "167883            0              0              1              0   \n",
       "77298             0              0              1              0   \n",
       "\n",
       "        fuel_type_4.0  fuel_type_5.0  fuel_type_6.0  not_repaired_1.0  \\\n",
       "173483              0              0              1                 0   \n",
       "44686               0              0              1                 1   \n",
       "255519              0              0              1                 0   \n",
       "167883              0              0              0                 0   \n",
       "77298               0              0              0                 0   \n",
       "\n",
       "        region_1.0  region_2.0  region_3.0  region_4.0  region_5.0  \\\n",
       "173483           0           0           0           0           0   \n",
       "44686            0           1           0           0           0   \n",
       "255519           1           0           0           0           0   \n",
       "167883           0           0           0           0           0   \n",
       "77298            0           0           0           0           0   \n",
       "\n",
       "        region_6.0  region_7.0  region_8.0  region_9.0  region_10.0  \\\n",
       "173483           0           0           0           0            0   \n",
       "44686            0           0           0           0            0   \n",
       "255519           0           0           0           0            0   \n",
       "167883           0           0           0           0            0   \n",
       "77298            0           0           0           0            0   \n",
       "\n",
       "        region_11.0  region_12.0  region_13.0  region_14.0  region_15.0  \n",
       "173483            0            0            1            0            0  \n",
       "44686             0            0            0            0            0  \n",
       "255519            0            0            0            0            0  \n",
       "167883            0            0            1            0            0  \n",
       "77298             0            0            1            0            0  \n",
       "\n",
       "[5 rows x 320 columns]"
      ]
     },
     "execution_count": 66,
     "metadata": {},
     "output_type": "execute_result"
    }
   ],
   "source": [
    "features_test_lr = pd.get_dummies(features_test, drop_first=True,\n",
    "                               columns = ['vehicle_type', 'gearbox', 'brand', 'model', 'fuel_type','not_repaired', 'region'])\n",
    "features_test_lr.head()"
   ]
  },
  {
   "cell_type": "markdown",
   "metadata": {},
   "source": [
    "Оставим в обучающей выборке только те столбцы, что есть в тестовой:"
   ]
  },
  {
   "cell_type": "code",
   "execution_count": 67,
   "metadata": {},
   "outputs": [
    {
     "data": {
      "text/plain": [
       "(208215, 320)"
      ]
     },
     "execution_count": 67,
     "metadata": {},
     "output_type": "execute_result"
    }
   ],
   "source": [
    "features_train_lr = features_train_lr[features_test_lr.columns]\n",
    "features_train_lr.shape"
   ]
  },
  {
   "cell_type": "markdown",
   "metadata": {},
   "source": [
    "Обучим модель линейной регрессии:"
   ]
  },
  {
   "cell_type": "code",
   "execution_count": 68,
   "metadata": {},
   "outputs": [
    {
     "data": {
      "text/plain": [
       "LinearRegression()"
      ]
     },
     "execution_count": 68,
     "metadata": {},
     "output_type": "execute_result"
    }
   ],
   "source": [
    "model_lr = LinearRegression()\n",
    "model_lr.fit(features_train_lr, target_train)"
   ]
  },
  {
   "cell_type": "markdown",
   "metadata": {},
   "source": [
    "Оценим качество модели линейной регрессии:"
   ]
  },
  {
   "cell_type": "code",
   "execution_count": 69,
   "metadata": {},
   "outputs": [
    {
     "name": "stdout",
     "output_type": "stream",
     "text": [
      "Качество на кросс-валидации: 2783.0\n",
      "Качество на тестовой выборке: 2788.0\n"
     ]
    }
   ],
   "source": [
    "rmse_lr_train = (-1*cross_val_score(model_lr, features_train_lr, target_train, scoring=rmse_scorer, cv=3).mean()).round(0)\n",
    "print('Качество на кросс-валидации:', rmse_lr_train)\n",
    "\n",
    "rmse_lr = (rmse(target_test, model_lr.predict(features_test_lr))).round(0)\n",
    "print('Качество на тестовой выборке:', rmse_lr)"
   ]
  },
  {
   "cell_type": "markdown",
   "metadata": {},
   "source": [
    "Оценим скорость работы модели на тестовой выборке:"
   ]
  },
  {
   "cell_type": "code",
   "execution_count": 70,
   "metadata": {},
   "outputs": [
    {
     "name": "stdout",
     "output_type": "stream",
     "text": [
      "Wall time: 300 ms\n"
     ]
    }
   ],
   "source": [
    "%%time\n",
    "lr_predict = model_lr.predict(features_test_lr)"
   ]
  },
  {
   "cell_type": "markdown",
   "metadata": {},
   "source": [
    "### 2.3. Дерево решений в регрессии"
   ]
  },
  {
   "cell_type": "markdown",
   "metadata": {},
   "source": [
    "Параметры глубины дерева будем подбирать с помощью GridSearchCV. Были протестированы различные диапазоны для гиперпараметров. Ниже продемонстрирован подбор в диапазоне, который дал лучший результат. \n",
    "\n",
    "Зададим диапазон глубины дерева решений:"
   ]
  },
  {
   "cell_type": "code",
   "execution_count": 92,
   "metadata": {},
   "outputs": [],
   "source": [
    "parametrs_dt = {'max_depth': range(10,18)}"
   ]
  },
  {
   "cell_type": "markdown",
   "metadata": {},
   "source": [
    "Осуществим подбор гиперпараметров для модели дерева решений:"
   ]
  },
  {
   "cell_type": "code",
   "execution_count": 93,
   "metadata": {},
   "outputs": [
    {
     "data": {
      "text/plain": [
       "GridSearchCV(cv=3, estimator=DecisionTreeRegressor(random_state=0),\n",
       "             param_grid={'max_depth': range(10, 18)},\n",
       "             scoring=make_scorer(rmse, greater_is_better=False))"
      ]
     },
     "execution_count": 93,
     "metadata": {},
     "output_type": "execute_result"
    }
   ],
   "source": [
    "decision_tree = GridSearchCV(estimator=DecisionTreeRegressor(random_state=0), \n",
    "                             param_grid=parametrs_dt, \n",
    "                             scoring=rmse_scorer, cv=3)\n",
    "decision_tree.fit(features_train, target_train)"
   ]
  },
  {
   "cell_type": "code",
   "execution_count": 94,
   "metadata": {},
   "outputs": [
    {
     "name": "stdout",
     "output_type": "stream",
     "text": [
      "Оптимальная глубина дерева решений: 12\n"
     ]
    }
   ],
   "source": [
    "print('Оптимальная глубина дерева решений:', \n",
    "      decision_tree.best_params_.get('max_depth'))"
   ]
  },
  {
   "cell_type": "markdown",
   "metadata": {},
   "source": [
    "Гиперпараметры подобраны. Оценим качество модели:"
   ]
  },
  {
   "cell_type": "code",
   "execution_count": 95,
   "metadata": {
    "scrolled": true
   },
   "outputs": [
    {
     "name": "stdout",
     "output_type": "stream",
     "text": [
      "Качество на кросс-валидации: 2035.0\n",
      "Качество на тестовой выборке: 1990.0\n"
     ]
    }
   ],
   "source": [
    "rmse_dt_train = (-1*decision_tree.best_score_).round(0)\n",
    "print('Качество на кросс-валидации:', rmse_dt_train)\n",
    "\n",
    "rmse_dt = (rmse(target_test, decision_tree.predict(features_test))).round(0)\n",
    "print('Качество на тестовой выборке:', rmse_dt)"
   ]
  },
  {
   "cell_type": "markdown",
   "metadata": {},
   "source": [
    "Оценим скорость работы модели на тестовой выборке:"
   ]
  },
  {
   "cell_type": "code",
   "execution_count": 96,
   "metadata": {},
   "outputs": [
    {
     "name": "stdout",
     "output_type": "stream",
     "text": [
      "Wall time: 23.1 ms\n"
     ]
    }
   ],
   "source": [
    "%%time\n",
    "dt_predict = decision_tree.predict(features_test)"
   ]
  },
  {
   "cell_type": "markdown",
   "metadata": {},
   "source": [
    "### 2.4. Случайный лес в регрессии"
   ]
  },
  {
   "cell_type": "markdown",
   "metadata": {},
   "source": [
    "Параметры будем подбирать с помощью GridSearchCV. Были протестированы различные диапазоны для гиперпараметров. Ниже продемонстрирован подбор в диапазоне, который дал лучший результат. Увеличение числа деревьев незначительно улучшает качество, но при этом время обучения существенно увеличивается.\n",
    "\n",
    "Зададим диапазон глубины дерева решений и числа деревьев в лесе:"
   ]
  },
  {
   "cell_type": "code",
   "execution_count": 152,
   "metadata": {},
   "outputs": [],
   "source": [
    "parametrs_rf = {'max_depth': range(18,28,3),\n",
    "               'n_estimators': range(90,111,10)}"
   ]
  },
  {
   "cell_type": "markdown",
   "metadata": {},
   "source": [
    "Осуществим подбор гиперпараметров для модели случайного леса:"
   ]
  },
  {
   "cell_type": "code",
   "execution_count": 153,
   "metadata": {},
   "outputs": [],
   "source": [
    "random_forest = GridSearchCV(estimator=RandomForestRegressor(random_state=0, max_features='sqrt'), \n",
    "                             param_grid=parametrs_rf, \n",
    "                             scoring=rmse_scorer, cv=3, n_jobs=-1)"
   ]
  },
  {
   "cell_type": "code",
   "execution_count": 154,
   "metadata": {},
   "outputs": [
    {
     "data": {
      "text/plain": [
       "GridSearchCV(cv=3,\n",
       "             estimator=RandomForestRegressor(max_features='sqrt',\n",
       "                                             random_state=0),\n",
       "             n_jobs=-1,\n",
       "             param_grid={'max_depth': range(18, 28, 3),\n",
       "                         'n_estimators': range(90, 111, 10)},\n",
       "             scoring=make_scorer(rmse, greater_is_better=False))"
      ]
     },
     "execution_count": 154,
     "metadata": {},
     "output_type": "execute_result"
    }
   ],
   "source": [
    "random_forest.fit(features_train, target_train)"
   ]
  },
  {
   "cell_type": "code",
   "execution_count": 155,
   "metadata": {},
   "outputs": [
    {
     "name": "stdout",
     "output_type": "stream",
     "text": [
      "Оптимальная глубина в модели случайного леса: 24\n",
      "Оптимальное число деревьев в модели случайного леса: 110\n"
     ]
    }
   ],
   "source": [
    "print('Оптимальная глубина в модели случайного леса:',\n",
    "      random_forest.best_params_.get('max_depth'))\n",
    "print('Оптимальное число деревьев в модели случайного леса:',\n",
    "      random_forest.best_params_.get('n_estimators'))"
   ]
  },
  {
   "cell_type": "markdown",
   "metadata": {},
   "source": [
    "Гиперпараметры подобраны. Оценим качество модели:"
   ]
  },
  {
   "cell_type": "code",
   "execution_count": 156,
   "metadata": {
    "scrolled": true
   },
   "outputs": [
    {
     "name": "stdout",
     "output_type": "stream",
     "text": [
      "Качество на кросс-валидации: 1651.0\n",
      "Качество на тестовой выборке: 1580.0\n"
     ]
    }
   ],
   "source": [
    "rmse_rf_train = (-1*random_forest.best_score_).round(0)\n",
    "print('Качество на кросс-валидации:', rmse_rf_train)\n",
    "\n",
    "rmse_rf = (rmse(target_test, random_forest.predict(features_test))).round(0)\n",
    "print('Качество на тестовой выборке:', rmse_rf)"
   ]
  },
  {
   "cell_type": "markdown",
   "metadata": {},
   "source": [
    "Оценим скорость работы модели на тестовой выборке:"
   ]
  },
  {
   "cell_type": "code",
   "execution_count": 157,
   "metadata": {},
   "outputs": [
    {
     "name": "stdout",
     "output_type": "stream",
     "text": [
      "Wall time: 4.61 s\n"
     ]
    }
   ],
   "source": [
    "%%time\n",
    "rf_predict = random_forest.predict(features_test)"
   ]
  },
  {
   "cell_type": "markdown",
   "metadata": {},
   "source": [
    "### 2.5. Градиентный бустинг"
   ]
  },
  {
   "cell_type": "markdown",
   "metadata": {},
   "source": [
    "Параметры будем подбирать с помощью GridSearchCV.  Были протестированы различные диапазоны для гиперпараметров. Ниже продемонстрирован подбор в диапазоне, который дал лучший результат.\n",
    "\n",
    "Зададим диапазон глубины дерева решений и числа деревьев, а также список категориальных признаков:"
   ]
  },
  {
   "cell_type": "code",
   "execution_count": 158,
   "metadata": {},
   "outputs": [],
   "source": [
    "parametrs_lgbm = {'n_estimators': range(1100,1201,50),\n",
    "                 'num_leaves': range(40,51,5)}\n",
    "\n",
    "categorical_feature = ['vehicle_type', 'gearbox', 'brand', 'model', 'fuel_type',\n",
    "       'not_repaired', 'region']"
   ]
  },
  {
   "cell_type": "markdown",
   "metadata": {},
   "source": [
    "Осуществим подбор гиперпараметров для модели градиентного бустинга:"
   ]
  },
  {
   "cell_type": "code",
   "execution_count": 159,
   "metadata": {},
   "outputs": [],
   "source": [
    "lgbm = GridSearchCV(estimator=lgb.LGBMRegressor(objective=\"RMSE\", random_state=0), \n",
    "                             param_grid=parametrs_lgbm, \n",
    "                             scoring=rmse_scorer, cv=3, n_jobs=-1)"
   ]
  },
  {
   "cell_type": "code",
   "execution_count": 160,
   "metadata": {},
   "outputs": [
    {
     "data": {
      "text/plain": [
       "GridSearchCV(cv=3, estimator=LGBMRegressor(objective='RMSE', random_state=0),\n",
       "             n_jobs=-1,\n",
       "             param_grid={'n_estimators': range(1100, 1201, 50),\n",
       "                         'num_leaves': range(40, 51, 5)},\n",
       "             scoring=make_scorer(rmse, greater_is_better=False))"
      ]
     },
     "execution_count": 160,
     "metadata": {},
     "output_type": "execute_result"
    }
   ],
   "source": [
    "lgbm.fit(features_train, target_train, categorical_feature=categorical_feature)"
   ]
  },
  {
   "cell_type": "code",
   "execution_count": 161,
   "metadata": {
    "scrolled": true
   },
   "outputs": [
    {
     "name": "stdout",
     "output_type": "stream",
     "text": [
      "Оптимальное число деревьев в модели бустинга: 1200\n",
      "Оптимальное число листьев на дереве в модели бустинга: 50\n"
     ]
    }
   ],
   "source": [
    "print('Оптимальное число деревьев в модели бустинга:',\n",
    "      lgbm.best_params_.get('n_estimators'))\n",
    "print('Оптимальное число листьев на дереве в модели бустинга:',\n",
    "      lgbm.best_params_.get('num_leaves'))"
   ]
  },
  {
   "cell_type": "markdown",
   "metadata": {},
   "source": [
    "Гиперпараметры подобраны. Оценим качество модели:"
   ]
  },
  {
   "cell_type": "code",
   "execution_count": 162,
   "metadata": {},
   "outputs": [
    {
     "name": "stdout",
     "output_type": "stream",
     "text": [
      "Качество на кросс-валидации: 1611.0\n",
      "Качество на тестовой выборке: 1573.0\n"
     ]
    }
   ],
   "source": [
    "rmse_lgbm_train = (-1*lgbm.best_score_).round(0)\n",
    "print('Качество на кросс-валидации:', rmse_lgbm_train)\n",
    "\n",
    "rmse_lgbm = (rmse(target_test, lgbm.predict(features_test))).round(0)\n",
    "print('Качество на тестовой выборке:', rmse_lgbm)"
   ]
  },
  {
   "cell_type": "markdown",
   "metadata": {},
   "source": [
    "Оценим скорость работы модели на тестовой выборке:"
   ]
  },
  {
   "cell_type": "code",
   "execution_count": 163,
   "metadata": {
    "scrolled": true
   },
   "outputs": [
    {
     "name": "stdout",
     "output_type": "stream",
     "text": [
      "Wall time: 5.38 s\n"
     ]
    }
   ],
   "source": [
    "%%time\n",
    "lgbm_predict = lgbm.predict(features_test)"
   ]
  },
  {
   "cell_type": "markdown",
   "metadata": {},
   "source": [
    "### 2.6. Константная модель"
   ]
  },
  {
   "cell_type": "markdown",
   "metadata": {},
   "source": [
    "Построим и обучим константную модель, которая всегда будет предсказывать медианное значение цены автомобиля:"
   ]
  },
  {
   "cell_type": "code",
   "execution_count": 164,
   "metadata": {},
   "outputs": [],
   "source": [
    "model_dr = DummyRegressor(strategy='median')"
   ]
  },
  {
   "cell_type": "code",
   "execution_count": 165,
   "metadata": {},
   "outputs": [
    {
     "data": {
      "text/plain": [
       "DummyRegressor(strategy='median')"
      ]
     },
     "execution_count": 165,
     "metadata": {},
     "output_type": "execute_result"
    }
   ],
   "source": [
    "model_dr.fit(features_train, target_train)"
   ]
  },
  {
   "cell_type": "markdown",
   "metadata": {},
   "source": [
    "Оценим качество модели:"
   ]
  },
  {
   "cell_type": "code",
   "execution_count": 166,
   "metadata": {},
   "outputs": [
    {
     "name": "stdout",
     "output_type": "stream",
     "text": [
      "Качество на обучающей выборке: 4776.0\n",
      "Качество на тестовой выборке: 4784.0\n"
     ]
    }
   ],
   "source": [
    "rmse_dr_train = (rmse(target_train, model_dr.predict(features_train))).round(0)\n",
    "print('Качество на обучающей выборке:', rmse_dr_train)\n",
    "\n",
    "rmse_dr = (rmse(target_test, model_dr.predict(features_test))).round(0)\n",
    "print('Качество на тестовой выборке:', rmse_dr)"
   ]
  },
  {
   "cell_type": "markdown",
   "metadata": {},
   "source": [
    "Оценим скорость работы модели на тестовой выборке:"
   ]
  },
  {
   "cell_type": "code",
   "execution_count": 167,
   "metadata": {},
   "outputs": [
    {
     "name": "stdout",
     "output_type": "stream",
     "text": [
      "Wall time: 1 ms\n"
     ]
    }
   ],
   "source": [
    "%%time\n",
    "dr_predict = model_dr.predict(features_test)"
   ]
  },
  {
   "cell_type": "markdown",
   "metadata": {},
   "source": [
    "## 3. Анализ моделей"
   ]
  },
  {
   "cell_type": "markdown",
   "metadata": {},
   "source": [
    "Соберем все полученные значения RMSE и времени работы моделей в датафрейм:"
   ]
  },
  {
   "cell_type": "code",
   "execution_count": 168,
   "metadata": {
    "scrolled": true
   },
   "outputs": [
    {
     "data": {
      "text/html": [
       "<div>\n",
       "<style scoped>\n",
       "    .dataframe tbody tr th:only-of-type {\n",
       "        vertical-align: middle;\n",
       "    }\n",
       "\n",
       "    .dataframe tbody tr th {\n",
       "        vertical-align: top;\n",
       "    }\n",
       "\n",
       "    .dataframe thead th {\n",
       "        text-align: right;\n",
       "    }\n",
       "</style>\n",
       "<table border=\"1\" class=\"dataframe\">\n",
       "  <thead>\n",
       "    <tr style=\"text-align: right;\">\n",
       "      <th></th>\n",
       "      <th>Model</th>\n",
       "      <th>RMSE_train</th>\n",
       "      <th>RMSE_test</th>\n",
       "      <th>Wall time</th>\n",
       "    </tr>\n",
       "  </thead>\n",
       "  <tbody>\n",
       "    <tr>\n",
       "      <th>0</th>\n",
       "      <td>Линейная регрессия</td>\n",
       "      <td>2783.0</td>\n",
       "      <td>2788.0</td>\n",
       "      <td>300 ms</td>\n",
       "    </tr>\n",
       "    <tr>\n",
       "      <th>1</th>\n",
       "      <td>Дерево решений</td>\n",
       "      <td>2035.0</td>\n",
       "      <td>1990.0</td>\n",
       "      <td>23.1 ms</td>\n",
       "    </tr>\n",
       "    <tr>\n",
       "      <th>2</th>\n",
       "      <td>Случайный лес</td>\n",
       "      <td>1651.0</td>\n",
       "      <td>1580.0</td>\n",
       "      <td>4.61 s</td>\n",
       "    </tr>\n",
       "    <tr>\n",
       "      <th>3</th>\n",
       "      <td>Градиентный бустинг</td>\n",
       "      <td>1611.0</td>\n",
       "      <td>1573.0</td>\n",
       "      <td>5.38 s</td>\n",
       "    </tr>\n",
       "    <tr>\n",
       "      <th>4</th>\n",
       "      <td>Константная модель</td>\n",
       "      <td>4776.0</td>\n",
       "      <td>4784.0</td>\n",
       "      <td>3.7 ms</td>\n",
       "    </tr>\n",
       "  </tbody>\n",
       "</table>\n",
       "</div>"
      ],
      "text/plain": [
       "                 Model  RMSE_train  RMSE_test Wall time\n",
       "0   Линейная регрессия      2783.0     2788.0    300 ms\n",
       "1       Дерево решений      2035.0     1990.0   23.1 ms\n",
       "2        Случайный лес      1651.0     1580.0    4.61 s\n",
       "3  Градиентный бустинг      1611.0     1573.0    5.38 s\n",
       "4   Константная модель      4776.0     4784.0    3.7 ms"
      ]
     },
     "execution_count": 168,
     "metadata": {},
     "output_type": "execute_result"
    }
   ],
   "source": [
    "models = pd.DataFrame({'Model': ['Линейная регрессия', \"Дерево решений\",\n",
    "                                 \"Случайный лес\", \"Градиентный бустинг\", 'Константная модель'],\n",
    "                    \"RMSE_train\": [rmse_lr_train, rmse_dt_train, rmse_rf_train, rmse_lgbm_train, rmse_dr_train],\n",
    "                    \"RMSE_test\":[rmse_lr, rmse_dt, rmse_rf, rmse_lgbm, rmse_dr],\n",
    "                      \"Wall time\": ['300 ms', '23.1 ms', '4.61 s', '5.38 s', '3.7 ms']})\n",
    "models"
   ]
  },
  {
   "cell_type": "markdown",
   "metadata": {},
   "source": [
    "Таким образом, лучшее качество по параметру RMSE показала модель случайного леса. Модель бустинга показала качество чуть ниже на тесте: RMSE = 1656 против 1604 в случайном лесе. При этом скорости предсказаний у моделей схожие.\n",
    "\n",
    "Визуализируем на графике 50 случайных автомобилей из тестовой выборки: отобразим факт и предсказания модели бустинга:"
   ]
  },
  {
   "cell_type": "code",
   "execution_count": 170,
   "metadata": {},
   "outputs": [
    {
     "data": {
      "image/png": "[encoded data removed]",
      "text/plain": [
       "<Figure size 1152x432 with 1 Axes>"
      ]
     },
     "metadata": {
      "needs_background": "light"
     },
     "output_type": "display_data"
    }
   ],
   "source": [
    "pd.DataFrame({'Факт': target_test,\n",
    "              \"Предсказания\": lgbm_predict}).reset_index(drop=True).sample(50).reset_index(drop=True).plot(\n",
    "    figsize=(16,6), marker='o', linestyle='-', grid=True, linewidth=0.6)\n",
    "plt.ylim(0,20000)\n",
    "plt.title('Работа модели бустинга на тестовой выборке')\n",
    "plt.show()"
   ]
  },
  {
   "cell_type": "markdown",
   "metadata": {},
   "source": [
    "## 4. Общий вывод\n",
    "\n",
    "В ходе работы были проанализированы данные о стоимости автомобилей с разными параметрами. Исходные данные содержали пропуски и артефакты, которые были обработаны. Также в ходе работы были сгенерированы дополнительные признаки, такие как возраст автомобиля и регион нахождения продавца (по почтовому индексу).\n",
    "\n",
    "Мы построили 4 типа моделей для предсказания цены авто: \n",
    "1. Линейная регрессия\n",
    "2. Дерево решений\n",
    "3. Случайный лес\n",
    "4. Градиентный бустинг \n",
    "\n",
    "Наилучшее качество по параметру RMSE показала модель градиентного бустинга LightGBM с 1200 деревьями и числе листьев 50: значение RMSE на тестовой выборке = 1573. К сожалению, время работы для предсказания значений на тестовой выборке - одно их худших: 5.38 с."
   ]
  }
 ],
 "metadata": {
  "ExecuteTimeLog": [
   {
    "duration": 338,
    "start_time": "2022-04-16T10:17:58.869Z"
   },
   {
    "duration": 663,
    "start_time": "2022-04-16T10:18:14.575Z"
   },
   {
    "duration": 111,
    "start_time": "2022-04-16T10:18:23.495Z"
   },
   {
    "duration": 18,
    "start_time": "2022-04-16T10:18:30.598Z"
   },
   {
    "duration": 138,
    "start_time": "2022-04-16T10:19:27.654Z"
   },
   {
    "duration": 95,
    "start_time": "2022-04-16T10:19:30.880Z"
   },
   {
    "duration": 114,
    "start_time": "2022-04-16T10:19:55.327Z"
   },
   {
    "duration": 99,
    "start_time": "2022-04-16T10:20:02.391Z"
   },
   {
    "duration": 96,
    "start_time": "2022-04-16T10:20:07.033Z"
   },
   {
    "duration": 94,
    "start_time": "2022-04-16T10:20:24.878Z"
   },
   {
    "duration": 7,
    "start_time": "2022-04-16T10:22:18.711Z"
   },
   {
    "duration": 6,
    "start_time": "2022-04-16T10:22:22.671Z"
   },
   {
    "duration": 7,
    "start_time": "2022-04-16T10:22:49.774Z"
   },
   {
    "duration": 6,
    "start_time": "2022-04-16T10:22:58.030Z"
   },
   {
    "duration": 4,
    "start_time": "2022-04-16T10:23:23.910Z"
   },
   {
    "duration": 5,
    "start_time": "2022-04-16T10:23:29.932Z"
   },
   {
    "duration": 3,
    "start_time": "2022-04-16T10:24:21.232Z"
   },
   {
    "duration": 13,
    "start_time": "2022-04-16T10:24:26.693Z"
   },
   {
    "duration": 71,
    "start_time": "2022-04-16T10:25:41.694Z"
   },
   {
    "duration": 92,
    "start_time": "2022-04-16T10:25:48.796Z"
   },
   {
    "duration": 28,
    "start_time": "2022-04-16T10:26:46.244Z"
   },
   {
    "duration": 12,
    "start_time": "2022-04-16T10:27:02.302Z"
   },
   {
    "duration": 2,
    "start_time": "2022-04-16T10:27:10.151Z"
   },
   {
    "duration": 681,
    "start_time": "2022-04-16T10:27:10.155Z"
   },
   {
    "duration": 116,
    "start_time": "2022-04-16T10:27:10.837Z"
   },
   {
    "duration": 12,
    "start_time": "2022-04-16T10:27:10.955Z"
   },
   {
    "duration": 117,
    "start_time": "2022-04-16T10:27:10.969Z"
   },
   {
    "duration": 104,
    "start_time": "2022-04-16T10:27:11.088Z"
   },
   {
    "duration": 106,
    "start_time": "2022-04-16T10:27:11.194Z"
   },
   {
    "duration": 14,
    "start_time": "2022-04-16T10:27:13.820Z"
   },
   {
    "duration": 121,
    "start_time": "2022-04-16T10:42:26.393Z"
   },
   {
    "duration": 102,
    "start_time": "2022-04-16T10:42:29.568Z"
   },
   {
    "duration": 127,
    "start_time": "2022-04-16T10:42:32.352Z"
   },
   {
    "duration": 122,
    "start_time": "2022-04-16T10:42:35.040Z"
   },
   {
    "duration": 102,
    "start_time": "2022-04-16T10:42:40.280Z"
   },
   {
    "duration": 7,
    "start_time": "2022-04-16T10:42:50.000Z"
   },
   {
    "duration": 10,
    "start_time": "2022-04-16T10:42:59.489Z"
   },
   {
    "duration": 6,
    "start_time": "2022-04-16T10:43:30.409Z"
   },
   {
    "duration": 3,
    "start_time": "2022-04-16T10:45:08.184Z"
   },
   {
    "duration": 668,
    "start_time": "2022-04-16T10:45:21.016Z"
   },
   {
    "duration": 98,
    "start_time": "2022-04-16T10:45:22.456Z"
   },
   {
    "duration": 12,
    "start_time": "2022-04-16T10:45:23.649Z"
   },
   {
    "duration": 89,
    "start_time": "2022-04-16T10:45:27.536Z"
   },
   {
    "duration": 92,
    "start_time": "2022-04-16T10:45:28.816Z"
   },
   {
    "duration": 96,
    "start_time": "2022-04-16T10:45:30.472Z"
   },
   {
    "duration": 1158,
    "start_time": "2022-04-16T10:51:42.439Z"
   },
   {
    "duration": 391,
    "start_time": "2022-04-16T10:53:16.167Z"
   },
   {
    "duration": 396,
    "start_time": "2022-04-16T10:53:24.399Z"
   },
   {
    "duration": 351,
    "start_time": "2022-04-16T10:53:37.583Z"
   },
   {
    "duration": 66,
    "start_time": "2022-04-16T10:54:17.216Z"
   },
   {
    "duration": 1929,
    "start_time": "2022-04-16T10:58:58.343Z"
   },
   {
    "duration": 70,
    "start_time": "2022-04-16T10:59:05.197Z"
   },
   {
    "duration": 80,
    "start_time": "2022-04-16T10:59:10.110Z"
   },
   {
    "duration": 50969,
    "start_time": "2022-04-16T11:01:30.094Z"
   },
   {
    "duration": 162,
    "start_time": "2022-04-16T11:04:09.248Z"
   },
   {
    "duration": 158,
    "start_time": "2022-04-16T11:04:17.848Z"
   },
   {
    "duration": 151,
    "start_time": "2022-04-16T11:04:32.133Z"
   },
   {
    "duration": 142,
    "start_time": "2022-04-16T11:04:37.958Z"
   },
   {
    "duration": 137,
    "start_time": "2022-04-16T11:05:16.549Z"
   },
   {
    "duration": 147,
    "start_time": "2022-04-16T11:05:20.952Z"
   },
   {
    "duration": 168,
    "start_time": "2022-04-16T11:05:31.884Z"
   },
   {
    "duration": 171,
    "start_time": "2022-04-16T11:05:38.004Z"
   },
   {
    "duration": 155,
    "start_time": "2022-04-16T11:06:04.500Z"
   },
   {
    "duration": 143,
    "start_time": "2022-04-16T11:06:25.005Z"
   },
   {
    "duration": 155,
    "start_time": "2022-04-16T11:06:30.440Z"
   },
   {
    "duration": 161,
    "start_time": "2022-04-16T11:06:36.852Z"
   },
   {
    "duration": 76,
    "start_time": "2022-04-16T11:08:34.549Z"
   },
   {
    "duration": 253,
    "start_time": "2022-04-16T11:10:08.102Z"
   },
   {
    "duration": 176,
    "start_time": "2022-04-16T11:10:20.053Z"
   },
   {
    "duration": 26,
    "start_time": "2022-04-16T11:20:59.761Z"
   },
   {
    "duration": 21,
    "start_time": "2022-04-16T11:21:07.297Z"
   },
   {
    "duration": 24,
    "start_time": "2022-04-16T11:21:30.601Z"
   },
   {
    "duration": 21,
    "start_time": "2022-04-16T11:21:37.056Z"
   },
   {
    "duration": 33,
    "start_time": "2022-04-16T11:22:52.665Z"
   },
   {
    "duration": 34,
    "start_time": "2022-04-16T11:23:09.264Z"
   },
   {
    "duration": 41,
    "start_time": "2022-04-16T11:23:55.792Z"
   },
   {
    "duration": 22,
    "start_time": "2022-04-16T11:24:23.049Z"
   },
   {
    "duration": 398,
    "start_time": "2022-04-16T11:26:29.415Z"
   },
   {
    "duration": 12,
    "start_time": "2022-04-16T11:28:03.609Z"
   },
   {
    "duration": 11,
    "start_time": "2022-04-16T11:28:27.549Z"
   },
   {
    "duration": 17,
    "start_time": "2022-04-16T11:29:56.031Z"
   },
   {
    "duration": 17,
    "start_time": "2022-04-16T11:30:04.702Z"
   },
   {
    "duration": 12,
    "start_time": "2022-04-16T11:30:12.686Z"
   },
   {
    "duration": 14,
    "start_time": "2022-04-16T11:30:20.813Z"
   },
   {
    "duration": 12,
    "start_time": "2022-04-16T11:30:32.789Z"
   },
   {
    "duration": 12,
    "start_time": "2022-04-16T11:30:39.926Z"
   },
   {
    "duration": 11,
    "start_time": "2022-04-16T11:31:01.582Z"
   },
   {
    "duration": 20,
    "start_time": "2022-04-16T11:31:37.102Z"
   },
   {
    "duration": 170,
    "start_time": "2022-04-16T11:32:31.014Z"
   },
   {
    "duration": 19,
    "start_time": "2022-04-16T11:34:19.703Z"
   },
   {
    "duration": 18,
    "start_time": "2022-04-16T11:34:32.678Z"
   },
   {
    "duration": 296,
    "start_time": "2022-04-16T11:39:52.077Z"
   },
   {
    "duration": 69,
    "start_time": "2022-04-16T11:40:06.724Z"
   },
   {
    "duration": 282,
    "start_time": "2022-04-16T11:40:11.468Z"
   },
   {
    "duration": 19,
    "start_time": "2022-04-16T13:36:27.967Z"
   },
   {
    "duration": 67,
    "start_time": "2022-04-16T13:41:22.349Z"
   },
   {
    "duration": 227,
    "start_time": "2022-04-16T13:43:51.445Z"
   },
   {
    "duration": 233,
    "start_time": "2022-04-16T13:43:55.083Z"
   },
   {
    "duration": 68,
    "start_time": "2022-04-16T13:44:11.173Z"
   },
   {
    "duration": 8,
    "start_time": "2022-04-16T13:44:30.293Z"
   },
   {
    "duration": 16,
    "start_time": "2022-04-16T13:44:35.932Z"
   },
   {
    "duration": 80,
    "start_time": "2022-04-16T13:45:12.092Z"
   },
   {
    "duration": 160,
    "start_time": "2022-04-16T13:45:36.549Z"
   },
   {
    "duration": 159,
    "start_time": "2022-04-16T13:46:07.525Z"
   },
   {
    "duration": 12,
    "start_time": "2022-04-16T13:47:01.343Z"
   },
   {
    "duration": 34,
    "start_time": "2022-04-16T13:47:08.066Z"
   },
   {
    "duration": 131,
    "start_time": "2022-04-16T13:56:31.331Z"
   },
   {
    "duration": 64,
    "start_time": "2022-04-16T16:22:15.437Z"
   },
   {
    "duration": 284,
    "start_time": "2022-04-16T16:22:19.228Z"
   },
   {
    "duration": 5,
    "start_time": "2022-04-16T16:24:33.868Z"
   },
   {
    "duration": 13,
    "start_time": "2022-04-16T16:24:45.579Z"
   },
   {
    "duration": 3,
    "start_time": "2022-04-16T16:24:51.244Z"
   },
   {
    "duration": 122,
    "start_time": "2022-04-16T16:30:04.563Z"
   },
   {
    "duration": 14,
    "start_time": "2022-04-16T16:30:12.037Z"
   },
   {
    "duration": 89,
    "start_time": "2022-04-16T16:30:17.338Z"
   },
   {
    "duration": 12,
    "start_time": "2022-04-16T16:30:22.642Z"
   },
   {
    "duration": 319,
    "start_time": "2022-04-16T16:30:46.082Z"
   },
   {
    "duration": 12,
    "start_time": "2022-04-16T16:30:47.027Z"
   },
   {
    "duration": 78,
    "start_time": "2022-04-16T16:30:52.666Z"
   },
   {
    "duration": 10,
    "start_time": "2022-04-16T16:32:27.226Z"
   },
   {
    "duration": 13,
    "start_time": "2022-04-16T16:32:31.906Z"
   },
   {
    "duration": 26,
    "start_time": "2022-04-16T16:32:52.330Z"
   },
   {
    "duration": 99,
    "start_time": "2022-04-16T16:33:12.778Z"
   },
   {
    "duration": 25,
    "start_time": "2022-04-16T16:33:16.290Z"
   },
   {
    "duration": 27,
    "start_time": "2022-04-16T16:33:31.530Z"
   },
   {
    "duration": 27,
    "start_time": "2022-04-16T16:33:50.459Z"
   },
   {
    "duration": 19,
    "start_time": "2022-04-16T16:36:37.441Z"
   },
   {
    "duration": 176,
    "start_time": "2022-04-16T16:37:32.289Z"
   },
   {
    "duration": 231,
    "start_time": "2022-04-16T16:38:02.634Z"
   },
   {
    "duration": 299,
    "start_time": "2022-04-16T16:40:42.778Z"
   },
   {
    "duration": 1807,
    "start_time": "2022-04-16T16:41:53.554Z"
   },
   {
    "duration": 1212,
    "start_time": "2022-04-16T16:42:13.488Z"
   },
   {
    "duration": 192,
    "start_time": "2022-04-16T16:42:22.048Z"
   },
   {
    "duration": 1258,
    "start_time": "2022-04-16T16:42:53.344Z"
   },
   {
    "duration": 166,
    "start_time": "2022-04-16T16:43:10.584Z"
   },
   {
    "duration": 213,
    "start_time": "2022-04-16T16:44:05.703Z"
   },
   {
    "duration": 231,
    "start_time": "2022-04-16T16:44:18.255Z"
   },
   {
    "duration": 232,
    "start_time": "2022-04-16T16:44:28.207Z"
   },
   {
    "duration": 501,
    "start_time": "2022-04-16T16:44:42.680Z"
   },
   {
    "duration": 486,
    "start_time": "2022-04-16T16:44:56.664Z"
   },
   {
    "duration": 19,
    "start_time": "2022-04-16T16:47:42.006Z"
   },
   {
    "duration": 38,
    "start_time": "2022-04-16T16:48:05.559Z"
   },
   {
    "duration": 18,
    "start_time": "2022-04-16T16:48:25.190Z"
   },
   {
    "duration": 10,
    "start_time": "2022-04-16T16:50:38.425Z"
   },
   {
    "duration": 31,
    "start_time": "2022-04-16T16:50:42.937Z"
   },
   {
    "duration": 28,
    "start_time": "2022-04-16T16:50:47.645Z"
   },
   {
    "duration": 27,
    "start_time": "2022-04-16T16:50:53.349Z"
   },
   {
    "duration": 265,
    "start_time": "2022-04-16T16:51:14.573Z"
   },
   {
    "duration": 223,
    "start_time": "2022-04-16T16:51:22.222Z"
   },
   {
    "duration": 24,
    "start_time": "2022-04-16T16:51:42.341Z"
   },
   {
    "duration": 220,
    "start_time": "2022-04-16T16:51:58.766Z"
   },
   {
    "duration": 219,
    "start_time": "2022-04-16T16:52:35.549Z"
   },
   {
    "duration": 248,
    "start_time": "2022-04-16T16:52:49.117Z"
   },
   {
    "duration": 227,
    "start_time": "2022-04-16T16:52:53.501Z"
   },
   {
    "duration": 232,
    "start_time": "2022-04-16T16:53:04.685Z"
   },
   {
    "duration": 1152,
    "start_time": "2022-04-16T16:53:27.077Z"
   },
   {
    "duration": 162,
    "start_time": "2022-04-16T16:53:43.582Z"
   },
   {
    "duration": 59,
    "start_time": "2022-04-16T16:55:05.948Z"
   },
   {
    "duration": 4,
    "start_time": "2022-04-16T16:56:34.092Z"
   },
   {
    "duration": 161,
    "start_time": "2022-04-16T16:56:39.188Z"
   },
   {
    "duration": 9,
    "start_time": "2022-04-16T17:10:45.280Z"
   },
   {
    "duration": 8,
    "start_time": "2022-04-16T17:29:14.917Z"
   },
   {
    "duration": 60,
    "start_time": "2022-04-16T17:31:25.826Z"
   },
   {
    "duration": 56,
    "start_time": "2022-04-16T17:44:43.824Z"
   },
   {
    "duration": 4,
    "start_time": "2022-04-16T17:45:14.336Z"
   },
   {
    "duration": 3,
    "start_time": "2022-04-16T17:45:17.039Z"
   },
   {
    "duration": 55,
    "start_time": "2022-04-16T17:45:24.727Z"
   },
   {
    "duration": 56,
    "start_time": "2022-04-16T17:45:29.376Z"
   },
   {
    "duration": 66,
    "start_time": "2022-04-16T17:45:34.704Z"
   },
   {
    "duration": 65,
    "start_time": "2022-04-16T17:46:32.592Z"
   },
   {
    "duration": 55,
    "start_time": "2022-04-16T17:47:38.280Z"
   },
   {
    "duration": 62,
    "start_time": "2022-04-16T17:47:52.198Z"
   },
   {
    "duration": 36,
    "start_time": "2022-04-16T17:48:26.254Z"
   },
   {
    "duration": 32,
    "start_time": "2022-04-16T17:48:31.904Z"
   },
   {
    "duration": 33,
    "start_time": "2022-04-16T17:49:41.039Z"
   },
   {
    "duration": 33,
    "start_time": "2022-04-16T17:49:59.385Z"
   },
   {
    "duration": 37,
    "start_time": "2022-04-16T17:50:52.903Z"
   },
   {
    "duration": 32,
    "start_time": "2022-04-16T17:51:20.278Z"
   },
   {
    "duration": 36,
    "start_time": "2022-04-16T17:51:59.895Z"
   },
   {
    "duration": 38,
    "start_time": "2022-04-16T17:52:19.702Z"
   },
   {
    "duration": 56,
    "start_time": "2022-04-16T17:54:26.486Z"
   },
   {
    "duration": 36,
    "start_time": "2022-04-16T17:55:12.429Z"
   },
   {
    "duration": 40,
    "start_time": "2022-04-16T17:56:04.949Z"
   },
   {
    "duration": 43,
    "start_time": "2022-04-16T17:56:24.021Z"
   },
   {
    "duration": 44,
    "start_time": "2022-04-16T17:57:45.716Z"
   },
   {
    "duration": 57,
    "start_time": "2022-04-16T17:57:50.011Z"
   },
   {
    "duration": 53,
    "start_time": "2022-04-16T17:58:10.708Z"
   },
   {
    "duration": 56,
    "start_time": "2022-04-16T17:58:26.997Z"
   },
   {
    "duration": 95,
    "start_time": "2022-04-16T18:00:29.044Z"
   },
   {
    "duration": 101,
    "start_time": "2022-04-16T18:00:36.906Z"
   },
   {
    "duration": 2043,
    "start_time": "2022-04-16T18:03:28.243Z"
   },
   {
    "duration": 2081,
    "start_time": "2022-04-16T18:03:37.842Z"
   },
   {
    "duration": 2107,
    "start_time": "2022-04-16T18:04:03.403Z"
   },
   {
    "duration": 2066,
    "start_time": "2022-04-16T18:04:09.004Z"
   },
   {
    "duration": 1189,
    "start_time": "2022-04-16T18:04:20.195Z"
   },
   {
    "duration": 13,
    "start_time": "2022-04-16T18:05:51.321Z"
   },
   {
    "duration": 14,
    "start_time": "2022-04-16T18:06:10.569Z"
   },
   {
    "duration": 54,
    "start_time": "2022-04-16T18:08:08.121Z"
   },
   {
    "duration": 54,
    "start_time": "2022-04-16T18:09:31.505Z"
   },
   {
    "duration": 2,
    "start_time": "2022-04-16T18:09:56.737Z"
   },
   {
    "duration": 51,
    "start_time": "2022-04-16T18:09:57.512Z"
   },
   {
    "duration": 3,
    "start_time": "2022-04-16T18:10:03.368Z"
   },
   {
    "duration": 62,
    "start_time": "2022-04-16T18:10:05.104Z"
   },
   {
    "duration": 2,
    "start_time": "2022-04-16T18:10:54.865Z"
   },
   {
    "duration": 21,
    "start_time": "2022-04-16T18:10:57.384Z"
   },
   {
    "duration": 64,
    "start_time": "2022-04-16T18:11:12.161Z"
   },
   {
    "duration": 2,
    "start_time": "2022-04-16T18:11:40.328Z"
   },
   {
    "duration": 56,
    "start_time": "2022-04-16T18:11:48.594Z"
   },
   {
    "duration": 3,
    "start_time": "2022-04-16T18:12:07.808Z"
   },
   {
    "duration": 33,
    "start_time": "2022-04-16T18:13:41.168Z"
   },
   {
    "duration": 17,
    "start_time": "2022-04-16T18:18:11.815Z"
   },
   {
    "duration": 11,
    "start_time": "2022-04-16T18:23:48.638Z"
   },
   {
    "duration": 60,
    "start_time": "2022-04-16T18:24:11.118Z"
   },
   {
    "duration": 56,
    "start_time": "2022-04-16T18:24:24.199Z"
   },
   {
    "duration": 53,
    "start_time": "2022-04-16T18:24:58.406Z"
   },
   {
    "duration": 52,
    "start_time": "2022-04-16T18:25:01.303Z"
   },
   {
    "duration": 23,
    "start_time": "2022-04-16T18:25:47.438Z"
   },
   {
    "duration": 29,
    "start_time": "2022-04-16T18:26:00.878Z"
   },
   {
    "duration": 23,
    "start_time": "2022-04-16T18:26:09.767Z"
   },
   {
    "duration": 50,
    "start_time": "2022-04-16T18:26:21.838Z"
   },
   {
    "duration": 53,
    "start_time": "2022-04-16T18:26:30.109Z"
   },
   {
    "duration": 51,
    "start_time": "2022-04-16T18:26:44.197Z"
   },
   {
    "duration": 50,
    "start_time": "2022-04-16T18:26:52.430Z"
   },
   {
    "duration": 51,
    "start_time": "2022-04-16T18:27:30.182Z"
   },
   {
    "duration": 22,
    "start_time": "2022-04-16T18:28:25.974Z"
   },
   {
    "duration": 24,
    "start_time": "2022-04-16T18:28:30.629Z"
   },
   {
    "duration": 19,
    "start_time": "2022-04-16T18:28:38.245Z"
   },
   {
    "duration": 244,
    "start_time": "2022-04-16T18:28:56.669Z"
   },
   {
    "duration": 19,
    "start_time": "2022-04-16T18:29:01.733Z"
   },
   {
    "duration": 49,
    "start_time": "2022-04-16T18:29:28.164Z"
   },
   {
    "duration": 1820,
    "start_time": "2022-04-16T18:29:42.941Z"
   },
   {
    "duration": 51,
    "start_time": "2022-04-16T18:29:56.317Z"
   },
   {
    "duration": 60,
    "start_time": "2022-04-16T18:30:33.724Z"
   },
   {
    "duration": 58,
    "start_time": "2022-04-16T18:31:06.502Z"
   },
   {
    "duration": 1703,
    "start_time": "2022-04-16T18:31:23.990Z"
   },
   {
    "duration": 58,
    "start_time": "2022-04-16T18:31:32.652Z"
   },
   {
    "duration": 49,
    "start_time": "2022-04-16T18:31:56.123Z"
   },
   {
    "duration": 50,
    "start_time": "2022-04-16T18:32:01.109Z"
   },
   {
    "duration": 52,
    "start_time": "2022-04-16T18:32:19.196Z"
   },
   {
    "duration": 55,
    "start_time": "2022-04-16T18:32:50.350Z"
   },
   {
    "duration": 2569,
    "start_time": "2022-04-16T18:33:05.452Z"
   },
   {
    "duration": 52,
    "start_time": "2022-04-16T18:33:10.580Z"
   },
   {
    "duration": 103,
    "start_time": "2022-04-16T18:33:20.622Z"
   },
   {
    "duration": 53,
    "start_time": "2022-04-16T18:33:57.389Z"
   },
   {
    "duration": 55,
    "start_time": "2022-04-16T18:34:47.315Z"
   },
   {
    "duration": 55,
    "start_time": "2022-04-16T18:34:54.100Z"
   },
   {
    "duration": 58,
    "start_time": "2022-04-16T18:35:13.661Z"
   },
   {
    "duration": 51,
    "start_time": "2022-04-16T18:35:37.650Z"
   },
   {
    "duration": 94,
    "start_time": "2022-04-16T18:44:51.642Z"
   },
   {
    "duration": 54,
    "start_time": "2022-04-16T18:45:04.352Z"
   },
   {
    "duration": 52,
    "start_time": "2022-04-16T18:45:17.481Z"
   },
   {
    "duration": 53,
    "start_time": "2022-04-16T18:45:24.344Z"
   },
   {
    "duration": 92,
    "start_time": "2022-04-16T18:45:31.128Z"
   },
   {
    "duration": 89,
    "start_time": "2022-04-16T18:46:46.248Z"
   },
   {
    "duration": 54,
    "start_time": "2022-04-16T18:48:46.897Z"
   },
   {
    "duration": 97,
    "start_time": "2022-04-16T18:48:52.360Z"
   },
   {
    "duration": 12,
    "start_time": "2022-04-16T18:52:09.271Z"
   },
   {
    "duration": 47,
    "start_time": "2022-04-16T18:52:29.871Z"
   },
   {
    "duration": 8,
    "start_time": "2022-04-16T18:52:31.792Z"
   },
   {
    "duration": 71,
    "start_time": "2022-04-16T18:53:02.911Z"
   },
   {
    "duration": 59,
    "start_time": "2022-04-16T18:53:28.224Z"
   },
   {
    "duration": 62,
    "start_time": "2022-04-16T18:53:52.825Z"
   },
   {
    "duration": 61,
    "start_time": "2022-04-16T18:54:04.935Z"
   },
   {
    "duration": 75,
    "start_time": "2022-04-16T18:54:12.535Z"
   },
   {
    "duration": 12,
    "start_time": "2022-04-16T18:54:17.630Z"
   },
   {
    "duration": 1637,
    "start_time": "2022-04-16T18:54:42.414Z"
   },
   {
    "duration": 74,
    "start_time": "2022-04-16T18:54:50.897Z"
   },
   {
    "duration": 71,
    "start_time": "2022-04-16T18:56:00.111Z"
   },
   {
    "duration": 11,
    "start_time": "2022-04-16T18:56:26.862Z"
   },
   {
    "duration": 42,
    "start_time": "2022-04-16T18:56:55.847Z"
   },
   {
    "duration": 60,
    "start_time": "2022-04-16T18:59:09.430Z"
   },
   {
    "duration": 63,
    "start_time": "2022-04-16T18:59:24.142Z"
   },
   {
    "duration": 68,
    "start_time": "2022-04-16T18:59:28.093Z"
   },
   {
    "duration": 69,
    "start_time": "2022-04-16T19:01:29.685Z"
   },
   {
    "duration": 69,
    "start_time": "2022-04-16T19:02:05.388Z"
   },
   {
    "duration": 68,
    "start_time": "2022-04-16T19:02:52.692Z"
   },
   {
    "duration": 71,
    "start_time": "2022-04-16T19:04:02.484Z"
   },
   {
    "duration": 65,
    "start_time": "2022-04-16T19:07:16.411Z"
   },
   {
    "duration": 15,
    "start_time": "2022-04-16T19:07:24.971Z"
   },
   {
    "duration": 14,
    "start_time": "2022-04-16T19:07:39.602Z"
   },
   {
    "duration": 4,
    "start_time": "2022-04-16T19:14:06.713Z"
   },
   {
    "duration": 7,
    "start_time": "2022-04-16T19:14:06.718Z"
   },
   {
    "duration": 595,
    "start_time": "2022-04-16T19:14:06.727Z"
   },
   {
    "duration": 99,
    "start_time": "2022-04-16T19:14:07.324Z"
   },
   {
    "duration": 12,
    "start_time": "2022-04-16T19:14:07.425Z"
   },
   {
    "duration": 32,
    "start_time": "2022-04-16T19:14:07.439Z"
   },
   {
    "duration": 107,
    "start_time": "2022-04-16T19:14:07.473Z"
   },
   {
    "duration": 95,
    "start_time": "2022-04-16T19:14:07.581Z"
   },
   {
    "duration": 354,
    "start_time": "2022-04-16T19:14:07.677Z"
   },
   {
    "duration": 70,
    "start_time": "2022-04-16T19:14:08.033Z"
   },
   {
    "duration": 161,
    "start_time": "2022-04-16T19:14:08.105Z"
   },
   {
    "duration": 17,
    "start_time": "2022-04-16T19:14:08.268Z"
   },
   {
    "duration": 274,
    "start_time": "2022-04-16T19:14:08.287Z"
   },
   {
    "duration": 4,
    "start_time": "2022-04-16T19:14:08.563Z"
   },
   {
    "duration": 5,
    "start_time": "2022-04-16T19:14:08.568Z"
   },
   {
    "duration": 195,
    "start_time": "2022-04-16T19:14:08.574Z"
   },
   {
    "duration": 1184,
    "start_time": "2022-04-16T19:14:08.770Z"
   },
   {
    "duration": 18,
    "start_time": "2022-04-16T19:14:09.957Z"
   },
   {
    "duration": 85,
    "start_time": "2022-04-16T19:14:09.976Z"
   },
   {
    "duration": 14,
    "start_time": "2022-04-16T19:14:16.673Z"
   },
   {
    "duration": 31,
    "start_time": "2022-04-16T19:14:45.339Z"
   },
   {
    "duration": 14,
    "start_time": "2022-04-16T19:14:51.353Z"
   },
   {
    "duration": 72,
    "start_time": "2022-04-16T19:18:53.113Z"
   },
   {
    "duration": 69,
    "start_time": "2022-04-16T19:19:37.439Z"
   },
   {
    "duration": 72,
    "start_time": "2022-04-16T19:20:41.184Z"
   },
   {
    "duration": 129,
    "start_time": "2022-04-16T19:20:46.808Z"
   },
   {
    "duration": 71,
    "start_time": "2022-04-16T19:21:02.023Z"
   },
   {
    "duration": 35,
    "start_time": "2022-04-16T19:21:07.694Z"
   },
   {
    "duration": 13,
    "start_time": "2022-04-16T19:21:08.543Z"
   },
   {
    "duration": 69,
    "start_time": "2022-04-16T19:21:19.575Z"
   },
   {
    "duration": 73,
    "start_time": "2022-04-16T19:24:04.191Z"
   },
   {
    "duration": 34,
    "start_time": "2022-04-16T19:24:41.622Z"
   },
   {
    "duration": 19,
    "start_time": "2022-04-16T19:24:42.526Z"
   },
   {
    "duration": 125,
    "start_time": "2022-04-16T19:25:06.326Z"
   },
   {
    "duration": 55,
    "start_time": "2022-04-16T19:25:15.501Z"
   },
   {
    "duration": 17,
    "start_time": "2022-04-16T19:25:54.654Z"
   },
   {
    "duration": 26,
    "start_time": "2022-04-16T19:26:03.453Z"
   },
   {
    "duration": 14,
    "start_time": "2022-04-16T19:26:20.456Z"
   },
   {
    "duration": 14,
    "start_time": "2022-04-16T19:26:26.564Z"
   },
   {
    "duration": 56,
    "start_time": "2022-04-16T19:29:10.389Z"
   },
   {
    "duration": 3,
    "start_time": "2022-04-16T19:29:21.732Z"
   },
   {
    "duration": 4,
    "start_time": "2022-04-16T19:29:21.737Z"
   },
   {
    "duration": 589,
    "start_time": "2022-04-16T19:29:21.743Z"
   },
   {
    "duration": 102,
    "start_time": "2022-04-16T19:29:22.333Z"
   },
   {
    "duration": 11,
    "start_time": "2022-04-16T19:29:22.437Z"
   },
   {
    "duration": 33,
    "start_time": "2022-04-16T19:29:22.449Z"
   },
   {
    "duration": 101,
    "start_time": "2022-04-16T19:29:22.483Z"
   },
   {
    "duration": 97,
    "start_time": "2022-04-16T19:29:22.586Z"
   },
   {
    "duration": 345,
    "start_time": "2022-04-16T19:29:22.685Z"
   },
   {
    "duration": 72,
    "start_time": "2022-04-16T19:29:23.032Z"
   },
   {
    "duration": 167,
    "start_time": "2022-04-16T19:29:23.105Z"
   },
   {
    "duration": 18,
    "start_time": "2022-04-16T19:29:23.273Z"
   },
   {
    "duration": 273,
    "start_time": "2022-04-16T19:29:23.292Z"
   },
   {
    "duration": 4,
    "start_time": "2022-04-16T19:29:23.566Z"
   },
   {
    "duration": 5,
    "start_time": "2022-04-16T19:29:23.571Z"
   },
   {
    "duration": 193,
    "start_time": "2022-04-16T19:29:23.577Z"
   },
   {
    "duration": 1191,
    "start_time": "2022-04-16T19:29:23.771Z"
   },
   {
    "duration": 17,
    "start_time": "2022-04-16T19:29:24.963Z"
   },
   {
    "duration": 91,
    "start_time": "2022-04-16T19:29:24.982Z"
   },
   {
    "duration": 54,
    "start_time": "2022-04-16T19:29:33.189Z"
   },
   {
    "duration": 14,
    "start_time": "2022-04-16T19:29:38.787Z"
   },
   {
    "duration": 63,
    "start_time": "2022-04-16T19:31:01.153Z"
   },
   {
    "duration": 62,
    "start_time": "2022-04-16T19:31:06.404Z"
   },
   {
    "duration": 116,
    "start_time": "2022-04-16T19:31:15.391Z"
   },
   {
    "duration": 62,
    "start_time": "2022-04-16T19:31:21.723Z"
   },
   {
    "duration": 105,
    "start_time": "2022-04-16T19:31:43.636Z"
   },
   {
    "duration": 64,
    "start_time": "2022-04-16T19:31:59.429Z"
   },
   {
    "duration": 58,
    "start_time": "2022-04-16T19:32:27.636Z"
   },
   {
    "duration": 65,
    "start_time": "2022-04-16T19:32:34.779Z"
   },
   {
    "duration": 123,
    "start_time": "2022-04-16T19:33:02.755Z"
   },
   {
    "duration": 112,
    "start_time": "2022-04-16T19:33:15.651Z"
   },
   {
    "duration": 66,
    "start_time": "2022-04-16T19:33:25.779Z"
   },
   {
    "duration": 63,
    "start_time": "2022-04-16T19:33:40.491Z"
   },
   {
    "duration": 73,
    "start_time": "2022-04-16T19:37:22.342Z"
   },
   {
    "duration": 106,
    "start_time": "2022-04-16T19:38:25.979Z"
   },
   {
    "duration": 65,
    "start_time": "2022-04-16T19:38:45.619Z"
   },
   {
    "duration": 55,
    "start_time": "2022-04-16T19:41:27.122Z"
   },
   {
    "duration": 68,
    "start_time": "2022-04-16T19:41:40.138Z"
   },
   {
    "duration": 69,
    "start_time": "2022-04-16T19:42:44.010Z"
   },
   {
    "duration": 42,
    "start_time": "2022-04-16T19:44:40.137Z"
   },
   {
    "duration": 1775,
    "start_time": "2022-04-16T19:47:08.032Z"
   },
   {
    "duration": 20,
    "start_time": "2022-04-16T19:47:14.281Z"
   },
   {
    "duration": 119,
    "start_time": "2022-04-16T19:47:27.034Z"
   },
   {
    "duration": 232,
    "start_time": "2022-04-16T19:48:08.353Z"
   },
   {
    "duration": 208,
    "start_time": "2022-04-16T19:48:16.184Z"
   },
   {
    "duration": 122,
    "start_time": "2022-04-16T19:52:42.336Z"
   },
   {
    "duration": 13,
    "start_time": "2022-04-16T19:53:26.679Z"
   },
   {
    "duration": 135,
    "start_time": "2022-04-16T19:53:44.048Z"
   },
   {
    "duration": 139,
    "start_time": "2022-04-16T19:53:49.928Z"
   },
   {
    "duration": 138,
    "start_time": "2022-04-16T19:54:05.776Z"
   },
   {
    "duration": 124,
    "start_time": "2022-04-16T19:54:46.480Z"
   },
   {
    "duration": 132,
    "start_time": "2022-04-16T19:56:16.469Z"
   },
   {
    "duration": 130,
    "start_time": "2022-04-16T19:58:56.057Z"
   },
   {
    "duration": 149,
    "start_time": "2022-04-16T19:59:00.119Z"
   },
   {
    "duration": 121,
    "start_time": "2022-04-16T19:59:39.772Z"
   },
   {
    "duration": 17,
    "start_time": "2022-04-16T19:59:44.861Z"
   },
   {
    "duration": 3,
    "start_time": "2022-04-16T20:00:09.269Z"
   },
   {
    "duration": 142,
    "start_time": "2022-04-16T20:17:50.881Z"
   },
   {
    "duration": 141,
    "start_time": "2022-04-16T20:18:12.961Z"
   },
   {
    "duration": 135,
    "start_time": "2022-04-16T20:20:02.305Z"
   },
   {
    "duration": 154,
    "start_time": "2022-04-16T20:20:40.192Z"
   },
   {
    "duration": 161,
    "start_time": "2022-04-16T20:25:29.007Z"
   },
   {
    "duration": 156,
    "start_time": "2022-04-16T20:25:39.878Z"
   },
   {
    "duration": 545,
    "start_time": "2022-04-16T20:26:11.463Z"
   },
   {
    "duration": 521,
    "start_time": "2022-04-16T20:26:17.999Z"
   },
   {
    "duration": 449,
    "start_time": "2022-04-16T20:26:27.966Z"
   },
   {
    "duration": 396,
    "start_time": "2022-04-16T20:26:32.695Z"
   },
   {
    "duration": 177,
    "start_time": "2022-04-16T20:26:41.678Z"
   },
   {
    "duration": 116,
    "start_time": "2022-04-16T20:27:30.462Z"
   },
   {
    "duration": 69,
    "start_time": "2022-04-16T20:27:52.415Z"
   },
   {
    "duration": 63,
    "start_time": "2022-04-16T20:27:54.159Z"
   },
   {
    "duration": 71,
    "start_time": "2022-04-16T20:27:59.494Z"
   },
   {
    "duration": 65,
    "start_time": "2022-04-16T20:28:02.175Z"
   },
   {
    "duration": 72,
    "start_time": "2022-04-16T20:28:06.191Z"
   },
   {
    "duration": 63,
    "start_time": "2022-04-16T20:28:08.238Z"
   },
   {
    "duration": 91,
    "start_time": "2022-04-16T20:33:03.414Z"
   },
   {
    "duration": 98,
    "start_time": "2022-04-16T20:33:45.390Z"
   },
   {
    "duration": 47,
    "start_time": "2022-04-16T20:33:52.821Z"
   },
   {
    "duration": 251,
    "start_time": "2022-04-16T20:34:57.956Z"
   },
   {
    "duration": 195,
    "start_time": "2022-04-16T20:34:58.772Z"
   },
   {
    "duration": 121,
    "start_time": "2022-04-16T20:35:01.012Z"
   },
   {
    "duration": 48,
    "start_time": "2022-04-16T20:35:03.956Z"
   },
   {
    "duration": 223,
    "start_time": "2022-04-16T20:36:16.644Z"
   },
   {
    "duration": 180,
    "start_time": "2022-04-16T20:36:17.603Z"
   },
   {
    "duration": 110,
    "start_time": "2022-04-16T20:36:18.915Z"
   },
   {
    "duration": 52,
    "start_time": "2022-04-16T20:36:24.693Z"
   },
   {
    "duration": 31,
    "start_time": "2022-04-16T20:38:51.028Z"
   },
   {
    "duration": 31,
    "start_time": "2022-04-16T20:38:54.796Z"
   },
   {
    "duration": 17,
    "start_time": "2022-04-16T20:39:07.213Z"
   },
   {
    "duration": 13,
    "start_time": "2022-04-16T20:39:13.043Z"
   },
   {
    "duration": 12,
    "start_time": "2022-04-16T20:39:46.114Z"
   },
   {
    "duration": 3,
    "start_time": "2022-04-16T20:40:01.157Z"
   },
   {
    "duration": 7,
    "start_time": "2022-04-16T20:40:01.162Z"
   },
   {
    "duration": 664,
    "start_time": "2022-04-16T20:40:01.170Z"
   },
   {
    "duration": 100,
    "start_time": "2022-04-16T20:40:01.836Z"
   },
   {
    "duration": 25,
    "start_time": "2022-04-16T20:40:01.938Z"
   },
   {
    "duration": 86,
    "start_time": "2022-04-16T20:40:01.964Z"
   },
   {
    "duration": 102,
    "start_time": "2022-04-16T20:40:02.052Z"
   },
   {
    "duration": 96,
    "start_time": "2022-04-16T20:40:02.155Z"
   },
   {
    "duration": 349,
    "start_time": "2022-04-16T20:40:02.253Z"
   },
   {
    "duration": 81,
    "start_time": "2022-04-16T20:40:02.604Z"
   },
   {
    "duration": 169,
    "start_time": "2022-04-16T20:40:02.688Z"
   },
   {
    "duration": 20,
    "start_time": "2022-04-16T20:40:02.859Z"
   },
   {
    "duration": 279,
    "start_time": "2022-04-16T20:40:02.880Z"
   },
   {
    "duration": 4,
    "start_time": "2022-04-16T20:40:03.160Z"
   },
   {
    "duration": 5,
    "start_time": "2022-04-16T20:40:03.166Z"
   },
   {
    "duration": 187,
    "start_time": "2022-04-16T20:40:03.172Z"
   },
   {
    "duration": 1186,
    "start_time": "2022-04-16T20:40:03.360Z"
   },
   {
    "duration": 17,
    "start_time": "2022-04-16T20:40:04.548Z"
   },
   {
    "duration": 80,
    "start_time": "2022-04-16T20:40:04.566Z"
   },
   {
    "duration": 64,
    "start_time": "2022-04-16T20:40:04.647Z"
   },
   {
    "duration": 70,
    "start_time": "2022-04-16T20:40:04.723Z"
   },
   {
    "duration": 77,
    "start_time": "2022-04-16T20:40:04.795Z"
   },
   {
    "duration": 83,
    "start_time": "2022-04-16T20:40:04.874Z"
   },
   {
    "duration": 69,
    "start_time": "2022-04-16T20:40:04.959Z"
   },
   {
    "duration": 176,
    "start_time": "2022-04-16T20:40:05.030Z"
   },
   {
    "duration": 185,
    "start_time": "2022-04-16T20:40:05.207Z"
   },
   {
    "duration": 109,
    "start_time": "2022-04-16T20:40:05.394Z"
   },
   {
    "duration": 108,
    "start_time": "2022-04-16T20:40:07.818Z"
   },
   {
    "duration": 67,
    "start_time": "2022-04-16T20:41:28.515Z"
   },
   {
    "duration": 28,
    "start_time": "2022-04-16T20:42:59.988Z"
   },
   {
    "duration": 30,
    "start_time": "2022-04-16T20:43:23.556Z"
   },
   {
    "duration": 21,
    "start_time": "2022-04-16T20:43:33.570Z"
   },
   {
    "duration": 36,
    "start_time": "2022-04-16T20:43:52.482Z"
   },
   {
    "duration": 477,
    "start_time": "2022-04-16T20:44:00.461Z"
   },
   {
    "duration": 105,
    "start_time": "2022-04-16T20:44:52.092Z"
   },
   {
    "duration": 100,
    "start_time": "2022-04-16T20:44:56.938Z"
   },
   {
    "duration": 4,
    "start_time": "2022-04-16T20:45:04.051Z"
   },
   {
    "duration": 65,
    "start_time": "2022-04-16T20:45:06.833Z"
   },
   {
    "duration": 47,
    "start_time": "2022-04-16T20:45:16.531Z"
   },
   {
    "duration": 42,
    "start_time": "2022-04-16T20:45:25.306Z"
   },
   {
    "duration": 45,
    "start_time": "2022-04-16T20:46:31.962Z"
   },
   {
    "duration": 46,
    "start_time": "2022-04-16T20:47:12.201Z"
   },
   {
    "duration": 44,
    "start_time": "2022-04-16T20:48:19.248Z"
   },
   {
    "duration": 58,
    "start_time": "2022-04-16T20:51:23.930Z"
   },
   {
    "duration": 63,
    "start_time": "2022-04-16T20:51:27.047Z"
   },
   {
    "duration": 41,
    "start_time": "2022-04-16T20:51:38.472Z"
   },
   {
    "duration": 12,
    "start_time": "2022-04-16T20:56:46.095Z"
   },
   {
    "duration": 92,
    "start_time": "2022-04-16T20:57:20.855Z"
   },
   {
    "duration": 108,
    "start_time": "2022-04-16T20:57:53.013Z"
   },
   {
    "duration": 57,
    "start_time": "2022-04-16T21:00:21.374Z"
   },
   {
    "duration": 87,
    "start_time": "2022-04-16T21:00:52.367Z"
   },
   {
    "duration": 88,
    "start_time": "2022-04-16T21:01:54.629Z"
   },
   {
    "duration": 64,
    "start_time": "2022-04-16T21:02:06.996Z"
   },
   {
    "duration": 62,
    "start_time": "2022-04-16T21:02:17.413Z"
   },
   {
    "duration": 1702,
    "start_time": "2022-04-17T14:41:45.011Z"
   },
   {
    "duration": 3,
    "start_time": "2022-04-17T14:41:46.715Z"
   },
   {
    "duration": 886,
    "start_time": "2022-04-17T14:41:46.720Z"
   },
   {
    "duration": 154,
    "start_time": "2022-04-17T14:41:47.608Z"
   },
   {
    "duration": 18,
    "start_time": "2022-04-17T14:41:47.764Z"
   },
   {
    "duration": 71,
    "start_time": "2022-04-17T14:41:47.784Z"
   },
   {
    "duration": 147,
    "start_time": "2022-04-17T14:41:47.857Z"
   },
   {
    "duration": 147,
    "start_time": "2022-04-17T14:41:48.006Z"
   },
   {
    "duration": 518,
    "start_time": "2022-04-17T14:41:48.154Z"
   },
   {
    "duration": 117,
    "start_time": "2022-04-17T14:41:48.675Z"
   },
   {
    "duration": 228,
    "start_time": "2022-04-17T14:41:48.794Z"
   },
   {
    "duration": 27,
    "start_time": "2022-04-17T14:41:49.023Z"
   },
   {
    "duration": 370,
    "start_time": "2022-04-17T14:41:49.052Z"
   },
   {
    "duration": 10,
    "start_time": "2022-04-17T14:41:49.424Z"
   },
   {
    "duration": 4,
    "start_time": "2022-04-17T14:41:49.436Z"
   },
   {
    "duration": 297,
    "start_time": "2022-04-17T14:41:49.442Z"
   },
   {
    "duration": 1719,
    "start_time": "2022-04-17T14:41:49.742Z"
   },
   {
    "duration": 24,
    "start_time": "2022-04-17T14:41:51.463Z"
   },
   {
    "duration": 109,
    "start_time": "2022-04-17T14:41:51.489Z"
   },
   {
    "duration": 92,
    "start_time": "2022-04-17T14:41:51.600Z"
   },
   {
    "duration": 98,
    "start_time": "2022-04-17T14:41:51.694Z"
   },
   {
    "duration": 106,
    "start_time": "2022-04-17T14:41:51.794Z"
   },
   {
    "duration": 96,
    "start_time": "2022-04-17T14:41:51.902Z"
   },
   {
    "duration": 96,
    "start_time": "2022-04-17T14:41:52.000Z"
   },
   {
    "duration": 294,
    "start_time": "2022-04-17T14:41:52.097Z"
   },
   {
    "duration": 220,
    "start_time": "2022-04-17T14:41:52.393Z"
   },
   {
    "duration": 136,
    "start_time": "2022-04-17T14:41:52.615Z"
   },
   {
    "duration": 152,
    "start_time": "2022-04-17T14:41:52.755Z"
   },
   {
    "duration": 70,
    "start_time": "2022-04-17T14:41:52.909Z"
   },
   {
    "duration": 102,
    "start_time": "2022-04-17T14:41:52.981Z"
   },
   {
    "duration": 98,
    "start_time": "2022-04-17T14:41:53.084Z"
   },
   {
    "duration": 22,
    "start_time": "2022-04-17T14:42:10.699Z"
   },
   {
    "duration": 116,
    "start_time": "2022-04-17T14:42:20.018Z"
   },
   {
    "duration": 116,
    "start_time": "2022-04-17T14:42:22.658Z"
   },
   {
    "duration": 92,
    "start_time": "2022-04-17T14:42:30.674Z"
   },
   {
    "duration": 115,
    "start_time": "2022-04-17T14:44:19.138Z"
   },
   {
    "duration": 94,
    "start_time": "2022-04-17T14:44:20.667Z"
   },
   {
    "duration": 3,
    "start_time": "2022-04-17T14:46:52.326Z"
   },
   {
    "duration": 23,
    "start_time": "2022-04-17T14:46:52.331Z"
   },
   {
    "duration": 822,
    "start_time": "2022-04-17T14:46:52.356Z"
   },
   {
    "duration": 141,
    "start_time": "2022-04-17T14:46:53.179Z"
   },
   {
    "duration": 23,
    "start_time": "2022-04-17T14:46:53.322Z"
   },
   {
    "duration": 52,
    "start_time": "2022-04-17T14:46:53.346Z"
   },
   {
    "duration": 148,
    "start_time": "2022-04-17T14:46:53.399Z"
   },
   {
    "duration": 145,
    "start_time": "2022-04-17T14:46:53.549Z"
   },
   {
    "duration": 450,
    "start_time": "2022-04-17T14:46:53.696Z"
   },
   {
    "duration": 105,
    "start_time": "2022-04-17T14:46:54.148Z"
   },
   {
    "duration": 212,
    "start_time": "2022-04-17T14:46:54.255Z"
   },
   {
    "duration": 21,
    "start_time": "2022-04-17T14:46:54.469Z"
   },
   {
    "duration": 368,
    "start_time": "2022-04-17T14:46:54.492Z"
   },
   {
    "duration": 5,
    "start_time": "2022-04-17T14:46:54.862Z"
   },
   {
    "duration": 6,
    "start_time": "2022-04-17T14:46:54.868Z"
   },
   {
    "duration": 234,
    "start_time": "2022-04-17T14:46:54.875Z"
   },
   {
    "duration": 1707,
    "start_time": "2022-04-17T14:46:55.110Z"
   },
   {
    "duration": 321,
    "start_time": "2022-04-17T14:47:06.441Z"
   },
   {
    "duration": 24,
    "start_time": "2022-04-17T14:48:10.538Z"
   },
   {
    "duration": 160,
    "start_time": "2022-04-17T14:48:11.865Z"
   },
   {
    "duration": 87,
    "start_time": "2022-04-17T14:48:13.553Z"
   },
   {
    "duration": 92,
    "start_time": "2022-04-17T14:48:15.735Z"
   },
   {
    "duration": 91,
    "start_time": "2022-04-17T14:48:16.903Z"
   },
   {
    "duration": 88,
    "start_time": "2022-04-17T14:48:17.919Z"
   },
   {
    "duration": 91,
    "start_time": "2022-04-17T14:48:19.392Z"
   },
   {
    "duration": 202,
    "start_time": "2022-04-17T14:48:20.239Z"
   },
   {
    "duration": 219,
    "start_time": "2022-04-17T14:48:20.592Z"
   },
   {
    "duration": 127,
    "start_time": "2022-04-17T14:48:21.383Z"
   },
   {
    "duration": 135,
    "start_time": "2022-04-17T14:48:22.073Z"
   },
   {
    "duration": 66,
    "start_time": "2022-04-17T14:48:22.631Z"
   },
   {
    "duration": 80,
    "start_time": "2022-04-17T14:48:23.376Z"
   },
   {
    "duration": 92,
    "start_time": "2022-04-17T14:48:24.200Z"
   },
   {
    "duration": 22,
    "start_time": "2022-04-17T14:48:27.199Z"
   },
   {
    "duration": 115,
    "start_time": "2022-04-17T14:48:28.249Z"
   },
   {
    "duration": 117,
    "start_time": "2022-04-17T14:48:28.936Z"
   },
   {
    "duration": 116,
    "start_time": "2022-04-17T14:48:29.385Z"
   },
   {
    "duration": 93,
    "start_time": "2022-04-17T14:48:32.384Z"
   },
   {
    "duration": 35,
    "start_time": "2022-04-17T14:54:33.372Z"
   },
   {
    "duration": 11,
    "start_time": "2022-04-17T14:54:52.273Z"
   },
   {
    "duration": 11,
    "start_time": "2022-04-17T14:54:57.359Z"
   },
   {
    "duration": 11,
    "start_time": "2022-04-17T14:55:05.199Z"
   },
   {
    "duration": 11,
    "start_time": "2022-04-17T14:55:31.591Z"
   },
   {
    "duration": 10,
    "start_time": "2022-04-17T14:55:36.551Z"
   },
   {
    "duration": 9,
    "start_time": "2022-04-17T14:55:43.351Z"
   },
   {
    "duration": 11,
    "start_time": "2022-04-17T14:55:48.847Z"
   },
   {
    "duration": 10,
    "start_time": "2022-04-17T14:55:52.398Z"
   },
   {
    "duration": 10,
    "start_time": "2022-04-17T14:55:54.639Z"
   },
   {
    "duration": 11,
    "start_time": "2022-04-17T14:56:05.758Z"
   },
   {
    "duration": 11,
    "start_time": "2022-04-17T14:56:09.470Z"
   },
   {
    "duration": 14,
    "start_time": "2022-04-17T14:57:02.062Z"
   },
   {
    "duration": 10,
    "start_time": "2022-04-17T14:57:24.960Z"
   },
   {
    "duration": 16,
    "start_time": "2022-04-17T14:58:01.094Z"
   },
   {
    "duration": 9,
    "start_time": "2022-04-17T14:58:06.079Z"
   },
   {
    "duration": 19,
    "start_time": "2022-04-17T14:59:45.005Z"
   },
   {
    "duration": 152,
    "start_time": "2022-04-17T15:00:02.221Z"
   },
   {
    "duration": 122,
    "start_time": "2022-04-17T15:00:25.997Z"
   },
   {
    "duration": 19,
    "start_time": "2022-04-17T15:02:00.668Z"
   },
   {
    "duration": 8,
    "start_time": "2022-04-17T15:03:55.076Z"
   },
   {
    "duration": 7,
    "start_time": "2022-04-17T15:04:07.194Z"
   },
   {
    "duration": 7,
    "start_time": "2022-04-17T15:04:13.299Z"
   },
   {
    "duration": 15,
    "start_time": "2022-04-17T15:04:29.019Z"
   },
   {
    "duration": 16,
    "start_time": "2022-04-17T15:04:36.378Z"
   },
   {
    "duration": 16,
    "start_time": "2022-04-17T15:04:51.913Z"
   },
   {
    "duration": 28,
    "start_time": "2022-04-17T15:05:07.026Z"
   },
   {
    "duration": 28,
    "start_time": "2022-04-17T18:41:54.449Z"
   },
   {
    "duration": 11,
    "start_time": "2022-04-17T18:43:19.751Z"
   },
   {
    "duration": 3,
    "start_time": "2022-04-17T18:43:50.459Z"
   },
   {
    "duration": 8,
    "start_time": "2022-04-17T18:43:50.464Z"
   },
   {
    "duration": 1544,
    "start_time": "2022-04-17T18:43:50.474Z"
   },
   {
    "duration": 140,
    "start_time": "2022-04-17T18:43:52.019Z"
   },
   {
    "duration": 13,
    "start_time": "2022-04-17T18:43:52.161Z"
   },
   {
    "duration": 69,
    "start_time": "2022-04-17T18:43:52.176Z"
   },
   {
    "duration": 137,
    "start_time": "2022-04-17T18:43:52.247Z"
   },
   {
    "duration": 148,
    "start_time": "2022-04-17T18:43:52.386Z"
   },
   {
    "duration": 439,
    "start_time": "2022-04-17T18:43:52.536Z"
   },
   {
    "duration": 113,
    "start_time": "2022-04-17T18:43:52.977Z"
   },
   {
    "duration": 212,
    "start_time": "2022-04-17T18:43:53.093Z"
   },
   {
    "duration": 27,
    "start_time": "2022-04-17T18:43:53.306Z"
   },
   {
    "duration": 356,
    "start_time": "2022-04-17T18:43:53.335Z"
   },
   {
    "duration": 5,
    "start_time": "2022-04-17T18:43:53.693Z"
   },
   {
    "duration": 8,
    "start_time": "2022-04-17T18:43:53.700Z"
   },
   {
    "duration": 236,
    "start_time": "2022-04-17T18:43:53.710Z"
   },
   {
    "duration": 1650,
    "start_time": "2022-04-17T18:43:53.948Z"
   },
   {
    "duration": 297,
    "start_time": "2022-04-17T18:43:55.599Z"
   },
   {
    "duration": 22,
    "start_time": "2022-04-17T18:43:55.898Z"
   },
   {
    "duration": 97,
    "start_time": "2022-04-17T18:43:55.922Z"
   },
   {
    "duration": 98,
    "start_time": "2022-04-17T18:43:56.021Z"
   },
   {
    "duration": 89,
    "start_time": "2022-04-17T18:43:56.133Z"
   },
   {
    "duration": 97,
    "start_time": "2022-04-17T18:43:56.224Z"
   },
   {
    "duration": 100,
    "start_time": "2022-04-17T18:43:56.334Z"
   },
   {
    "duration": 99,
    "start_time": "2022-04-17T18:43:56.436Z"
   },
   {
    "duration": 210,
    "start_time": "2022-04-17T18:43:56.537Z"
   },
   {
    "duration": 223,
    "start_time": "2022-04-17T18:43:56.750Z"
   },
   {
    "duration": 130,
    "start_time": "2022-04-17T18:43:56.975Z"
   },
   {
    "duration": 157,
    "start_time": "2022-04-17T18:43:57.109Z"
   },
   {
    "duration": 72,
    "start_time": "2022-04-17T18:43:57.267Z"
   },
   {
    "duration": 96,
    "start_time": "2022-04-17T18:43:57.341Z"
   },
   {
    "duration": 98,
    "start_time": "2022-04-17T18:43:57.439Z"
   },
   {
    "duration": 21,
    "start_time": "2022-04-17T18:43:57.539Z"
   },
   {
    "duration": 134,
    "start_time": "2022-04-17T18:43:57.562Z"
   },
   {
    "duration": 124,
    "start_time": "2022-04-17T18:43:57.698Z"
   },
   {
    "duration": 120,
    "start_time": "2022-04-17T18:43:57.824Z"
   },
   {
    "duration": 101,
    "start_time": "2022-04-17T18:43:57.946Z"
   },
   {
    "duration": 15,
    "start_time": "2022-04-17T18:43:58.049Z"
   },
   {
    "duration": 29,
    "start_time": "2022-04-17T18:43:58.066Z"
   },
   {
    "duration": 9,
    "start_time": "2022-04-17T18:54:01.392Z"
   },
   {
    "duration": 7,
    "start_time": "2022-04-17T18:54:08.167Z"
   },
   {
    "duration": 7,
    "start_time": "2022-04-17T18:54:12.791Z"
   },
   {
    "duration": 8,
    "start_time": "2022-04-17T18:54:20.062Z"
   },
   {
    "duration": 7,
    "start_time": "2022-04-17T18:54:45.678Z"
   },
   {
    "duration": 7,
    "start_time": "2022-04-17T18:55:14.093Z"
   },
   {
    "duration": 31,
    "start_time": "2022-04-17T18:55:24.557Z"
   },
   {
    "duration": 23,
    "start_time": "2022-04-17T18:56:54.026Z"
   },
   {
    "duration": 9,
    "start_time": "2022-04-17T18:57:00.389Z"
   },
   {
    "duration": 9,
    "start_time": "2022-04-17T18:57:05.141Z"
   },
   {
    "duration": 24,
    "start_time": "2022-04-17T18:58:33.176Z"
   },
   {
    "duration": 31,
    "start_time": "2022-04-17T18:58:58.934Z"
   },
   {
    "duration": 7,
    "start_time": "2022-04-17T18:59:45.796Z"
   },
   {
    "duration": 30,
    "start_time": "2022-04-17T19:00:02.891Z"
   },
   {
    "duration": 6,
    "start_time": "2022-04-17T19:04:18.635Z"
   },
   {
    "duration": 5,
    "start_time": "2022-04-17T19:04:25.170Z"
   },
   {
    "duration": 9,
    "start_time": "2022-04-17T19:04:27.314Z"
   },
   {
    "duration": 6,
    "start_time": "2022-04-17T19:04:41.721Z"
   },
   {
    "duration": 8,
    "start_time": "2022-04-17T19:04:52.201Z"
   },
   {
    "duration": 5,
    "start_time": "2022-04-17T19:04:54.794Z"
   },
   {
    "duration": 6,
    "start_time": "2022-04-17T19:05:06.226Z"
   },
   {
    "duration": 6,
    "start_time": "2022-04-17T19:05:19.011Z"
   },
   {
    "duration": 5,
    "start_time": "2022-04-17T19:05:30.914Z"
   },
   {
    "duration": 6,
    "start_time": "2022-04-17T19:05:31.601Z"
   },
   {
    "duration": 5,
    "start_time": "2022-04-17T19:05:37.977Z"
   },
   {
    "duration": 5,
    "start_time": "2022-04-17T19:05:42.137Z"
   },
   {
    "duration": 6,
    "start_time": "2022-04-17T19:05:47.041Z"
   },
   {
    "duration": 17,
    "start_time": "2022-04-17T19:06:41.106Z"
   },
   {
    "duration": 27,
    "start_time": "2022-04-17T19:07:33.026Z"
   },
   {
    "duration": 202,
    "start_time": "2022-04-17T19:09:02.841Z"
   },
   {
    "duration": 188,
    "start_time": "2022-04-17T19:09:27.304Z"
   },
   {
    "duration": 181,
    "start_time": "2022-04-17T19:09:36.752Z"
   },
   {
    "duration": 189,
    "start_time": "2022-04-17T19:09:43.816Z"
   },
   {
    "duration": 187,
    "start_time": "2022-04-17T19:09:52.640Z"
   },
   {
    "duration": 271,
    "start_time": "2022-04-17T19:09:57.304Z"
   },
   {
    "duration": 197,
    "start_time": "2022-04-17T19:10:01.016Z"
   },
   {
    "duration": 13,
    "start_time": "2022-04-17T19:10:24.007Z"
   },
   {
    "duration": 367,
    "start_time": "2022-04-17T19:11:19.720Z"
   },
   {
    "duration": 19,
    "start_time": "2022-04-17T19:12:00.744Z"
   },
   {
    "duration": 6,
    "start_time": "2022-04-17T19:16:04.335Z"
   },
   {
    "duration": 6,
    "start_time": "2022-04-17T19:16:35.351Z"
   },
   {
    "duration": 32,
    "start_time": "2022-04-17T19:16:53.159Z"
   },
   {
    "duration": 6,
    "start_time": "2022-04-17T19:17:23.121Z"
   },
   {
    "duration": 19,
    "start_time": "2022-04-17T19:17:41.976Z"
   },
   {
    "duration": 17,
    "start_time": "2022-04-17T19:18:25.846Z"
   },
   {
    "duration": 4,
    "start_time": "2022-04-17T19:22:52.133Z"
   },
   {
    "duration": 107,
    "start_time": "2022-04-17T19:23:13.918Z"
   },
   {
    "duration": 5,
    "start_time": "2022-04-17T19:23:22.181Z"
   },
   {
    "duration": 93,
    "start_time": "2022-04-17T19:23:28.486Z"
   },
   {
    "duration": 13,
    "start_time": "2022-04-17T19:23:52.909Z"
   },
   {
    "duration": 13,
    "start_time": "2022-04-17T19:24:02.693Z"
   },
   {
    "duration": 13,
    "start_time": "2022-04-17T19:24:06.956Z"
   },
   {
    "duration": 13,
    "start_time": "2022-04-17T19:24:09.668Z"
   },
   {
    "duration": 12,
    "start_time": "2022-04-17T19:24:12.005Z"
   },
   {
    "duration": 12,
    "start_time": "2022-04-17T19:24:17.676Z"
   },
   {
    "duration": 12,
    "start_time": "2022-04-17T19:24:21.452Z"
   },
   {
    "duration": 12,
    "start_time": "2022-04-17T19:24:24.524Z"
   },
   {
    "duration": 12,
    "start_time": "2022-04-17T19:24:27.596Z"
   },
   {
    "duration": 14,
    "start_time": "2022-04-17T19:24:30.606Z"
   },
   {
    "duration": 33,
    "start_time": "2022-04-17T19:24:57.381Z"
   },
   {
    "duration": 18,
    "start_time": "2022-04-17T19:26:16.848Z"
   },
   {
    "duration": 19,
    "start_time": "2022-04-17T19:27:11.837Z"
   },
   {
    "duration": 19,
    "start_time": "2022-04-17T19:27:15.998Z"
   },
   {
    "duration": 25,
    "start_time": "2022-04-17T19:27:52.813Z"
   },
   {
    "duration": 13,
    "start_time": "2022-04-17T19:31:24.075Z"
   },
   {
    "duration": 12,
    "start_time": "2022-04-17T19:31:37.179Z"
   },
   {
    "duration": 2372,
    "start_time": "2022-04-18T17:21:36.004Z"
   },
   {
    "duration": 4,
    "start_time": "2022-04-18T17:21:38.379Z"
   },
   {
    "duration": 1143,
    "start_time": "2022-04-18T17:21:38.386Z"
   },
   {
    "duration": 189,
    "start_time": "2022-04-18T17:21:39.533Z"
   },
   {
    "duration": 25,
    "start_time": "2022-04-18T17:21:39.725Z"
   },
   {
    "duration": 79,
    "start_time": "2022-04-18T17:21:39.753Z"
   },
   {
    "duration": 200,
    "start_time": "2022-04-18T17:21:39.834Z"
   },
   {
    "duration": 178,
    "start_time": "2022-04-18T17:21:40.037Z"
   },
   {
    "duration": 733,
    "start_time": "2022-04-18T17:21:40.218Z"
   },
   {
    "duration": 132,
    "start_time": "2022-04-18T17:21:40.955Z"
   },
   {
    "duration": 316,
    "start_time": "2022-04-18T17:21:41.090Z"
   },
   {
    "duration": 31,
    "start_time": "2022-04-18T17:21:41.409Z"
   },
   {
    "duration": 451,
    "start_time": "2022-04-18T17:21:41.443Z"
   },
   {
    "duration": 7,
    "start_time": "2022-04-18T17:21:41.896Z"
   },
   {
    "duration": 7,
    "start_time": "2022-04-18T17:21:41.905Z"
   },
   {
    "duration": 419,
    "start_time": "2022-04-18T17:21:41.914Z"
   },
   {
    "duration": 2141,
    "start_time": "2022-04-18T17:21:42.336Z"
   },
   {
    "duration": 519,
    "start_time": "2022-04-18T17:21:44.482Z"
   },
   {
    "duration": 30,
    "start_time": "2022-04-18T17:21:45.004Z"
   },
   {
    "duration": 149,
    "start_time": "2022-04-18T17:21:45.036Z"
   },
   {
    "duration": 119,
    "start_time": "2022-04-18T17:21:45.187Z"
   },
   {
    "duration": 137,
    "start_time": "2022-04-18T17:21:45.309Z"
   },
   {
    "duration": 121,
    "start_time": "2022-04-18T17:21:45.448Z"
   },
   {
    "duration": 136,
    "start_time": "2022-04-18T17:21:45.571Z"
   },
   {
    "duration": 120,
    "start_time": "2022-04-18T17:21:45.710Z"
   },
   {
    "duration": 359,
    "start_time": "2022-04-18T17:21:45.833Z"
   },
   {
    "duration": 342,
    "start_time": "2022-04-18T17:21:46.195Z"
   },
   {
    "duration": 192,
    "start_time": "2022-04-18T17:21:46.542Z"
   },
   {
    "duration": 203,
    "start_time": "2022-04-18T17:21:46.736Z"
   },
   {
    "duration": 85,
    "start_time": "2022-04-18T17:21:46.941Z"
   },
   {
    "duration": 119,
    "start_time": "2022-04-18T17:21:47.029Z"
   },
   {
    "duration": 112,
    "start_time": "2022-04-18T17:21:47.150Z"
   },
   {
    "duration": 35,
    "start_time": "2022-04-18T17:21:47.265Z"
   },
   {
    "duration": 168,
    "start_time": "2022-04-18T17:21:47.302Z"
   },
   {
    "duration": 165,
    "start_time": "2022-04-18T17:21:47.473Z"
   },
   {
    "duration": 169,
    "start_time": "2022-04-18T17:21:47.640Z"
   },
   {
    "duration": 118,
    "start_time": "2022-04-18T17:21:47.811Z"
   },
   {
    "duration": 25,
    "start_time": "2022-04-18T17:21:55.219Z"
   },
   {
    "duration": 16,
    "start_time": "2022-04-18T17:22:02.205Z"
   },
   {
    "duration": 63,
    "start_time": "2022-04-18T17:22:44.972Z"
   },
   {
    "duration": 9,
    "start_time": "2022-04-18T17:23:08.963Z"
   },
   {
    "duration": 62,
    "start_time": "2022-04-18T17:23:16.900Z"
   },
   {
    "duration": 29,
    "start_time": "2022-04-18T17:24:29.842Z"
   },
   {
    "duration": 8,
    "start_time": "2022-04-18T17:25:14.746Z"
   },
   {
    "duration": 7,
    "start_time": "2022-04-18T17:25:20.051Z"
   },
   {
    "duration": 7,
    "start_time": "2022-04-18T17:25:24.901Z"
   },
   {
    "duration": 8,
    "start_time": "2022-04-18T17:26:24.115Z"
   },
   {
    "duration": 53,
    "start_time": "2022-04-18T17:26:26.242Z"
   },
   {
    "duration": 471,
    "start_time": "2022-04-18T17:26:55.852Z"
   },
   {
    "duration": 11,
    "start_time": "2022-04-18T17:27:44.284Z"
   },
   {
    "duration": 10,
    "start_time": "2022-04-18T17:28:01.418Z"
   },
   {
    "duration": 10,
    "start_time": "2022-04-18T17:28:05.249Z"
   },
   {
    "duration": 9,
    "start_time": "2022-04-18T17:28:19.667Z"
   },
   {
    "duration": 24,
    "start_time": "2022-04-18T17:28:31.642Z"
   },
   {
    "duration": 4,
    "start_time": "2022-04-18T17:28:41.523Z"
   },
   {
    "duration": 166,
    "start_time": "2022-04-18T17:28:43.505Z"
   },
   {
    "duration": 30,
    "start_time": "2022-04-18T17:29:56.609Z"
   },
   {
    "duration": 30,
    "start_time": "2022-04-18T17:30:12.226Z"
   },
   {
    "duration": 34,
    "start_time": "2022-04-18T17:30:31.761Z"
   },
   {
    "duration": 31,
    "start_time": "2022-04-18T17:31:11.699Z"
   },
   {
    "duration": 40,
    "start_time": "2022-04-18T17:36:27.006Z"
   },
   {
    "duration": 259,
    "start_time": "2022-04-18T17:36:34.824Z"
   },
   {
    "duration": 20,
    "start_time": "2022-04-18T17:36:43.760Z"
   },
   {
    "duration": 10,
    "start_time": "2022-04-18T17:36:55.181Z"
   },
   {
    "duration": 22,
    "start_time": "2022-04-18T17:36:55.195Z"
   },
   {
    "duration": 1118,
    "start_time": "2022-04-18T17:36:55.219Z"
   },
   {
    "duration": 187,
    "start_time": "2022-04-18T17:36:56.342Z"
   },
   {
    "duration": 136,
    "start_time": "2022-04-18T17:36:56.532Z"
   },
   {
    "duration": 80,
    "start_time": "2022-04-18T17:36:56.670Z"
   },
   {
    "duration": 203,
    "start_time": "2022-04-18T17:36:56.753Z"
   },
   {
    "duration": 192,
    "start_time": "2022-04-18T17:36:56.958Z"
   },
   {
    "duration": 676,
    "start_time": "2022-04-18T17:36:57.154Z"
   },
   {
    "duration": 138,
    "start_time": "2022-04-18T17:36:57.832Z"
   },
   {
    "duration": 393,
    "start_time": "2022-04-18T17:36:57.980Z"
   },
   {
    "duration": 32,
    "start_time": "2022-04-18T17:36:58.381Z"
   },
   {
    "duration": 616,
    "start_time": "2022-04-18T17:36:58.416Z"
   },
   {
    "duration": 7,
    "start_time": "2022-04-18T17:36:59.034Z"
   },
   {
    "duration": 7,
    "start_time": "2022-04-18T17:36:59.044Z"
   },
   {
    "duration": 369,
    "start_time": "2022-04-18T17:36:59.053Z"
   },
   {
    "duration": 2445,
    "start_time": "2022-04-18T17:36:59.425Z"
   },
   {
    "duration": 512,
    "start_time": "2022-04-18T17:37:01.872Z"
   },
   {
    "duration": 168,
    "start_time": "2022-04-18T17:37:02.389Z"
   },
   {
    "duration": 44,
    "start_time": "2022-04-18T17:37:02.560Z"
   },
   {
    "duration": 176,
    "start_time": "2022-04-18T17:37:02.609Z"
   },
   {
    "duration": 136,
    "start_time": "2022-04-18T17:37:02.788Z"
   },
   {
    "duration": 141,
    "start_time": "2022-04-18T17:37:02.926Z"
   },
   {
    "duration": 143,
    "start_time": "2022-04-18T17:37:03.072Z"
   },
   {
    "duration": 143,
    "start_time": "2022-04-18T17:37:03.217Z"
   },
   {
    "duration": 180,
    "start_time": "2022-04-18T17:37:03.362Z"
   },
   {
    "duration": 274,
    "start_time": "2022-04-18T17:37:03.545Z"
   },
   {
    "duration": 317,
    "start_time": "2022-04-18T17:37:03.822Z"
   },
   {
    "duration": 266,
    "start_time": "2022-04-18T17:37:04.141Z"
   },
   {
    "duration": 248,
    "start_time": "2022-04-18T17:37:04.410Z"
   },
   {
    "duration": 151,
    "start_time": "2022-04-18T17:37:04.661Z"
   },
   {
    "duration": 142,
    "start_time": "2022-04-18T17:37:04.815Z"
   },
   {
    "duration": 129,
    "start_time": "2022-04-18T17:37:04.959Z"
   },
   {
    "duration": 35,
    "start_time": "2022-04-18T17:37:05.091Z"
   },
   {
    "duration": 281,
    "start_time": "2022-04-18T17:37:05.128Z"
   },
   {
    "duration": 285,
    "start_time": "2022-04-18T17:37:05.412Z"
   },
   {
    "duration": 223,
    "start_time": "2022-04-18T17:37:05.700Z"
   },
   {
    "duration": 130,
    "start_time": "2022-04-18T17:37:05.925Z"
   },
   {
    "duration": 39,
    "start_time": "2022-04-18T17:37:06.057Z"
   },
   {
    "duration": 64,
    "start_time": "2022-04-18T17:37:06.099Z"
   },
   {
    "duration": 22,
    "start_time": "2022-04-18T17:37:06.166Z"
   },
   {
    "duration": 71,
    "start_time": "2022-04-18T17:37:06.191Z"
   },
   {
    "duration": 19,
    "start_time": "2022-04-18T17:37:06.264Z"
   },
   {
    "duration": 68,
    "start_time": "2022-04-18T17:37:06.286Z"
   },
   {
    "duration": 521,
    "start_time": "2022-04-18T17:37:06.356Z"
   },
   {
    "duration": 8,
    "start_time": "2022-04-18T17:37:06.887Z"
   },
   {
    "duration": 48,
    "start_time": "2022-04-18T17:37:06.898Z"
   },
   {
    "duration": 5,
    "start_time": "2022-04-18T17:37:06.949Z"
   },
   {
    "duration": 343,
    "start_time": "2022-04-18T17:37:06.957Z"
   },
   {
    "duration": 32,
    "start_time": "2022-04-18T17:37:07.303Z"
   },
   {
    "duration": 209,
    "start_time": "2022-04-18T17:39:59.967Z"
   },
   {
    "duration": 212,
    "start_time": "2022-04-18T17:42:28.319Z"
   },
   {
    "duration": 32,
    "start_time": "2022-04-18T17:46:08.206Z"
   },
   {
    "duration": 16,
    "start_time": "2022-04-18T17:47:52.255Z"
   },
   {
    "duration": 6,
    "start_time": "2022-04-18T17:49:25.327Z"
   },
   {
    "duration": 173,
    "start_time": "2022-04-18T17:49:47.357Z"
   },
   {
    "duration": 8,
    "start_time": "2022-04-18T17:51:13.846Z"
   },
   {
    "duration": 16,
    "start_time": "2022-04-18T17:54:26.908Z"
   },
   {
    "duration": 117,
    "start_time": "2022-04-18T17:54:52.117Z"
   },
   {
    "duration": 14,
    "start_time": "2022-04-18T19:18:54.049Z"
   },
   {
    "duration": 16,
    "start_time": "2022-04-18T19:19:06.537Z"
   },
   {
    "duration": 13,
    "start_time": "2022-04-18T19:19:24.912Z"
   },
   {
    "duration": 11,
    "start_time": "2022-04-18T19:19:46.136Z"
   },
   {
    "duration": 23,
    "start_time": "2022-04-18T19:20:03.759Z"
   },
   {
    "duration": 33,
    "start_time": "2022-04-18T19:20:14.595Z"
   },
   {
    "duration": 40,
    "start_time": "2022-04-18T19:26:29.462Z"
   },
   {
    "duration": 166,
    "start_time": "2022-04-18T19:26:31.206Z"
   },
   {
    "duration": 7,
    "start_time": "2022-04-18T19:26:32.501Z"
   },
   {
    "duration": 6,
    "start_time": "2022-04-18T19:27:09.061Z"
   },
   {
    "duration": 6,
    "start_time": "2022-04-18T19:27:17.349Z"
   },
   {
    "duration": 13,
    "start_time": "2022-04-18T19:28:03.453Z"
   },
   {
    "duration": 62,
    "start_time": "2022-04-18T19:29:03.605Z"
   },
   {
    "duration": 26,
    "start_time": "2022-04-18T19:29:24.973Z"
   },
   {
    "duration": 317,
    "start_time": "2022-04-18T19:29:41.236Z"
   },
   {
    "duration": 313,
    "start_time": "2022-04-18T19:30:46.116Z"
   },
   {
    "duration": 14,
    "start_time": "2022-04-18T19:30:59.399Z"
   },
   {
    "duration": 11,
    "start_time": "2022-04-18T19:31:21.075Z"
   },
   {
    "duration": 14,
    "start_time": "2022-04-18T19:32:12.365Z"
   },
   {
    "duration": 13,
    "start_time": "2022-04-18T19:32:18.443Z"
   },
   {
    "duration": 11,
    "start_time": "2022-04-18T19:32:45.563Z"
   },
   {
    "duration": 19,
    "start_time": "2022-04-18T19:32:52.715Z"
   },
   {
    "duration": 292,
    "start_time": "2022-04-18T19:33:40.251Z"
   },
   {
    "duration": 15,
    "start_time": "2022-04-18T19:33:42.364Z"
   },
   {
    "duration": 6,
    "start_time": "2022-04-18T19:33:48.660Z"
   },
   {
    "duration": 305,
    "start_time": "2022-04-18T19:35:24.162Z"
   },
   {
    "duration": 292,
    "start_time": "2022-04-18T19:35:27.465Z"
   },
   {
    "duration": 65,
    "start_time": "2022-04-18T19:36:27.570Z"
   },
   {
    "duration": 37,
    "start_time": "2022-04-18T19:36:35.425Z"
   },
   {
    "duration": 34,
    "start_time": "2022-04-18T19:46:54.320Z"
   },
   {
    "duration": 9,
    "start_time": "2022-04-18T19:47:49.769Z"
   },
   {
    "duration": 2051,
    "start_time": "2022-04-18T19:49:23.083Z"
   },
   {
    "duration": 11,
    "start_time": "2022-04-18T19:49:31.544Z"
   },
   {
    "duration": 101,
    "start_time": "2022-04-18T19:49:49.000Z"
   },
   {
    "duration": 7,
    "start_time": "2022-04-18T19:50:32.387Z"
   },
   {
    "duration": 9,
    "start_time": "2022-04-18T19:50:39.423Z"
   },
   {
    "duration": 35,
    "start_time": "2022-04-18T19:50:49.296Z"
   },
   {
    "duration": 9,
    "start_time": "2022-04-18T19:51:10.080Z"
   },
   {
    "duration": 2292,
    "start_time": "2022-04-18T19:51:39.226Z"
   },
   {
    "duration": 32,
    "start_time": "2022-04-18T19:51:45.136Z"
   },
   {
    "duration": 153,
    "start_time": "2022-04-18T19:53:40.183Z"
   },
   {
    "duration": 4,
    "start_time": "2022-04-18T19:53:45.118Z"
   },
   {
    "duration": 1698,
    "start_time": "2022-04-18T19:54:01.165Z"
   },
   {
    "duration": 2175,
    "start_time": "2022-04-19T17:01:37.486Z"
   },
   {
    "duration": 4,
    "start_time": "2022-04-19T17:01:39.664Z"
   },
   {
    "duration": 1255,
    "start_time": "2022-04-19T17:01:39.669Z"
   },
   {
    "duration": 132,
    "start_time": "2022-04-19T17:01:40.926Z"
   },
   {
    "duration": 16,
    "start_time": "2022-04-19T17:01:41.060Z"
   },
   {
    "duration": 44,
    "start_time": "2022-04-19T17:01:41.078Z"
   },
   {
    "duration": 134,
    "start_time": "2022-04-19T17:01:41.124Z"
   },
   {
    "duration": 126,
    "start_time": "2022-04-19T17:01:41.260Z"
   },
   {
    "duration": 435,
    "start_time": "2022-04-19T17:01:41.388Z"
   },
   {
    "duration": 91,
    "start_time": "2022-04-19T17:01:41.826Z"
   },
   {
    "duration": 178,
    "start_time": "2022-04-19T17:01:41.919Z"
   },
   {
    "duration": 20,
    "start_time": "2022-04-19T17:01:42.099Z"
   },
   {
    "duration": 332,
    "start_time": "2022-04-19T17:01:42.120Z"
   },
   {
    "duration": 5,
    "start_time": "2022-04-19T17:01:42.453Z"
   },
   {
    "duration": 4,
    "start_time": "2022-04-19T17:01:42.459Z"
   },
   {
    "duration": 221,
    "start_time": "2022-04-19T17:01:42.465Z"
   },
   {
    "duration": 1461,
    "start_time": "2022-04-19T17:01:42.688Z"
   },
   {
    "duration": 306,
    "start_time": "2022-04-19T17:01:44.150Z"
   },
   {
    "duration": 21,
    "start_time": "2022-04-19T17:01:44.457Z"
   },
   {
    "duration": 95,
    "start_time": "2022-04-19T17:01:44.480Z"
   },
   {
    "duration": 89,
    "start_time": "2022-04-19T17:01:44.577Z"
   },
   {
    "duration": 93,
    "start_time": "2022-04-19T17:01:44.667Z"
   },
   {
    "duration": 87,
    "start_time": "2022-04-19T17:01:44.762Z"
   },
   {
    "duration": 77,
    "start_time": "2022-04-19T17:01:44.851Z"
   },
   {
    "duration": 93,
    "start_time": "2022-04-19T17:01:44.930Z"
   },
   {
    "duration": 263,
    "start_time": "2022-04-19T17:01:45.024Z"
   },
   {
    "duration": 197,
    "start_time": "2022-04-19T17:01:45.288Z"
   },
   {
    "duration": 120,
    "start_time": "2022-04-19T17:01:45.488Z"
   },
   {
    "duration": 139,
    "start_time": "2022-04-19T17:01:45.610Z"
   },
   {
    "duration": 78,
    "start_time": "2022-04-19T17:01:45.750Z"
   },
   {
    "duration": 123,
    "start_time": "2022-04-19T17:01:45.847Z"
   },
   {
    "duration": 87,
    "start_time": "2022-04-19T17:01:45.972Z"
   },
   {
    "duration": 19,
    "start_time": "2022-04-19T17:01:46.061Z"
   },
   {
    "duration": 116,
    "start_time": "2022-04-19T17:01:46.082Z"
   },
   {
    "duration": 109,
    "start_time": "2022-04-19T17:01:46.200Z"
   },
   {
    "duration": 104,
    "start_time": "2022-04-19T17:01:46.311Z"
   },
   {
    "duration": 87,
    "start_time": "2022-04-19T17:01:46.417Z"
   },
   {
    "duration": 14,
    "start_time": "2022-04-19T17:01:46.506Z"
   },
   {
    "duration": 42,
    "start_time": "2022-04-19T17:01:46.522Z"
   },
   {
    "duration": 5,
    "start_time": "2022-04-19T17:01:46.566Z"
   },
   {
    "duration": 27,
    "start_time": "2022-04-19T17:01:46.573Z"
   },
   {
    "duration": 6,
    "start_time": "2022-04-19T17:01:46.602Z"
   },
   {
    "duration": 52,
    "start_time": "2022-04-19T17:01:46.610Z"
   },
   {
    "duration": 330,
    "start_time": "2022-04-19T17:01:46.664Z"
   },
   {
    "duration": 7,
    "start_time": "2022-04-19T17:01:46.996Z"
   },
   {
    "duration": 19,
    "start_time": "2022-04-19T17:01:47.005Z"
   },
   {
    "duration": 3,
    "start_time": "2022-04-19T17:01:47.025Z"
   },
   {
    "duration": 123,
    "start_time": "2022-04-19T17:01:47.030Z"
   },
   {
    "duration": 20,
    "start_time": "2022-04-19T17:01:47.154Z"
   },
   {
    "duration": 110,
    "start_time": "2022-04-19T17:04:42.225Z"
   },
   {
    "duration": 6,
    "start_time": "2022-04-19T17:05:29.736Z"
   },
   {
    "duration": 27,
    "start_time": "2022-04-19T17:06:18.175Z"
   },
   {
    "duration": 29,
    "start_time": "2022-04-19T17:06:33.271Z"
   },
   {
    "duration": 31,
    "start_time": "2022-04-19T17:07:01.383Z"
   },
   {
    "duration": 39,
    "start_time": "2022-04-19T17:07:11.054Z"
   },
   {
    "duration": 38,
    "start_time": "2022-04-19T17:08:30.792Z"
   },
   {
    "duration": 114,
    "start_time": "2022-04-19T17:08:32.182Z"
   },
   {
    "duration": 5,
    "start_time": "2022-04-19T17:08:34.278Z"
   },
   {
    "duration": 108,
    "start_time": "2022-04-19T18:42:54.385Z"
   },
   {
    "duration": 2099,
    "start_time": "2022-04-19T18:44:45.569Z"
   },
   {
    "duration": 491,
    "start_time": "2022-04-19T18:45:02.345Z"
   },
   {
    "duration": 2061,
    "start_time": "2022-04-19T18:47:28.585Z"
   },
   {
    "duration": 2,
    "start_time": "2022-04-19T18:48:08.393Z"
   },
   {
    "duration": 496,
    "start_time": "2022-04-19T18:48:13.128Z"
   },
   {
    "duration": 1622,
    "start_time": "2022-04-19T18:48:19.695Z"
   },
   {
    "duration": 2,
    "start_time": "2022-04-19T18:51:43.919Z"
   },
   {
    "duration": 708,
    "start_time": "2022-04-19T18:51:45.119Z"
   },
   {
    "duration": 1626,
    "start_time": "2022-04-19T18:51:46.055Z"
   },
   {
    "duration": 2458,
    "start_time": "2022-04-19T18:52:45.494Z"
   },
   {
    "duration": 2263,
    "start_time": "2022-04-19T18:53:13.023Z"
   },
   {
    "duration": 2138,
    "start_time": "2022-04-19T19:01:22.660Z"
   },
   {
    "duration": 903,
    "start_time": "2022-04-19T19:01:47.141Z"
   },
   {
    "duration": 733,
    "start_time": "2022-04-19T19:02:38.413Z"
   },
   {
    "duration": 4,
    "start_time": "2022-04-19T19:06:58.834Z"
   },
   {
    "duration": 6,
    "start_time": "2022-04-19T19:07:15.786Z"
   },
   {
    "duration": 33184,
    "start_time": "2022-04-19T19:07:56.377Z"
   },
   {
    "duration": 4,
    "start_time": "2022-04-19T19:08:36.929Z"
   },
   {
    "duration": 3955,
    "start_time": "2022-04-19T19:08:38.227Z"
   },
   {
    "duration": 74,
    "start_time": "2022-04-19T19:08:50.397Z"
   },
   {
    "duration": 3,
    "start_time": "2022-04-19T19:09:06.288Z"
   },
   {
    "duration": 3,
    "start_time": "2022-04-19T19:09:10.272Z"
   },
   {
    "duration": 4,
    "start_time": "2022-04-19T19:09:42.944Z"
   },
   {
    "duration": 4,
    "start_time": "2022-04-19T19:09:44.096Z"
   },
   {
    "duration": 3,
    "start_time": "2022-04-19T19:10:01.753Z"
   },
   {
    "duration": 4,
    "start_time": "2022-04-19T19:10:02.273Z"
   },
   {
    "duration": 5,
    "start_time": "2022-04-19T19:10:20.048Z"
   },
   {
    "duration": 759,
    "start_time": "2022-04-19T19:12:51.241Z"
   },
   {
    "duration": 957,
    "start_time": "2022-04-19T19:13:06.256Z"
   },
   {
    "duration": 887,
    "start_time": "2022-04-19T19:13:28.040Z"
   },
   {
    "duration": 867,
    "start_time": "2022-04-19T19:13:35.592Z"
   },
   {
    "duration": 4,
    "start_time": "2022-04-19T19:14:01.416Z"
   },
   {
    "duration": 5,
    "start_time": "2022-04-19T19:14:09.920Z"
   },
   {
    "duration": 78784,
    "start_time": "2022-04-19T19:14:15.920Z"
   },
   {
    "duration": 23,
    "start_time": "2022-04-19T19:17:07.271Z"
   },
   {
    "duration": 7,
    "start_time": "2022-04-19T19:22:26.293Z"
   },
   {
    "duration": 5,
    "start_time": "2022-04-19T19:23:38.541Z"
   },
   {
    "duration": 25,
    "start_time": "2022-04-19T19:24:56.525Z"
   },
   {
    "duration": 2292,
    "start_time": "2022-04-20T18:07:42.800Z"
   },
   {
    "duration": 4,
    "start_time": "2022-04-20T18:07:45.095Z"
   },
   {
    "duration": 1119,
    "start_time": "2022-04-20T18:07:45.101Z"
   },
   {
    "duration": 173,
    "start_time": "2022-04-20T18:07:46.223Z"
   },
   {
    "duration": 25,
    "start_time": "2022-04-20T18:07:46.399Z"
   },
   {
    "duration": 79,
    "start_time": "2022-04-20T18:07:46.426Z"
   },
   {
    "duration": 162,
    "start_time": "2022-04-20T18:07:46.507Z"
   },
   {
    "duration": 167,
    "start_time": "2022-04-20T18:07:46.671Z"
   },
   {
    "duration": 627,
    "start_time": "2022-04-20T18:07:46.840Z"
   },
   {
    "duration": 125,
    "start_time": "2022-04-20T18:07:47.471Z"
   },
   {
    "duration": 306,
    "start_time": "2022-04-20T18:07:47.598Z"
   },
   {
    "duration": 31,
    "start_time": "2022-04-20T18:07:47.906Z"
   },
   {
    "duration": 411,
    "start_time": "2022-04-20T18:07:47.939Z"
   },
   {
    "duration": 7,
    "start_time": "2022-04-20T18:07:48.353Z"
   },
   {
    "duration": 8,
    "start_time": "2022-04-20T18:07:48.362Z"
   },
   {
    "duration": 391,
    "start_time": "2022-04-20T18:07:48.372Z"
   },
   {
    "duration": 1874,
    "start_time": "2022-04-20T18:07:48.765Z"
   },
   {
    "duration": 516,
    "start_time": "2022-04-20T18:07:50.642Z"
   },
   {
    "duration": 42,
    "start_time": "2022-04-20T18:07:51.160Z"
   },
   {
    "duration": 138,
    "start_time": "2022-04-20T18:07:51.204Z"
   },
   {
    "duration": 119,
    "start_time": "2022-04-20T18:07:51.344Z"
   },
   {
    "duration": 135,
    "start_time": "2022-04-20T18:07:51.465Z"
   },
   {
    "duration": 117,
    "start_time": "2022-04-20T18:07:51.603Z"
   },
   {
    "duration": 129,
    "start_time": "2022-04-20T18:07:51.723Z"
   },
   {
    "duration": 114,
    "start_time": "2022-04-20T18:07:51.854Z"
   },
   {
    "duration": 335,
    "start_time": "2022-04-20T18:07:51.971Z"
   },
   {
    "duration": 295,
    "start_time": "2022-04-20T18:07:52.308Z"
   },
   {
    "duration": 162,
    "start_time": "2022-04-20T18:07:52.608Z"
   },
   {
    "duration": 201,
    "start_time": "2022-04-20T18:07:52.772Z"
   },
   {
    "duration": 75,
    "start_time": "2022-04-20T18:07:52.975Z"
   },
   {
    "duration": 120,
    "start_time": "2022-04-20T18:07:53.053Z"
   },
   {
    "duration": 123,
    "start_time": "2022-04-20T18:07:53.175Z"
   },
   {
    "duration": 29,
    "start_time": "2022-04-20T18:07:53.300Z"
   },
   {
    "duration": 177,
    "start_time": "2022-04-20T18:07:53.331Z"
   },
   {
    "duration": 171,
    "start_time": "2022-04-20T18:07:53.511Z"
   },
   {
    "duration": 171,
    "start_time": "2022-04-20T18:07:53.685Z"
   },
   {
    "duration": 117,
    "start_time": "2022-04-20T18:07:53.858Z"
   },
   {
    "duration": 33,
    "start_time": "2022-04-20T18:07:53.977Z"
   },
   {
    "duration": 53,
    "start_time": "2022-04-20T18:07:54.013Z"
   },
   {
    "duration": 29,
    "start_time": "2022-04-20T18:07:54.069Z"
   },
   {
    "duration": 56,
    "start_time": "2022-04-20T18:07:54.100Z"
   },
   {
    "duration": 34,
    "start_time": "2022-04-20T18:07:54.159Z"
   },
   {
    "duration": 54,
    "start_time": "2022-04-20T18:07:54.195Z"
   },
   {
    "duration": 489,
    "start_time": "2022-04-20T18:07:54.251Z"
   },
   {
    "duration": 10,
    "start_time": "2022-04-20T18:07:54.742Z"
   },
   {
    "duration": 50,
    "start_time": "2022-04-20T18:07:54.754Z"
   },
   {
    "duration": 5,
    "start_time": "2022-04-20T18:07:54.806Z"
   },
   {
    "duration": 183,
    "start_time": "2022-04-20T18:07:54.813Z"
   },
   {
    "duration": 30,
    "start_time": "2022-04-20T18:07:54.998Z"
   },
   {
    "duration": 86,
    "start_time": "2022-04-20T18:07:55.030Z"
   },
   {
    "duration": 10,
    "start_time": "2022-04-20T18:07:55.119Z"
   },
   {
    "duration": 5,
    "start_time": "2022-04-20T18:07:55.131Z"
   },
   {
    "duration": 1092,
    "start_time": "2022-04-20T18:10:41.466Z"
   },
   {
    "duration": 90,
    "start_time": "2022-04-20T18:13:26.129Z"
   },
   {
    "duration": 92,
    "start_time": "2022-04-20T18:13:49.770Z"
   },
   {
    "duration": 160,
    "start_time": "2022-04-20T18:15:57.880Z"
   },
   {
    "duration": 2780,
    "start_time": "2022-04-20T18:16:15.681Z"
   },
   {
    "duration": 5,
    "start_time": "2022-04-20T18:17:31.920Z"
   },
   {
    "duration": 5,
    "start_time": "2022-04-20T18:19:30.616Z"
   },
   {
    "duration": 5,
    "start_time": "2022-04-20T18:19:37.727Z"
   },
   {
    "duration": 8,
    "start_time": "2022-04-20T18:20:10.609Z"
   },
   {
    "duration": 19,
    "start_time": "2022-04-20T18:21:15.343Z"
   },
   {
    "duration": 22,
    "start_time": "2022-04-20T18:21:19.631Z"
   },
   {
    "duration": 7,
    "start_time": "2022-04-20T18:21:32.591Z"
   },
   {
    "duration": 815,
    "start_time": "2022-04-20T18:22:48.280Z"
   },
   {
    "duration": 21,
    "start_time": "2022-04-20T18:22:54.255Z"
   },
   {
    "duration": 43,
    "start_time": "2022-04-20T18:24:22.574Z"
   },
   {
    "duration": 847,
    "start_time": "2022-04-20T18:26:01.559Z"
   },
   {
    "duration": 534,
    "start_time": "2022-04-20T18:26:46.135Z"
   },
   {
    "duration": 31,
    "start_time": "2022-04-20T18:27:56.037Z"
   },
   {
    "duration": 191,
    "start_time": "2022-04-20T18:28:27.818Z"
   },
   {
    "duration": 59,
    "start_time": "2022-04-20T18:30:17.133Z"
   },
   {
    "duration": 138,
    "start_time": "2022-04-20T18:30:19.811Z"
   },
   {
    "duration": 174,
    "start_time": "2022-04-20T18:30:20.380Z"
   },
   {
    "duration": 6,
    "start_time": "2022-04-20T18:30:26.419Z"
   },
   {
    "duration": 12,
    "start_time": "2022-04-20T18:31:33.541Z"
   },
   {
    "duration": 19,
    "start_time": "2022-04-20T18:31:40.244Z"
   },
   {
    "duration": 6,
    "start_time": "2022-04-20T18:31:54.221Z"
   },
   {
    "duration": 20,
    "start_time": "2022-04-20T18:32:09.828Z"
   },
   {
    "duration": 44,
    "start_time": "2022-04-20T18:36:24.347Z"
   },
   {
    "duration": 141,
    "start_time": "2022-04-20T18:36:25.546Z"
   },
   {
    "duration": 18,
    "start_time": "2022-04-20T18:36:26.356Z"
   },
   {
    "duration": 6,
    "start_time": "2022-04-20T18:36:28.618Z"
   },
   {
    "duration": 5,
    "start_time": "2022-04-20T18:37:13.763Z"
   },
   {
    "duration": 305,
    "start_time": "2022-04-20T18:37:32.603Z"
   },
   {
    "duration": 663,
    "start_time": "2022-04-20T18:40:55.546Z"
   },
   {
    "duration": 61,
    "start_time": "2022-04-20T18:42:07.964Z"
   },
   {
    "duration": 14,
    "start_time": "2022-04-20T18:42:50.554Z"
   },
   {
    "duration": 4,
    "start_time": "2022-04-20T18:42:57.690Z"
   },
   {
    "duration": 775,
    "start_time": "2022-04-20T18:43:06.275Z"
   },
   {
    "duration": 199,
    "start_time": "2022-04-20T18:43:41.714Z"
   },
   {
    "duration": 371,
    "start_time": "2022-04-20T18:43:42.960Z"
   },
   {
    "duration": 38,
    "start_time": "2022-04-20T18:43:45.714Z"
   },
   {
    "duration": 7,
    "start_time": "2022-04-20T18:43:52.048Z"
   },
   {
    "duration": 324,
    "start_time": "2022-04-20T18:45:48.170Z"
   },
   {
    "duration": 6,
    "start_time": "2022-04-20T18:51:35.152Z"
   },
   {
    "duration": 1297,
    "start_time": "2022-04-20T18:55:27.288Z"
   },
   {
    "duration": 716,
    "start_time": "2022-04-20T18:58:39.240Z"
   },
   {
    "duration": 26,
    "start_time": "2022-04-20T19:01:26.056Z"
   },
   {
    "duration": 104,
    "start_time": "2022-04-20T19:01:40.854Z"
   },
   {
    "duration": 20,
    "start_time": "2022-04-20T19:05:10.190Z"
   },
   {
    "duration": 38,
    "start_time": "2022-04-20T19:05:39.045Z"
   },
   {
    "duration": 161,
    "start_time": "2022-04-20T19:07:07.998Z"
   },
   {
    "duration": 254,
    "start_time": "2022-04-20T19:08:01.252Z"
   },
   {
    "duration": 130,
    "start_time": "2022-04-20T19:08:15.492Z"
   },
   {
    "duration": 119,
    "start_time": "2022-04-20T19:08:20.221Z"
   },
   {
    "duration": 173,
    "start_time": "2022-04-20T19:09:18.945Z"
   },
   {
    "duration": 27,
    "start_time": "2022-04-20T19:09:23.636Z"
   },
   {
    "duration": 18,
    "start_time": "2022-04-20T19:09:59.748Z"
   },
   {
    "duration": 56,
    "start_time": "2022-04-20T19:10:31.147Z"
   },
   {
    "duration": 58,
    "start_time": "2022-04-20T19:11:22.012Z"
   },
   {
    "duration": 19,
    "start_time": "2022-04-20T19:11:29.866Z"
   },
   {
    "duration": 180,
    "start_time": "2022-04-20T19:11:45.827Z"
   },
   {
    "duration": 185,
    "start_time": "2022-04-20T19:11:49.467Z"
   },
   {
    "duration": 76,
    "start_time": "2022-04-20T19:12:01.243Z"
   },
   {
    "duration": 37,
    "start_time": "2022-04-20T19:12:17.772Z"
   },
   {
    "duration": 58,
    "start_time": "2022-04-20T19:12:19.954Z"
   },
   {
    "duration": 38,
    "start_time": "2022-04-20T19:12:44.739Z"
   },
   {
    "duration": 23,
    "start_time": "2022-04-20T19:12:54.212Z"
   },
   {
    "duration": 40,
    "start_time": "2022-04-20T19:14:34.533Z"
   },
   {
    "duration": 40,
    "start_time": "2022-04-20T19:14:50.258Z"
   },
   {
    "duration": 52,
    "start_time": "2022-04-20T19:14:56.736Z"
   },
   {
    "duration": 21,
    "start_time": "2022-04-20T19:14:58.435Z"
   },
   {
    "duration": 7,
    "start_time": "2022-04-20T19:15:07.313Z"
   },
   {
    "duration": 299,
    "start_time": "2022-04-20T19:15:14.698Z"
   },
   {
    "duration": 207,
    "start_time": "2022-04-20T19:20:34.088Z"
   },
   {
    "duration": 3,
    "start_time": "2022-04-20T19:22:52.424Z"
   },
   {
    "duration": 5,
    "start_time": "2022-04-20T19:25:35.120Z"
   },
   {
    "duration": 144,
    "start_time": "2022-04-20T19:27:09.351Z"
   },
   {
    "duration": 4,
    "start_time": "2022-04-20T19:27:34.663Z"
   },
   {
    "duration": 4,
    "start_time": "2022-04-20T19:29:15.544Z"
   },
   {
    "duration": 13,
    "start_time": "2022-04-20T19:32:29.621Z"
   },
   {
    "duration": 5,
    "start_time": "2022-04-20T19:32:56.613Z"
   },
   {
    "duration": 17065,
    "start_time": "2022-04-20T19:33:00.293Z"
   },
   {
    "duration": 4,
    "start_time": "2022-04-20T19:33:55.486Z"
   },
   {
    "duration": 6,
    "start_time": "2022-04-20T19:34:06.253Z"
   },
   {
    "duration": 5,
    "start_time": "2022-04-20T19:34:30.154Z"
   },
   {
    "duration": 5,
    "start_time": "2022-04-20T19:34:42.790Z"
   },
   {
    "duration": 4,
    "start_time": "2022-04-20T19:34:44.948Z"
   },
   {
    "duration": 24421,
    "start_time": "2022-04-20T19:34:48.477Z"
   },
   {
    "duration": 5,
    "start_time": "2022-04-20T19:35:15.149Z"
   },
   {
    "duration": 7,
    "start_time": "2022-04-20T19:35:16.980Z"
   },
   {
    "duration": 18,
    "start_time": "2022-04-20T19:36:03.367Z"
   },
   {
    "duration": 4,
    "start_time": "2022-04-20T19:36:30.245Z"
   },
   {
    "duration": 26896,
    "start_time": "2022-04-20T19:36:33.741Z"
   },
   {
    "duration": 5,
    "start_time": "2022-04-20T19:37:02.909Z"
   },
   {
    "duration": 6,
    "start_time": "2022-04-20T19:37:07.292Z"
   },
   {
    "duration": 23,
    "start_time": "2022-04-20T19:37:08.187Z"
   },
   {
    "duration": 1046,
    "start_time": "2022-04-20T19:38:48.151Z"
   },
   {
    "duration": 4,
    "start_time": "2022-04-20T19:39:48.676Z"
   },
   {
    "duration": 4,
    "start_time": "2022-04-20T19:41:46.147Z"
   },
   {
    "duration": 116871,
    "start_time": "2022-04-20T19:41:47.267Z"
   },
   {
    "duration": 7,
    "start_time": "2022-04-20T19:47:02.120Z"
   },
   {
    "duration": 6,
    "start_time": "2022-04-20T19:47:22.498Z"
   },
   {
    "duration": 46,
    "start_time": "2022-04-20T19:47:47.809Z"
   },
   {
    "duration": 45,
    "start_time": "2022-04-20T19:49:31.243Z"
   },
   {
    "duration": 7,
    "start_time": "2022-04-20T19:50:02.633Z"
   },
   {
    "duration": 21,
    "start_time": "2022-04-20T19:50:33.876Z"
   },
   {
    "duration": 48,
    "start_time": "2022-04-20T19:50:54.130Z"
   },
   {
    "duration": 1243,
    "start_time": "2022-04-20T19:51:37.457Z"
   },
   {
    "duration": 7,
    "start_time": "2022-04-20T19:52:13.985Z"
   },
   {
    "duration": 116,
    "start_time": "2022-04-20T19:52:43.991Z"
   },
   {
    "duration": 131,
    "start_time": "2022-04-20T19:52:57.464Z"
   },
   {
    "duration": 1188,
    "start_time": "2022-04-20T19:53:09.207Z"
   },
   {
    "duration": 163,
    "start_time": "2022-04-20T19:53:25.449Z"
   },
   {
    "duration": 1073,
    "start_time": "2022-04-20T19:53:28.425Z"
   },
   {
    "duration": 5,
    "start_time": "2022-04-20T19:54:31.630Z"
   },
   {
    "duration": 1689,
    "start_time": "2022-04-21T18:40:51.794Z"
   },
   {
    "duration": 3,
    "start_time": "2022-04-21T18:40:53.486Z"
   },
   {
    "duration": 754,
    "start_time": "2022-04-21T18:40:53.491Z"
   },
   {
    "duration": 128,
    "start_time": "2022-04-21T18:40:54.248Z"
   },
   {
    "duration": 15,
    "start_time": "2022-04-21T18:40:54.377Z"
   },
   {
    "duration": 64,
    "start_time": "2022-04-21T18:40:54.393Z"
   },
   {
    "duration": 118,
    "start_time": "2022-04-21T18:40:54.458Z"
   },
   {
    "duration": 140,
    "start_time": "2022-04-21T18:40:54.578Z"
   },
   {
    "duration": 554,
    "start_time": "2022-04-21T18:40:54.719Z"
   },
   {
    "duration": 99,
    "start_time": "2022-04-21T18:40:55.277Z"
   },
   {
    "duration": 179,
    "start_time": "2022-04-21T18:40:55.378Z"
   },
   {
    "duration": 22,
    "start_time": "2022-04-21T18:40:55.559Z"
   },
   {
    "duration": 339,
    "start_time": "2022-04-21T18:40:55.583Z"
   },
   {
    "duration": 6,
    "start_time": "2022-04-21T18:40:55.924Z"
   },
   {
    "duration": 6,
    "start_time": "2022-04-21T18:40:55.932Z"
   },
   {
    "duration": 296,
    "start_time": "2022-04-21T18:40:55.939Z"
   },
   {
    "duration": 1570,
    "start_time": "2022-04-21T18:40:56.237Z"
   },
   {
    "duration": 324,
    "start_time": "2022-04-21T18:40:57.809Z"
   },
   {
    "duration": 25,
    "start_time": "2022-04-21T18:40:58.135Z"
   },
   {
    "duration": 93,
    "start_time": "2022-04-21T18:40:58.162Z"
   },
   {
    "duration": 99,
    "start_time": "2022-04-21T18:40:58.257Z"
   },
   {
    "duration": 98,
    "start_time": "2022-04-21T18:40:58.358Z"
   },
   {
    "duration": 80,
    "start_time": "2022-04-21T18:40:58.457Z"
   },
   {
    "duration": 94,
    "start_time": "2022-04-21T18:40:58.539Z"
   },
   {
    "duration": 95,
    "start_time": "2022-04-21T18:40:58.635Z"
   },
   {
    "duration": 277,
    "start_time": "2022-04-21T18:40:58.731Z"
   },
   {
    "duration": 218,
    "start_time": "2022-04-21T18:40:59.010Z"
   },
   {
    "duration": 147,
    "start_time": "2022-04-21T18:40:59.232Z"
   },
   {
    "duration": 146,
    "start_time": "2022-04-21T18:40:59.380Z"
   },
   {
    "duration": 69,
    "start_time": "2022-04-21T18:40:59.528Z"
   },
   {
    "duration": 88,
    "start_time": "2022-04-21T18:40:59.599Z"
   },
   {
    "duration": 87,
    "start_time": "2022-04-21T18:40:59.689Z"
   },
   {
    "duration": 19,
    "start_time": "2022-04-21T18:40:59.778Z"
   },
   {
    "duration": 147,
    "start_time": "2022-04-21T18:40:59.799Z"
   },
   {
    "duration": 199,
    "start_time": "2022-04-21T18:40:59.948Z"
   },
   {
    "duration": 116,
    "start_time": "2022-04-21T18:41:00.150Z"
   },
   {
    "duration": 90,
    "start_time": "2022-04-21T18:41:00.267Z"
   },
   {
    "duration": 16,
    "start_time": "2022-04-21T18:41:00.358Z"
   },
   {
    "duration": 45,
    "start_time": "2022-04-21T18:41:00.376Z"
   },
   {
    "duration": 5,
    "start_time": "2022-04-21T18:41:00.423Z"
   },
   {
    "duration": 55,
    "start_time": "2022-04-21T18:41:00.430Z"
   },
   {
    "duration": 11,
    "start_time": "2022-04-21T18:41:00.487Z"
   },
   {
    "duration": 50,
    "start_time": "2022-04-21T18:41:00.500Z"
   },
   {
    "duration": 399,
    "start_time": "2022-04-21T18:41:00.552Z"
   },
   {
    "duration": 7,
    "start_time": "2022-04-21T18:41:00.954Z"
   },
   {
    "duration": 28,
    "start_time": "2022-04-21T18:41:00.963Z"
   },
   {
    "duration": 18,
    "start_time": "2022-04-21T18:41:00.993Z"
   },
   {
    "duration": 141,
    "start_time": "2022-04-21T18:41:01.013Z"
   },
   {
    "duration": 20,
    "start_time": "2022-04-21T18:41:01.156Z"
   },
   {
    "duration": 100,
    "start_time": "2022-04-21T18:41:01.178Z"
   },
   {
    "duration": 6,
    "start_time": "2022-04-21T18:41:01.279Z"
   },
   {
    "duration": 11,
    "start_time": "2022-04-21T18:41:01.287Z"
   },
   {
    "duration": 1197,
    "start_time": "2022-04-21T18:41:01.300Z"
   },
   {
    "duration": 441,
    "start_time": "2022-04-21T18:41:02.499Z"
   },
   {
    "duration": 257,
    "start_time": "2022-04-21T18:41:02.942Z"
   },
   {
    "duration": 55,
    "start_time": "2022-04-21T18:41:03.201Z"
   },
   {
    "duration": 485,
    "start_time": "2022-04-21T18:41:03.257Z"
   },
   {
    "duration": 46,
    "start_time": "2022-04-21T18:41:03.744Z"
   },
   {
    "duration": 31,
    "start_time": "2022-04-21T18:41:03.791Z"
   },
   {
    "duration": 64,
    "start_time": "2022-04-21T18:41:03.824Z"
   },
   {
    "duration": 14,
    "start_time": "2022-04-21T18:41:03.889Z"
   },
   {
    "duration": 9,
    "start_time": "2022-04-21T18:41:03.904Z"
   },
   {
    "duration": 228,
    "start_time": "2022-04-21T18:41:03.914Z"
   },
   {
    "duration": 4,
    "start_time": "2022-04-21T18:41:04.143Z"
   },
   {
    "duration": 114,
    "start_time": "2022-04-21T18:41:04.155Z"
   },
   {
    "duration": 1391,
    "start_time": "2022-04-21T18:41:04.271Z"
   },
   {
    "duration": 3,
    "start_time": "2022-04-21T18:41:13.265Z"
   },
   {
    "duration": 20817,
    "start_time": "2022-04-21T18:41:28.096Z"
   },
   {
    "duration": 3,
    "start_time": "2022-04-21T18:41:51.729Z"
   },
   {
    "duration": 17,
    "start_time": "2022-04-21T18:42:36.849Z"
   },
   {
    "duration": 3,
    "start_time": "2022-04-21T18:43:07.592Z"
   },
   {
    "duration": 259687,
    "start_time": "2022-04-21T18:43:10.057Z"
   },
   {
    "duration": 5,
    "start_time": "2022-04-21T18:48:19.529Z"
   },
   {
    "duration": 69,
    "start_time": "2022-04-21T18:48:22.645Z"
   },
   {
    "duration": 19,
    "start_time": "2022-04-21T18:48:28.574Z"
   },
   {
    "duration": 16,
    "start_time": "2022-04-21T18:49:03.239Z"
   },
   {
    "duration": 71,
    "start_time": "2022-04-21T18:49:14.183Z"
   },
   {
    "duration": 24,
    "start_time": "2022-04-21T18:55:10.942Z"
   },
   {
    "duration": 112,
    "start_time": "2022-04-21T19:03:59.971Z"
   },
   {
    "duration": 3,
    "start_time": "2022-04-21T19:04:04.738Z"
   },
   {
    "duration": 9,
    "start_time": "2022-04-21T19:04:09.979Z"
   },
   {
    "duration": 5,
    "start_time": "2022-04-21T19:05:56.563Z"
   },
   {
    "duration": 3,
    "start_time": "2022-04-21T19:07:57.169Z"
   },
   {
    "duration": 1218,
    "start_time": "2022-04-21T19:07:58.450Z"
   },
   {
    "duration": 1272,
    "start_time": "2022-04-21T19:08:16.891Z"
   },
   {
    "duration": 2,
    "start_time": "2022-04-21T19:08:26.019Z"
   },
   {
    "duration": 4,
    "start_time": "2022-04-21T19:09:24.354Z"
   },
   {
    "duration": 3,
    "start_time": "2022-04-21T19:09:32.858Z"
   },
   {
    "duration": 3,
    "start_time": "2022-04-21T19:09:33.738Z"
   },
   {
    "duration": 4,
    "start_time": "2022-04-21T19:09:34.513Z"
   },
   {
    "duration": 257661,
    "start_time": "2022-04-21T19:09:35.697Z"
   },
   {
    "duration": 4,
    "start_time": "2022-04-21T19:13:57.499Z"
   },
   {
    "duration": 46,
    "start_time": "2022-04-21T19:14:06.512Z"
   },
   {
    "duration": 5,
    "start_time": "2022-04-21T19:14:09.169Z"
   },
   {
    "duration": 13,
    "start_time": "2022-04-21T19:14:35.223Z"
   },
   {
    "duration": 32,
    "start_time": "2022-04-21T19:15:31.625Z"
   },
   {
    "duration": 48,
    "start_time": "2022-04-21T19:17:13.809Z"
   },
   {
    "duration": 104,
    "start_time": "2022-04-21T19:18:48.351Z"
   },
   {
    "duration": 4,
    "start_time": "2022-04-21T19:19:09.807Z"
   },
   {
    "duration": 9,
    "start_time": "2022-04-21T19:23:23.676Z"
   },
   {
    "duration": 107,
    "start_time": "2022-04-21T19:25:21.950Z"
   },
   {
    "duration": 84,
    "start_time": "2022-04-21T19:25:25.774Z"
   },
   {
    "duration": 98,
    "start_time": "2022-04-21T19:25:28.558Z"
   },
   {
    "duration": 20,
    "start_time": "2022-04-21T19:25:30.511Z"
   },
   {
    "duration": 58,
    "start_time": "2022-04-21T19:25:32.397Z"
   },
   {
    "duration": 26,
    "start_time": "2022-04-21T19:25:36.542Z"
   },
   {
    "duration": 100,
    "start_time": "2022-04-21T19:25:45.758Z"
   },
   {
    "duration": 9,
    "start_time": "2022-04-21T19:26:22.919Z"
   },
   {
    "duration": 3,
    "start_time": "2022-04-21T19:26:32.509Z"
   },
   {
    "duration": 49,
    "start_time": "2022-04-21T19:26:37.006Z"
   },
   {
    "duration": 92,
    "start_time": "2022-04-21T19:26:40.366Z"
   },
   {
    "duration": 69,
    "start_time": "2022-04-21T19:26:55.118Z"
   },
   {
    "duration": 11,
    "start_time": "2022-04-21T19:32:02.429Z"
   },
   {
    "duration": 1989,
    "start_time": "2022-04-22T17:29:16.529Z"
   },
   {
    "duration": 7,
    "start_time": "2022-04-22T17:29:18.521Z"
   },
   {
    "duration": 911,
    "start_time": "2022-04-22T17:29:18.532Z"
   },
   {
    "duration": 191,
    "start_time": "2022-04-22T17:29:19.445Z"
   },
   {
    "duration": 16,
    "start_time": "2022-04-22T17:29:19.639Z"
   },
   {
    "duration": 78,
    "start_time": "2022-04-22T17:29:19.657Z"
   },
   {
    "duration": 183,
    "start_time": "2022-04-22T17:29:19.736Z"
   },
   {
    "duration": 173,
    "start_time": "2022-04-22T17:29:19.924Z"
   },
   {
    "duration": 536,
    "start_time": "2022-04-22T17:29:20.100Z"
   },
   {
    "duration": 105,
    "start_time": "2022-04-22T17:29:20.640Z"
   },
   {
    "duration": 222,
    "start_time": "2022-04-22T17:29:20.746Z"
   },
   {
    "duration": 29,
    "start_time": "2022-04-22T17:29:20.970Z"
   },
   {
    "duration": 369,
    "start_time": "2022-04-22T17:29:21.001Z"
   },
   {
    "duration": 5,
    "start_time": "2022-04-22T17:29:21.374Z"
   },
   {
    "duration": 4,
    "start_time": "2022-04-22T17:29:21.393Z"
   },
   {
    "duration": 321,
    "start_time": "2022-04-22T17:29:21.398Z"
   },
   {
    "duration": 1976,
    "start_time": "2022-04-22T17:29:21.721Z"
   },
   {
    "duration": 382,
    "start_time": "2022-04-22T17:29:23.699Z"
   },
   {
    "duration": 44,
    "start_time": "2022-04-22T17:29:24.083Z"
   },
   {
    "duration": 109,
    "start_time": "2022-04-22T17:29:24.130Z"
   },
   {
    "duration": 108,
    "start_time": "2022-04-22T17:29:24.241Z"
   },
   {
    "duration": 107,
    "start_time": "2022-04-22T17:29:24.351Z"
   },
   {
    "duration": 106,
    "start_time": "2022-04-22T17:29:24.460Z"
   },
   {
    "duration": 119,
    "start_time": "2022-04-22T17:29:24.568Z"
   },
   {
    "duration": 127,
    "start_time": "2022-04-22T17:29:24.700Z"
   },
   {
    "duration": 290,
    "start_time": "2022-04-22T17:29:24.829Z"
   },
   {
    "duration": 227,
    "start_time": "2022-04-22T17:29:25.124Z"
   },
   {
    "duration": 149,
    "start_time": "2022-04-22T17:29:25.353Z"
   },
   {
    "duration": 147,
    "start_time": "2022-04-22T17:29:25.514Z"
   },
   {
    "duration": 87,
    "start_time": "2022-04-22T17:29:25.662Z"
   },
   {
    "duration": 112,
    "start_time": "2022-04-22T17:29:25.752Z"
   },
   {
    "duration": 111,
    "start_time": "2022-04-22T17:29:25.865Z"
   },
   {
    "duration": 36,
    "start_time": "2022-04-22T17:29:25.977Z"
   },
   {
    "duration": 152,
    "start_time": "2022-04-22T17:29:26.015Z"
   },
   {
    "duration": 156,
    "start_time": "2022-04-22T17:29:26.169Z"
   },
   {
    "duration": 126,
    "start_time": "2022-04-22T17:29:26.335Z"
   },
   {
    "duration": 112,
    "start_time": "2022-04-22T17:29:26.462Z"
   },
   {
    "duration": 26,
    "start_time": "2022-04-22T17:29:26.576Z"
   },
   {
    "duration": 34,
    "start_time": "2022-04-22T17:29:26.603Z"
   },
   {
    "duration": 5,
    "start_time": "2022-04-22T17:29:26.638Z"
   },
   {
    "duration": 26,
    "start_time": "2022-04-22T17:29:26.647Z"
   },
   {
    "duration": 35,
    "start_time": "2022-04-22T17:32:10.819Z"
   },
   {
    "duration": 12,
    "start_time": "2022-04-22T17:32:21.432Z"
   },
   {
    "duration": 159,
    "start_time": "2022-04-22T17:32:28.581Z"
   },
   {
    "duration": 15,
    "start_time": "2022-04-22T17:32:34.720Z"
   },
   {
    "duration": 5,
    "start_time": "2022-04-22T17:35:29.095Z"
   },
   {
    "duration": 6,
    "start_time": "2022-04-22T17:36:27.209Z"
   },
   {
    "duration": 5,
    "start_time": "2022-04-22T17:36:49.049Z"
   },
   {
    "duration": 5,
    "start_time": "2022-04-22T17:36:49.057Z"
   },
   {
    "duration": 1006,
    "start_time": "2022-04-22T17:36:49.064Z"
   },
   {
    "duration": 184,
    "start_time": "2022-04-22T17:36:50.072Z"
   },
   {
    "duration": 12,
    "start_time": "2022-04-22T17:36:50.258Z"
   },
   {
    "duration": 83,
    "start_time": "2022-04-22T17:36:50.272Z"
   },
   {
    "duration": 175,
    "start_time": "2022-04-22T17:36:50.356Z"
   },
   {
    "duration": 166,
    "start_time": "2022-04-22T17:36:50.533Z"
   },
   {
    "duration": 476,
    "start_time": "2022-04-22T17:36:50.701Z"
   },
   {
    "duration": 100,
    "start_time": "2022-04-22T17:36:51.179Z"
   },
   {
    "duration": 270,
    "start_time": "2022-04-22T17:36:51.281Z"
   },
   {
    "duration": 20,
    "start_time": "2022-04-22T17:36:51.555Z"
   },
   {
    "duration": 386,
    "start_time": "2022-04-22T17:36:51.577Z"
   },
   {
    "duration": 6,
    "start_time": "2022-04-22T17:36:51.965Z"
   },
   {
    "duration": 21,
    "start_time": "2022-04-22T17:36:51.973Z"
   },
   {
    "duration": 272,
    "start_time": "2022-04-22T17:36:52.005Z"
   },
   {
    "duration": 2006,
    "start_time": "2022-04-22T17:36:52.279Z"
   },
   {
    "duration": 326,
    "start_time": "2022-04-22T17:36:54.297Z"
   },
   {
    "duration": 26,
    "start_time": "2022-04-22T17:36:54.627Z"
   },
   {
    "duration": 111,
    "start_time": "2022-04-22T17:36:54.655Z"
   },
   {
    "duration": 113,
    "start_time": "2022-04-22T17:36:54.767Z"
   },
   {
    "duration": 117,
    "start_time": "2022-04-22T17:36:54.882Z"
   },
   {
    "duration": 122,
    "start_time": "2022-04-22T17:36:55.002Z"
   },
   {
    "duration": 107,
    "start_time": "2022-04-22T17:36:55.126Z"
   },
   {
    "duration": 114,
    "start_time": "2022-04-22T17:36:55.235Z"
   },
   {
    "duration": 219,
    "start_time": "2022-04-22T17:36:55.351Z"
   },
   {
    "duration": 257,
    "start_time": "2022-04-22T17:36:55.572Z"
   },
   {
    "duration": 149,
    "start_time": "2022-04-22T17:36:55.831Z"
   },
   {
    "duration": 154,
    "start_time": "2022-04-22T17:36:55.982Z"
   },
   {
    "duration": 84,
    "start_time": "2022-04-22T17:36:56.140Z"
   },
   {
    "duration": 97,
    "start_time": "2022-04-22T17:36:56.230Z"
   },
   {
    "duration": 109,
    "start_time": "2022-04-22T17:36:56.329Z"
   },
   {
    "duration": 19,
    "start_time": "2022-04-22T17:36:56.440Z"
   },
   {
    "duration": 153,
    "start_time": "2022-04-22T17:36:56.461Z"
   },
   {
    "duration": 136,
    "start_time": "2022-04-22T17:36:56.623Z"
   },
   {
    "duration": 149,
    "start_time": "2022-04-22T17:36:56.761Z"
   },
   {
    "duration": 120,
    "start_time": "2022-04-22T17:36:56.915Z"
   },
   {
    "duration": 15,
    "start_time": "2022-04-22T17:36:57.036Z"
   },
   {
    "duration": 55,
    "start_time": "2022-04-22T17:36:57.053Z"
   },
   {
    "duration": 11,
    "start_time": "2022-04-22T17:36:57.110Z"
   },
   {
    "duration": 4,
    "start_time": "2022-04-22T17:36:58.909Z"
   },
   {
    "duration": 4,
    "start_time": "2022-04-22T17:37:20.245Z"
   },
   {
    "duration": 10,
    "start_time": "2022-04-22T17:37:30.261Z"
   },
   {
    "duration": 13,
    "start_time": "2022-04-22T17:37:40.860Z"
   },
   {
    "duration": 15,
    "start_time": "2022-04-22T17:37:44.513Z"
   },
   {
    "duration": 3,
    "start_time": "2022-04-22T17:38:29.971Z"
   },
   {
    "duration": 146,
    "start_time": "2022-04-22T17:38:56.313Z"
   },
   {
    "duration": 18,
    "start_time": "2022-04-22T17:39:25.765Z"
   },
   {
    "duration": 450,
    "start_time": "2022-04-22T17:39:52.755Z"
   },
   {
    "duration": 8,
    "start_time": "2022-04-22T17:39:54.232Z"
   },
   {
    "duration": 19,
    "start_time": "2022-04-22T17:39:56.125Z"
   },
   {
    "duration": 3,
    "start_time": "2022-04-22T17:39:58.956Z"
   },
   {
    "duration": 135,
    "start_time": "2022-04-22T17:40:01.428Z"
   },
   {
    "duration": 24,
    "start_time": "2022-04-22T17:40:02.675Z"
   },
   {
    "duration": 55,
    "start_time": "2022-04-22T17:40:08.166Z"
   },
   {
    "duration": 9,
    "start_time": "2022-04-22T17:40:15.221Z"
   },
   {
    "duration": 4,
    "start_time": "2022-04-22T17:40:16.068Z"
   },
   {
    "duration": 1022,
    "start_time": "2022-04-22T17:40:18.163Z"
   },
   {
    "duration": 627,
    "start_time": "2022-04-22T17:40:22.733Z"
   },
   {
    "duration": 282,
    "start_time": "2022-04-22T17:40:29.121Z"
   },
   {
    "duration": 54,
    "start_time": "2022-04-22T17:40:33.452Z"
   },
   {
    "duration": 661,
    "start_time": "2022-04-22T17:40:46.717Z"
   },
   {
    "duration": 45,
    "start_time": "2022-04-22T17:40:49.060Z"
   },
   {
    "duration": 33,
    "start_time": "2022-04-22T17:40:51.617Z"
   },
   {
    "duration": 57,
    "start_time": "2022-04-22T17:40:52.692Z"
   },
   {
    "duration": 17,
    "start_time": "2022-04-22T17:40:53.719Z"
   },
   {
    "duration": 5,
    "start_time": "2022-04-22T17:40:55.829Z"
   },
   {
    "duration": 273,
    "start_time": "2022-04-22T17:40:59.284Z"
   },
   {
    "duration": 7,
    "start_time": "2022-04-22T17:41:01.917Z"
   },
   {
    "duration": 31,
    "start_time": "2022-04-22T17:44:10.563Z"
   },
   {
    "duration": 31,
    "start_time": "2022-04-22T17:44:21.067Z"
   },
   {
    "duration": 4,
    "start_time": "2022-04-22T17:45:20.651Z"
   },
   {
    "duration": 351,
    "start_time": "2022-04-22T17:45:34.909Z"
   },
   {
    "duration": 133,
    "start_time": "2022-04-22T17:46:29.118Z"
   },
   {
    "duration": 580,
    "start_time": "2022-04-22T17:48:58.388Z"
   },
   {
    "duration": 363,
    "start_time": "2022-04-22T17:49:40.814Z"
   },
   {
    "duration": 57527,
    "start_time": "2022-04-22T17:49:55.286Z"
   },
   {
    "duration": 291,
    "start_time": "2022-04-22T17:51:22.841Z"
   },
   {
    "duration": 49979,
    "start_time": "2022-04-22T17:51:31.516Z"
   },
   {
    "duration": 3,
    "start_time": "2022-04-22T17:53:26.358Z"
   },
   {
    "duration": 7,
    "start_time": "2022-04-22T17:53:26.363Z"
   },
   {
    "duration": 955,
    "start_time": "2022-04-22T17:53:26.372Z"
   },
   {
    "duration": 143,
    "start_time": "2022-04-22T17:53:27.329Z"
   },
   {
    "duration": 23,
    "start_time": "2022-04-22T17:53:27.474Z"
   },
   {
    "duration": 57,
    "start_time": "2022-04-22T17:53:27.499Z"
   },
   {
    "duration": 141,
    "start_time": "2022-04-22T17:53:27.558Z"
   },
   {
    "duration": 142,
    "start_time": "2022-04-22T17:53:27.701Z"
   },
   {
    "duration": 426,
    "start_time": "2022-04-22T17:53:27.845Z"
   },
   {
    "duration": 97,
    "start_time": "2022-04-22T17:53:28.273Z"
   },
   {
    "duration": 193,
    "start_time": "2022-04-22T17:53:28.372Z"
   },
   {
    "duration": 40,
    "start_time": "2022-04-22T17:53:28.568Z"
   },
   {
    "duration": 339,
    "start_time": "2022-04-22T17:53:28.610Z"
   },
   {
    "duration": 4,
    "start_time": "2022-04-22T17:53:28.950Z"
   },
   {
    "duration": 5,
    "start_time": "2022-04-22T17:53:28.956Z"
   },
   {
    "duration": 249,
    "start_time": "2022-04-22T17:53:28.962Z"
   },
   {
    "duration": 1715,
    "start_time": "2022-04-22T17:53:29.213Z"
   },
   {
    "duration": 320,
    "start_time": "2022-04-22T17:53:30.929Z"
   },
   {
    "duration": 23,
    "start_time": "2022-04-22T17:53:31.251Z"
   },
   {
    "duration": 111,
    "start_time": "2022-04-22T17:53:31.276Z"
   },
   {
    "duration": 99,
    "start_time": "2022-04-22T17:53:31.394Z"
   },
   {
    "duration": 100,
    "start_time": "2022-04-22T17:53:31.497Z"
   },
   {
    "duration": 98,
    "start_time": "2022-04-22T17:53:31.599Z"
   },
   {
    "duration": 87,
    "start_time": "2022-04-22T17:53:31.699Z"
   },
   {
    "duration": 96,
    "start_time": "2022-04-22T17:53:31.799Z"
   },
   {
    "duration": 275,
    "start_time": "2022-04-22T17:53:31.897Z"
   },
   {
    "duration": 237,
    "start_time": "2022-04-22T17:53:32.174Z"
   },
   {
    "duration": 147,
    "start_time": "2022-04-22T17:53:32.412Z"
   },
   {
    "duration": 180,
    "start_time": "2022-04-22T17:53:32.561Z"
   },
   {
    "duration": 82,
    "start_time": "2022-04-22T17:53:32.745Z"
   },
   {
    "duration": 102,
    "start_time": "2022-04-22T17:53:32.829Z"
   },
   {
    "duration": 104,
    "start_time": "2022-04-22T17:53:32.933Z"
   },
   {
    "duration": 21,
    "start_time": "2022-04-22T17:53:33.039Z"
   },
   {
    "duration": 149,
    "start_time": "2022-04-22T17:53:33.062Z"
   },
   {
    "duration": 129,
    "start_time": "2022-04-22T17:53:33.212Z"
   },
   {
    "duration": 129,
    "start_time": "2022-04-22T17:53:33.343Z"
   },
   {
    "duration": 103,
    "start_time": "2022-04-22T17:53:33.474Z"
   },
   {
    "duration": 31,
    "start_time": "2022-04-22T17:53:33.579Z"
   },
   {
    "duration": 32,
    "start_time": "2022-04-22T17:53:33.611Z"
   },
   {
    "duration": 10,
    "start_time": "2022-04-22T17:53:33.645Z"
   },
   {
    "duration": 3,
    "start_time": "2022-04-22T17:53:33.657Z"
   },
   {
    "duration": 155,
    "start_time": "2022-04-22T17:53:33.662Z"
   },
   {
    "duration": 17,
    "start_time": "2022-04-22T17:53:33.819Z"
   },
   {
    "duration": 376,
    "start_time": "2022-04-22T17:53:33.838Z"
   },
   {
    "duration": 8,
    "start_time": "2022-04-22T17:53:34.216Z"
   },
   {
    "duration": 24,
    "start_time": "2022-04-22T17:53:34.225Z"
   },
   {
    "duration": 3,
    "start_time": "2022-04-22T17:53:34.251Z"
   },
   {
    "duration": 132,
    "start_time": "2022-04-22T17:53:34.256Z"
   },
   {
    "duration": 22,
    "start_time": "2022-04-22T17:53:34.393Z"
   },
   {
    "duration": 43,
    "start_time": "2022-04-22T17:53:34.416Z"
   },
   {
    "duration": 6,
    "start_time": "2022-04-22T17:53:34.460Z"
   },
   {
    "duration": 29,
    "start_time": "2022-04-22T17:53:34.468Z"
   },
   {
    "duration": 931,
    "start_time": "2022-04-22T17:53:34.505Z"
   },
   {
    "duration": 519,
    "start_time": "2022-04-22T17:53:35.438Z"
   },
   {
    "duration": 263,
    "start_time": "2022-04-22T17:53:35.959Z"
   },
   {
    "duration": 47,
    "start_time": "2022-04-22T17:53:36.224Z"
   },
   {
    "duration": 586,
    "start_time": "2022-04-22T17:53:36.273Z"
   },
   {
    "duration": 51,
    "start_time": "2022-04-22T17:53:36.860Z"
   },
   {
    "duration": 30,
    "start_time": "2022-04-22T17:53:36.914Z"
   },
   {
    "duration": 67,
    "start_time": "2022-04-22T17:53:36.945Z"
   },
   {
    "duration": 14,
    "start_time": "2022-04-22T17:53:37.014Z"
   },
   {
    "duration": 6,
    "start_time": "2022-04-22T17:53:37.030Z"
   },
   {
    "duration": 277,
    "start_time": "2022-04-22T17:53:37.038Z"
   },
   {
    "duration": 4,
    "start_time": "2022-04-22T17:53:37.317Z"
   },
   {
    "duration": 671,
    "start_time": "2022-04-22T17:53:37.323Z"
   },
   {
    "duration": 350,
    "start_time": "2022-04-22T17:53:37.996Z"
   },
   {
    "duration": 265,
    "start_time": "2022-04-22T17:53:38.348Z"
   },
   {
    "duration": 29286,
    "start_time": "2022-04-22T17:53:38.615Z"
   },
   {
    "duration": 121905,
    "start_time": "2022-04-22T17:54:45.994Z"
   },
   {
    "duration": 131,
    "start_time": "2022-04-22T17:59:49.904Z"
   },
   {
    "duration": 102,
    "start_time": "2022-04-22T17:59:58.205Z"
   },
   {
    "duration": 2,
    "start_time": "2022-04-22T18:00:05.071Z"
   },
   {
    "duration": 364,
    "start_time": "2022-04-22T18:03:14.255Z"
   },
   {
    "duration": 123,
    "start_time": "2022-04-22T18:03:34.134Z"
   },
   {
    "duration": 139,
    "start_time": "2022-04-22T18:06:15.606Z"
   },
   {
    "duration": 78,
    "start_time": "2022-04-22T18:06:22.725Z"
   },
   {
    "duration": 40252,
    "start_time": "2022-04-22T18:06:52.653Z"
   },
   {
    "duration": 121385,
    "start_time": "2022-04-22T18:07:52.215Z"
   },
   {
    "duration": 98,
    "start_time": "2022-04-22T18:09:57.510Z"
   },
   {
    "duration": 2,
    "start_time": "2022-04-22T18:10:02.416Z"
   },
   {
    "duration": 22713,
    "start_time": "2022-04-22T18:10:03.749Z"
   },
   {
    "duration": 4,
    "start_time": "2022-04-22T18:12:09.132Z"
   },
   {
    "duration": 18,
    "start_time": "2022-04-22T18:12:10.949Z"
   },
   {
    "duration": 17,
    "start_time": "2022-04-22T18:12:53.622Z"
   },
   {
    "duration": 124,
    "start_time": "2022-04-22T18:14:23.309Z"
   },
   {
    "duration": 0,
    "start_time": "2022-04-22T18:16:01.012Z"
   },
   {
    "duration": 137546,
    "start_time": "2022-04-22T18:18:24.651Z"
   },
   {
    "duration": 167,
    "start_time": "2022-04-22T18:23:03.739Z"
   },
   {
    "duration": 17,
    "start_time": "2022-04-22T18:23:12.308Z"
   },
   {
    "duration": 3,
    "start_time": "2022-04-22T18:23:17.306Z"
   },
   {
    "duration": 298038,
    "start_time": "2022-04-22T18:23:21.115Z"
   },
   {
    "duration": 4,
    "start_time": "2022-04-22T18:33:00.515Z"
   },
   {
    "duration": 80,
    "start_time": "2022-04-22T18:33:03.369Z"
   },
   {
    "duration": 74,
    "start_time": "2022-04-22T18:33:27.210Z"
   },
   {
    "duration": 3,
    "start_time": "2022-04-22T18:34:02.467Z"
   },
   {
    "duration": 4,
    "start_time": "2022-04-22T18:34:05.163Z"
   },
   {
    "duration": 512992,
    "start_time": "2022-04-22T18:34:09.219Z"
   },
   {
    "duration": 4,
    "start_time": "2022-04-22T18:44:26.051Z"
   },
   {
    "duration": 48,
    "start_time": "2022-04-22T18:44:52.451Z"
   },
   {
    "duration": 55,
    "start_time": "2022-04-22T18:44:56.250Z"
   },
   {
    "duration": 11,
    "start_time": "2022-04-22T18:45:13.482Z"
   },
   {
    "duration": 3,
    "start_time": "2022-04-22T18:50:47.599Z"
   },
   {
    "duration": 109332,
    "start_time": "2022-04-22T18:50:49.702Z"
   },
   {
    "duration": 3,
    "start_time": "2022-04-22T18:52:40.541Z"
   },
   {
    "duration": 3,
    "start_time": "2022-04-22T18:52:50.365Z"
   },
   {
    "duration": 579203,
    "start_time": "2022-04-22T18:52:51.744Z"
   },
   {
    "duration": 4,
    "start_time": "2022-04-22T19:03:06.352Z"
   },
   {
    "duration": 195,
    "start_time": "2022-04-22T19:03:09.932Z"
   },
   {
    "duration": 3,
    "start_time": "2022-04-22T19:04:36.629Z"
   },
   {
    "duration": 626397,
    "start_time": "2022-04-22T19:04:37.997Z"
   },
   {
    "duration": 4,
    "start_time": "2022-04-22T19:16:09.730Z"
   },
   {
    "duration": 380,
    "start_time": "2022-04-22T19:16:13.987Z"
   },
   {
    "duration": 3,
    "start_time": "2022-04-22T19:17:08.595Z"
   },
   {
    "duration": 0,
    "start_time": "2022-04-22T19:43:33.114Z"
   },
   {
    "duration": 0,
    "start_time": "2022-04-22T19:43:33.116Z"
   },
   {
    "duration": 3,
    "start_time": "2022-04-22T19:43:35.165Z"
   },
   {
    "duration": 3,
    "start_time": "2022-04-22T19:43:44.966Z"
   },
   {
    "duration": 878096,
    "start_time": "2022-04-22T19:43:47.605Z"
   },
   {
    "duration": 4,
    "start_time": "2022-04-22T20:06:17.615Z"
   },
   {
    "duration": 647,
    "start_time": "2022-04-22T20:06:23.822Z"
   },
   {
    "duration": 641,
    "start_time": "2022-04-22T20:06:35.382Z"
   },
   {
    "duration": 716,
    "start_time": "2022-04-22T20:06:39.486Z"
   },
   {
    "duration": 11,
    "start_time": "2022-04-22T20:07:11.807Z"
   },
   {
    "duration": 3,
    "start_time": "2022-04-22T20:07:42.894Z"
   },
   {
    "duration": 29737,
    "start_time": "2022-04-22T20:07:44.052Z"
   },
   {
    "duration": 4,
    "start_time": "2022-04-22T20:08:36.357Z"
   },
   {
    "duration": 18,
    "start_time": "2022-04-22T20:08:38.916Z"
   },
   {
    "duration": 17,
    "start_time": "2022-04-22T20:08:41.980Z"
   },
   {
    "duration": 18,
    "start_time": "2022-04-22T20:08:46.309Z"
   },
   {
    "duration": 11,
    "start_time": "2022-04-22T20:09:02.330Z"
   },
   {
    "duration": 1753,
    "start_time": "2022-04-23T06:10:56.138Z"
   },
   {
    "duration": 4,
    "start_time": "2022-04-23T06:10:57.893Z"
   },
   {
    "duration": 843,
    "start_time": "2022-04-23T06:10:57.898Z"
   },
   {
    "duration": 132,
    "start_time": "2022-04-23T06:10:58.743Z"
   },
   {
    "duration": 16,
    "start_time": "2022-04-23T06:10:58.876Z"
   },
   {
    "duration": 47,
    "start_time": "2022-04-23T06:10:58.894Z"
   },
   {
    "duration": 141,
    "start_time": "2022-04-23T06:10:58.943Z"
   },
   {
    "duration": 134,
    "start_time": "2022-04-23T06:10:59.086Z"
   },
   {
    "duration": 484,
    "start_time": "2022-04-23T06:10:59.222Z"
   },
   {
    "duration": 105,
    "start_time": "2022-04-23T06:10:59.708Z"
   },
   {
    "duration": 198,
    "start_time": "2022-04-23T06:10:59.815Z"
   },
   {
    "duration": 27,
    "start_time": "2022-04-23T06:11:00.015Z"
   },
   {
    "duration": 394,
    "start_time": "2022-04-23T06:11:00.044Z"
   },
   {
    "duration": 6,
    "start_time": "2022-04-23T06:11:00.439Z"
   },
   {
    "duration": 13,
    "start_time": "2022-04-23T06:11:00.446Z"
   },
   {
    "duration": 282,
    "start_time": "2022-04-23T06:11:00.460Z"
   },
   {
    "duration": 1581,
    "start_time": "2022-04-23T06:11:00.743Z"
   },
   {
    "duration": 347,
    "start_time": "2022-04-23T06:11:02.326Z"
   },
   {
    "duration": 23,
    "start_time": "2022-04-23T06:11:02.675Z"
   },
   {
    "duration": 104,
    "start_time": "2022-04-23T06:11:02.700Z"
   },
   {
    "duration": 94,
    "start_time": "2022-04-23T06:11:02.805Z"
   },
   {
    "duration": 98,
    "start_time": "2022-04-23T06:11:02.901Z"
   },
   {
    "duration": 92,
    "start_time": "2022-04-23T06:11:03.000Z"
   },
   {
    "duration": 89,
    "start_time": "2022-04-23T06:11:03.094Z"
   },
   {
    "duration": 91,
    "start_time": "2022-04-23T06:11:03.185Z"
   },
   {
    "duration": 300,
    "start_time": "2022-04-23T06:11:03.278Z"
   },
   {
    "duration": 220,
    "start_time": "2022-04-23T06:11:03.580Z"
   },
   {
    "duration": 146,
    "start_time": "2022-04-23T06:11:03.804Z"
   },
   {
    "duration": 177,
    "start_time": "2022-04-23T06:11:03.952Z"
   },
   {
    "duration": 68,
    "start_time": "2022-04-23T06:11:04.130Z"
   },
   {
    "duration": 101,
    "start_time": "2022-04-23T06:11:04.200Z"
   },
   {
    "duration": 87,
    "start_time": "2022-04-23T06:11:04.303Z"
   },
   {
    "duration": 19,
    "start_time": "2022-04-23T06:11:04.392Z"
   },
   {
    "duration": 122,
    "start_time": "2022-04-23T06:11:04.413Z"
   },
   {
    "duration": 114,
    "start_time": "2022-04-23T06:11:04.537Z"
   },
   {
    "duration": 115,
    "start_time": "2022-04-23T06:11:04.652Z"
   },
   {
    "duration": 84,
    "start_time": "2022-04-23T06:11:04.769Z"
   },
   {
    "duration": 37,
    "start_time": "2022-04-23T06:11:04.854Z"
   },
   {
    "duration": 29,
    "start_time": "2022-04-23T06:11:04.892Z"
   },
   {
    "duration": 12,
    "start_time": "2022-04-23T06:11:04.923Z"
   },
   {
    "duration": 10,
    "start_time": "2022-04-23T06:11:04.937Z"
   },
   {
    "duration": 134,
    "start_time": "2022-04-23T06:11:04.948Z"
   },
   {
    "duration": 18,
    "start_time": "2022-04-23T06:11:05.084Z"
   },
   {
    "duration": 425,
    "start_time": "2022-04-23T06:11:05.104Z"
   },
   {
    "duration": 8,
    "start_time": "2022-04-23T06:11:05.530Z"
   },
   {
    "duration": 16,
    "start_time": "2022-04-23T06:11:05.540Z"
   },
   {
    "duration": 3,
    "start_time": "2022-04-23T06:11:05.574Z"
   },
   {
    "duration": 115,
    "start_time": "2022-04-23T06:11:05.579Z"
   },
   {
    "duration": 23,
    "start_time": "2022-04-23T06:11:05.695Z"
   },
   {
    "duration": 60,
    "start_time": "2022-04-23T06:11:05.719Z"
   },
   {
    "duration": 6,
    "start_time": "2022-04-23T06:11:05.781Z"
   },
   {
    "duration": 14,
    "start_time": "2022-04-23T06:11:05.788Z"
   },
   {
    "duration": 1015,
    "start_time": "2022-04-23T06:11:05.803Z"
   },
   {
    "duration": 460,
    "start_time": "2022-04-23T06:11:06.819Z"
   },
   {
    "duration": 288,
    "start_time": "2022-04-23T06:11:07.281Z"
   },
   {
    "duration": 43,
    "start_time": "2022-04-23T06:11:07.571Z"
   },
   {
    "duration": 507,
    "start_time": "2022-04-23T06:11:07.616Z"
   },
   {
    "duration": 52,
    "start_time": "2022-04-23T06:11:08.125Z"
   },
   {
    "duration": 33,
    "start_time": "2022-04-23T06:11:08.178Z"
   },
   {
    "duration": 67,
    "start_time": "2022-04-23T06:11:08.213Z"
   },
   {
    "duration": 15,
    "start_time": "2022-04-23T06:11:08.282Z"
   },
   {
    "duration": 8,
    "start_time": "2022-04-23T06:11:08.298Z"
   },
   {
    "duration": 253,
    "start_time": "2022-04-23T06:11:08.308Z"
   },
   {
    "duration": 12,
    "start_time": "2022-04-23T06:11:08.563Z"
   },
   {
    "duration": 425,
    "start_time": "2022-04-23T06:11:08.576Z"
   },
   {
    "duration": 132,
    "start_time": "2022-04-23T06:11:09.002Z"
   },
   {
    "duration": 154,
    "start_time": "2022-04-23T06:11:09.135Z"
   },
   {
    "duration": 121,
    "start_time": "2022-04-23T06:11:09.291Z"
   },
   {
    "duration": 0,
    "start_time": "2022-04-23T06:11:09.413Z"
   },
   {
    "duration": 0,
    "start_time": "2022-04-23T06:11:09.415Z"
   },
   {
    "duration": 0,
    "start_time": "2022-04-23T06:11:09.416Z"
   },
   {
    "duration": 0,
    "start_time": "2022-04-23T06:11:09.417Z"
   },
   {
    "duration": 0,
    "start_time": "2022-04-23T06:11:09.418Z"
   },
   {
    "duration": 0,
    "start_time": "2022-04-23T06:11:09.419Z"
   },
   {
    "duration": 0,
    "start_time": "2022-04-23T06:11:09.421Z"
   },
   {
    "duration": 0,
    "start_time": "2022-04-23T06:11:09.422Z"
   },
   {
    "duration": 0,
    "start_time": "2022-04-23T06:11:09.423Z"
   },
   {
    "duration": 0,
    "start_time": "2022-04-23T06:11:09.425Z"
   },
   {
    "duration": 0,
    "start_time": "2022-04-23T06:11:09.426Z"
   },
   {
    "duration": 0,
    "start_time": "2022-04-23T06:11:09.427Z"
   },
   {
    "duration": 0,
    "start_time": "2022-04-23T06:11:09.428Z"
   },
   {
    "duration": 0,
    "start_time": "2022-04-23T06:11:09.429Z"
   },
   {
    "duration": 0,
    "start_time": "2022-04-23T06:11:09.430Z"
   },
   {
    "duration": 0,
    "start_time": "2022-04-23T06:11:09.431Z"
   },
   {
    "duration": 0,
    "start_time": "2022-04-23T06:11:09.432Z"
   },
   {
    "duration": 0,
    "start_time": "2022-04-23T06:11:09.473Z"
   },
   {
    "duration": 0,
    "start_time": "2022-04-23T06:11:09.475Z"
   },
   {
    "duration": 0,
    "start_time": "2022-04-23T06:11:09.476Z"
   },
   {
    "duration": 1597,
    "start_time": "2022-04-23T15:27:34.625Z"
   },
   {
    "duration": 3,
    "start_time": "2022-04-23T15:27:36.224Z"
   },
   {
    "duration": 810,
    "start_time": "2022-04-23T15:27:36.229Z"
   },
   {
    "duration": 140,
    "start_time": "2022-04-23T15:27:37.042Z"
   },
   {
    "duration": 15,
    "start_time": "2022-04-23T15:27:37.185Z"
   },
   {
    "duration": 45,
    "start_time": "2022-04-23T15:27:37.201Z"
   },
   {
    "duration": 149,
    "start_time": "2022-04-23T15:27:37.247Z"
   },
   {
    "duration": 141,
    "start_time": "2022-04-23T15:27:37.397Z"
   },
   {
    "duration": 490,
    "start_time": "2022-04-23T15:27:37.540Z"
   },
   {
    "duration": 107,
    "start_time": "2022-04-23T15:27:38.033Z"
   },
   {
    "duration": 195,
    "start_time": "2022-04-23T15:27:38.142Z"
   },
   {
    "duration": 34,
    "start_time": "2022-04-23T15:27:38.339Z"
   },
   {
    "duration": 343,
    "start_time": "2022-04-23T15:27:38.375Z"
   },
   {
    "duration": 4,
    "start_time": "2022-04-23T15:27:38.720Z"
   },
   {
    "duration": 7,
    "start_time": "2022-04-23T15:27:38.725Z"
   },
   {
    "duration": 257,
    "start_time": "2022-04-23T15:27:38.734Z"
   },
   {
    "duration": 1598,
    "start_time": "2022-04-23T15:27:38.993Z"
   },
   {
    "duration": 367,
    "start_time": "2022-04-23T15:27:40.593Z"
   },
   {
    "duration": 26,
    "start_time": "2022-04-23T15:27:40.961Z"
   },
   {
    "duration": 95,
    "start_time": "2022-04-23T15:27:40.988Z"
   },
   {
    "duration": 90,
    "start_time": "2022-04-23T15:27:41.085Z"
   },
   {
    "duration": 80,
    "start_time": "2022-04-23T15:27:41.177Z"
   },
   {
    "duration": 90,
    "start_time": "2022-04-23T15:27:41.258Z"
   },
   {
    "duration": 89,
    "start_time": "2022-04-23T15:27:41.349Z"
   },
   {
    "duration": 89,
    "start_time": "2022-04-23T15:27:41.440Z"
   },
   {
    "duration": 284,
    "start_time": "2022-04-23T15:27:41.531Z"
   },
   {
    "duration": 217,
    "start_time": "2022-04-23T15:27:41.817Z"
   },
   {
    "duration": 142,
    "start_time": "2022-04-23T15:27:42.040Z"
   },
   {
    "duration": 159,
    "start_time": "2022-04-23T15:27:42.183Z"
   },
   {
    "duration": 60,
    "start_time": "2022-04-23T15:27:42.343Z"
   },
   {
    "duration": 87,
    "start_time": "2022-04-23T15:27:42.404Z"
   },
   {
    "duration": 90,
    "start_time": "2022-04-23T15:27:42.493Z"
   },
   {
    "duration": 19,
    "start_time": "2022-04-23T15:27:42.585Z"
   },
   {
    "duration": 123,
    "start_time": "2022-04-23T15:27:42.605Z"
   },
   {
    "duration": 118,
    "start_time": "2022-04-23T15:27:42.730Z"
   },
   {
    "duration": 110,
    "start_time": "2022-04-23T15:27:42.850Z"
   },
   {
    "duration": 94,
    "start_time": "2022-04-23T15:27:42.962Z"
   },
   {
    "duration": 29,
    "start_time": "2022-04-23T15:27:43.058Z"
   },
   {
    "duration": 28,
    "start_time": "2022-04-23T15:27:43.089Z"
   },
   {
    "duration": 12,
    "start_time": "2022-04-23T15:27:43.119Z"
   },
   {
    "duration": 5,
    "start_time": "2022-04-23T15:27:43.133Z"
   },
   {
    "duration": 139,
    "start_time": "2022-04-23T15:27:43.140Z"
   },
   {
    "duration": 17,
    "start_time": "2022-04-23T15:27:43.281Z"
   },
   {
    "duration": 432,
    "start_time": "2022-04-23T15:27:43.299Z"
   },
   {
    "duration": 7,
    "start_time": "2022-04-23T15:27:43.733Z"
   },
   {
    "duration": 16,
    "start_time": "2022-04-23T15:27:43.741Z"
   },
   {
    "duration": 3,
    "start_time": "2022-04-23T15:27:43.772Z"
   },
   {
    "duration": 110,
    "start_time": "2022-04-23T15:27:43.777Z"
   },
   {
    "duration": 21,
    "start_time": "2022-04-23T15:27:43.889Z"
   },
   {
    "duration": 61,
    "start_time": "2022-04-23T15:27:43.912Z"
   },
   {
    "duration": 6,
    "start_time": "2022-04-23T15:27:43.975Z"
   },
   {
    "duration": 5,
    "start_time": "2022-04-23T15:27:43.983Z"
   },
   {
    "duration": 914,
    "start_time": "2022-04-23T15:27:43.989Z"
   },
   {
    "duration": 458,
    "start_time": "2022-04-23T15:27:44.905Z"
   },
   {
    "duration": 276,
    "start_time": "2022-04-23T15:27:45.365Z"
   },
   {
    "duration": 49,
    "start_time": "2022-04-23T15:27:45.643Z"
   },
   {
    "duration": 512,
    "start_time": "2022-04-23T15:27:45.694Z"
   },
   {
    "duration": 44,
    "start_time": "2022-04-23T15:27:46.207Z"
   },
   {
    "duration": 48,
    "start_time": "2022-04-23T15:27:46.252Z"
   },
   {
    "duration": 50,
    "start_time": "2022-04-23T15:27:46.301Z"
   },
   {
    "duration": 27,
    "start_time": "2022-04-23T15:27:46.353Z"
   },
   {
    "duration": 6,
    "start_time": "2022-04-23T15:27:46.382Z"
   },
   {
    "duration": 241,
    "start_time": "2022-04-23T15:27:46.389Z"
   },
   {
    "duration": 4,
    "start_time": "2022-04-23T15:27:46.631Z"
   },
   {
    "duration": 387,
    "start_time": "2022-04-23T15:27:46.636Z"
   },
   {
    "duration": 140,
    "start_time": "2022-04-23T15:27:47.025Z"
   },
   {
    "duration": 146,
    "start_time": "2022-04-23T15:27:47.166Z"
   },
   {
    "duration": 26459,
    "start_time": "2022-04-23T15:27:47.314Z"
   },
   {
    "duration": 111200,
    "start_time": "2022-04-23T15:28:13.775Z"
   },
   {
    "duration": 301,
    "start_time": "2022-04-23T15:30:04.977Z"
   },
   {
    "duration": 92,
    "start_time": "2022-04-23T15:30:05.282Z"
   },
   {
    "duration": 26979,
    "start_time": "2022-04-23T15:30:05.376Z"
   },
   {
    "duration": 3,
    "start_time": "2022-04-23T15:30:32.356Z"
   },
   {
    "duration": 34,
    "start_time": "2022-04-23T15:30:32.361Z"
   },
   {
    "duration": 17,
    "start_time": "2022-04-23T15:30:32.397Z"
   },
   {
    "duration": 2,
    "start_time": "2022-04-23T15:30:32.416Z"
   },
   {
    "duration": 5,
    "start_time": "2022-04-23T15:30:32.420Z"
   },
   {
    "duration": 790347,
    "start_time": "2022-04-23T15:30:32.427Z"
   },
   {
    "duration": 4,
    "start_time": "2022-04-23T15:43:42.776Z"
   },
   {
    "duration": 654,
    "start_time": "2022-04-23T15:43:42.781Z"
   },
   {
    "duration": 645,
    "start_time": "2022-04-23T15:43:43.437Z"
   },
   {
    "duration": 3,
    "start_time": "2022-04-23T15:43:44.087Z"
   },
   {
    "duration": 7,
    "start_time": "2022-04-23T15:43:44.091Z"
   },
   {
    "duration": 196375,
    "start_time": "2022-04-23T15:43:44.099Z"
   },
   {
    "duration": 4,
    "start_time": "2022-04-23T15:47:00.476Z"
   },
   {
    "duration": 91,
    "start_time": "2022-04-23T15:47:00.482Z"
   },
   {
    "duration": 103,
    "start_time": "2022-04-23T15:47:00.575Z"
   },
   {
    "duration": 11,
    "start_time": "2022-04-23T15:47:00.680Z"
   },
   {
    "duration": 11,
    "start_time": "2022-04-23T15:49:02.291Z"
   }
  ],
  "kernelspec": {
   "display_name": "Python 3 (ipykernel)",
   "language": "python",
   "name": "python3"
  },
  "language_info": {
   "codemirror_mode": {
    "name": "ipython",
    "version": 3
   },
   "file_extension": ".py",
   "mimetype": "text/x-python",
   "name": "python",
   "nbconvert_exporter": "python",
   "pygments_lexer": "ipython3",
   "version": "3.9.7"
  },
  "toc": {
   "base_numbering": 1,
   "nav_menu": {},
   "number_sections": true,
   "sideBar": true,
   "skip_h1_title": true,
   "title_cell": "Table of Contents",
   "title_sidebar": "Contents",
   "toc_cell": false,
   "toc_position": {
    "height": "calc(100% - 180px)",
    "left": "10px",
    "top": "150px",
    "width": "366.391px"
   },
   "toc_section_display": true,
   "toc_window_display": true
  }
 },
 "nbformat": 4,
 "nbformat_minor": 2
}
