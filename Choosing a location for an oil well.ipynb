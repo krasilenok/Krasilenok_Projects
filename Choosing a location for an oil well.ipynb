{
 "cells": [
  {
   "cell_type": "markdown",
   "metadata": {},
   "source": [
    "# Выбор локации для скважины"
   ]
  },
  {
   "cell_type": "markdown",
   "metadata": {},
   "source": [
    "Добывающей компании «ГлавРосГосНефть» нужно решить, где бурить новую скважину.\n",
    "\n",
    "Нам предоставлены пробы нефти в трёх регионах: в каждом 10 000 месторождений, где измерили качество нефти и объём её запасов. Необходимо построить модель машинного обучения, которая поможет определить регион, где добыча принесёт наибольшую прибыль. Также необходимо проанализируйте возможную прибыль и риски.\n",
    "\n",
    "Шаги для выбора локации:\n",
    "\n",
    "- В избранном регионе ищут месторождения, для каждого определяют значения признаков;\n",
    "- Строят модель и оценивают объём запасов;\n",
    "- Выбирают месторождения с самым высокими оценками значений. Количество месторождений зависит от бюджета компании и стоимости разработки одной скважины;\n",
    "- Прибыль равна суммарной прибыли отобранных месторождений.\n",
    "\n",
    "*Исходные данные по регионам:*\n",
    "\n",
    "- d — уникальный идентификатор скважины;\n",
    "- f0, f1, f2 — три признака точек (неважно, что они означают, но сами признаки значимы);\n",
    "- product — объём запасов в скважине (тыс. баррелей).\n",
    "\n",
    "Условия задачи:\n",
    "- Для обучения модели подходит только линейная регрессия (остальные — недостаточно предсказуемые).\n",
    "- При разведке региона исследуют 500 точек, из которых с помощью машинного обучения выбирают 200 лучших для разработки.\n",
    "- Бюджет на разработку скважин в регионе — 10 млрд рублей.\n",
    "- При нынешних ценах один баррель сырья приносит 450 рублей дохода. Доход с каждой единицы продукта составляет 450 тыс. рублей, поскольку объём указан в тысячах баррелей.\n",
    "- После оценки рисков нужно оставить лишь те регионы, в которых вероятность убытков меньше 2.5%. Среди них выбирают регион с наибольшей средней прибылью.\n",
    "- Данные синтетические: детали контрактов и характеристики месторождений не разглашаются."
   ]
  },
  {
   "cell_type": "markdown",
   "metadata": {},
   "source": [
    "## 1. Загрузка и подготовка данных"
   ]
  },
  {
   "cell_type": "code",
   "execution_count": 1,
   "metadata": {},
   "outputs": [],
   "source": [
    "# импорт библиотек\n",
    "import pandas as pd\n",
    "import matplotlib.pyplot as plt\n",
    "import numpy as np\n",
    "from sklearn.linear_model import LinearRegression\n",
    "from sklearn.model_selection import train_test_split\n",
    "from sklearn.preprocessing import StandardScaler \n",
    "from sklearn.metrics import mean_squared_error, r2_score\n",
    "from scipy import stats as st\n",
    "import warnings\n",
    "warnings.filterwarnings('ignore')\n",
    "pd.options.mode.chained_assignment = None"
   ]
  },
  {
   "cell_type": "code",
   "execution_count": 2,
   "metadata": {},
   "outputs": [],
   "source": [
    "# зададим отображение количества столбцов датафрейма\n",
    "pd.options.display.max_columns = 100\n",
    "\n",
    "# зададим формат отображения дробных чисел\n",
    "pd.options.display.float_format = '{:,.2f}'.format"
   ]
  },
  {
   "cell_type": "markdown",
   "metadata": {},
   "source": [
    "Загрузим данные в `reg_1`, `reg_2`, `reg_3` (по номеру региона). Выведем на экран первые 5 строк каждого датафрейма и общую информацию:"
   ]
  },
  {
   "cell_type": "code",
   "execution_count": 3,
   "metadata": {},
   "outputs": [
    {
     "name": "stdout",
     "output_type": "stream",
     "text": [
      "      id    f0    f1   f2  product\n",
      "0  txEyH  0.71 -0.50 1.22   105.28\n",
      "1  2acmU  1.33 -0.34 4.37    73.04\n",
      "2  409Wp  1.02  0.15 1.42    85.27\n",
      "3  iJLyR -0.03  0.14 2.98   168.62\n",
      "4  Xdl7t  1.99  0.16 4.75   154.04 \n",
      "\n",
      "      id     f0     f1    f2  product\n",
      "0  kBEdx -15.00  -8.28 -0.01     3.18\n",
      "1  62mP7  14.27  -3.48  1.00    26.95\n",
      "2  vyE1P   6.26  -5.95  5.00   134.77\n",
      "3  KcrkZ -13.08 -11.51  5.00   137.95\n",
      "4  AHL4O  12.70  -8.15  5.00   134.77 \n",
      "\n",
      "      id    f0    f1    f2  product\n",
      "0  fwXo0 -1.15  0.96 -0.83    27.76\n",
      "1  WJtFt  0.26  0.27 -2.53    56.07\n",
      "2  ovLUW  0.19  0.29 -5.59    62.87\n",
      "3  q6cA6  2.24 -0.55  0.93   114.57\n",
      "4  WPMUX -0.52  1.72  5.90   149.60 \n",
      "\n"
     ]
    }
   ],
   "source": [
    "reg_1 = pd.read_csv('/datasets/geo_data_0.csv')\n",
    "reg_2 = pd.read_csv('/datasets/geo_data_1.csv')\n",
    "reg_3 = pd.read_csv('/datasets/geo_data_2.csv')\n",
    "\n",
    "for reg in [reg_1, reg_2, reg_3]:\n",
    "    print(reg.head(), '\\n')"
   ]
  },
  {
   "cell_type": "code",
   "execution_count": 4,
   "metadata": {
    "scrolled": true
   },
   "outputs": [
    {
     "name": "stdout",
     "output_type": "stream",
     "text": [
      "<class 'pandas.core.frame.DataFrame'>\n",
      "RangeIndex: 100000 entries, 0 to 99999\n",
      "Data columns (total 5 columns):\n",
      "id         100000 non-null object\n",
      "f0         100000 non-null float64\n",
      "f1         100000 non-null float64\n",
      "f2         100000 non-null float64\n",
      "product    100000 non-null float64\n",
      "dtypes: float64(4), object(1)\n",
      "memory usage: 3.8+ MB\n",
      "None \n",
      "\n",
      "<class 'pandas.core.frame.DataFrame'>\n",
      "RangeIndex: 100000 entries, 0 to 99999\n",
      "Data columns (total 5 columns):\n",
      "id         100000 non-null object\n",
      "f0         100000 non-null float64\n",
      "f1         100000 non-null float64\n",
      "f2         100000 non-null float64\n",
      "product    100000 non-null float64\n",
      "dtypes: float64(4), object(1)\n",
      "memory usage: 3.8+ MB\n",
      "None \n",
      "\n",
      "<class 'pandas.core.frame.DataFrame'>\n",
      "RangeIndex: 100000 entries, 0 to 99999\n",
      "Data columns (total 5 columns):\n",
      "id         100000 non-null object\n",
      "f0         100000 non-null float64\n",
      "f1         100000 non-null float64\n",
      "f2         100000 non-null float64\n",
      "product    100000 non-null float64\n",
      "dtypes: float64(4), object(1)\n",
      "memory usage: 3.8+ MB\n",
      "None \n",
      "\n"
     ]
    }
   ],
   "source": [
    "for reg in [reg_1, reg_2, reg_3]:\n",
    "    print(reg.info(), '\\n')"
   ]
  },
  {
   "cell_type": "markdown",
   "metadata": {},
   "source": [
    "Все данные - числовые. Выведем описательную статистику по каждому датафрейму:"
   ]
  },
  {
   "cell_type": "code",
   "execution_count": 5,
   "metadata": {},
   "outputs": [
    {
     "name": "stdout",
     "output_type": "stream",
     "text": [
      "Region 1\n",
      "              count  mean   std    min   25%   50%    75%    max\n",
      "f0      100,000.00  0.50  0.87  -1.41 -0.07  0.50   1.07   2.36\n",
      "f1      100,000.00  0.25  0.50  -0.85 -0.20  0.25   0.70   1.34\n",
      "f2      100,000.00  2.50  3.25 -12.09  0.29  2.52   4.72  16.00\n",
      "product 100,000.00 92.50 44.29   0.00 56.50 91.85 128.56 185.36\n",
      "\n",
      "Region 2\n",
      "              count  mean   std    min   25%   50%    75%    max\n",
      "f0      100,000.00  1.14  8.97 -31.61 -6.30  1.15   8.62  29.42\n",
      "f1      100,000.00 -4.80  5.12 -26.36 -8.27 -4.81  -1.33  18.73\n",
      "f2      100,000.00  2.49  1.70  -0.02  1.00  2.01   4.00   5.02\n",
      "product 100,000.00 68.83 45.94   0.00 26.95 57.09 107.81 137.95\n",
      "\n",
      "Region 3\n",
      "              count  mean   std    min   25%   50%    75%    max\n",
      "f0      100,000.00  0.00  1.73  -8.76 -1.16  0.01   1.16   7.24\n",
      "f1      100,000.00 -0.00  1.73  -7.08 -1.17 -0.01   1.16   7.84\n",
      "f2      100,000.00  2.50  3.47 -11.97  0.13  2.48   4.86  16.74\n",
      "product 100,000.00 95.00 44.75   0.00 59.45 94.93 130.60 190.03\n"
     ]
    }
   ],
   "source": [
    "print('Region 1\\n', reg_1.describe().T)\n",
    "print('\\nRegion 2\\n', reg_2.describe().T)\n",
    "print('\\nRegion 3\\n', reg_3.describe().T)"
   ]
  },
  {
   "cell_type": "markdown",
   "metadata": {},
   "source": [
    "Проверим данные на наличие дубликатов:"
   ]
  },
  {
   "cell_type": "code",
   "execution_count": 6,
   "metadata": {},
   "outputs": [
    {
     "name": "stdout",
     "output_type": "stream",
     "text": [
      "Число явных дубликатов: 0\n",
      "Число явных дубликатов: 0\n",
      "Число явных дубликатов: 0\n"
     ]
    }
   ],
   "source": [
    "for reg in [reg_1, reg_2, reg_3]:\n",
    "    print('Число явных дубликатов:', reg.duplicated().sum())"
   ]
  },
  {
   "cell_type": "markdown",
   "metadata": {},
   "source": [
    "Проверим, не дублируются ли названия скважин в датасетах:"
   ]
  },
  {
   "cell_type": "code",
   "execution_count": 7,
   "metadata": {},
   "outputs": [
    {
     "name": "stdout",
     "output_type": "stream",
     "text": [
      "Число дубликатов в именах скважин: 10\n",
      "Число дубликатов в именах скважин: 4\n",
      "Число дубликатов в именах скважин: 4\n"
     ]
    }
   ],
   "source": [
    "for reg in [reg_1, reg_2, reg_3]:\n",
    "    print('Число дубликатов в именах скважин:', reg['id'].duplicated().sum())"
   ]
  },
  {
   "cell_type": "markdown",
   "metadata": {},
   "source": [
    "К сожалению, в данных о скважинах, попадаются дубликаты. Очевидно, характеристики у дублирующихся скважин - разные, так как явных дубликатов обнаружено не было. Посмотрим, что это за дубликаты: запишем дублирующиеся id в переменные `id_duplicate`:"
   ]
  },
  {
   "cell_type": "code",
   "execution_count": 8,
   "metadata": {
    "scrolled": true
   },
   "outputs": [],
   "source": [
    "id_duplicate_1 = reg_1[reg_1['id'].duplicated()]['id']\n",
    "id_duplicate_2 = reg_2[reg_2['id'].duplicated()]['id']\n",
    "id_duplicate_3 = reg_3[reg_3['id'].duplicated()]['id']"
   ]
  },
  {
   "cell_type": "markdown",
   "metadata": {},
   "source": [
    "Выведем на экран строки с дубликатами скважин:"
   ]
  },
  {
   "cell_type": "code",
   "execution_count": 9,
   "metadata": {
    "scrolled": true
   },
   "outputs": [
    {
     "data": {
      "text/html": [
       "<div>\n",
       "<style scoped>\n",
       "    .dataframe tbody tr th:only-of-type {\n",
       "        vertical-align: middle;\n",
       "    }\n",
       "\n",
       "    .dataframe tbody tr th {\n",
       "        vertical-align: top;\n",
       "    }\n",
       "\n",
       "    .dataframe thead th {\n",
       "        text-align: right;\n",
       "    }\n",
       "</style>\n",
       "<table border=\"1\" class=\"dataframe\">\n",
       "  <thead>\n",
       "    <tr style=\"text-align: right;\">\n",
       "      <th></th>\n",
       "      <th>id</th>\n",
       "      <th>f0</th>\n",
       "      <th>f1</th>\n",
       "      <th>f2</th>\n",
       "      <th>product</th>\n",
       "    </tr>\n",
       "  </thead>\n",
       "  <tbody>\n",
       "    <tr>\n",
       "      <td>931</td>\n",
       "      <td>HZww2</td>\n",
       "      <td>0.76</td>\n",
       "      <td>0.37</td>\n",
       "      <td>1.86</td>\n",
       "      <td>30.68</td>\n",
       "    </tr>\n",
       "    <tr>\n",
       "      <td>1364</td>\n",
       "      <td>bxg6G</td>\n",
       "      <td>0.41</td>\n",
       "      <td>0.86</td>\n",
       "      <td>-3.65</td>\n",
       "      <td>73.60</td>\n",
       "    </tr>\n",
       "    <tr>\n",
       "      <td>1949</td>\n",
       "      <td>QcMuo</td>\n",
       "      <td>0.51</td>\n",
       "      <td>-0.32</td>\n",
       "      <td>-2.22</td>\n",
       "      <td>75.50</td>\n",
       "    </tr>\n",
       "    <tr>\n",
       "      <td>3389</td>\n",
       "      <td>A5aEY</td>\n",
       "      <td>-0.04</td>\n",
       "      <td>0.16</td>\n",
       "      <td>0.21</td>\n",
       "      <td>89.25</td>\n",
       "    </tr>\n",
       "    <tr>\n",
       "      <td>7530</td>\n",
       "      <td>HZww2</td>\n",
       "      <td>1.06</td>\n",
       "      <td>-0.37</td>\n",
       "      <td>10.43</td>\n",
       "      <td>158.83</td>\n",
       "    </tr>\n",
       "    <tr>\n",
       "      <td>16633</td>\n",
       "      <td>fiKDv</td>\n",
       "      <td>0.16</td>\n",
       "      <td>1.03</td>\n",
       "      <td>5.59</td>\n",
       "      <td>95.82</td>\n",
       "    </tr>\n",
       "    <tr>\n",
       "      <td>21426</td>\n",
       "      <td>Tdehs</td>\n",
       "      <td>0.83</td>\n",
       "      <td>0.30</td>\n",
       "      <td>-0.05</td>\n",
       "      <td>96.04</td>\n",
       "    </tr>\n",
       "    <tr>\n",
       "      <td>41724</td>\n",
       "      <td>bxg6G</td>\n",
       "      <td>-0.82</td>\n",
       "      <td>0.55</td>\n",
       "      <td>3.63</td>\n",
       "      <td>93.01</td>\n",
       "    </tr>\n",
       "    <tr>\n",
       "      <td>42529</td>\n",
       "      <td>AGS9W</td>\n",
       "      <td>1.45</td>\n",
       "      <td>-0.48</td>\n",
       "      <td>0.68</td>\n",
       "      <td>126.37</td>\n",
       "    </tr>\n",
       "    <tr>\n",
       "      <td>51970</td>\n",
       "      <td>A5aEY</td>\n",
       "      <td>-0.18</td>\n",
       "      <td>0.94</td>\n",
       "      <td>-2.09</td>\n",
       "      <td>33.02</td>\n",
       "    </tr>\n",
       "    <tr>\n",
       "      <td>60140</td>\n",
       "      <td>TtcGQ</td>\n",
       "      <td>0.57</td>\n",
       "      <td>-0.10</td>\n",
       "      <td>6.44</td>\n",
       "      <td>85.35</td>\n",
       "    </tr>\n",
       "    <tr>\n",
       "      <td>63593</td>\n",
       "      <td>QcMuo</td>\n",
       "      <td>0.64</td>\n",
       "      <td>-0.47</td>\n",
       "      <td>0.86</td>\n",
       "      <td>64.58</td>\n",
       "    </tr>\n",
       "    <tr>\n",
       "      <td>64022</td>\n",
       "      <td>74z30</td>\n",
       "      <td>0.74</td>\n",
       "      <td>0.46</td>\n",
       "      <td>5.15</td>\n",
       "      <td>140.77</td>\n",
       "    </tr>\n",
       "    <tr>\n",
       "      <td>66136</td>\n",
       "      <td>74z30</td>\n",
       "      <td>1.08</td>\n",
       "      <td>-0.31</td>\n",
       "      <td>6.99</td>\n",
       "      <td>127.64</td>\n",
       "    </tr>\n",
       "    <tr>\n",
       "      <td>69163</td>\n",
       "      <td>AGS9W</td>\n",
       "      <td>-0.93</td>\n",
       "      <td>0.12</td>\n",
       "      <td>-3.66</td>\n",
       "      <td>19.23</td>\n",
       "    </tr>\n",
       "    <tr>\n",
       "      <td>75715</td>\n",
       "      <td>Tdehs</td>\n",
       "      <td>0.11</td>\n",
       "      <td>0.43</td>\n",
       "      <td>3.22</td>\n",
       "      <td>60.96</td>\n",
       "    </tr>\n",
       "    <tr>\n",
       "      <td>89582</td>\n",
       "      <td>bsk9y</td>\n",
       "      <td>0.40</td>\n",
       "      <td>-0.40</td>\n",
       "      <td>10.12</td>\n",
       "      <td>163.43</td>\n",
       "    </tr>\n",
       "    <tr>\n",
       "      <td>90815</td>\n",
       "      <td>fiKDv</td>\n",
       "      <td>0.05</td>\n",
       "      <td>0.84</td>\n",
       "      <td>6.39</td>\n",
       "      <td>137.35</td>\n",
       "    </tr>\n",
       "    <tr>\n",
       "      <td>92341</td>\n",
       "      <td>TtcGQ</td>\n",
       "      <td>0.11</td>\n",
       "      <td>1.02</td>\n",
       "      <td>0.91</td>\n",
       "      <td>101.32</td>\n",
       "    </tr>\n",
       "    <tr>\n",
       "      <td>97785</td>\n",
       "      <td>bsk9y</td>\n",
       "      <td>0.38</td>\n",
       "      <td>0.01</td>\n",
       "      <td>0.16</td>\n",
       "      <td>160.64</td>\n",
       "    </tr>\n",
       "  </tbody>\n",
       "</table>\n",
       "</div>"
      ],
      "text/plain": [
       "          id    f0    f1    f2  product\n",
       "931    HZww2  0.76  0.37  1.86    30.68\n",
       "1364   bxg6G  0.41  0.86 -3.65    73.60\n",
       "1949   QcMuo  0.51 -0.32 -2.22    75.50\n",
       "3389   A5aEY -0.04  0.16  0.21    89.25\n",
       "7530   HZww2  1.06 -0.37 10.43   158.83\n",
       "16633  fiKDv  0.16  1.03  5.59    95.82\n",
       "21426  Tdehs  0.83  0.30 -0.05    96.04\n",
       "41724  bxg6G -0.82  0.55  3.63    93.01\n",
       "42529  AGS9W  1.45 -0.48  0.68   126.37\n",
       "51970  A5aEY -0.18  0.94 -2.09    33.02\n",
       "60140  TtcGQ  0.57 -0.10  6.44    85.35\n",
       "63593  QcMuo  0.64 -0.47  0.86    64.58\n",
       "64022  74z30  0.74  0.46  5.15   140.77\n",
       "66136  74z30  1.08 -0.31  6.99   127.64\n",
       "69163  AGS9W -0.93  0.12 -3.66    19.23\n",
       "75715  Tdehs  0.11  0.43  3.22    60.96\n",
       "89582  bsk9y  0.40 -0.40 10.12   163.43\n",
       "90815  fiKDv  0.05  0.84  6.39   137.35\n",
       "92341  TtcGQ  0.11  1.02  0.91   101.32\n",
       "97785  bsk9y  0.38  0.01  0.16   160.64"
      ]
     },
     "execution_count": 9,
     "metadata": {},
     "output_type": "execute_result"
    }
   ],
   "source": [
    "reg_1.query('id in @id_duplicate_1')"
   ]
  },
  {
   "cell_type": "code",
   "execution_count": 10,
   "metadata": {},
   "outputs": [
    {
     "data": {
      "text/html": [
       "<div>\n",
       "<style scoped>\n",
       "    .dataframe tbody tr th:only-of-type {\n",
       "        vertical-align: middle;\n",
       "    }\n",
       "\n",
       "    .dataframe tbody tr th {\n",
       "        vertical-align: top;\n",
       "    }\n",
       "\n",
       "    .dataframe thead th {\n",
       "        text-align: right;\n",
       "    }\n",
       "</style>\n",
       "<table border=\"1\" class=\"dataframe\">\n",
       "  <thead>\n",
       "    <tr style=\"text-align: right;\">\n",
       "      <th></th>\n",
       "      <th>id</th>\n",
       "      <th>f0</th>\n",
       "      <th>f1</th>\n",
       "      <th>f2</th>\n",
       "      <th>product</th>\n",
       "    </tr>\n",
       "  </thead>\n",
       "  <tbody>\n",
       "    <tr>\n",
       "      <td>1305</td>\n",
       "      <td>LHZR0</td>\n",
       "      <td>11.17</td>\n",
       "      <td>-1.95</td>\n",
       "      <td>3.00</td>\n",
       "      <td>80.86</td>\n",
       "    </tr>\n",
       "    <tr>\n",
       "      <td>2721</td>\n",
       "      <td>bfPNe</td>\n",
       "      <td>-9.49</td>\n",
       "      <td>-5.46</td>\n",
       "      <td>4.01</td>\n",
       "      <td>110.99</td>\n",
       "    </tr>\n",
       "    <tr>\n",
       "      <td>5849</td>\n",
       "      <td>5ltQ6</td>\n",
       "      <td>-3.44</td>\n",
       "      <td>-12.30</td>\n",
       "      <td>2.00</td>\n",
       "      <td>57.09</td>\n",
       "    </tr>\n",
       "    <tr>\n",
       "      <td>41906</td>\n",
       "      <td>LHZR0</td>\n",
       "      <td>-8.99</td>\n",
       "      <td>-4.29</td>\n",
       "      <td>2.01</td>\n",
       "      <td>57.09</td>\n",
       "    </tr>\n",
       "    <tr>\n",
       "      <td>47591</td>\n",
       "      <td>wt4Uk</td>\n",
       "      <td>-9.09</td>\n",
       "      <td>-8.11</td>\n",
       "      <td>-0.00</td>\n",
       "      <td>3.18</td>\n",
       "    </tr>\n",
       "    <tr>\n",
       "      <td>82178</td>\n",
       "      <td>bfPNe</td>\n",
       "      <td>-6.20</td>\n",
       "      <td>-4.82</td>\n",
       "      <td>3.00</td>\n",
       "      <td>84.04</td>\n",
       "    </tr>\n",
       "    <tr>\n",
       "      <td>82873</td>\n",
       "      <td>wt4Uk</td>\n",
       "      <td>10.26</td>\n",
       "      <td>-9.38</td>\n",
       "      <td>4.99</td>\n",
       "      <td>134.77</td>\n",
       "    </tr>\n",
       "    <tr>\n",
       "      <td>84461</td>\n",
       "      <td>5ltQ6</td>\n",
       "      <td>18.21</td>\n",
       "      <td>2.19</td>\n",
       "      <td>3.99</td>\n",
       "      <td>107.81</td>\n",
       "    </tr>\n",
       "  </tbody>\n",
       "</table>\n",
       "</div>"
      ],
      "text/plain": [
       "          id    f0     f1    f2  product\n",
       "1305   LHZR0 11.17  -1.95  3.00    80.86\n",
       "2721   bfPNe -9.49  -5.46  4.01   110.99\n",
       "5849   5ltQ6 -3.44 -12.30  2.00    57.09\n",
       "41906  LHZR0 -8.99  -4.29  2.01    57.09\n",
       "47591  wt4Uk -9.09  -8.11 -0.00     3.18\n",
       "82178  bfPNe -6.20  -4.82  3.00    84.04\n",
       "82873  wt4Uk 10.26  -9.38  4.99   134.77\n",
       "84461  5ltQ6 18.21   2.19  3.99   107.81"
      ]
     },
     "execution_count": 10,
     "metadata": {},
     "output_type": "execute_result"
    }
   ],
   "source": [
    "reg_2.query('id in @id_duplicate_2')"
   ]
  },
  {
   "cell_type": "code",
   "execution_count": 11,
   "metadata": {
    "scrolled": true
   },
   "outputs": [
    {
     "data": {
      "text/html": [
       "<div>\n",
       "<style scoped>\n",
       "    .dataframe tbody tr th:only-of-type {\n",
       "        vertical-align: middle;\n",
       "    }\n",
       "\n",
       "    .dataframe tbody tr th {\n",
       "        vertical-align: top;\n",
       "    }\n",
       "\n",
       "    .dataframe thead th {\n",
       "        text-align: right;\n",
       "    }\n",
       "</style>\n",
       "<table border=\"1\" class=\"dataframe\">\n",
       "  <thead>\n",
       "    <tr style=\"text-align: right;\">\n",
       "      <th></th>\n",
       "      <th>id</th>\n",
       "      <th>f0</th>\n",
       "      <th>f1</th>\n",
       "      <th>f2</th>\n",
       "      <th>product</th>\n",
       "    </tr>\n",
       "  </thead>\n",
       "  <tbody>\n",
       "    <tr>\n",
       "      <td>11449</td>\n",
       "      <td>VF7Jo</td>\n",
       "      <td>2.12</td>\n",
       "      <td>-0.86</td>\n",
       "      <td>5.75</td>\n",
       "      <td>181.72</td>\n",
       "    </tr>\n",
       "    <tr>\n",
       "      <td>28039</td>\n",
       "      <td>xCHr8</td>\n",
       "      <td>1.63</td>\n",
       "      <td>0.37</td>\n",
       "      <td>-2.38</td>\n",
       "      <td>6.12</td>\n",
       "    </tr>\n",
       "    <tr>\n",
       "      <td>43233</td>\n",
       "      <td>xCHr8</td>\n",
       "      <td>-0.85</td>\n",
       "      <td>2.10</td>\n",
       "      <td>5.60</td>\n",
       "      <td>184.39</td>\n",
       "    </tr>\n",
       "    <tr>\n",
       "      <td>44378</td>\n",
       "      <td>Vcm5J</td>\n",
       "      <td>-1.23</td>\n",
       "      <td>-2.44</td>\n",
       "      <td>1.22</td>\n",
       "      <td>137.97</td>\n",
       "    </tr>\n",
       "    <tr>\n",
       "      <td>45404</td>\n",
       "      <td>KUPhW</td>\n",
       "      <td>0.23</td>\n",
       "      <td>-1.70</td>\n",
       "      <td>4.99</td>\n",
       "      <td>11.72</td>\n",
       "    </tr>\n",
       "    <tr>\n",
       "      <td>49564</td>\n",
       "      <td>VF7Jo</td>\n",
       "      <td>-0.88</td>\n",
       "      <td>0.56</td>\n",
       "      <td>0.72</td>\n",
       "      <td>136.23</td>\n",
       "    </tr>\n",
       "    <tr>\n",
       "      <td>55967</td>\n",
       "      <td>KUPhW</td>\n",
       "      <td>1.21</td>\n",
       "      <td>3.18</td>\n",
       "      <td>5.54</td>\n",
       "      <td>132.83</td>\n",
       "    </tr>\n",
       "    <tr>\n",
       "      <td>95090</td>\n",
       "      <td>Vcm5J</td>\n",
       "      <td>2.59</td>\n",
       "      <td>1.99</td>\n",
       "      <td>2.48</td>\n",
       "      <td>92.33</td>\n",
       "    </tr>\n",
       "  </tbody>\n",
       "</table>\n",
       "</div>"
      ],
      "text/plain": [
       "          id    f0    f1    f2  product\n",
       "11449  VF7Jo  2.12 -0.86  5.75   181.72\n",
       "28039  xCHr8  1.63  0.37 -2.38     6.12\n",
       "43233  xCHr8 -0.85  2.10  5.60   184.39\n",
       "44378  Vcm5J -1.23 -2.44  1.22   137.97\n",
       "45404  KUPhW  0.23 -1.70  4.99    11.72\n",
       "49564  VF7Jo -0.88  0.56  0.72   136.23\n",
       "55967  KUPhW  1.21  3.18  5.54   132.83\n",
       "95090  Vcm5J  2.59  1.99  2.48    92.33"
      ]
     },
     "execution_count": 11,
     "metadata": {},
     "output_type": "execute_result"
    }
   ],
   "source": [
    "reg_3.query('id in @id_duplicate_3')"
   ]
  },
  {
   "cell_type": "markdown",
   "metadata": {},
   "source": [
    "Проверим линейную связь факторов. Построим матрицу корреляций и матрицу диаграмм рассеяния для каждого региона:"
   ]
  },
  {
   "cell_type": "code",
   "execution_count": 27,
   "metadata": {
    "scrolled": false
   },
   "outputs": [
    {
     "name": "stdout",
     "output_type": "stream",
     "text": [
      "Матрица корреляций\n",
      "            f0    f1    f2  product\n",
      "f0       1.00 -0.44 -0.00     0.14\n",
      "f1      -0.44  1.00  0.00    -0.19\n",
      "f2      -0.00  0.00  1.00     0.48\n",
      "product  0.14 -0.19  0.48     1.00 \n",
      "\n",
      "Матрица диаграмм рассеяния\n",
      "\n"
     ]
    },
    {
     "data": {
      "image/png": "[encoded data removed]",
      "text/plain": [
       "<Figure size 432x432 with 16 Axes>"
      ]
     },
     "metadata": {
      "needs_background": "light"
     },
     "output_type": "display_data"
    },
    {
     "name": "stdout",
     "output_type": "stream",
     "text": [
      "Матрица корреляций\n",
      "            f0    f1    f2  product\n",
      "f0       1.00  0.18 -0.00    -0.03\n",
      "f1       0.18  1.00 -0.00    -0.01\n",
      "f2      -0.00 -0.00  1.00     1.00\n",
      "product -0.03 -0.01  1.00     1.00 \n",
      "\n",
      "Матрица диаграмм рассеяния\n",
      "\n"
     ]
    },
    {
     "data": {
      "image/png": "[encoded data removed]",
      "text/plain": [
       "<Figure size 432x432 with 16 Axes>"
      ]
     },
     "metadata": {
      "needs_background": "light"
     },
     "output_type": "display_data"
    },
    {
     "name": "stdout",
     "output_type": "stream",
     "text": [
      "Матрица корреляций\n",
      "            f0    f1    f2  product\n",
      "f0       1.00  0.00 -0.00    -0.00\n",
      "f1       0.00  1.00  0.00    -0.00\n",
      "f2      -0.00  0.00  1.00     0.45\n",
      "product -0.00 -0.00  0.45     1.00 \n",
      "\n",
      "Матрица диаграмм рассеяния\n",
      "\n"
     ]
    },
    {
     "data": {
      "image/png": "[encoded data removed]",
      "text/plain": [
       "<Figure size 432x432 with 16 Axes>"
      ]
     },
     "metadata": {
      "needs_background": "light"
     },
     "output_type": "display_data"
    }
   ],
   "source": [
    "for reg in [reg_1, reg_2, reg_3]:\n",
    "    print('Матрица корреляций\\n', reg.corr(),\"\\n\")\n",
    "    print('Матрица диаграмм рассеяния\\n')\n",
    "    pd.plotting.scatter_matrix(reg, figsize=(6,6), alpha=0.2)\n",
    "    plt.show()"
   ]
  },
  {
   "cell_type": "markdown",
   "metadata": {
    "scrolled": true
   },
   "source": [
    "**Выводы**\n",
    "\n",
    "Датафреймы содержат по 100 тыс. записей о скважинах в каждом регионе. \n",
    "\n",
    "Есть небольшое количество дубликатов в названиях скважин:\n",
    "- Число дубликатов в именах скважин по региону 1: 10\n",
    "- Число дубликатов в именах скважин по региону 2: 4\n",
    "- Число дубликатов в именах скважин по региону 3: 4\n",
    "\n",
    "Число дубликатов крайне мало - 0.01% по первому региону и 0.004% по второму, третьему регионам. Наличие таких дубликатов никак не должно исказить исследование, поэтому их обработка не была произведена.\n",
    "\n",
    "Отдельно отмечу, что данные в столбцах f0, f1, f2 представлены в разном масштабе. Для обучения модели регрессии необходимо будет их масштабировать.\n",
    "\n",
    "*Характеристики линейной связи:*\n",
    "\n",
    "Связь средней тесноты видна между f2 и product на регионах 1 и 3: коэффициент корреляции равен 0.48 и 0.45, соответственно. Связь между f2 и product в регионе 2 - прямолинейная, коэффициент корреляции = 1.00.\n",
    "Факторы f0 и f1 оказывают слабое влияние на целевой признак в регионе 1 и совсем не имеют линейной связи в регионах 2 и 3.\n",
    "Корреляция средней тесноты между факторами f0 и f1 наблюдается в регионе 1: коэффициент корреляции равен -0.44, зависимость обратно пропорциональная. Диаграмма рассеяния факторов f0 и f1 в регионе 1 напоминает две параболы, и скорее говорит о нелинейной зависимости.\n",
    "\n",
    "Слабая линейная связь между факторами f0 и f1 наблюдается в регионе 2: коэффициент корреляции равен 0.18, зависимость прямо пропорциональная. Диаграмма рассеяния факторов f0 и f1 в регионе 2 имеет форму круга.\n",
    "Между прочими факторами линейная связь совсем или почти отсутствует.\n",
    "\n",
    "Диаграмма частот для объёма запасов в скважине имеет распредление, похожее на нормальное, в регионах 1 и 3. В регионе 2 есть много скважин с малым объемом запасов и много скважин с большим объемом запасов, остальные вариции не отличаются по частоте."
   ]
  },
  {
   "cell_type": "markdown",
   "metadata": {},
   "source": [
    "## 2. Обучение и проверка модели"
   ]
  },
  {
   "cell_type": "markdown",
   "metadata": {},
   "source": [
    "Напишем цикл, который будет выполнять для каждого региона следующие действия:\n",
    "1. Запишем в отдельные переменные признаки скважин `features` (f0, f1, f2) и целевой признак `target` (product)\n",
    "2. Разделим выборку на обучающую (train) и валидационную (valid) в соотношении 75/25\n",
    "3. Масштабируем признаки с помощью стандартизации StandardScaler \n",
    "4. Построим модель линейной регрессии `model`, обучим модель на `features_train`, `target_train`\n",
    "5. Построим предсказания `predictions` на валидационной выборке\n",
    "6. Рассчитаем и напечатаем на экране: RMSE модели, коэффициент детерминации, средний фактический запас сырья на валидационной выборке, Средний предсказанный запас сырья на валидационной выборке, первые 5 значений предсказаний на валидационной выборке."
   ]
  },
  {
   "cell_type": "code",
   "execution_count": 95,
   "metadata": {},
   "outputs": [
    {
     "name": "stdout",
     "output_type": "stream",
     "text": [
      "\n",
      "RMSE модели линейной регрессии на валидационной выборке для региона 1: 37.5794217150813\n",
      "Коэффициент детерминации модели линейной регрессии на валидационной выборке для региона 1: 0.27994321524487786\n",
      "Средний фактический запас сырья на валидационной выборке для региона 1: 92.07859674082927\n",
      "Средний предсказанный запас сырья на валидационной выборке для региона 1: 92.59256778438038\n",
      "Первые 5 значений предсказаний на валидационной выборке для региона 1:\n",
      "\n",
      "71751   95.89\n",
      "80493   77.57\n",
      "2655    77.89\n",
      "53233   90.18\n",
      "91141   70.51\n",
      "dtype: float64\n",
      "--------------------\n",
      "\n",
      "RMSE модели линейной регрессии на валидационной выборке для региона 2: 0.8930992867756158\n",
      "Коэффициент детерминации модели линейной регрессии на валидационной выборке для региона 2: 0.9996233978805126\n",
      "Средний фактический запас сырья на валидационной выборке для региона 2: 68.72313602435997\n",
      "Средний предсказанный запас сырья на валидационной выборке для региона 2: 68.728546895446\n",
      "Первые 5 значений предсказаний на валидационной выборке для региона 2:\n",
      "\n",
      "71751   82.66\n",
      "80493   54.43\n",
      "2655    29.75\n",
      "53233   53.55\n",
      "91141    1.24\n",
      "dtype: float64\n",
      "--------------------\n",
      "\n",
      "RMSE модели линейной регрессии на валидационной выборке для региона 3: 40.02970873393434\n",
      "Коэффициент детерминации модели линейной регрессии на валидационной выборке для региона 3: 0.20524758386040443\n",
      "Средний фактический запас сырья на валидационной выборке для региона 3: 94.88423280885438\n",
      "Средний предсказанный запас сырья на валидационной выборке для региона 3: 94.96504596800489\n",
      "Первые 5 значений предсказаний на валидационной выборке для региона 3:\n",
      "\n",
      "71751    93.60\n",
      "80493    75.11\n",
      "2655     90.07\n",
      "53233   105.16\n",
      "91141   115.30\n",
      "dtype: float64\n",
      "--------------------\n"
     ]
    }
   ],
   "source": [
    "reg_all = [\n",
    "    reg_1.drop('id', axis=1),\n",
    "    reg_2.drop('id', axis=1),\n",
    "    reg_3.drop('id', axis=1),\n",
    "]\n",
    "\n",
    "s_target = []    # список значений целевой переменной на валидационной выборке\n",
    "s_predictions = []   # список для прогноза целевой переменной на валидационной выборке\n",
    "s_rmse = []   # список среднеквадратичных ошибок (RMSE)\n",
    "s_r2 = []   # список коэффициентов детерминации (R2)\n",
    "numeric = ['f0', 'f1', 'f2']    # список числовых столбцов\n",
    "\n",
    "for regions in range(len(reg_all)):\n",
    "    data = reg_all[regions]\n",
    "    features = data.drop('product', axis=1)\n",
    "    target = data['product']\n",
    "    features_train, features_valid, target_train, target_valid = train_test_split(\n",
    "    features, target, random_state=12345, test_size=0.25)      # разделение на обучающую и валидационную выборки\n",
    "    scaler = StandardScaler()\n",
    "    scaler.fit(features_train[numeric])        # масштабирование признаков для моделирования\n",
    "    features_train[numeric] = scaler.transform(features_train[numeric])\n",
    "    features_valid[numeric] = scaler.transform(features_valid[numeric])\n",
    "    \n",
    "    model = LinearRegression()    # построение модели линейной регрессии, расчет предсказаний, RMSE, R2.\n",
    "    model.fit(features_train, target_train)\n",
    "    predictions = model.predict(features_valid)\n",
    "    predictions = pd.Series(predictions, index = target_valid.index)\n",
    "    rmse = mean_squared_error(target_valid, predictions)**0.5\n",
    "    r2 =  model.score(features_valid, target_valid)\n",
    "    s_target.append(target_valid)\n",
    "    s_predictions.append(predictions)\n",
    "    s_rmse.append(rmse)\n",
    "    s_r2.append(r2)\n",
    "    print(f\"\\nRMSE модели линейной регрессии на валидационной выборке для региона {regions+1}:\", rmse)\n",
    "    print(f\"Коэффициент детерминации модели линейной регрессии на валидационной выборке для региона {regions+1}:\", r2)\n",
    "    print(f\"Средний фактический запас сырья на валидационной выборке для региона {regions+1}:\", target_valid.mean())\n",
    "    print(f\"Средний предсказанный запас сырья на валидационной выборке для региона {regions+1}:\", predictions.mean())\n",
    "    print(f\"Первые 5 значений предсказаний на валидационной выборке для региона {regions+1}:\\n\") \n",
    "    print(pd.Series(predictions).head())\n",
    "    print('--------------------')"
   ]
  },
  {
   "cell_type": "markdown",
   "metadata": {},
   "source": [
    "Загрузим фактические (`target_valid`) и прогнозные (`target_predict`) значения целевой переменной на валидационной выборке в отдельные переменные в соответствии с номером региона:"
   ]
  },
  {
   "cell_type": "code",
   "execution_count": 96,
   "metadata": {},
   "outputs": [],
   "source": [
    "target_predict_1 = pd.Series(s_predictions[0])\n",
    "target_valid_1 = pd.Series(s_target[0])\n",
    "target_predict_2 = pd.Series(s_predictions[1])\n",
    "target_valid_2 = pd.Series(s_target[1])\n",
    "target_predict_3 = pd.Series(s_predictions[2])\n",
    "target_valid_3 = pd.Series(s_target[2])"
   ]
  },
  {
   "cell_type": "markdown",
   "metadata": {},
   "source": [
    "*Выводы*\n",
    "\n",
    "Мы построили 3 модели линейной регрессии для каждого региона. Наилучшего качество удалось достичь в модели региона 2, где cреднеквадратичная ошибка (RMSE) на валидационной выборке равна 0.89. Очевидно, это следствие высокой корреляции между фактором f2 и целевой переменной.\n",
    "\n",
    "Самый большой средний предсказанный запас сырья в регионе 3: 94.97 тыс. баррелей. Второе место по предсказанным запасам - регион 1, где запас сырья = 92.59 тыс. баррелей. на последнем месте регион 3, средний предсказанный запас сырья = 68.73 тыс. баррелей."
   ]
  },
  {
   "cell_type": "markdown",
   "metadata": {},
   "source": [
    "## 3. Подготовка к расчёту прибыли"
   ]
  },
  {
   "cell_type": "markdown",
   "metadata": {},
   "source": [
    "Все ключевые значения для расчётов прибыли сохраним в отдельных переменных:\n",
    "\n",
    "- `best_points` - число лучших скважин для разработки,\n",
    "- `budget` - бюджет на разработку скважин в регионе (тыс. руб.),\n",
    "- `income` - доход с одной тысячи скважин (тыс. руб.),\n",
    "- `stop_loss` - достаточный объём сырья для безубыточной разработки одной новой скважины (тыс. баррелей)."
   ]
  },
  {
   "cell_type": "code",
   "execution_count": 97,
   "metadata": {},
   "outputs": [],
   "source": [
    "best_points = 200\n",
    "budget = 10000000\n",
    "income = 450"
   ]
  },
  {
   "cell_type": "markdown",
   "metadata": {},
   "source": [
    "Рассчитаем достаточный объём сырья для безубыточной разработки новой скважины. Сравним полученный объём сырья со средним запасом в каждом регионе."
   ]
  },
  {
   "cell_type": "code",
   "execution_count": 98,
   "metadata": {},
   "outputs": [
    {
     "data": {
      "text/plain": [
       "111.11111111111111"
      ]
     },
     "execution_count": 98,
     "metadata": {},
     "output_type": "execute_result"
    }
   ],
   "source": [
    "stop_loss = budget/best_points/income\n",
    "stop_loss"
   ]
  },
  {
   "cell_type": "code",
   "execution_count": 99,
   "metadata": {},
   "outputs": [
    {
     "name": "stdout",
     "output_type": "stream",
     "text": [
      "Средний запас сырья одной скважины в регионе 1: 92.50000000000001\n",
      "Средний запас сырья одной скважины в регионе 2: 68.82500000000002\n",
      "Средний запас сырья одной скважины в регионе 3: 95.00000000000004\n"
     ]
    }
   ],
   "source": [
    "print(\"Средний запас сырья одной скважины в регионе 1:\", reg_1['product'].mean())\n",
    "print(\"Средний запас сырья одной скважины в регионе 2:\", reg_2['product'].mean())\n",
    "print(\"Средний запас сырья одной скважины в регионе 3:\", reg_3['product'].mean())"
   ]
  },
  {
   "cell_type": "markdown",
   "metadata": {},
   "source": [
    "Средние запасы сырья в регионах 1 и 3 (92.5 и 95.0 тыс. баррелей, соответственно) ближе к значению `stop_loss`, чем средние запасы в регионе 2 (68.8 тыс. баррелей).\n",
    "\n",
    "Напишем функцию `revenue` для расчёта прибыли по выбранным скважинам и предсказаниям модели:\n",
    "1. Выберем скважины с максимальными значениями предсказаний.\n",
    "2. Просуммируем целевое значение объёма сырья, соответствующее этим предсказаниям.\n",
    "3. Рассчитаем прибыль для полученного объёма сырья.\n",
    "\n",
    "Аргументы функции `revenue`: \n",
    "- predictions - предсказанные значения запасов нефти,\n",
    "- target - исходные значения запасов нефти,\n",
    "- count - число скважин, которые выбираем для разработки,\n",
    "- income - доход с одной тысячи баррелей."
   ]
  },
  {
   "cell_type": "code",
   "execution_count": 100,
   "metadata": {},
   "outputs": [],
   "source": [
    "def revenue(predictions, target, count, income):\n",
    "    pred_sorted = predictions.sort_values(ascending=False)\n",
    "    selected = target[pred_sorted.index][:count]\n",
    "    pred_sum = pred_sorted.sum()\n",
    "    return income * selected.sum() - budget"
   ]
  },
  {
   "cell_type": "code",
   "execution_count": 101,
   "metadata": {
    "scrolled": true
   },
   "outputs": [
    {
     "name": "stdout",
     "output_type": "stream",
     "text": [
      "Прибыль по региону 1: 3320826.0431398526\n",
      "Прибыль по региону 2: 2415086.6966815125\n",
      "Прибыль по региону 3: 2710349.9635998327\n"
     ]
    }
   ],
   "source": [
    "revenue_1 = revenue(target_predict_1, target_valid_1, best_points, income)\n",
    "revenue_2 = revenue(target_predict_2, target_valid_2, best_points, income)\n",
    "revenue_3 = revenue(target_predict_3, target_valid_3, best_points, income)\n",
    "print(\"Прибыль по региону 1:\", revenue_1)\n",
    "print(\"Прибыль по региону 2:\", revenue_2)\n",
    "print(\"Прибыль по региону 3:\", revenue_3)"
   ]
  },
  {
   "cell_type": "markdown",
   "metadata": {},
   "source": [
    "*Вывод*\n",
    "\n",
    "Минимальный объем сырья для безубыточной разработки одной скважины составляет 111.11 тыс. баррелей. Средние запасы сырья на одну скважину во всех трёх регионах ниже этого значения. В регионах 1 и 3 средние запасы на скважину равны 92.5 и 95.0 тыс. баррелей, соответственно (а на валидационной выборке: 92.6 и 95.0) - в этих регионах запасы ближе к значению stop_loss, чем средние запасы в регионе 2 (среднее = 68.8 тыс. баррелей и 68.7 тыс. баррелей на валидационной выборке).\n",
    "\n",
    "С учетом запасов нефти, указанных в исходных данных, мы рассчитали максимально возможные прибыли для 3-х регионов. Наибольший объем прибыли от разработки 200 точек возможен в регионе 1: 3.3 млрд. руб. На втором месте регион 3 со значением 2.7 млрд. руб. На третьем месте регион 2 со значением 2.4 млрд. руб."
   ]
  },
  {
   "cell_type": "markdown",
   "metadata": {},
   "source": [
    "## 4. Расчёт прибыли и рисков "
   ]
  },
  {
   "cell_type": "markdown",
   "metadata": {},
   "source": [
    "Посчитаем риски и прибыль для каждого региона:\n",
    "1. Применим технику Bootstrap с 1000 выборок, чтобы найти распределение прибыли.\n",
    "2. Найдем среднюю прибыль, 95%-й доверительный интервал и риск убытков (отрицательной прибыли).\n",
    "\n",
    "Зададим параметр `state`, число выборок `bootstrap_samples`, число скважин в выборке `points`:"
   ]
  },
  {
   "cell_type": "code",
   "execution_count": 102,
   "metadata": {},
   "outputs": [],
   "source": [
    "state = np.random.RandomState(12345)\n",
    "bootstrap_samples = 1000\n",
    "points = 500"
   ]
  },
  {
   "cell_type": "markdown",
   "metadata": {},
   "source": [
    "Напишем цикл, который создаст 1000 выборок из 500 скважин, а после рассчитает прибыль по 200-скважинам с максимальными предсказанными значениями объема добычи. Значения полученных прибылей будем сохранять в список `revenue_sample`. Число выборок, сформирующих отрицательную прибыль, сохраним в переменной `sample_loss`.\n",
    "\n",
    "Рассчитаем данные по региону 1 (в названия переменных добавим \"1\"):"
   ]
  },
  {
   "cell_type": "code",
   "execution_count": 103,
   "metadata": {},
   "outputs": [],
   "source": [
    "revenue_sample_1 = []\n",
    "sample_loss_1 = 0\n",
    "for i in range(bootstrap_samples):\n",
    "    target_predict_1_sample = target_predict_1.sample(n=points, random_state=state, replace=True)\n",
    "    rev = revenue(target_predict_1_sample, target_valid_1, best_points, income)\n",
    "    revenue_sample_1.append(rev)\n",
    "    if rev < 0:\n",
    "        sample_loss_1 +=1"
   ]
  },
  {
   "cell_type": "markdown",
   "metadata": {},
   "source": [
    "Найдем среднюю прибыль по региону 1, 95%-й доверительный интервал и риск убытков (отрицательной прибыли):"
   ]
  },
  {
   "cell_type": "code",
   "execution_count": 104,
   "metadata": {},
   "outputs": [
    {
     "name": "stdout",
     "output_type": "stream",
     "text": [
      "Среднее значение прибыли в регионе 1: 396164.98480237107\n",
      "95%-й доверительный интервал для средней прибыли в регионе 1: от -111215.54589049605 до 909766.941553422\n",
      "Риск убытков в регионе 1: 6.9%\n"
     ]
    }
   ],
   "source": [
    "risk_of_loss_1 = sample_loss_1 / bootstrap_samples\n",
    "revenue_sample_1 = pd.Series(revenue_sample_1)\n",
    "conf_int_min_1 = revenue_sample_1.quantile(0.025)\n",
    "conf_int_max_1 = revenue_sample_1.quantile(0.975)\n",
    "\n",
    "print('Среднее значение прибыли в регионе 1:', revenue_sample_1.mean())\n",
    "print(f'95%-й доверительный интервал для средней прибыли в регионе 1: от {conf_int_min_1} до {conf_int_max_1}')\n",
    "print(f'Риск убытков в регионе 1: {round(risk_of_loss_1*100, 2)}%')"
   ]
  },
  {
   "cell_type": "markdown",
   "metadata": {},
   "source": [
    "Рассчитаем данные по региону 2 (в названия переменных добавим \"2\"):"
   ]
  },
  {
   "cell_type": "code",
   "execution_count": 105,
   "metadata": {},
   "outputs": [],
   "source": [
    "revenue_sample_2 = []\n",
    "sample_loss_2 = 0\n",
    "for i in range(bootstrap_samples):\n",
    "    target_predict_2_sample = target_predict_2.sample(n=points, random_state=state, replace=True)\n",
    "    rev = revenue(target_predict_2_sample, target_valid_2, best_points, income)\n",
    "    revenue_sample_2.append(rev)\n",
    "    if rev < 0:\n",
    "        sample_loss_2 +=1"
   ]
  },
  {
   "cell_type": "markdown",
   "metadata": {},
   "source": [
    "Найдем среднюю прибыль по региону 2, 95%-й доверительный интервал и риск убытков (отрицательной прибыли):"
   ]
  },
  {
   "cell_type": "code",
   "execution_count": 106,
   "metadata": {},
   "outputs": [
    {
     "name": "stdout",
     "output_type": "stream",
     "text": [
      "Среднее значение прибыли в регионе 2: 461155.8172772397\n",
      "95%-й доверительный интервал для средней прибыли в регионе 2: от 78050.81075174107 до 862952.0602637231\n",
      "Риск убытков в регионе 2: 0.7%\n"
     ]
    }
   ],
   "source": [
    "risk_of_loss_2 = sample_loss_2 / bootstrap_samples\n",
    "revenue_sample_2 = pd.Series(revenue_sample_2)\n",
    "conf_int_min_2 = revenue_sample_2.quantile(0.025)\n",
    "conf_int_max_2 = revenue_sample_2.quantile(0.975)\n",
    "\n",
    "print('Среднее значение прибыли в регионе 2:', revenue_sample_2.mean())\n",
    "print(f'95%-й доверительный интервал для средней прибыли в регионе 2: от {conf_int_min_2} до {conf_int_max_2}')\n",
    "print(f'Риск убытков в регионе 2: {round(risk_of_loss_2*100, 2)}%')"
   ]
  },
  {
   "cell_type": "markdown",
   "metadata": {},
   "source": [
    "Рассчитаем данные по региону 3 (в названия переменных добавим \"3\"):"
   ]
  },
  {
   "cell_type": "code",
   "execution_count": 107,
   "metadata": {},
   "outputs": [],
   "source": [
    "revenue_sample_3 = []\n",
    "sample_loss_3 = 0\n",
    "for i in range(bootstrap_samples):\n",
    "    target_predict_3_sample = target_predict_3.sample(n=points, random_state=state, replace=True)\n",
    "    rev = revenue(target_predict_3_sample, target_valid_3, best_points, income)\n",
    "    revenue_sample_3.append(rev)\n",
    "    if rev < 0:\n",
    "        sample_loss_3 +=1"
   ]
  },
  {
   "cell_type": "markdown",
   "metadata": {},
   "source": [
    "Найдем среднюю прибыль по региону 3, 95%-й доверительный интервал и риск убытков (отрицательной прибыли):"
   ]
  },
  {
   "cell_type": "code",
   "execution_count": 108,
   "metadata": {},
   "outputs": [
    {
     "name": "stdout",
     "output_type": "stream",
     "text": [
      "Среднее значение прибыли в регионе 3: 392950.4751706045\n",
      "95%-й доверительный интервал для средней прибыли в регионе 3: от -112227.62537857569 до 934562.914551164\n",
      "Риск убытков в регионе 3: 6.5%\n"
     ]
    }
   ],
   "source": [
    "risk_of_loss_3 = sample_loss_3 / bootstrap_samples\n",
    "revenue_sample_3 = pd.Series(revenue_sample_3)\n",
    "conf_int_min_3 = revenue_sample_3.quantile(0.025)\n",
    "conf_int_max_3 = revenue_sample_3.quantile(0.975)\n",
    "\n",
    "print('Среднее значение прибыли в регионе 3:', revenue_sample_3.mean())\n",
    "print(f'95%-й доверительный интервал для средней прибыли в регионе 3: от {conf_int_min_3} до {conf_int_max_3}')\n",
    "print(f'Риск убытков в регионе 3: {round(risk_of_loss_3*100, 2)}%')"
   ]
  },
  {
   "cell_type": "markdown",
   "metadata": {},
   "source": [
    "Соберем полученные данные в датафрейм `aggregation` для наглядности полученных результатов:"
   ]
  },
  {
   "cell_type": "code",
   "execution_count": 109,
   "metadata": {},
   "outputs": [
    {
     "data": {
      "text/html": [
       "<div>\n",
       "<style scoped>\n",
       "    .dataframe tbody tr th:only-of-type {\n",
       "        vertical-align: middle;\n",
       "    }\n",
       "\n",
       "    .dataframe tbody tr th {\n",
       "        vertical-align: top;\n",
       "    }\n",
       "\n",
       "    .dataframe thead th {\n",
       "        text-align: right;\n",
       "    }\n",
       "</style>\n",
       "<table border=\"1\" class=\"dataframe\">\n",
       "  <thead>\n",
       "    <tr style=\"text-align: right;\">\n",
       "      <th></th>\n",
       "      <th>revenue_mean</th>\n",
       "      <th>confidence_interval (min)</th>\n",
       "      <th>confidence_interval (max)</th>\n",
       "      <th>risk_of_loss (%)</th>\n",
       "      <th>RMSE</th>\n",
       "      <th>R2</th>\n",
       "    </tr>\n",
       "  </thead>\n",
       "  <tbody>\n",
       "    <tr>\n",
       "      <td>region_1</td>\n",
       "      <td>396,164.98</td>\n",
       "      <td>-111,215.55</td>\n",
       "      <td>909,766.94</td>\n",
       "      <td>6.90</td>\n",
       "      <td>37.58</td>\n",
       "      <td>0.28</td>\n",
       "    </tr>\n",
       "    <tr>\n",
       "      <td>region_2</td>\n",
       "      <td>461,155.82</td>\n",
       "      <td>78,050.81</td>\n",
       "      <td>862,952.06</td>\n",
       "      <td>0.70</td>\n",
       "      <td>0.89</td>\n",
       "      <td>1.00</td>\n",
       "    </tr>\n",
       "    <tr>\n",
       "      <td>region_3</td>\n",
       "      <td>392,950.48</td>\n",
       "      <td>-112,227.63</td>\n",
       "      <td>934,562.91</td>\n",
       "      <td>6.50</td>\n",
       "      <td>40.03</td>\n",
       "      <td>0.21</td>\n",
       "    </tr>\n",
       "  </tbody>\n",
       "</table>\n",
       "</div>"
      ],
      "text/plain": [
       "          revenue_mean  confidence_interval (min)  confidence_interval (max)  \\\n",
       "region_1    396,164.98                -111,215.55                 909,766.94   \n",
       "region_2    461,155.82                  78,050.81                 862,952.06   \n",
       "region_3    392,950.48                -112,227.63                 934,562.91   \n",
       "\n",
       "          risk_of_loss (%)  RMSE   R2  \n",
       "region_1              6.90 37.58 0.28  \n",
       "region_2              0.70  0.89 1.00  \n",
       "region_3              6.50 40.03 0.21  "
      ]
     },
     "execution_count": 109,
     "metadata": {},
     "output_type": "execute_result"
    }
   ],
   "source": [
    "aggregation = pd.DataFrame({'revenue_mean': [revenue_sample_1.mean(), revenue_sample_2.mean(), revenue_sample_3.mean()],\n",
    "                        'confidence_interval (min)': [conf_int_min_1, conf_int_min_2, conf_int_min_3],\n",
    "                        'confidence_interval (max)': [conf_int_max_1, conf_int_max_2, conf_int_max_3],\n",
    "                        'risk_of_loss (%)': [risk_of_loss_1*100, risk_of_loss_2*100, risk_of_loss_3*100],\n",
    "                         'RMSE': s_rmse,\n",
    "                         'R2': s_r2}, \n",
    "            index= ['region_1', 'region_2', 'region_3'])\n",
    "aggregation"
   ]
  },
  {
   "cell_type": "markdown",
   "metadata": {},
   "source": [
    "*Выводы*\n",
    "\n",
    "Таким образом, регионы 1 и 3 показали похожие значения средней прибыли и риска убытков. \n",
    "\n",
    "**Наиболее перспективным регионом с точки зрения инвестиций является регион 2:**\n",
    "- среднее значение прибыли (461.2 млн. руб.) на 16% лучше региона 1 и на 17% лучше региона 3, \n",
    "- 95%-доверительный интервал: от 78 млн до 863 млн. Доверительный интервал начинается с положительного значения, в отличие от прочих регионов,\n",
    "- риск убытков самый низкий: 0.7% против 6.9% и 6,5% в регионах 1 и 3, соответственно,\n",
    "- качество построенной модели для региона 2 наилучшее, относительно прочих регионов: cреднеквадратичная ошибка равна 0.89, коэффициент детерминации = 1.0."
   ]
  },
  {
   "cell_type": "markdown",
   "metadata": {},
   "source": [
    "## 5. Общий вывод"
   ]
  },
  {
   "cell_type": "markdown",
   "metadata": {},
   "source": [
    "В ходе исследования были изучены данные о запасах нефти в 3-х регионах: в каждом по 100 000 скважин.\n",
    "Исходные характеристики месторождений были масштабированы для построения 3-х моделей линейной регрессии. Наилучшее качество показала модель 2-го региона. Качество построенных моделей:\n",
    "1. Регион 1: cреднеквадратичная ошибка = 37.58, коэф. детерминации = 0.28\n",
    "2. Регион 2: cреднеквадратичная ошибка = 0.89, коэф. детерминации = 1.00\n",
    "3. Регион 3: cреднеквадратичная ошибка = 40.03, коэф. детерминации = 0.21\n",
    "\n",
    "Также в ходе работы был определен минимальный объем сырья, необходимый для безубыточной разработки одной скважины: 111.111 тыс. баррелей. \n",
    "Средние запасы сырья на одну скважину во всех трёх регионах ниже этого значения. В регионах 1 и 3 средние запасы на скважину равны 92.5 и 95.0 тыс. баррелей, соответственно (а на валидационной выборке: 92.6 и 95.0) - в этих регионах запасы ближе к значению безубыточности, чем средние запасы в регионе 2 (среднее = 68.8 тыс. баррелей и 68.7 тыс. баррелей на валидационной выборке).\n",
    "\n",
    "С учетом запасов нефти, указанных в исходных данных, были рассчитаны максимально возможные прибыли для 3-х регионов на валидационных данных:\n",
    "\n",
    "- Наибольший объем прибыли от разработки 200 точек возможен в регионе 1: 3.3 млрд. руб. \n",
    "- На втором месте регион 3 со значением 2.7 млрд. руб. \n",
    "- На третьем месте регион 2 со значением 2.4 млрд. руб.\n",
    "\n",
    "Однако, у компании нет возможности для исследования всех скважин в регионе. При разведке региона исследуют 500 точек, из которых выбирают 200 лучших для разработки. \n",
    "При выборе 500 случайных скважин на валидационных данных и отборе ТОП-200 среди них, были сделаны прогнозы средней прибыли, произведен расчет 95%-доверительного интервала для средней прибыли и оценены риски убытков (отрицательной прибыли).\n",
    "\n",
    "**Наиболее перспективный регион для разработки: регион 2**\n",
    "- среднее значение прибыли равно 461.2 млн. руб. - это на 16% лучше региона 1 и на 17% лучше региона 3, \n",
    "- 95%-доверительный интервал для средней прибыли: от 78 млн до 863 млн. Доверительный интервал начинается с положительного значения, в отличие от прочих регионов,\n",
    "- риск убытков самый низкий: 0.7% против 6.9% и 6,5% в регионах 1 и 3, соответственно,\n",
    "- качество построенной модели для региона 2 наилучшее, относительно прочих регионов: RMSE = 0.89, R2 = 1.0. Значит, полученные результаты являются наиболее надежными"
   ]
  }
 ],
 "metadata": {
  "ExecuteTimeLog": [
   {
    "duration": 1164,
    "start_time": "2022-02-25T20:24:37.474Z"
   },
   {
    "duration": 265,
    "start_time": "2022-02-25T20:28:34.977Z"
   },
   {
    "duration": 6,
    "start_time": "2022-02-25T20:30:49.928Z"
   },
   {
    "duration": 3,
    "start_time": "2022-02-25T20:30:56.967Z"
   },
   {
    "duration": 366,
    "start_time": "2022-02-25T20:32:44.983Z"
   },
   {
    "duration": 12,
    "start_time": "2022-02-25T20:33:03.942Z"
   },
   {
    "duration": 9,
    "start_time": "2022-02-25T20:33:53.223Z"
   },
   {
    "duration": 9,
    "start_time": "2022-02-25T20:34:04.063Z"
   },
   {
    "duration": 11,
    "start_time": "2022-02-25T20:34:20.926Z"
   },
   {
    "duration": 97,
    "start_time": "2022-02-25T20:37:20.607Z"
   },
   {
    "duration": 19,
    "start_time": "2022-02-25T20:39:04.694Z"
   },
   {
    "duration": 237,
    "start_time": "2022-02-25T20:39:18.629Z"
   },
   {
    "duration": 335,
    "start_time": "2022-02-25T20:39:31.734Z"
   },
   {
    "duration": 20,
    "start_time": "2022-02-25T20:39:37.005Z"
   },
   {
    "duration": 19,
    "start_time": "2022-02-25T20:39:42.869Z"
   },
   {
    "duration": 10,
    "start_time": "2022-02-25T20:39:58.253Z"
   },
   {
    "duration": 48,
    "start_time": "2022-02-25T20:40:27.804Z"
   },
   {
    "duration": 20,
    "start_time": "2022-02-25T20:40:34.949Z"
   },
   {
    "duration": 9,
    "start_time": "2022-02-25T20:40:43.325Z"
   },
   {
    "duration": 18,
    "start_time": "2022-02-25T20:41:59.141Z"
   },
   {
    "duration": 13,
    "start_time": "2022-02-25T20:42:24.125Z"
   },
   {
    "duration": 13,
    "start_time": "2022-02-25T20:42:28.068Z"
   },
   {
    "duration": 9,
    "start_time": "2022-02-25T20:42:41.836Z"
   },
   {
    "duration": 11,
    "start_time": "2022-02-25T20:43:06.452Z"
   },
   {
    "duration": 18,
    "start_time": "2022-02-25T20:43:58.812Z"
   },
   {
    "duration": 9,
    "start_time": "2022-02-25T20:44:32.046Z"
   },
   {
    "duration": 409,
    "start_time": "2022-02-25T20:45:24.843Z"
   },
   {
    "duration": 368,
    "start_time": "2022-02-25T20:46:17.067Z"
   },
   {
    "duration": 384,
    "start_time": "2022-02-25T20:47:08.588Z"
   },
   {
    "duration": 530,
    "start_time": "2022-02-25T20:48:54.523Z"
   },
   {
    "duration": 407,
    "start_time": "2022-02-25T20:49:03.083Z"
   },
   {
    "duration": 26,
    "start_time": "2022-02-25T20:50:18.131Z"
   },
   {
    "duration": 24,
    "start_time": "2022-02-25T20:50:33.786Z"
   },
   {
    "duration": 381,
    "start_time": "2022-02-25T20:50:39.483Z"
   },
   {
    "duration": 100,
    "start_time": "2022-02-25T20:51:01.819Z"
   },
   {
    "duration": 5,
    "start_time": "2022-02-25T20:53:28.321Z"
   },
   {
    "duration": 43,
    "start_time": "2022-02-25T20:59:55.312Z"
   },
   {
    "duration": 134,
    "start_time": "2022-02-25T21:00:02.249Z"
   },
   {
    "duration": 92,
    "start_time": "2022-02-25T21:11:59.229Z"
   },
   {
    "duration": 90,
    "start_time": "2022-02-25T21:12:19.204Z"
   },
   {
    "duration": 89,
    "start_time": "2022-02-25T21:12:27.538Z"
   },
   {
    "duration": 98,
    "start_time": "2022-02-25T21:12:31.261Z"
   },
   {
    "duration": 26,
    "start_time": "2022-02-25T21:13:07.077Z"
   },
   {
    "duration": 10,
    "start_time": "2022-02-25T21:13:36.140Z"
   },
   {
    "duration": 11,
    "start_time": "2022-02-25T21:13:47.468Z"
   },
   {
    "duration": 11,
    "start_time": "2022-02-25T21:13:54.404Z"
   },
   {
    "duration": 13,
    "start_time": "2022-02-25T21:14:05.676Z"
   },
   {
    "duration": 24,
    "start_time": "2022-02-25T21:14:14.091Z"
   },
   {
    "duration": 24,
    "start_time": "2022-02-25T21:14:23.252Z"
   },
   {
    "duration": 1162,
    "start_time": "2022-02-27T15:53:36.666Z"
   },
   {
    "duration": 3,
    "start_time": "2022-02-27T15:53:37.830Z"
   },
   {
    "duration": 394,
    "start_time": "2022-02-27T15:53:37.835Z"
   },
   {
    "duration": 26,
    "start_time": "2022-02-27T15:53:38.231Z"
   },
   {
    "duration": 111,
    "start_time": "2022-02-27T15:53:38.259Z"
   },
   {
    "duration": 129,
    "start_time": "2022-02-27T15:53:38.377Z"
   },
   {
    "duration": 61,
    "start_time": "2022-02-27T15:55:19.166Z"
   },
   {
    "duration": 55,
    "start_time": "2022-02-27T15:55:36.630Z"
   },
   {
    "duration": 58,
    "start_time": "2022-02-27T15:55:39.029Z"
   },
   {
    "duration": 16,
    "start_time": "2022-02-27T15:56:29.510Z"
   },
   {
    "duration": 16,
    "start_time": "2022-02-27T15:56:57.239Z"
   },
   {
    "duration": 60,
    "start_time": "2022-02-27T15:57:22.663Z"
   },
   {
    "duration": 44,
    "start_time": "2022-02-27T16:00:16.944Z"
   },
   {
    "duration": 20,
    "start_time": "2022-02-27T16:00:25.776Z"
   },
   {
    "duration": 20,
    "start_time": "2022-02-27T16:01:17.890Z"
   },
   {
    "duration": 22,
    "start_time": "2022-02-27T16:01:26.001Z"
   },
   {
    "duration": 21,
    "start_time": "2022-02-27T16:02:04.017Z"
   },
   {
    "duration": 5335,
    "start_time": "2022-02-27T16:02:27.934Z"
   },
   {
    "duration": 21,
    "start_time": "2022-02-27T16:02:42.304Z"
   },
   {
    "duration": 37,
    "start_time": "2022-02-27T16:07:43.977Z"
   },
   {
    "duration": 23,
    "start_time": "2022-02-27T16:08:27.618Z"
   },
   {
    "duration": 13,
    "start_time": "2022-02-27T16:09:26.370Z"
   },
   {
    "duration": 35,
    "start_time": "2022-02-27T16:09:57.009Z"
   },
   {
    "duration": 17,
    "start_time": "2022-02-27T16:10:56.904Z"
   },
   {
    "duration": 14,
    "start_time": "2022-02-27T16:11:23.594Z"
   },
   {
    "duration": 14,
    "start_time": "2022-02-27T16:11:25.377Z"
   },
   {
    "duration": 120,
    "start_time": "2022-02-27T16:12:23.947Z"
   },
   {
    "duration": 256,
    "start_time": "2022-02-27T16:14:01.649Z"
   },
   {
    "duration": 18,
    "start_time": "2022-02-27T16:14:06.677Z"
   },
   {
    "duration": 5,
    "start_time": "2022-02-27T16:21:04.841Z"
   },
   {
    "duration": 11,
    "start_time": "2022-02-27T16:21:27.400Z"
   },
   {
    "duration": 40,
    "start_time": "2022-02-27T16:22:26.760Z"
   },
   {
    "duration": 9,
    "start_time": "2022-02-27T17:09:37.227Z"
   },
   {
    "duration": 5,
    "start_time": "2022-02-27T17:09:42.370Z"
   },
   {
    "duration": 5,
    "start_time": "2022-02-27T17:12:34.106Z"
   },
   {
    "duration": 5,
    "start_time": "2022-02-27T17:13:24.474Z"
   },
   {
    "duration": 221,
    "start_time": "2022-02-27T17:14:49.649Z"
   },
   {
    "duration": 25,
    "start_time": "2022-02-27T17:15:02.945Z"
   },
   {
    "duration": 221,
    "start_time": "2022-02-27T17:15:43.682Z"
   },
   {
    "duration": 215,
    "start_time": "2022-02-27T17:15:59.056Z"
   },
   {
    "duration": 5,
    "start_time": "2022-02-27T17:16:01.633Z"
   },
   {
    "duration": 234,
    "start_time": "2022-02-27T17:17:30.616Z"
   },
   {
    "duration": 4,
    "start_time": "2022-02-27T17:17:35.299Z"
   },
   {
    "duration": 7,
    "start_time": "2022-02-27T17:17:35.305Z"
   },
   {
    "duration": 414,
    "start_time": "2022-02-27T17:17:35.314Z"
   },
   {
    "duration": 24,
    "start_time": "2022-02-27T17:17:35.730Z"
   },
   {
    "duration": 122,
    "start_time": "2022-02-27T17:17:35.756Z"
   },
   {
    "duration": 122,
    "start_time": "2022-02-27T17:17:35.879Z"
   },
   {
    "duration": 49,
    "start_time": "2022-02-27T17:17:36.003Z"
   },
   {
    "duration": 58,
    "start_time": "2022-02-27T17:17:36.054Z"
   },
   {
    "duration": 22,
    "start_time": "2022-02-27T17:17:36.114Z"
   },
   {
    "duration": 14,
    "start_time": "2022-02-27T17:17:36.139Z"
   },
   {
    "duration": 32,
    "start_time": "2022-02-27T17:17:36.155Z"
   },
   {
    "duration": 9,
    "start_time": "2022-02-27T17:17:36.189Z"
   },
   {
    "duration": 35,
    "start_time": "2022-02-27T17:17:36.200Z"
   },
   {
    "duration": 6,
    "start_time": "2022-02-27T17:17:36.237Z"
   },
   {
    "duration": 38,
    "start_time": "2022-02-27T17:17:38.307Z"
   },
   {
    "duration": 10,
    "start_time": "2022-02-27T17:17:40.495Z"
   },
   {
    "duration": 67,
    "start_time": "2022-02-27T17:18:11.505Z"
   },
   {
    "duration": 40,
    "start_time": "2022-02-27T17:21:31.864Z"
   },
   {
    "duration": 288,
    "start_time": "2022-02-27T17:40:02.634Z"
   },
   {
    "duration": 15,
    "start_time": "2022-02-27T18:07:31.483Z"
   },
   {
    "duration": 2,
    "start_time": "2022-02-27T18:07:31.902Z"
   },
   {
    "duration": 371,
    "start_time": "2022-02-27T18:07:31.937Z"
   },
   {
    "duration": 25,
    "start_time": "2022-02-27T18:07:32.414Z"
   },
   {
    "duration": 120,
    "start_time": "2022-02-27T18:07:32.567Z"
   },
   {
    "duration": 138,
    "start_time": "2022-02-27T18:07:32.739Z"
   },
   {
    "duration": 57,
    "start_time": "2022-02-27T18:07:32.920Z"
   },
   {
    "duration": 38,
    "start_time": "2022-02-27T18:07:32.999Z"
   },
   {
    "duration": 18,
    "start_time": "2022-02-27T18:07:33.083Z"
   },
   {
    "duration": 15,
    "start_time": "2022-02-27T18:07:33.121Z"
   },
   {
    "duration": 15,
    "start_time": "2022-02-27T18:07:33.180Z"
   },
   {
    "duration": 8,
    "start_time": "2022-02-27T18:07:33.231Z"
   },
   {
    "duration": 49,
    "start_time": "2022-02-27T18:07:33.282Z"
   },
   {
    "duration": 7,
    "start_time": "2022-02-27T18:07:33.372Z"
   },
   {
    "duration": 47,
    "start_time": "2022-02-27T18:07:33.457Z"
   },
   {
    "duration": 85,
    "start_time": "2022-02-27T18:07:33.511Z"
   },
   {
    "duration": 962,
    "start_time": "2022-02-27T18:26:12.219Z"
   },
   {
    "duration": 4,
    "start_time": "2022-02-27T18:26:24.132Z"
   },
   {
    "duration": 4,
    "start_time": "2022-02-27T18:26:33.929Z"
   },
   {
    "duration": 16,
    "start_time": "2022-02-27T18:26:33.936Z"
   },
   {
    "duration": 421,
    "start_time": "2022-02-27T18:26:33.955Z"
   },
   {
    "duration": 29,
    "start_time": "2022-02-27T18:26:34.379Z"
   },
   {
    "duration": 121,
    "start_time": "2022-02-27T18:26:34.411Z"
   },
   {
    "duration": 126,
    "start_time": "2022-02-27T18:26:34.534Z"
   },
   {
    "duration": 56,
    "start_time": "2022-02-27T18:26:34.662Z"
   },
   {
    "duration": 36,
    "start_time": "2022-02-27T18:26:34.721Z"
   },
   {
    "duration": 18,
    "start_time": "2022-02-27T18:26:34.778Z"
   },
   {
    "duration": 15,
    "start_time": "2022-02-27T18:26:34.798Z"
   },
   {
    "duration": 15,
    "start_time": "2022-02-27T18:26:34.814Z"
   },
   {
    "duration": 9,
    "start_time": "2022-02-27T18:26:34.830Z"
   },
   {
    "duration": 33,
    "start_time": "2022-02-27T18:26:34.878Z"
   },
   {
    "duration": 5,
    "start_time": "2022-02-27T18:26:34.913Z"
   },
   {
    "duration": 59,
    "start_time": "2022-02-27T18:26:34.920Z"
   },
   {
    "duration": 70,
    "start_time": "2022-02-27T18:26:34.981Z"
   },
   {
    "duration": 480628,
    "start_time": "2022-02-27T18:26:39.639Z"
   },
   {
    "duration": 4,
    "start_time": "2022-02-27T18:49:16.757Z"
   },
   {
    "duration": 469,
    "start_time": "2022-02-27T19:05:41.545Z"
   },
   {
    "duration": 12,
    "start_time": "2022-02-27T19:05:51.252Z"
   },
   {
    "duration": 4,
    "start_time": "2022-02-27T19:06:00.202Z"
   },
   {
    "duration": 606314,
    "start_time": "2022-02-27T19:23:01.428Z"
   },
   {
    "duration": 72,
    "start_time": "2022-02-27T19:33:07.744Z"
   },
   {
    "duration": 4,
    "start_time": "2022-02-27T19:42:07.951Z"
   },
   {
    "duration": 690639,
    "start_time": "2022-02-27T19:42:43.111Z"
   },
   {
    "duration": 140277,
    "start_time": "2022-02-27T19:54:32.245Z"
   },
   {
    "duration": 5,
    "start_time": "2022-02-27T19:58:05.514Z"
   },
   {
    "duration": 13,
    "start_time": "2022-02-27T19:59:01.875Z"
   },
   {
    "duration": 17,
    "start_time": "2022-02-27T20:02:20.297Z"
   },
   {
    "duration": 15,
    "start_time": "2022-02-27T20:02:45.153Z"
   },
   {
    "duration": 209,
    "start_time": "2022-02-27T20:02:52.673Z"
   },
   {
    "duration": 40178,
    "start_time": "2022-02-27T20:04:04.801Z"
   },
   {
    "duration": 5264,
    "start_time": "2022-02-27T20:04:39.717Z"
   },
   {
    "duration": 19,
    "start_time": "2022-02-27T20:04:47.480Z"
   },
   {
    "duration": 194830,
    "start_time": "2022-02-27T20:05:11.177Z"
   },
   {
    "duration": 78,
    "start_time": "2022-02-27T20:09:01.800Z"
   },
   {
    "duration": 206,
    "start_time": "2022-02-27T20:09:28.504Z"
   },
   {
    "duration": 17,
    "start_time": "2022-02-27T20:10:06.920Z"
   },
   {
    "duration": 190761,
    "start_time": "2022-02-27T20:10:48.847Z"
   },
   {
    "duration": 69,
    "start_time": "2022-02-27T20:14:17.639Z"
   },
   {
    "duration": 16,
    "start_time": "2022-02-27T20:18:19.384Z"
   },
   {
    "duration": 15,
    "start_time": "2022-02-27T20:19:25.141Z"
   },
   {
    "duration": 18,
    "start_time": "2022-02-27T20:20:05.621Z"
   },
   {
    "duration": 19,
    "start_time": "2022-02-27T20:26:14.491Z"
   },
   {
    "duration": 18,
    "start_time": "2022-02-27T20:26:49.395Z"
   },
   {
    "duration": 19,
    "start_time": "2022-02-27T20:27:22.003Z"
   },
   {
    "duration": 3,
    "start_time": "2022-02-27T20:44:32.211Z"
   },
   {
    "duration": 3,
    "start_time": "2022-02-27T20:48:07.408Z"
   },
   {
    "duration": 3,
    "start_time": "2022-02-27T20:57:47.534Z"
   },
   {
    "duration": 431,
    "start_time": "2022-02-27T20:58:26.940Z"
   },
   {
    "duration": 5,
    "start_time": "2022-02-27T20:58:42.516Z"
   },
   {
    "duration": 3,
    "start_time": "2022-02-27T20:59:08.196Z"
   },
   {
    "duration": 520,
    "start_time": "2022-02-27T20:59:10.284Z"
   },
   {
    "duration": 5,
    "start_time": "2022-02-27T20:59:30.700Z"
   },
   {
    "duration": 9,
    "start_time": "2022-02-27T20:59:44.299Z"
   },
   {
    "duration": 9,
    "start_time": "2022-02-27T20:59:51.253Z"
   },
   {
    "duration": 9,
    "start_time": "2022-02-27T21:00:01.732Z"
   },
   {
    "duration": 9,
    "start_time": "2022-02-27T21:00:08.261Z"
   },
   {
    "duration": 3,
    "start_time": "2022-02-27T21:00:36.405Z"
   },
   {
    "duration": 439,
    "start_time": "2022-02-27T21:00:45.275Z"
   },
   {
    "duration": 3,
    "start_time": "2022-02-27T21:01:20.540Z"
   },
   {
    "duration": 453,
    "start_time": "2022-02-27T21:01:22.052Z"
   },
   {
    "duration": 3,
    "start_time": "2022-02-27T21:04:01.051Z"
   },
   {
    "duration": 454,
    "start_time": "2022-02-27T21:04:12.779Z"
   },
   {
    "duration": 3,
    "start_time": "2022-02-27T21:04:28.842Z"
   },
   {
    "duration": 4,
    "start_time": "2022-02-27T21:04:31.290Z"
   },
   {
    "duration": 10,
    "start_time": "2022-02-27T21:04:37.690Z"
   },
   {
    "duration": 23,
    "start_time": "2022-02-27T21:05:44.730Z"
   },
   {
    "duration": 3,
    "start_time": "2022-02-27T21:06:51.713Z"
   },
   {
    "duration": 971,
    "start_time": "2022-03-01T17:41:18.938Z"
   },
   {
    "duration": 3,
    "start_time": "2022-03-01T17:41:19.910Z"
   },
   {
    "duration": 344,
    "start_time": "2022-03-01T17:41:19.914Z"
   },
   {
    "duration": 23,
    "start_time": "2022-03-01T17:41:20.260Z"
   },
   {
    "duration": 87,
    "start_time": "2022-03-01T17:41:20.284Z"
   },
   {
    "duration": 103,
    "start_time": "2022-03-01T17:41:20.372Z"
   },
   {
    "duration": 44,
    "start_time": "2022-03-01T17:41:20.477Z"
   },
   {
    "duration": 29,
    "start_time": "2022-03-01T17:41:20.523Z"
   },
   {
    "duration": 19,
    "start_time": "2022-03-01T17:41:20.554Z"
   },
   {
    "duration": 28,
    "start_time": "2022-03-01T17:41:20.574Z"
   },
   {
    "duration": 11,
    "start_time": "2022-03-01T17:41:20.604Z"
   },
   {
    "duration": 9,
    "start_time": "2022-03-01T17:41:20.617Z"
   },
   {
    "duration": 36,
    "start_time": "2022-03-01T17:41:20.627Z"
   },
   {
    "duration": 5,
    "start_time": "2022-03-01T17:41:20.665Z"
   },
   {
    "duration": 59,
    "start_time": "2022-03-01T17:41:20.671Z"
   },
   {
    "duration": 54,
    "start_time": "2022-03-01T17:41:20.731Z"
   },
   {
    "duration": 30,
    "start_time": "2022-03-01T17:41:20.787Z"
   },
   {
    "duration": 106,
    "start_time": "2022-03-01T17:41:20.902Z"
   },
   {
    "duration": 100,
    "start_time": "2022-03-01T17:41:21.010Z"
   },
   {
    "duration": 94,
    "start_time": "2022-03-01T17:41:21.111Z"
   },
   {
    "duration": 94,
    "start_time": "2022-03-01T17:41:21.208Z"
   },
   {
    "duration": 4,
    "start_time": "2022-03-01T17:41:21.303Z"
   },
   {
    "duration": 22,
    "start_time": "2022-03-01T17:41:21.310Z"
   },
   {
    "duration": 2,
    "start_time": "2022-03-01T17:59:43.008Z"
   },
   {
    "duration": 302,
    "start_time": "2022-03-01T18:00:45.023Z"
   },
   {
    "duration": 225,
    "start_time": "2022-03-01T18:01:14.048Z"
   },
   {
    "duration": 4,
    "start_time": "2022-03-01T18:01:26.046Z"
   },
   {
    "duration": 239,
    "start_time": "2022-03-01T18:01:52.959Z"
   },
   {
    "duration": 6,
    "start_time": "2022-03-01T18:02:18.144Z"
   },
   {
    "duration": 4,
    "start_time": "2022-03-01T18:02:42.022Z"
   },
   {
    "duration": 237,
    "start_time": "2022-03-01T18:02:55.126Z"
   },
   {
    "duration": 6,
    "start_time": "2022-03-01T18:03:24.045Z"
   },
   {
    "duration": 3,
    "start_time": "2022-03-01T18:05:10.733Z"
   },
   {
    "duration": 6,
    "start_time": "2022-03-01T18:05:35.238Z"
   },
   {
    "duration": 3,
    "start_time": "2022-03-01T18:05:57.358Z"
   },
   {
    "duration": 7,
    "start_time": "2022-03-01T18:06:08.877Z"
   },
   {
    "duration": 6,
    "start_time": "2022-03-01T18:06:20.453Z"
   },
   {
    "duration": 6,
    "start_time": "2022-03-01T18:06:48.117Z"
   },
   {
    "duration": 3620,
    "start_time": "2022-03-01T18:07:06.205Z"
   },
   {
    "duration": 4157,
    "start_time": "2022-03-01T18:07:20.582Z"
   },
   {
    "duration": 4,
    "start_time": "2022-03-01T18:07:34.501Z"
   },
   {
    "duration": 5,
    "start_time": "2022-03-01T18:07:59.727Z"
   },
   {
    "duration": 4,
    "start_time": "2022-03-01T18:08:40.735Z"
   },
   {
    "duration": 7,
    "start_time": "2022-03-01T18:08:40.740Z"
   },
   {
    "duration": 361,
    "start_time": "2022-03-01T18:08:40.748Z"
   },
   {
    "duration": 22,
    "start_time": "2022-03-01T18:08:41.111Z"
   },
   {
    "duration": 92,
    "start_time": "2022-03-01T18:08:41.135Z"
   },
   {
    "duration": 99,
    "start_time": "2022-03-01T18:08:41.229Z"
   },
   {
    "duration": 40,
    "start_time": "2022-03-01T18:08:41.330Z"
   },
   {
    "duration": 50,
    "start_time": "2022-03-01T18:08:41.372Z"
   },
   {
    "duration": 15,
    "start_time": "2022-03-01T18:08:41.423Z"
   },
   {
    "duration": 12,
    "start_time": "2022-03-01T18:08:41.439Z"
   },
   {
    "duration": 13,
    "start_time": "2022-03-01T18:08:41.452Z"
   },
   {
    "duration": 7,
    "start_time": "2022-03-01T18:08:41.466Z"
   },
   {
    "duration": 53,
    "start_time": "2022-03-01T18:08:41.475Z"
   },
   {
    "duration": 5,
    "start_time": "2022-03-01T18:08:41.529Z"
   },
   {
    "duration": 33,
    "start_time": "2022-03-01T18:08:41.535Z"
   },
   {
    "duration": 79,
    "start_time": "2022-03-01T18:08:41.569Z"
   },
   {
    "duration": 58,
    "start_time": "2022-03-01T18:08:41.649Z"
   },
   {
    "duration": 105,
    "start_time": "2022-03-01T18:08:41.709Z"
   },
   {
    "duration": 189,
    "start_time": "2022-03-01T18:08:41.817Z"
   },
   {
    "duration": 4,
    "start_time": "2022-03-01T18:08:48.780Z"
   },
   {
    "duration": 5,
    "start_time": "2022-03-01T18:08:58.628Z"
   },
   {
    "duration": 7,
    "start_time": "2022-03-01T18:09:15.372Z"
   },
   {
    "duration": 4,
    "start_time": "2022-03-01T18:09:32.356Z"
   },
   {
    "duration": 4,
    "start_time": "2022-03-01T18:09:43.420Z"
   },
   {
    "duration": 225,
    "start_time": "2022-03-01T18:10:40.108Z"
   },
   {
    "duration": 11,
    "start_time": "2022-03-01T18:10:53.003Z"
   },
   {
    "duration": 5,
    "start_time": "2022-03-01T18:11:08.833Z"
   },
   {
    "duration": 5,
    "start_time": "2022-03-01T18:11:23.684Z"
   },
   {
    "duration": 9,
    "start_time": "2022-03-01T18:12:34.442Z"
   },
   {
    "duration": 5,
    "start_time": "2022-03-01T18:12:55.403Z"
   },
   {
    "duration": 10,
    "start_time": "2022-03-01T18:13:25.875Z"
   },
   {
    "duration": 10,
    "start_time": "2022-03-01T18:13:38.547Z"
   },
   {
    "duration": 4,
    "start_time": "2022-03-01T18:13:57.102Z"
   },
   {
    "duration": 6,
    "start_time": "2022-03-01T18:13:57.108Z"
   },
   {
    "duration": 332,
    "start_time": "2022-03-01T18:13:57.115Z"
   },
   {
    "duration": 21,
    "start_time": "2022-03-01T18:13:57.449Z"
   },
   {
    "duration": 84,
    "start_time": "2022-03-01T18:13:57.471Z"
   },
   {
    "duration": 91,
    "start_time": "2022-03-01T18:13:57.557Z"
   },
   {
    "duration": 35,
    "start_time": "2022-03-01T18:13:57.650Z"
   },
   {
    "duration": 41,
    "start_time": "2022-03-01T18:13:57.687Z"
   },
   {
    "duration": 15,
    "start_time": "2022-03-01T18:13:57.729Z"
   },
   {
    "duration": 11,
    "start_time": "2022-03-01T18:13:57.745Z"
   },
   {
    "duration": 11,
    "start_time": "2022-03-01T18:13:57.758Z"
   },
   {
    "duration": 6,
    "start_time": "2022-03-01T18:13:57.770Z"
   },
   {
    "duration": 28,
    "start_time": "2022-03-01T18:13:57.801Z"
   },
   {
    "duration": 5,
    "start_time": "2022-03-01T18:13:57.830Z"
   },
   {
    "duration": 29,
    "start_time": "2022-03-01T18:13:57.837Z"
   },
   {
    "duration": 73,
    "start_time": "2022-03-01T18:13:57.868Z"
   },
   {
    "duration": 62,
    "start_time": "2022-03-01T18:13:57.942Z"
   },
   {
    "duration": 102,
    "start_time": "2022-03-01T18:13:58.008Z"
   },
   {
    "duration": 98,
    "start_time": "2022-03-01T18:13:58.112Z"
   },
   {
    "duration": 3,
    "start_time": "2022-03-01T18:14:04.561Z"
   },
   {
    "duration": 4,
    "start_time": "2022-03-01T18:14:05.754Z"
   },
   {
    "duration": 4,
    "start_time": "2022-03-01T18:14:13.858Z"
   },
   {
    "duration": 18,
    "start_time": "2022-03-01T18:14:15.571Z"
   },
   {
    "duration": 3,
    "start_time": "2022-03-01T18:15:30.458Z"
   },
   {
    "duration": 292,
    "start_time": "2022-03-01T18:15:32.625Z"
   },
   {
    "duration": 3,
    "start_time": "2022-03-01T18:16:34.674Z"
   },
   {
    "duration": 240,
    "start_time": "2022-03-01T18:17:28.546Z"
   },
   {
    "duration": 229,
    "start_time": "2022-03-01T18:17:48.521Z"
   },
   {
    "duration": 237,
    "start_time": "2022-03-01T18:18:00.866Z"
   },
   {
    "duration": 7,
    "start_time": "2022-03-01T18:18:29.465Z"
   },
   {
    "duration": 6,
    "start_time": "2022-03-01T18:18:36.321Z"
   },
   {
    "duration": 5,
    "start_time": "2022-03-01T18:23:14.519Z"
   },
   {
    "duration": 3,
    "start_time": "2022-03-01T18:23:43.234Z"
   },
   {
    "duration": 4,
    "start_time": "2022-03-01T18:23:48.368Z"
   },
   {
    "duration": 5,
    "start_time": "2022-03-01T18:23:53.911Z"
   },
   {
    "duration": 3,
    "start_time": "2022-03-01T18:24:32.320Z"
   },
   {
    "duration": 20,
    "start_time": "2022-03-01T18:24:34.089Z"
   },
   {
    "duration": 3,
    "start_time": "2022-03-01T18:24:42.667Z"
   },
   {
    "duration": 12,
    "start_time": "2022-03-01T18:24:42.672Z"
   },
   {
    "duration": 340,
    "start_time": "2022-03-01T18:24:42.686Z"
   },
   {
    "duration": 34,
    "start_time": "2022-03-01T18:24:43.028Z"
   },
   {
    "duration": 87,
    "start_time": "2022-03-01T18:24:43.063Z"
   },
   {
    "duration": 88,
    "start_time": "2022-03-01T18:24:43.151Z"
   },
   {
    "duration": 34,
    "start_time": "2022-03-01T18:24:43.242Z"
   },
   {
    "duration": 46,
    "start_time": "2022-03-01T18:24:43.278Z"
   },
   {
    "duration": 16,
    "start_time": "2022-03-01T18:24:43.326Z"
   },
   {
    "duration": 13,
    "start_time": "2022-03-01T18:24:43.343Z"
   },
   {
    "duration": 13,
    "start_time": "2022-03-01T18:24:43.358Z"
   },
   {
    "duration": 34,
    "start_time": "2022-03-01T18:24:43.372Z"
   },
   {
    "duration": 29,
    "start_time": "2022-03-01T18:24:43.408Z"
   },
   {
    "duration": 6,
    "start_time": "2022-03-01T18:24:43.438Z"
   },
   {
    "duration": 57,
    "start_time": "2022-03-01T18:24:43.445Z"
   },
   {
    "duration": 54,
    "start_time": "2022-03-01T18:24:43.504Z"
   },
   {
    "duration": 150,
    "start_time": "2022-03-01T18:24:43.560Z"
   },
   {
    "duration": 102,
    "start_time": "2022-03-01T18:24:43.712Z"
   },
   {
    "duration": 100,
    "start_time": "2022-03-01T18:24:43.816Z"
   },
   {
    "duration": 3,
    "start_time": "2022-03-01T18:24:44.003Z"
   },
   {
    "duration": 6,
    "start_time": "2022-03-01T18:24:44.008Z"
   },
   {
    "duration": 4,
    "start_time": "2022-03-01T18:24:44.101Z"
   },
   {
    "duration": 22,
    "start_time": "2022-03-01T18:24:44.107Z"
   },
   {
    "duration": 230,
    "start_time": "2022-03-01T18:24:58.792Z"
   },
   {
    "duration": 490,
    "start_time": "2022-03-01T18:25:32.112Z"
   },
   {
    "duration": 472,
    "start_time": "2022-03-01T18:25:47.384Z"
   },
   {
    "duration": 16,
    "start_time": "2022-03-01T18:27:35.335Z"
   },
   {
    "duration": 17,
    "start_time": "2022-03-01T18:27:50.952Z"
   },
   {
    "duration": 85,
    "start_time": "2022-03-01T18:28:03.616Z"
   },
   {
    "duration": 3,
    "start_time": "2022-03-01T18:28:16.831Z"
   },
   {
    "duration": 19,
    "start_time": "2022-03-01T18:28:17.863Z"
   },
   {
    "duration": 3,
    "start_time": "2022-03-01T18:28:24.071Z"
   },
   {
    "duration": 2681,
    "start_time": "2022-03-01T18:28:42.872Z"
   },
   {
    "duration": 244,
    "start_time": "2022-03-01T18:30:16.424Z"
   },
   {
    "duration": 4,
    "start_time": "2022-03-01T18:31:03.278Z"
   },
   {
    "duration": 218,
    "start_time": "2022-03-01T18:31:33.295Z"
   },
   {
    "duration": 15,
    "start_time": "2022-03-01T18:31:49.525Z"
   },
   {
    "duration": 3,
    "start_time": "2022-03-01T18:32:09.526Z"
   },
   {
    "duration": 226,
    "start_time": "2022-03-01T18:32:15.726Z"
   },
   {
    "duration": 1623,
    "start_time": "2022-03-01T18:32:45.038Z"
   },
   {
    "duration": 1635,
    "start_time": "2022-03-01T18:32:55.150Z"
   },
   {
    "duration": 3,
    "start_time": "2022-03-01T18:32:59.022Z"
   },
   {
    "duration": 5,
    "start_time": "2022-03-01T18:33:01.526Z"
   },
   {
    "duration": 1639,
    "start_time": "2022-03-01T18:34:26.807Z"
   },
   {
    "duration": 2,
    "start_time": "2022-03-01T18:34:28.448Z"
   },
   {
    "duration": 5,
    "start_time": "2022-03-01T18:34:28.606Z"
   },
   {
    "duration": 3,
    "start_time": "2022-03-01T18:37:30.805Z"
   },
   {
    "duration": 19,
    "start_time": "2022-03-01T18:37:31.788Z"
   },
   {
    "duration": 1619,
    "start_time": "2022-03-01T18:38:22.230Z"
   },
   {
    "duration": 3,
    "start_time": "2022-03-01T18:38:26.029Z"
   },
   {
    "duration": 5,
    "start_time": "2022-03-01T18:38:26.981Z"
   },
   {
    "duration": 4,
    "start_time": "2022-03-01T18:39:44.156Z"
   },
   {
    "duration": 4,
    "start_time": "2022-03-01T18:57:14.344Z"
   },
   {
    "duration": 6,
    "start_time": "2022-03-01T18:57:54.009Z"
   },
   {
    "duration": 2836,
    "start_time": "2022-03-01T19:08:30.485Z"
   },
   {
    "duration": 6,
    "start_time": "2022-03-01T19:10:58.933Z"
   },
   {
    "duration": 1651,
    "start_time": "2022-03-01T19:12:33.637Z"
   },
   {
    "duration": 7,
    "start_time": "2022-03-01T19:13:22.956Z"
   },
   {
    "duration": 6,
    "start_time": "2022-03-01T19:13:45.812Z"
   },
   {
    "duration": 6,
    "start_time": "2022-03-01T19:14:33.755Z"
   },
   {
    "duration": 6,
    "start_time": "2022-03-01T19:14:53.131Z"
   },
   {
    "duration": 5,
    "start_time": "2022-03-01T19:15:02.910Z"
   },
   {
    "duration": 1683,
    "start_time": "2022-03-01T19:15:35.996Z"
   },
   {
    "duration": 6,
    "start_time": "2022-03-01T19:16:12.588Z"
   },
   {
    "duration": 6,
    "start_time": "2022-03-01T19:29:57.064Z"
   },
   {
    "duration": 6,
    "start_time": "2022-03-01T19:30:58.592Z"
   },
   {
    "duration": 6,
    "start_time": "2022-03-01T19:31:00.888Z"
   },
   {
    "duration": 9,
    "start_time": "2022-03-01T19:32:12.623Z"
   },
   {
    "duration": 3,
    "start_time": "2022-03-01T19:32:35.047Z"
   },
   {
    "duration": 3,
    "start_time": "2022-03-01T19:32:39.239Z"
   },
   {
    "duration": 6,
    "start_time": "2022-03-01T19:33:40.680Z"
   },
   {
    "duration": 7,
    "start_time": "2022-03-01T19:34:00.758Z"
   },
   {
    "duration": 8,
    "start_time": "2022-03-01T19:34:30.246Z"
   },
   {
    "duration": 6,
    "start_time": "2022-03-01T19:34:35.486Z"
   },
   {
    "duration": 6,
    "start_time": "2022-03-01T19:34:39.166Z"
   },
   {
    "duration": 6,
    "start_time": "2022-03-01T19:34:53.647Z"
   },
   {
    "duration": 9,
    "start_time": "2022-03-01T19:35:38.448Z"
   },
   {
    "duration": 4,
    "start_time": "2022-03-01T19:36:25.622Z"
   },
   {
    "duration": 9,
    "start_time": "2022-03-01T19:36:28.646Z"
   },
   {
    "duration": 9,
    "start_time": "2022-03-01T19:37:04.262Z"
   },
   {
    "duration": 9,
    "start_time": "2022-03-01T19:40:33.358Z"
   },
   {
    "duration": 1677,
    "start_time": "2022-03-01T19:42:36.029Z"
   },
   {
    "duration": 6,
    "start_time": "2022-03-01T19:42:38.557Z"
   },
   {
    "duration": 1654,
    "start_time": "2022-03-01T19:42:43.373Z"
   },
   {
    "duration": 6,
    "start_time": "2022-03-01T19:42:46.814Z"
   },
   {
    "duration": 1660,
    "start_time": "2022-03-01T19:42:51.813Z"
   },
   {
    "duration": 7,
    "start_time": "2022-03-01T19:42:54.548Z"
   },
   {
    "duration": 253,
    "start_time": "2022-03-01T19:42:59.038Z"
   },
   {
    "duration": 1641,
    "start_time": "2022-03-01T19:43:11.701Z"
   },
   {
    "duration": 7,
    "start_time": "2022-03-01T19:43:16.228Z"
   },
   {
    "duration": 1658,
    "start_time": "2022-03-01T19:43:17.357Z"
   },
   {
    "duration": 1652,
    "start_time": "2022-03-01T19:43:34.749Z"
   },
   {
    "duration": 7,
    "start_time": "2022-03-01T19:43:38.285Z"
   },
   {
    "duration": 2,
    "start_time": "2022-03-01T19:43:57.405Z"
   },
   {
    "duration": 1842,
    "start_time": "2022-03-01T19:43:58.645Z"
   },
   {
    "duration": 6,
    "start_time": "2022-03-01T19:44:02.989Z"
   },
   {
    "duration": 1650,
    "start_time": "2022-03-01T19:44:04.700Z"
   },
   {
    "duration": 1603,
    "start_time": "2022-03-01T19:44:10.085Z"
   },
   {
    "duration": 7,
    "start_time": "2022-03-01T19:44:13.404Z"
   },
   {
    "duration": 1650,
    "start_time": "2022-03-01T19:44:20.981Z"
   },
   {
    "duration": 7,
    "start_time": "2022-03-01T19:44:25.212Z"
   },
   {
    "duration": 10,
    "start_time": "2022-03-01T19:44:29.165Z"
   },
   {
    "duration": 3,
    "start_time": "2022-03-01T19:45:22.548Z"
   },
   {
    "duration": 3,
    "start_time": "2022-03-01T19:45:31.632Z"
   },
   {
    "duration": 34,
    "start_time": "2022-03-01T19:45:31.637Z"
   },
   {
    "duration": 351,
    "start_time": "2022-03-01T19:45:31.673Z"
   },
   {
    "duration": 21,
    "start_time": "2022-03-01T19:45:32.026Z"
   },
   {
    "duration": 93,
    "start_time": "2022-03-01T19:45:32.049Z"
   },
   {
    "duration": 89,
    "start_time": "2022-03-01T19:45:32.144Z"
   },
   {
    "duration": 35,
    "start_time": "2022-03-01T19:45:32.235Z"
   },
   {
    "duration": 47,
    "start_time": "2022-03-01T19:45:32.272Z"
   },
   {
    "duration": 14,
    "start_time": "2022-03-01T19:45:32.320Z"
   },
   {
    "duration": 28,
    "start_time": "2022-03-01T19:45:32.336Z"
   },
   {
    "duration": 26,
    "start_time": "2022-03-01T19:45:32.365Z"
   },
   {
    "duration": 23,
    "start_time": "2022-03-01T19:45:32.392Z"
   },
   {
    "duration": 60,
    "start_time": "2022-03-01T19:45:32.417Z"
   },
   {
    "duration": 6,
    "start_time": "2022-03-01T19:45:32.479Z"
   },
   {
    "duration": 58,
    "start_time": "2022-03-01T19:45:32.486Z"
   },
   {
    "duration": 55,
    "start_time": "2022-03-01T19:45:32.546Z"
   },
   {
    "duration": 17,
    "start_time": "2022-03-01T19:45:32.603Z"
   },
   {
    "duration": 111,
    "start_time": "2022-03-01T19:45:32.702Z"
   },
   {
    "duration": 109,
    "start_time": "2022-03-01T19:45:32.902Z"
   },
   {
    "duration": 189,
    "start_time": "2022-03-01T19:45:33.013Z"
   },
   {
    "duration": 29,
    "start_time": "2022-03-01T19:45:33.203Z"
   },
   {
    "duration": 26,
    "start_time": "2022-03-01T19:45:33.233Z"
   },
   {
    "duration": 17,
    "start_time": "2022-03-01T19:45:33.261Z"
   },
   {
    "duration": 32,
    "start_time": "2022-03-01T19:45:33.280Z"
   },
   {
    "duration": 4,
    "start_time": "2022-03-01T19:45:33.313Z"
   },
   {
    "duration": 1642,
    "start_time": "2022-03-01T19:45:33.318Z"
   },
   {
    "duration": 6,
    "start_time": "2022-03-01T19:45:34.962Z"
   },
   {
    "duration": 1705,
    "start_time": "2022-03-01T19:45:34.969Z"
   },
   {
    "duration": 7,
    "start_time": "2022-03-01T19:45:36.676Z"
   },
   {
    "duration": 1686,
    "start_time": "2022-03-01T19:45:36.684Z"
   },
   {
    "duration": 7,
    "start_time": "2022-03-01T19:45:38.371Z"
   },
   {
    "duration": 29,
    "start_time": "2022-03-01T19:45:38.379Z"
   },
   {
    "duration": 4,
    "start_time": "2022-03-01T19:50:30.902Z"
   },
   {
    "duration": 10,
    "start_time": "2022-03-01T19:50:30.907Z"
   },
   {
    "duration": 343,
    "start_time": "2022-03-01T19:50:30.919Z"
   },
   {
    "duration": 20,
    "start_time": "2022-03-01T19:50:31.264Z"
   },
   {
    "duration": 87,
    "start_time": "2022-03-01T19:50:31.285Z"
   },
   {
    "duration": 89,
    "start_time": "2022-03-01T19:50:31.374Z"
   },
   {
    "duration": 43,
    "start_time": "2022-03-01T19:50:31.466Z"
   },
   {
    "duration": 29,
    "start_time": "2022-03-01T19:50:31.510Z"
   },
   {
    "duration": 18,
    "start_time": "2022-03-01T19:50:31.541Z"
   },
   {
    "duration": 11,
    "start_time": "2022-03-01T19:50:31.561Z"
   },
   {
    "duration": 32,
    "start_time": "2022-03-01T19:50:31.574Z"
   },
   {
    "duration": 6,
    "start_time": "2022-03-01T19:50:31.607Z"
   },
   {
    "duration": 28,
    "start_time": "2022-03-01T19:50:31.615Z"
   },
   {
    "duration": 5,
    "start_time": "2022-03-01T19:50:31.645Z"
   },
   {
    "duration": 51,
    "start_time": "2022-03-01T19:50:31.651Z"
   },
   {
    "duration": 53,
    "start_time": "2022-03-01T19:50:31.704Z"
   },
   {
    "duration": 51,
    "start_time": "2022-03-01T19:50:31.759Z"
   },
   {
    "duration": 106,
    "start_time": "2022-03-01T19:50:31.902Z"
   },
   {
    "duration": 195,
    "start_time": "2022-03-01T19:50:32.012Z"
   },
   {
    "duration": 92,
    "start_time": "2022-03-01T19:50:32.210Z"
   },
   {
    "duration": 6,
    "start_time": "2022-03-01T19:50:32.303Z"
   },
   {
    "duration": 7,
    "start_time": "2022-03-01T19:50:32.311Z"
   },
   {
    "duration": 83,
    "start_time": "2022-03-01T19:50:32.320Z"
   },
   {
    "duration": 22,
    "start_time": "2022-03-01T19:50:32.404Z"
   },
   {
    "duration": 4,
    "start_time": "2022-03-01T19:50:32.427Z"
   },
   {
    "duration": 1660,
    "start_time": "2022-03-01T19:50:32.432Z"
   },
   {
    "duration": 9,
    "start_time": "2022-03-01T19:50:34.094Z"
   },
   {
    "duration": 1666,
    "start_time": "2022-03-01T19:50:34.104Z"
   },
   {
    "duration": 7,
    "start_time": "2022-03-01T19:50:35.772Z"
   },
   {
    "duration": 1648,
    "start_time": "2022-03-01T19:50:35.781Z"
   },
   {
    "duration": 8,
    "start_time": "2022-03-01T19:50:37.430Z"
   },
   {
    "duration": 9,
    "start_time": "2022-03-01T19:50:37.439Z"
   },
   {
    "duration": 67,
    "start_time": "2022-03-01T19:58:09.136Z"
   },
   {
    "duration": 110,
    "start_time": "2022-03-01T19:58:17.392Z"
   },
   {
    "duration": 17,
    "start_time": "2022-03-01T19:58:22.648Z"
   },
   {
    "duration": 20,
    "start_time": "2022-03-01T19:58:30.825Z"
   },
   {
    "duration": 17,
    "start_time": "2022-03-01T19:59:33.928Z"
   },
   {
    "duration": 31,
    "start_time": "2022-03-01T20:00:02.776Z"
   },
   {
    "duration": 72,
    "start_time": "2022-03-01T20:05:23.814Z"
   },
   {
    "duration": 10,
    "start_time": "2022-03-01T20:05:35.190Z"
   },
   {
    "duration": 63,
    "start_time": "2022-03-01T20:08:52.838Z"
   },
   {
    "duration": 62,
    "start_time": "2022-03-01T20:09:05.846Z"
   },
   {
    "duration": 17,
    "start_time": "2022-03-01T20:09:26.478Z"
   },
   {
    "duration": 84,
    "start_time": "2022-03-01T20:09:55.926Z"
   },
   {
    "duration": 11,
    "start_time": "2022-03-01T20:10:00.740Z"
   },
   {
    "duration": 2,
    "start_time": "2022-03-01T20:10:14.956Z"
   },
   {
    "duration": 10,
    "start_time": "2022-03-01T20:10:20.645Z"
   },
   {
    "duration": 2,
    "start_time": "2022-03-01T20:10:26.372Z"
   },
   {
    "duration": 10,
    "start_time": "2022-03-01T20:10:30.636Z"
   },
   {
    "duration": 104,
    "start_time": "2022-03-01T20:11:32.404Z"
   },
   {
    "duration": 69,
    "start_time": "2022-03-01T20:11:40.533Z"
   },
   {
    "duration": 60,
    "start_time": "2022-03-01T20:11:56.644Z"
   },
   {
    "duration": 54,
    "start_time": "2022-03-01T20:12:06.956Z"
   },
   {
    "duration": 11,
    "start_time": "2022-03-01T20:17:47.484Z"
   },
   {
    "duration": 10,
    "start_time": "2022-03-01T20:18:39.275Z"
   },
   {
    "duration": 9,
    "start_time": "2022-03-01T20:33:24.775Z"
   },
   {
    "duration": 10,
    "start_time": "2022-03-01T20:33:51.048Z"
   },
   {
    "duration": 9,
    "start_time": "2022-03-01T20:35:13.111Z"
   },
   {
    "duration": 10,
    "start_time": "2022-03-01T20:35:40.806Z"
   },
   {
    "duration": 4,
    "start_time": "2022-03-01T20:45:09.165Z"
   },
   {
    "duration": 4,
    "start_time": "2022-03-01T20:45:09.171Z"
   },
   {
    "duration": 339,
    "start_time": "2022-03-01T20:45:09.178Z"
   },
   {
    "duration": 20,
    "start_time": "2022-03-01T20:45:09.519Z"
   },
   {
    "duration": 96,
    "start_time": "2022-03-01T20:45:09.541Z"
   },
   {
    "duration": 94,
    "start_time": "2022-03-01T20:45:09.639Z"
   },
   {
    "duration": 36,
    "start_time": "2022-03-01T20:45:09.734Z"
   },
   {
    "duration": 40,
    "start_time": "2022-03-01T20:45:09.771Z"
   },
   {
    "duration": 14,
    "start_time": "2022-03-01T20:45:09.812Z"
   },
   {
    "duration": 11,
    "start_time": "2022-03-01T20:45:09.828Z"
   },
   {
    "duration": 12,
    "start_time": "2022-03-01T20:45:09.840Z"
   },
   {
    "duration": 6,
    "start_time": "2022-03-01T20:45:09.853Z"
   },
   {
    "duration": 53,
    "start_time": "2022-03-01T20:45:09.860Z"
   },
   {
    "duration": 5,
    "start_time": "2022-03-01T20:45:09.914Z"
   },
   {
    "duration": 34,
    "start_time": "2022-03-01T20:45:09.920Z"
   },
   {
    "duration": 65,
    "start_time": "2022-03-01T20:45:09.956Z"
   },
   {
    "duration": 83,
    "start_time": "2022-03-01T20:45:10.023Z"
   },
   {
    "duration": 106,
    "start_time": "2022-03-01T20:45:10.108Z"
   },
   {
    "duration": 202,
    "start_time": "2022-03-01T20:45:10.302Z"
   },
   {
    "duration": 3,
    "start_time": "2022-03-01T20:45:10.506Z"
   },
   {
    "duration": 92,
    "start_time": "2022-03-01T20:45:10.511Z"
   },
   {
    "duration": 7,
    "start_time": "2022-03-01T20:45:10.605Z"
   },
   {
    "duration": 3,
    "start_time": "2022-03-01T20:45:10.613Z"
   },
   {
    "duration": 21,
    "start_time": "2022-03-01T20:45:10.617Z"
   },
   {
    "duration": 3,
    "start_time": "2022-03-01T20:45:10.640Z"
   },
   {
    "duration": 1661,
    "start_time": "2022-03-01T20:45:10.645Z"
   },
   {
    "duration": 6,
    "start_time": "2022-03-01T20:45:12.308Z"
   },
   {
    "duration": 1636,
    "start_time": "2022-03-01T20:45:12.315Z"
   },
   {
    "duration": 6,
    "start_time": "2022-03-01T20:45:13.952Z"
   },
   {
    "duration": 1685,
    "start_time": "2022-03-01T20:45:13.959Z"
   },
   {
    "duration": 6,
    "start_time": "2022-03-01T20:45:15.645Z"
   },
   {
    "duration": 9,
    "start_time": "2022-03-01T20:45:15.652Z"
   },
   {
    "duration": 1411,
    "start_time": "2022-03-02T04:43:30.229Z"
   },
   {
    "duration": 8,
    "start_time": "2022-03-02T04:43:31.643Z"
   },
   {
    "duration": 430,
    "start_time": "2022-03-02T04:43:32.809Z"
   },
   {
    "duration": 31,
    "start_time": "2022-03-02T04:44:12.979Z"
   },
   {
    "duration": 120,
    "start_time": "2022-03-02T04:44:15.079Z"
   },
   {
    "duration": 170,
    "start_time": "2022-03-02T04:44:16.854Z"
   },
   {
    "duration": 49,
    "start_time": "2022-03-02T04:44:17.941Z"
   },
   {
    "duration": 46,
    "start_time": "2022-03-02T04:44:18.574Z"
   },
   {
    "duration": 31,
    "start_time": "2022-03-02T04:44:19.209Z"
   },
   {
    "duration": 18,
    "start_time": "2022-03-02T04:44:19.558Z"
   },
   {
    "duration": 19,
    "start_time": "2022-03-02T04:44:20.039Z"
   },
   {
    "duration": 14,
    "start_time": "2022-03-02T04:46:39.298Z"
   },
   {
    "duration": 44,
    "start_time": "2022-03-02T04:46:40.409Z"
   },
   {
    "duration": 8,
    "start_time": "2022-03-02T04:46:41.844Z"
   },
   {
    "duration": 51,
    "start_time": "2022-03-02T04:46:43.173Z"
   },
   {
    "duration": 84,
    "start_time": "2022-03-02T04:46:52.710Z"
   },
   {
    "duration": 47,
    "start_time": "2022-03-02T04:47:16.506Z"
   },
   {
    "duration": 68,
    "start_time": "2022-03-02T04:47:24.687Z"
   },
   {
    "duration": 34,
    "start_time": "2022-03-02T04:47:25.920Z"
   },
   {
    "duration": 4,
    "start_time": "2022-03-02T04:50:53.775Z"
   },
   {
    "duration": 5,
    "start_time": "2022-03-02T04:50:54.471Z"
   },
   {
    "duration": 11,
    "start_time": "2022-03-02T04:50:55.042Z"
   },
   {
    "duration": 5,
    "start_time": "2022-03-02T04:51:59.672Z"
   },
   {
    "duration": 32,
    "start_time": "2022-03-02T04:52:00.073Z"
   },
   {
    "duration": 4,
    "start_time": "2022-03-02T04:52:19.451Z"
   },
   {
    "duration": 3044,
    "start_time": "2022-03-02T04:52:23.594Z"
   },
   {
    "duration": 13,
    "start_time": "2022-03-02T04:52:26.641Z"
   },
   {
    "duration": 3034,
    "start_time": "2022-03-02T04:52:27.623Z"
   },
   {
    "duration": 10,
    "start_time": "2022-03-02T04:52:30.661Z"
   },
   {
    "duration": 2919,
    "start_time": "2022-03-02T04:52:30.674Z"
   },
   {
    "duration": 10,
    "start_time": "2022-03-02T04:52:33.596Z"
   },
   {
    "duration": 15,
    "start_time": "2022-03-02T04:52:33.609Z"
   },
   {
    "duration": 3194,
    "start_time": "2022-03-02T04:56:08.358Z"
   },
   {
    "duration": 11,
    "start_time": "2022-03-02T04:56:14.479Z"
   },
   {
    "duration": 5184,
    "start_time": "2022-03-02T04:58:41.320Z"
   },
   {
    "duration": 10,
    "start_time": "2022-03-02T04:58:49.537Z"
   },
   {
    "duration": 5917,
    "start_time": "2022-03-02T04:59:24.494Z"
   },
   {
    "duration": 717,
    "start_time": "2022-03-02T05:00:00.409Z"
   },
   {
    "duration": 53,
    "start_time": "2022-03-02T05:00:01.564Z"
   },
   {
    "duration": 179,
    "start_time": "2022-03-02T05:00:01.919Z"
   },
   {
    "duration": 204,
    "start_time": "2022-03-02T05:00:02.233Z"
   },
   {
    "duration": 54,
    "start_time": "2022-03-02T05:00:02.530Z"
   },
   {
    "duration": 51,
    "start_time": "2022-03-02T05:00:02.833Z"
   },
   {
    "duration": 23,
    "start_time": "2022-03-02T05:00:03.120Z"
   },
   {
    "duration": 20,
    "start_time": "2022-03-02T05:00:03.297Z"
   },
   {
    "duration": 19,
    "start_time": "2022-03-02T05:00:03.432Z"
   },
   {
    "duration": 11,
    "start_time": "2022-03-02T05:00:04.363Z"
   },
   {
    "duration": 64,
    "start_time": "2022-03-02T05:00:04.956Z"
   },
   {
    "duration": 9,
    "start_time": "2022-03-02T05:00:05.281Z"
   },
   {
    "duration": 65,
    "start_time": "2022-03-02T05:00:05.605Z"
   },
   {
    "duration": 87,
    "start_time": "2022-03-02T05:00:05.936Z"
   },
   {
    "duration": 157,
    "start_time": "2022-03-02T05:00:06.997Z"
   },
   {
    "duration": 109,
    "start_time": "2022-03-02T05:00:07.346Z"
   },
   {
    "duration": 78,
    "start_time": "2022-03-02T05:00:07.677Z"
   },
   {
    "duration": 3,
    "start_time": "2022-03-02T05:00:09.108Z"
   },
   {
    "duration": 6,
    "start_time": "2022-03-02T05:00:09.448Z"
   },
   {
    "duration": 11,
    "start_time": "2022-03-02T05:00:09.643Z"
   },
   {
    "duration": 6,
    "start_time": "2022-03-02T05:00:10.651Z"
   },
   {
    "duration": 42,
    "start_time": "2022-03-02T05:00:11.093Z"
   },
   {
    "duration": 6,
    "start_time": "2022-03-02T05:00:14.134Z"
   },
   {
    "duration": 10999,
    "start_time": "2022-03-02T05:00:19.552Z"
   },
   {
    "duration": 10,
    "start_time": "2022-03-02T05:00:33.185Z"
   },
   {
    "duration": 437,
    "start_time": "2022-03-02T05:00:51.227Z"
   },
   {
    "duration": 38,
    "start_time": "2022-03-02T05:00:51.752Z"
   },
   {
    "duration": 121,
    "start_time": "2022-03-02T05:00:52.074Z"
   },
   {
    "duration": 157,
    "start_time": "2022-03-02T05:00:52.378Z"
   },
   {
    "duration": 50,
    "start_time": "2022-03-02T05:00:52.666Z"
   },
   {
    "duration": 44,
    "start_time": "2022-03-02T05:00:52.969Z"
   },
   {
    "duration": 21,
    "start_time": "2022-03-02T05:00:53.268Z"
   },
   {
    "duration": 18,
    "start_time": "2022-03-02T05:00:53.428Z"
   },
   {
    "duration": 18,
    "start_time": "2022-03-02T05:00:53.583Z"
   },
   {
    "duration": 11,
    "start_time": "2022-03-02T05:00:54.540Z"
   },
   {
    "duration": 42,
    "start_time": "2022-03-02T05:00:54.858Z"
   },
   {
    "duration": 8,
    "start_time": "2022-03-02T05:00:55.202Z"
   },
   {
    "duration": 46,
    "start_time": "2022-03-02T05:00:55.537Z"
   },
   {
    "duration": 81,
    "start_time": "2022-03-02T05:00:55.853Z"
   },
   {
    "duration": 89,
    "start_time": "2022-03-02T05:00:56.866Z"
   },
   {
    "duration": 60,
    "start_time": "2022-03-02T05:00:57.198Z"
   },
   {
    "duration": 93,
    "start_time": "2022-03-02T05:00:57.561Z"
   },
   {
    "duration": 4,
    "start_time": "2022-03-02T05:00:59.140Z"
   },
   {
    "duration": 6,
    "start_time": "2022-03-02T05:00:59.562Z"
   },
   {
    "duration": 10,
    "start_time": "2022-03-02T05:00:59.792Z"
   },
   {
    "duration": 5,
    "start_time": "2022-03-02T05:01:00.751Z"
   },
   {
    "duration": 32,
    "start_time": "2022-03-02T05:01:00.967Z"
   },
   {
    "duration": 5,
    "start_time": "2022-03-02T05:01:02.426Z"
   },
   {
    "duration": 2841,
    "start_time": "2022-03-02T05:01:03.637Z"
   },
   {
    "duration": 5000,
    "start_time": "2022-03-02T05:01:08.508Z"
   },
   {
    "duration": 10,
    "start_time": "2022-03-02T05:01:18.996Z"
   },
   {
    "duration": 498,
    "start_time": "2022-03-02T05:51:04.231Z"
   },
   {
    "duration": 411,
    "start_time": "2022-03-02T05:51:13.928Z"
   },
   {
    "duration": 31,
    "start_time": "2022-03-02T05:51:14.615Z"
   },
   {
    "duration": 125,
    "start_time": "2022-03-02T05:51:14.944Z"
   },
   {
    "duration": 169,
    "start_time": "2022-03-02T05:51:15.268Z"
   },
   {
    "duration": 55,
    "start_time": "2022-03-02T05:51:15.583Z"
   },
   {
    "duration": 45,
    "start_time": "2022-03-02T05:51:16.108Z"
   },
   {
    "duration": 24,
    "start_time": "2022-03-02T05:51:16.431Z"
   },
   {
    "duration": 20,
    "start_time": "2022-03-02T05:51:16.590Z"
   },
   {
    "duration": 18,
    "start_time": "2022-03-02T05:51:16.766Z"
   },
   {
    "duration": 10,
    "start_time": "2022-03-02T05:51:17.766Z"
   },
   {
    "duration": 43,
    "start_time": "2022-03-02T05:51:18.086Z"
   },
   {
    "duration": 7,
    "start_time": "2022-03-02T05:51:18.464Z"
   },
   {
    "duration": 45,
    "start_time": "2022-03-02T05:51:18.802Z"
   },
   {
    "duration": 85,
    "start_time": "2022-03-02T05:51:19.154Z"
   },
   {
    "duration": 119,
    "start_time": "2022-03-02T05:51:20.433Z"
   },
   {
    "duration": 58,
    "start_time": "2022-03-02T05:51:20.798Z"
   },
   {
    "duration": 194,
    "start_time": "2022-03-02T05:51:21.157Z"
   },
   {
    "duration": 3,
    "start_time": "2022-03-02T05:51:22.407Z"
   },
   {
    "duration": 6,
    "start_time": "2022-03-02T05:51:22.784Z"
   },
   {
    "duration": 9,
    "start_time": "2022-03-02T05:51:23.012Z"
   },
   {
    "duration": 4,
    "start_time": "2022-03-02T05:51:23.882Z"
   },
   {
    "duration": 29,
    "start_time": "2022-03-02T05:51:24.281Z"
   },
   {
    "duration": 4,
    "start_time": "2022-03-02T05:51:25.501Z"
   },
   {
    "duration": 3046,
    "start_time": "2022-03-02T05:51:25.901Z"
   },
   {
    "duration": 9,
    "start_time": "2022-03-02T05:51:28.950Z"
   },
   {
    "duration": 1110,
    "start_time": "2022-03-02T15:35:31.567Z"
   },
   {
    "duration": 3,
    "start_time": "2022-03-02T15:35:32.679Z"
   },
   {
    "duration": 371,
    "start_time": "2022-03-02T15:35:32.683Z"
   },
   {
    "duration": 25,
    "start_time": "2022-03-02T15:35:33.063Z"
   },
   {
    "duration": 106,
    "start_time": "2022-03-02T15:35:33.090Z"
   },
   {
    "duration": 113,
    "start_time": "2022-03-02T15:35:33.198Z"
   },
   {
    "duration": 51,
    "start_time": "2022-03-02T15:35:33.312Z"
   },
   {
    "duration": 37,
    "start_time": "2022-03-02T15:35:33.365Z"
   },
   {
    "duration": 23,
    "start_time": "2022-03-02T15:35:33.404Z"
   },
   {
    "duration": 13,
    "start_time": "2022-03-02T15:35:33.428Z"
   },
   {
    "duration": 13,
    "start_time": "2022-03-02T15:35:33.463Z"
   },
   {
    "duration": 11,
    "start_time": "2022-03-02T15:35:45.458Z"
   },
   {
    "duration": 17,
    "start_time": "2022-03-02T15:36:26.403Z"
   },
   {
    "duration": 16,
    "start_time": "2022-03-02T15:36:32.930Z"
   },
   {
    "duration": 56,
    "start_time": "2022-03-02T15:36:44.586Z"
   },
   {
    "duration": 23,
    "start_time": "2022-03-02T16:34:26.554Z"
   },
   {
    "duration": 18,
    "start_time": "2022-03-02T16:36:07.425Z"
   },
   {
    "duration": 23,
    "start_time": "2022-03-02T16:36:34.634Z"
   },
   {
    "duration": 249,
    "start_time": "2022-03-02T16:40:01.226Z"
   },
   {
    "duration": 17484,
    "start_time": "2022-03-02T16:40:07.578Z"
   },
   {
    "duration": 17280,
    "start_time": "2022-03-02T16:41:04.018Z"
   },
   {
    "duration": 49433,
    "start_time": "2022-03-02T16:45:45.863Z"
   },
   {
    "duration": 51543,
    "start_time": "2022-03-02T16:48:36.013Z"
   },
   {
    "duration": 26,
    "start_time": "2022-03-02T16:58:48.325Z"
   },
   {
    "duration": 74431,
    "start_time": "2022-03-02T16:59:48.789Z"
   },
   {
    "duration": 158,
    "start_time": "2022-03-02T17:17:43.040Z"
   },
   {
    "duration": 25333,
    "start_time": "2022-03-02T17:18:25.056Z"
   },
   {
    "duration": 8,
    "start_time": "2022-03-02T17:30:06.748Z"
   },
   {
    "duration": 31,
    "start_time": "2022-03-02T17:30:08.101Z"
   },
   {
    "duration": 5,
    "start_time": "2022-03-02T17:30:09.572Z"
   },
   {
    "duration": 37,
    "start_time": "2022-03-02T17:30:11.012Z"
   },
   {
    "duration": 61,
    "start_time": "2022-03-02T17:30:13.307Z"
   },
   {
    "duration": 56,
    "start_time": "2022-03-02T17:30:37.812Z"
   },
   {
    "duration": 95,
    "start_time": "2022-03-02T17:30:40.172Z"
   },
   {
    "duration": 28,
    "start_time": "2022-03-02T17:30:42.660Z"
   },
   {
    "duration": 278,
    "start_time": "2022-03-02T17:43:49.936Z"
   },
   {
    "duration": 236,
    "start_time": "2022-03-02T17:44:00.735Z"
   },
   {
    "duration": 241,
    "start_time": "2022-03-02T17:44:22.769Z"
   },
   {
    "duration": 224,
    "start_time": "2022-03-02T17:44:46.191Z"
   },
   {
    "duration": 292,
    "start_time": "2022-03-02T17:44:59.384Z"
   },
   {
    "duration": 619,
    "start_time": "2022-03-02T17:45:08.948Z"
   },
   {
    "duration": 466,
    "start_time": "2022-03-02T17:46:09.120Z"
   },
   {
    "duration": 207,
    "start_time": "2022-03-02T17:47:25.359Z"
   },
   {
    "duration": 562,
    "start_time": "2022-03-02T17:48:00.903Z"
   },
   {
    "duration": 536,
    "start_time": "2022-03-02T17:48:26.527Z"
   },
   {
    "duration": 3,
    "start_time": "2022-03-02T17:48:29.894Z"
   },
   {
    "duration": 3,
    "start_time": "2022-03-02T17:48:48.853Z"
   },
   {
    "duration": 162,
    "start_time": "2022-03-02T17:48:53.266Z"
   },
   {
    "duration": 4,
    "start_time": "2022-03-02T17:49:04.150Z"
   },
   {
    "duration": 351,
    "start_time": "2022-03-02T17:50:02.118Z"
   },
   {
    "duration": 404,
    "start_time": "2022-03-02T17:50:08.878Z"
   },
   {
    "duration": 4,
    "start_time": "2022-03-02T17:50:20.244Z"
   },
   {
    "duration": 7,
    "start_time": "2022-03-02T17:50:42.628Z"
   },
   {
    "duration": 5,
    "start_time": "2022-03-02T17:50:56.517Z"
   },
   {
    "duration": 6,
    "start_time": "2022-03-02T17:51:00.340Z"
   },
   {
    "duration": 5,
    "start_time": "2022-03-02T17:51:09.685Z"
   },
   {
    "duration": 5,
    "start_time": "2022-03-02T18:01:38.570Z"
   },
   {
    "duration": 5,
    "start_time": "2022-03-02T18:01:49.458Z"
   },
   {
    "duration": 6,
    "start_time": "2022-03-02T18:02:04.385Z"
   },
   {
    "duration": 483,
    "start_time": "2022-03-02T18:03:16.506Z"
   },
   {
    "duration": 542,
    "start_time": "2022-03-02T18:03:30.122Z"
   },
   {
    "duration": 503,
    "start_time": "2022-03-02T18:04:03.161Z"
   },
   {
    "duration": 484,
    "start_time": "2022-03-02T18:05:41.979Z"
   },
   {
    "duration": 6,
    "start_time": "2022-03-02T18:05:50.656Z"
   },
   {
    "duration": 6,
    "start_time": "2022-03-02T18:05:53.896Z"
   },
   {
    "duration": 455,
    "start_time": "2022-03-02T18:06:49.433Z"
   },
   {
    "duration": 7,
    "start_time": "2022-03-02T18:06:53.724Z"
   },
   {
    "duration": 6,
    "start_time": "2022-03-02T18:07:02.729Z"
   },
   {
    "duration": 6,
    "start_time": "2022-03-02T18:07:08.840Z"
   },
   {
    "duration": 5,
    "start_time": "2022-03-02T18:07:31.553Z"
   },
   {
    "duration": 5,
    "start_time": "2022-03-02T18:07:39.953Z"
   },
   {
    "duration": 5,
    "start_time": "2022-03-02T18:08:03.240Z"
   },
   {
    "duration": 5,
    "start_time": "2022-03-02T18:08:07.680Z"
   },
   {
    "duration": 566,
    "start_time": "2022-03-02T18:14:19.400Z"
   },
   {
    "duration": 531,
    "start_time": "2022-03-02T18:18:00.831Z"
   },
   {
    "duration": 425,
    "start_time": "2022-03-02T18:22:09.670Z"
   },
   {
    "duration": 3,
    "start_time": "2022-03-02T18:22:13.485Z"
   },
   {
    "duration": 5,
    "start_time": "2022-03-02T18:22:14.765Z"
   },
   {
    "duration": 9,
    "start_time": "2022-03-02T18:22:16.221Z"
   },
   {
    "duration": 4,
    "start_time": "2022-03-02T18:22:24.403Z"
   },
   {
    "duration": 26,
    "start_time": "2022-03-02T18:22:26.252Z"
   },
   {
    "duration": 4,
    "start_time": "2022-03-02T18:22:31.397Z"
   },
   {
    "duration": 1822,
    "start_time": "2022-03-02T18:22:39.012Z"
   },
   {
    "duration": 8,
    "start_time": "2022-03-02T18:25:43.740Z"
   },
   {
    "duration": 203,
    "start_time": "2022-03-02T18:26:26.029Z"
   },
   {
    "duration": 1961,
    "start_time": "2022-03-02T18:26:30.668Z"
   },
   {
    "duration": 8,
    "start_time": "2022-03-02T18:26:35.164Z"
   },
   {
    "duration": 1956,
    "start_time": "2022-03-02T18:26:44.267Z"
   },
   {
    "duration": 7,
    "start_time": "2022-03-02T18:27:06.508Z"
   },
   {
    "duration": 10,
    "start_time": "2022-03-02T18:28:29.868Z"
   },
   {
    "duration": 521,
    "start_time": "2022-03-02T18:43:44.143Z"
   },
   {
    "duration": 3,
    "start_time": "2022-03-02T18:43:49.775Z"
   },
   {
    "duration": 522,
    "start_time": "2022-03-02T18:45:04.143Z"
   },
   {
    "duration": 4,
    "start_time": "2022-03-02T18:45:10.325Z"
   },
   {
    "duration": 2,
    "start_time": "2022-03-02T18:48:29.709Z"
   },
   {
    "duration": 5,
    "start_time": "2022-03-02T18:48:30.997Z"
   },
   {
    "duration": 7,
    "start_time": "2022-03-02T18:48:32.149Z"
   },
   {
    "duration": 4,
    "start_time": "2022-03-02T18:48:33.701Z"
   },
   {
    "duration": 21,
    "start_time": "2022-03-02T18:48:34.855Z"
   },
   {
    "duration": 3,
    "start_time": "2022-03-02T18:48:36.997Z"
   },
   {
    "duration": 2005,
    "start_time": "2022-03-02T18:48:38.237Z"
   },
   {
    "duration": 9,
    "start_time": "2022-03-02T18:48:41.670Z"
   },
   {
    "duration": 2128,
    "start_time": "2022-03-02T18:48:44.469Z"
   },
   {
    "duration": 8,
    "start_time": "2022-03-02T18:48:47.726Z"
   },
   {
    "duration": 1843,
    "start_time": "2022-03-02T18:48:49.205Z"
   },
   {
    "duration": 8,
    "start_time": "2022-03-02T18:48:53.892Z"
   },
   {
    "duration": 12,
    "start_time": "2022-03-02T18:49:04.998Z"
   }
  ],
  "kernelspec": {
   "display_name": "Python 3 (ipykernel)",
   "language": "python",
   "name": "python3"
  },
  "language_info": {
   "codemirror_mode": {
    "name": "ipython",
    "version": 3
   },
   "file_extension": ".py",
   "mimetype": "text/x-python",
   "name": "python",
   "nbconvert_exporter": "python",
   "pygments_lexer": "ipython3",
   "version": "3.9.7"
  },
  "toc": {
   "base_numbering": 1,
   "nav_menu": {},
   "number_sections": true,
   "sideBar": true,
   "skip_h1_title": true,
   "title_cell": "Table of Contents",
   "title_sidebar": "Contents",
   "toc_cell": false,
   "toc_position": {},
   "toc_section_display": true,
   "toc_window_display": true
  }
 },
 "nbformat": 4,
 "nbformat_minor": 2
}
