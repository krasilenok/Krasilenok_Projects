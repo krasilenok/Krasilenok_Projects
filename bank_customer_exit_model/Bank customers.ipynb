{
 "cells": [
  {
   "cell_type": "markdown",
   "metadata": {},
   "source": [
    "# Модель оттока клиентов банка"
   ]
  },
  {
   "cell_type": "markdown",
   "metadata": {},
   "source": [
    "Из «Бета-Банка» ежемесячно стали уходить клиенты. Количество ушедших клиентов небольшое, но заметное. Маркетинговая служба банка сделала расчеты, которые показали, что сохранять текущих клиентов дешевле, чем привлекать новых.\n",
    "\n",
    "*Компания поставила задачу*: нужно спрогнозировать, уйдёт клиент из банка в ближайшее время или нет.\n",
    "\n",
    "**Цель исследования**: на основе исторических данных о поведении клиентов и расторжении договоров построить модель, которая будет предсказывать уход клиента.\n",
    "\n",
    "*Критерии для построения модели*: необходимо выбрать модель с предельно большим значением *F1*-меры (не менее 0.59). Дополнительно следует замерять *AUC-ROC*, сравнивая её значение с *F1*-мерой.\n",
    "\n",
    "*Исторические данные о поведении клиентов и расторжении договоров с банком содержат следующие признаки:*\n",
    "\n",
    "- RowNumber — индекс строки в данных\n",
    "- CustomerId — уникальный идентификатор клиента\n",
    "- Surname — фамилия\n",
    "- CreditScore — кредитный рейтинг\n",
    "- Geography — страна проживания\n",
    "- Gender — пол\n",
    "- Age — возраст\n",
    "- Tenure — сколько лет человек является клиентом банка\n",
    "- Balance — баланс на счёте\n",
    "- NumOfProducts — количество продуктов банка, используемых клиентом\n",
    "- HasCrCard — наличие кредитной карты\n",
    "- IsActiveMember — активность клиента\n",
    "- EstimatedSalary — предполагаемая зарплата\n",
    "- Exited — факт ухода клиента (*целевой признак*)\n",
    "\n",
    "Источник данных: [https://www.kaggle.com/barelydedicated/bank-customer-churn-modeling](https://www.kaggle.com/barelydedicated/bank-customer-churn-modeling)"
   ]
  },
  {
   "cell_type": "markdown",
   "metadata": {},
   "source": [
    "## 1. Подготовка данных"
   ]
  },
  {
   "cell_type": "markdown",
   "metadata": {},
   "source": [
    "### 1.1. Изучение данных"
   ]
  },
  {
   "cell_type": "code",
   "execution_count": 145,
   "metadata": {},
   "outputs": [],
   "source": [
    "# импорт библиотек\n",
    "import pandas as pd\n",
    "import matplotlib.pyplot as plt\n",
    "import numpy as np\n",
    "from sklearn.tree import DecisionTreeClassifier\n",
    "from sklearn.ensemble import RandomForestClassifier\n",
    "from sklearn.linear_model import LogisticRegression\n",
    "from sklearn.model_selection import train_test_split\n",
    "from sklearn.metrics import f1_score\n",
    "from sklearn.dummy import DummyClassifier\n",
    "from sklearn.preprocessing import StandardScaler \n",
    "from sklearn.metrics import f1_score, roc_curve, roc_auc_score, precision_recall_curve\n",
    "from sklearn.metrics import accuracy_score, precision_score, recall_score\n",
    "from sklearn.utils import shuffle\n",
    "from io import BytesIO\n",
    "import requests\n",
    "import warnings\n",
    "warnings.filterwarnings('ignore')\n",
    "pd.options.mode.chained_assignment = None"
   ]
  },
  {
   "cell_type": "code",
   "execution_count": 146,
   "metadata": {},
   "outputs": [],
   "source": [
    "# зададим отображение количества столбцов датафрейма\n",
    "pd.options.display.max_columns = 100\n",
    "\n",
    "# зададим формат отображения дробных чисел\n",
    "pd.options.display.float_format = '{:,.2f}'.format"
   ]
  },
  {
   "cell_type": "markdown",
   "metadata": {},
   "source": [
    "Загрузим данные, посмотрим общую информацию и выведем на экран первые 10 строк:"
   ]
  },
  {
   "cell_type": "code",
   "execution_count": 147,
   "metadata": {
    "scrolled": true
   },
   "outputs": [
    {
     "name": "stdout",
     "output_type": "stream",
     "text": [
      "<class 'pandas.core.frame.DataFrame'>\n",
      "RangeIndex: 10000 entries, 0 to 9999\n",
      "Data columns (total 14 columns):\n",
      "RowNumber          10000 non-null int64\n",
      "CustomerId         10000 non-null int64\n",
      "Surname            10000 non-null object\n",
      "CreditScore        10000 non-null int64\n",
      "Geography          10000 non-null object\n",
      "Gender             10000 non-null object\n",
      "Age                10000 non-null int64\n",
      "Tenure             9091 non-null float64\n",
      "Balance            10000 non-null float64\n",
      "NumOfProducts      10000 non-null int64\n",
      "HasCrCard          10000 non-null int64\n",
      "IsActiveMember     10000 non-null int64\n",
      "EstimatedSalary    10000 non-null float64\n",
      "Exited             10000 non-null int64\n",
      "dtypes: float64(3), int64(8), object(3)\n",
      "memory usage: 1.1+ MB\n"
     ]
    }
   ],
   "source": [
    "df = pd.read_csv('/datasets/Churn.csv')\n",
    "df.info()"
   ]
  },
  {
   "cell_type": "code",
   "execution_count": 148,
   "metadata": {
    "scrolled": true
   },
   "outputs": [
    {
     "data": {
      "text/html": [
       "<div>\n",
       "<style scoped>\n",
       "    .dataframe tbody tr th:only-of-type {\n",
       "        vertical-align: middle;\n",
       "    }\n",
       "\n",
       "    .dataframe tbody tr th {\n",
       "        vertical-align: top;\n",
       "    }\n",
       "\n",
       "    .dataframe thead th {\n",
       "        text-align: right;\n",
       "    }\n",
       "</style>\n",
       "<table border=\"1\" class=\"dataframe\">\n",
       "  <thead>\n",
       "    <tr style=\"text-align: right;\">\n",
       "      <th></th>\n",
       "      <th>RowNumber</th>\n",
       "      <th>CustomerId</th>\n",
       "      <th>Surname</th>\n",
       "      <th>CreditScore</th>\n",
       "      <th>Geography</th>\n",
       "      <th>Gender</th>\n",
       "      <th>Age</th>\n",
       "      <th>Tenure</th>\n",
       "      <th>Balance</th>\n",
       "      <th>NumOfProducts</th>\n",
       "      <th>HasCrCard</th>\n",
       "      <th>IsActiveMember</th>\n",
       "      <th>EstimatedSalary</th>\n",
       "      <th>Exited</th>\n",
       "    </tr>\n",
       "  </thead>\n",
       "  <tbody>\n",
       "    <tr>\n",
       "      <td>0</td>\n",
       "      <td>1</td>\n",
       "      <td>15634602</td>\n",
       "      <td>Hargrave</td>\n",
       "      <td>619</td>\n",
       "      <td>France</td>\n",
       "      <td>Female</td>\n",
       "      <td>42</td>\n",
       "      <td>2.00</td>\n",
       "      <td>0.00</td>\n",
       "      <td>1</td>\n",
       "      <td>1</td>\n",
       "      <td>1</td>\n",
       "      <td>101,348.88</td>\n",
       "      <td>1</td>\n",
       "    </tr>\n",
       "    <tr>\n",
       "      <td>1</td>\n",
       "      <td>2</td>\n",
       "      <td>15647311</td>\n",
       "      <td>Hill</td>\n",
       "      <td>608</td>\n",
       "      <td>Spain</td>\n",
       "      <td>Female</td>\n",
       "      <td>41</td>\n",
       "      <td>1.00</td>\n",
       "      <td>83,807.86</td>\n",
       "      <td>1</td>\n",
       "      <td>0</td>\n",
       "      <td>1</td>\n",
       "      <td>112,542.58</td>\n",
       "      <td>0</td>\n",
       "    </tr>\n",
       "    <tr>\n",
       "      <td>2</td>\n",
       "      <td>3</td>\n",
       "      <td>15619304</td>\n",
       "      <td>Onio</td>\n",
       "      <td>502</td>\n",
       "      <td>France</td>\n",
       "      <td>Female</td>\n",
       "      <td>42</td>\n",
       "      <td>8.00</td>\n",
       "      <td>159,660.80</td>\n",
       "      <td>3</td>\n",
       "      <td>1</td>\n",
       "      <td>0</td>\n",
       "      <td>113,931.57</td>\n",
       "      <td>1</td>\n",
       "    </tr>\n",
       "    <tr>\n",
       "      <td>3</td>\n",
       "      <td>4</td>\n",
       "      <td>15701354</td>\n",
       "      <td>Boni</td>\n",
       "      <td>699</td>\n",
       "      <td>France</td>\n",
       "      <td>Female</td>\n",
       "      <td>39</td>\n",
       "      <td>1.00</td>\n",
       "      <td>0.00</td>\n",
       "      <td>2</td>\n",
       "      <td>0</td>\n",
       "      <td>0</td>\n",
       "      <td>93,826.63</td>\n",
       "      <td>0</td>\n",
       "    </tr>\n",
       "    <tr>\n",
       "      <td>4</td>\n",
       "      <td>5</td>\n",
       "      <td>15737888</td>\n",
       "      <td>Mitchell</td>\n",
       "      <td>850</td>\n",
       "      <td>Spain</td>\n",
       "      <td>Female</td>\n",
       "      <td>43</td>\n",
       "      <td>2.00</td>\n",
       "      <td>125,510.82</td>\n",
       "      <td>1</td>\n",
       "      <td>1</td>\n",
       "      <td>1</td>\n",
       "      <td>79,084.10</td>\n",
       "      <td>0</td>\n",
       "    </tr>\n",
       "    <tr>\n",
       "      <td>5</td>\n",
       "      <td>6</td>\n",
       "      <td>15574012</td>\n",
       "      <td>Chu</td>\n",
       "      <td>645</td>\n",
       "      <td>Spain</td>\n",
       "      <td>Male</td>\n",
       "      <td>44</td>\n",
       "      <td>8.00</td>\n",
       "      <td>113,755.78</td>\n",
       "      <td>2</td>\n",
       "      <td>1</td>\n",
       "      <td>0</td>\n",
       "      <td>149,756.71</td>\n",
       "      <td>1</td>\n",
       "    </tr>\n",
       "    <tr>\n",
       "      <td>6</td>\n",
       "      <td>7</td>\n",
       "      <td>15592531</td>\n",
       "      <td>Bartlett</td>\n",
       "      <td>822</td>\n",
       "      <td>France</td>\n",
       "      <td>Male</td>\n",
       "      <td>50</td>\n",
       "      <td>7.00</td>\n",
       "      <td>0.00</td>\n",
       "      <td>2</td>\n",
       "      <td>1</td>\n",
       "      <td>1</td>\n",
       "      <td>10,062.80</td>\n",
       "      <td>0</td>\n",
       "    </tr>\n",
       "    <tr>\n",
       "      <td>7</td>\n",
       "      <td>8</td>\n",
       "      <td>15656148</td>\n",
       "      <td>Obinna</td>\n",
       "      <td>376</td>\n",
       "      <td>Germany</td>\n",
       "      <td>Female</td>\n",
       "      <td>29</td>\n",
       "      <td>4.00</td>\n",
       "      <td>115,046.74</td>\n",
       "      <td>4</td>\n",
       "      <td>1</td>\n",
       "      <td>0</td>\n",
       "      <td>119,346.88</td>\n",
       "      <td>1</td>\n",
       "    </tr>\n",
       "    <tr>\n",
       "      <td>8</td>\n",
       "      <td>9</td>\n",
       "      <td>15792365</td>\n",
       "      <td>He</td>\n",
       "      <td>501</td>\n",
       "      <td>France</td>\n",
       "      <td>Male</td>\n",
       "      <td>44</td>\n",
       "      <td>4.00</td>\n",
       "      <td>142,051.07</td>\n",
       "      <td>2</td>\n",
       "      <td>0</td>\n",
       "      <td>1</td>\n",
       "      <td>74,940.50</td>\n",
       "      <td>0</td>\n",
       "    </tr>\n",
       "    <tr>\n",
       "      <td>9</td>\n",
       "      <td>10</td>\n",
       "      <td>15592389</td>\n",
       "      <td>H?</td>\n",
       "      <td>684</td>\n",
       "      <td>France</td>\n",
       "      <td>Male</td>\n",
       "      <td>27</td>\n",
       "      <td>2.00</td>\n",
       "      <td>134,603.88</td>\n",
       "      <td>1</td>\n",
       "      <td>1</td>\n",
       "      <td>1</td>\n",
       "      <td>71,725.73</td>\n",
       "      <td>0</td>\n",
       "    </tr>\n",
       "  </tbody>\n",
       "</table>\n",
       "</div>"
      ],
      "text/plain": [
       "   RowNumber  CustomerId   Surname  CreditScore Geography  Gender  Age  \\\n",
       "0          1    15634602  Hargrave          619    France  Female   42   \n",
       "1          2    15647311      Hill          608     Spain  Female   41   \n",
       "2          3    15619304      Onio          502    France  Female   42   \n",
       "3          4    15701354      Boni          699    France  Female   39   \n",
       "4          5    15737888  Mitchell          850     Spain  Female   43   \n",
       "5          6    15574012       Chu          645     Spain    Male   44   \n",
       "6          7    15592531  Bartlett          822    France    Male   50   \n",
       "7          8    15656148    Obinna          376   Germany  Female   29   \n",
       "8          9    15792365        He          501    France    Male   44   \n",
       "9         10    15592389        H?          684    France    Male   27   \n",
       "\n",
       "   Tenure    Balance  NumOfProducts  HasCrCard  IsActiveMember  \\\n",
       "0    2.00       0.00              1          1               1   \n",
       "1    1.00  83,807.86              1          0               1   \n",
       "2    8.00 159,660.80              3          1               0   \n",
       "3    1.00       0.00              2          0               0   \n",
       "4    2.00 125,510.82              1          1               1   \n",
       "5    8.00 113,755.78              2          1               0   \n",
       "6    7.00       0.00              2          1               1   \n",
       "7    4.00 115,046.74              4          1               0   \n",
       "8    4.00 142,051.07              2          0               1   \n",
       "9    2.00 134,603.88              1          1               1   \n",
       "\n",
       "   EstimatedSalary  Exited  \n",
       "0       101,348.88       1  \n",
       "1       112,542.58       0  \n",
       "2       113,931.57       1  \n",
       "3        93,826.63       0  \n",
       "4        79,084.10       0  \n",
       "5       149,756.71       1  \n",
       "6        10,062.80       0  \n",
       "7       119,346.88       1  \n",
       "8        74,940.50       0  \n",
       "9        71,725.73       0  "
      ]
     },
     "execution_count": 148,
     "metadata": {},
     "output_type": "execute_result"
    }
   ],
   "source": [
    "df.head(10)"
   ]
  },
  {
   "cell_type": "markdown",
   "metadata": {},
   "source": [
    "Выведем описательную статистику по числовым данным датафрейма:"
   ]
  },
  {
   "cell_type": "code",
   "execution_count": 149,
   "metadata": {
    "scrolled": false
   },
   "outputs": [
    {
     "data": {
      "text/html": [
       "<div>\n",
       "<style scoped>\n",
       "    .dataframe tbody tr th:only-of-type {\n",
       "        vertical-align: middle;\n",
       "    }\n",
       "\n",
       "    .dataframe tbody tr th {\n",
       "        vertical-align: top;\n",
       "    }\n",
       "\n",
       "    .dataframe thead th {\n",
       "        text-align: right;\n",
       "    }\n",
       "</style>\n",
       "<table border=\"1\" class=\"dataframe\">\n",
       "  <thead>\n",
       "    <tr style=\"text-align: right;\">\n",
       "      <th></th>\n",
       "      <th>count</th>\n",
       "      <th>mean</th>\n",
       "      <th>std</th>\n",
       "      <th>min</th>\n",
       "      <th>25%</th>\n",
       "      <th>50%</th>\n",
       "      <th>75%</th>\n",
       "      <th>max</th>\n",
       "    </tr>\n",
       "  </thead>\n",
       "  <tbody>\n",
       "    <tr>\n",
       "      <td>RowNumber</td>\n",
       "      <td>10,000.00</td>\n",
       "      <td>5,000.50</td>\n",
       "      <td>2,886.90</td>\n",
       "      <td>1.00</td>\n",
       "      <td>2,500.75</td>\n",
       "      <td>5,000.50</td>\n",
       "      <td>7,500.25</td>\n",
       "      <td>10,000.00</td>\n",
       "    </tr>\n",
       "    <tr>\n",
       "      <td>CustomerId</td>\n",
       "      <td>10,000.00</td>\n",
       "      <td>15,690,940.57</td>\n",
       "      <td>71,936.19</td>\n",
       "      <td>15,565,701.00</td>\n",
       "      <td>15,628,528.25</td>\n",
       "      <td>15,690,738.00</td>\n",
       "      <td>15,753,233.75</td>\n",
       "      <td>15,815,690.00</td>\n",
       "    </tr>\n",
       "    <tr>\n",
       "      <td>CreditScore</td>\n",
       "      <td>10,000.00</td>\n",
       "      <td>650.53</td>\n",
       "      <td>96.65</td>\n",
       "      <td>350.00</td>\n",
       "      <td>584.00</td>\n",
       "      <td>652.00</td>\n",
       "      <td>718.00</td>\n",
       "      <td>850.00</td>\n",
       "    </tr>\n",
       "    <tr>\n",
       "      <td>Age</td>\n",
       "      <td>10,000.00</td>\n",
       "      <td>38.92</td>\n",
       "      <td>10.49</td>\n",
       "      <td>18.00</td>\n",
       "      <td>32.00</td>\n",
       "      <td>37.00</td>\n",
       "      <td>44.00</td>\n",
       "      <td>92.00</td>\n",
       "    </tr>\n",
       "    <tr>\n",
       "      <td>Tenure</td>\n",
       "      <td>9,091.00</td>\n",
       "      <td>5.00</td>\n",
       "      <td>2.89</td>\n",
       "      <td>0.00</td>\n",
       "      <td>2.00</td>\n",
       "      <td>5.00</td>\n",
       "      <td>7.00</td>\n",
       "      <td>10.00</td>\n",
       "    </tr>\n",
       "    <tr>\n",
       "      <td>Balance</td>\n",
       "      <td>10,000.00</td>\n",
       "      <td>76,485.89</td>\n",
       "      <td>62,397.41</td>\n",
       "      <td>0.00</td>\n",
       "      <td>0.00</td>\n",
       "      <td>97,198.54</td>\n",
       "      <td>127,644.24</td>\n",
       "      <td>250,898.09</td>\n",
       "    </tr>\n",
       "    <tr>\n",
       "      <td>NumOfProducts</td>\n",
       "      <td>10,000.00</td>\n",
       "      <td>1.53</td>\n",
       "      <td>0.58</td>\n",
       "      <td>1.00</td>\n",
       "      <td>1.00</td>\n",
       "      <td>1.00</td>\n",
       "      <td>2.00</td>\n",
       "      <td>4.00</td>\n",
       "    </tr>\n",
       "    <tr>\n",
       "      <td>HasCrCard</td>\n",
       "      <td>10,000.00</td>\n",
       "      <td>0.71</td>\n",
       "      <td>0.46</td>\n",
       "      <td>0.00</td>\n",
       "      <td>0.00</td>\n",
       "      <td>1.00</td>\n",
       "      <td>1.00</td>\n",
       "      <td>1.00</td>\n",
       "    </tr>\n",
       "    <tr>\n",
       "      <td>IsActiveMember</td>\n",
       "      <td>10,000.00</td>\n",
       "      <td>0.52</td>\n",
       "      <td>0.50</td>\n",
       "      <td>0.00</td>\n",
       "      <td>0.00</td>\n",
       "      <td>1.00</td>\n",
       "      <td>1.00</td>\n",
       "      <td>1.00</td>\n",
       "    </tr>\n",
       "    <tr>\n",
       "      <td>EstimatedSalary</td>\n",
       "      <td>10,000.00</td>\n",
       "      <td>100,090.24</td>\n",
       "      <td>57,510.49</td>\n",
       "      <td>11.58</td>\n",
       "      <td>51,002.11</td>\n",
       "      <td>100,193.91</td>\n",
       "      <td>149,388.25</td>\n",
       "      <td>199,992.48</td>\n",
       "    </tr>\n",
       "    <tr>\n",
       "      <td>Exited</td>\n",
       "      <td>10,000.00</td>\n",
       "      <td>0.20</td>\n",
       "      <td>0.40</td>\n",
       "      <td>0.00</td>\n",
       "      <td>0.00</td>\n",
       "      <td>0.00</td>\n",
       "      <td>0.00</td>\n",
       "      <td>1.00</td>\n",
       "    </tr>\n",
       "  </tbody>\n",
       "</table>\n",
       "</div>"
      ],
      "text/plain": [
       "                    count          mean       std           min           25%  \\\n",
       "RowNumber       10,000.00      5,000.50  2,886.90          1.00      2,500.75   \n",
       "CustomerId      10,000.00 15,690,940.57 71,936.19 15,565,701.00 15,628,528.25   \n",
       "CreditScore     10,000.00        650.53     96.65        350.00        584.00   \n",
       "Age             10,000.00         38.92     10.49         18.00         32.00   \n",
       "Tenure           9,091.00          5.00      2.89          0.00          2.00   \n",
       "Balance         10,000.00     76,485.89 62,397.41          0.00          0.00   \n",
       "NumOfProducts   10,000.00          1.53      0.58          1.00          1.00   \n",
       "HasCrCard       10,000.00          0.71      0.46          0.00          0.00   \n",
       "IsActiveMember  10,000.00          0.52      0.50          0.00          0.00   \n",
       "EstimatedSalary 10,000.00    100,090.24 57,510.49         11.58     51,002.11   \n",
       "Exited          10,000.00          0.20      0.40          0.00          0.00   \n",
       "\n",
       "                          50%           75%           max  \n",
       "RowNumber            5,000.50      7,500.25     10,000.00  \n",
       "CustomerId      15,690,738.00 15,753,233.75 15,815,690.00  \n",
       "CreditScore            652.00        718.00        850.00  \n",
       "Age                     37.00         44.00         92.00  \n",
       "Tenure                   5.00          7.00         10.00  \n",
       "Balance             97,198.54    127,644.24    250,898.09  \n",
       "NumOfProducts            1.00          2.00          4.00  \n",
       "HasCrCard                1.00          1.00          1.00  \n",
       "IsActiveMember           1.00          1.00          1.00  \n",
       "EstimatedSalary    100,193.91    149,388.25    199,992.48  \n",
       "Exited                   0.00          0.00          1.00  "
      ]
     },
     "execution_count": 149,
     "metadata": {},
     "output_type": "execute_result"
    }
   ],
   "source": [
    "df.describe().T"
   ]
  },
  {
   "cell_type": "markdown",
   "metadata": {},
   "source": [
    "Посмотрим на соотношение мужчин и женщин в данных по странам (в процентных пунктах):"
   ]
  },
  {
   "cell_type": "code",
   "execution_count": 150,
   "metadata": {
    "scrolled": true
   },
   "outputs": [
    {
     "data": {
      "text/html": [
       "<div>\n",
       "<style scoped>\n",
       "    .dataframe tbody tr th:only-of-type {\n",
       "        vertical-align: middle;\n",
       "    }\n",
       "\n",
       "    .dataframe tbody tr th {\n",
       "        vertical-align: top;\n",
       "    }\n",
       "\n",
       "    .dataframe thead th {\n",
       "        text-align: right;\n",
       "    }\n",
       "</style>\n",
       "<table border=\"1\" class=\"dataframe\">\n",
       "  <thead>\n",
       "    <tr style=\"text-align: right;\">\n",
       "      <th>Gender</th>\n",
       "      <th>Female</th>\n",
       "      <th>Male</th>\n",
       "      <th>Total</th>\n",
       "    </tr>\n",
       "    <tr>\n",
       "      <th>Geography</th>\n",
       "      <th></th>\n",
       "      <th></th>\n",
       "      <th></th>\n",
       "    </tr>\n",
       "  </thead>\n",
       "  <tbody>\n",
       "    <tr>\n",
       "      <td>France</td>\n",
       "      <td>22.61</td>\n",
       "      <td>27.53</td>\n",
       "      <td>50.14</td>\n",
       "    </tr>\n",
       "    <tr>\n",
       "      <td>Germany</td>\n",
       "      <td>11.93</td>\n",
       "      <td>13.16</td>\n",
       "      <td>25.09</td>\n",
       "    </tr>\n",
       "    <tr>\n",
       "      <td>Spain</td>\n",
       "      <td>10.89</td>\n",
       "      <td>13.88</td>\n",
       "      <td>24.77</td>\n",
       "    </tr>\n",
       "    <tr>\n",
       "      <td>Total</td>\n",
       "      <td>45.43</td>\n",
       "      <td>54.57</td>\n",
       "      <td>100.00</td>\n",
       "    </tr>\n",
       "  </tbody>\n",
       "</table>\n",
       "</div>"
      ],
      "text/plain": [
       "Gender     Female  Male  Total\n",
       "Geography                     \n",
       "France      22.61 27.53  50.14\n",
       "Germany     11.93 13.16  25.09\n",
       "Spain       10.89 13.88  24.77\n",
       "Total       45.43 54.57 100.00"
      ]
     },
     "execution_count": 150,
     "metadata": {},
     "output_type": "execute_result"
    }
   ],
   "source": [
    "df.pivot_table(index='Geography', columns = 'Gender', \n",
    "               values='RowNumber', aggfunc = 'count', margins = True, margins_name = 'Total')/len(df)*100"
   ]
  },
  {
   "cell_type": "markdown",
   "metadata": {},
   "source": [
    "Рассмотрим данные о доле клиентов с кредитными картами:"
   ]
  },
  {
   "cell_type": "code",
   "execution_count": 151,
   "metadata": {
    "scrolled": true
   },
   "outputs": [
    {
     "name": "stdout",
     "output_type": "stream",
     "text": [
      "Доля держателей кредитных карт среди женщин: 0.7026194144838213\n",
      "Доля держателей кредитных карт среди мужчин: 0.7078981125160344\n"
     ]
    }
   ],
   "source": [
    "print('Доля держателей кредитных карт среди женщин:', df.query('Gender == \"Female\"')['HasCrCard'].mean())\n",
    "print('Доля держателей кредитных карт среди мужчин:', df.query('Gender == \"Male\"')['HasCrCard'].mean())"
   ]
  },
  {
   "cell_type": "markdown",
   "metadata": {},
   "source": [
    "Рассмотрим данные о доле активных клиентов банка:"
   ]
  },
  {
   "cell_type": "code",
   "execution_count": 152,
   "metadata": {
    "scrolled": true
   },
   "outputs": [
    {
     "name": "stdout",
     "output_type": "stream",
     "text": [
      "Доля активных клиентов среди женщин: 0.5027514858023333\n",
      "Доля активных клиентов среди мужчин: 0.5253802455561664\n"
     ]
    }
   ],
   "source": [
    "print('Доля активных клиентов среди женщин:', df.query('Gender == \"Female\"')['IsActiveMember'].mean())\n",
    "print('Доля активных клиентов среди мужчин:', df.query('Gender == \"Male\"')['IsActiveMember'].mean())"
   ]
  },
  {
   "cell_type": "markdown",
   "metadata": {},
   "source": [
    "Посмотрим, как распределены доли ушедших клиентов среди мужчин и женщин (в процентных пунктах):"
   ]
  },
  {
   "cell_type": "code",
   "execution_count": 153,
   "metadata": {},
   "outputs": [
    {
     "data": {
      "text/html": [
       "<div>\n",
       "<style scoped>\n",
       "    .dataframe tbody tr th:only-of-type {\n",
       "        vertical-align: middle;\n",
       "    }\n",
       "\n",
       "    .dataframe tbody tr th {\n",
       "        vertical-align: top;\n",
       "    }\n",
       "\n",
       "    .dataframe thead th {\n",
       "        text-align: right;\n",
       "    }\n",
       "</style>\n",
       "<table border=\"1\" class=\"dataframe\">\n",
       "  <thead>\n",
       "    <tr style=\"text-align: right;\">\n",
       "      <th></th>\n",
       "      <th>Exited</th>\n",
       "    </tr>\n",
       "    <tr>\n",
       "      <th>Gender</th>\n",
       "      <th></th>\n",
       "    </tr>\n",
       "  </thead>\n",
       "  <tbody>\n",
       "    <tr>\n",
       "      <td>Female</td>\n",
       "      <td>25.07</td>\n",
       "    </tr>\n",
       "    <tr>\n",
       "      <td>Male</td>\n",
       "      <td>16.46</td>\n",
       "    </tr>\n",
       "    <tr>\n",
       "      <td>Total</td>\n",
       "      <td>20.37</td>\n",
       "    </tr>\n",
       "  </tbody>\n",
       "</table>\n",
       "</div>"
      ],
      "text/plain": [
       "        Exited\n",
       "Gender        \n",
       "Female   25.07\n",
       "Male     16.46\n",
       "Total    20.37"
      ]
     },
     "execution_count": 153,
     "metadata": {},
     "output_type": "execute_result"
    }
   ],
   "source": [
    "df.pivot_table(index='Gender', values='Exited', aggfunc = 'mean', margins = True, margins_name = 'Total')*100"
   ]
  },
  {
   "cell_type": "markdown",
   "metadata": {},
   "source": [
    "**Выводы**\n",
    "\n",
    "Датафрейм содержит 10 тыс. записей о клиентах из трёх стран: \n",
    "\n",
    "- Франция (50,1% клиентов), \n",
    "- Германия (25,1% клиентов), \n",
    "- Испания (24,8% клиентов).\n",
    "\n",
    "В предоставленных данных:\n",
    "- Гендерная принадлежность: 54,6% клиентов - мужчины, 45,4% - женщины.\n",
    "- Доля держателей кредитных карт: 70,3% среди женщин, 70,8% среди мужчин (среднее взвешенное = 70,6%).\n",
    "- Доля активных клиентов: 50,3% среди женщин, 52,5% среди мужчин (среднее взвешенное = 51,5%).\n",
    "- Доля ушедших клиентов: 25,1% среди женщин, 16,5% среди мужчин (среднее взвешенное = 20,4%).\n",
    "\n",
    "Портрет среднестатистического клиента Бета-Банка:\n",
    "- возраст клиента: 39 лет\n",
    "- средняя продолжительность отношений с банком: 5 лет\n",
    "- кредитный рейтинг: 650\n",
    "- баланс карты: 76,5 тыс. руб.\n",
    "- предполагаемая зарплата: 100,1 тыс. руб.\n",
    "- количество продуктов банка, используемых клиентом: 1-2 шт.\n",
    "\n",
    "Следует выполнить предобрабку данных, чтобы устранить следующие проблемы:\n",
    "- Наименования столбцов необходимо обработать: привести к нижнему регистру, добавить разделитель \"_\".\n",
    "- Данные в столбце \"Tenure\" (сколько лет человек является клиентом банка) пропущены в 9% случаев.\n",
    "\n",
    "Отдельно отмечу, что данные в столбце \"EstimatedSalary\" (предполагаемая зарплата), на первый взгляд, имеют ошибки: минимальное значение зарплаты (11.58 у.е.) и максимальное (199992.48 у.е.) различаются в несколько тысяч раз. Но так как мы не обладаем информацией о наличии каких-либо ограничений по оплате труда во Франции, Германии и Испании, будем считать, что такие данные не являются артефактами."
   ]
  },
  {
   "cell_type": "markdown",
   "metadata": {},
   "source": [
    "### 1.2. Предобработка данных"
   ]
  },
  {
   "cell_type": "markdown",
   "metadata": {},
   "source": [
    "Приступим к обработке данных:\n",
    "\n",
    "- текстовые значения и наименования столбцов приведем к нижнему регистру,\n",
    "- разберем пропуски данных в столбце \"Tenure\",\n",
    "- проверим данные на наличие дубликатов."
   ]
  },
  {
   "cell_type": "markdown",
   "metadata": {},
   "source": [
    "Приведем названия столбцов к нижнему регистру:"
   ]
  },
  {
   "cell_type": "code",
   "execution_count": 154,
   "metadata": {},
   "outputs": [
    {
     "data": {
      "text/plain": [
       "Index(['rownumber', 'customerid', 'surname', 'creditscore', 'geography',\n",
       "       'gender', 'age', 'tenure', 'balance', 'numofproducts', 'hascrcard',\n",
       "       'isactivemember', 'estimatedsalary', 'exited'],\n",
       "      dtype='object')"
      ]
     },
     "execution_count": 154,
     "metadata": {},
     "output_type": "execute_result"
    }
   ],
   "source": [
    "df.columns = df.columns.str.lower()\n",
    "df.columns"
   ]
  },
  {
   "cell_type": "markdown",
   "metadata": {},
   "source": [
    "Преобразуем названия столбцов в \"змеиный регистр\":"
   ]
  },
  {
   "cell_type": "code",
   "execution_count": 155,
   "metadata": {},
   "outputs": [
    {
     "data": {
      "text/plain": [
       "Index(['row_number', 'customer_id', 'surname', 'credit_score', 'geography',\n",
       "       'gender', 'age', 'tenure', 'balance', 'num_of_products', 'has_cr_card',\n",
       "       'is_active_member', 'estimated_salary', 'exited'],\n",
       "      dtype='object')"
      ]
     },
     "execution_count": 155,
     "metadata": {},
     "output_type": "execute_result"
    }
   ],
   "source": [
    "df.columns = ['row_number', 'customer_id', 'surname', 'credit_score', 'geography',\n",
    "       'gender', 'age', 'tenure', 'balance', 'num_of_products', 'has_cr_card',\n",
    "       'is_active_member', 'estimated_salary', 'exited']\n",
    "df.columns"
   ]
  },
  {
   "cell_type": "markdown",
   "metadata": {},
   "source": [
    "Приведем значения в текстовых столбцах к нижнему регистру (значения столбцов 'surname', 'geography', 'gender'):"
   ]
  },
  {
   "cell_type": "code",
   "execution_count": 156,
   "metadata": {},
   "outputs": [],
   "source": [
    "df['surname'] = df['surname'].str.lower()\n",
    "df['geography'] = df['geography'].str.lower()\n",
    "df['gender'] = df['gender'].str.lower()"
   ]
  },
  {
   "cell_type": "markdown",
   "metadata": {},
   "source": [
    "Столбец \"tenure\" (сколько лет человек является клиентом банка) содержит пропуски, проверим их количество, выгрузим произвольные 5 строк с пропусками:"
   ]
  },
  {
   "cell_type": "code",
   "execution_count": 157,
   "metadata": {},
   "outputs": [
    {
     "name": "stdout",
     "output_type": "stream",
     "text": [
      "Число пропусков tenure: 909\n"
     ]
    }
   ],
   "source": [
    "print('Число пропусков tenure:', df[df['tenure'].isna()].shape[0])"
   ]
  },
  {
   "cell_type": "code",
   "execution_count": 158,
   "metadata": {
    "scrolled": false
   },
   "outputs": [
    {
     "data": {
      "text/html": [
       "<div>\n",
       "<style scoped>\n",
       "    .dataframe tbody tr th:only-of-type {\n",
       "        vertical-align: middle;\n",
       "    }\n",
       "\n",
       "    .dataframe tbody tr th {\n",
       "        vertical-align: top;\n",
       "    }\n",
       "\n",
       "    .dataframe thead th {\n",
       "        text-align: right;\n",
       "    }\n",
       "</style>\n",
       "<table border=\"1\" class=\"dataframe\">\n",
       "  <thead>\n",
       "    <tr style=\"text-align: right;\">\n",
       "      <th></th>\n",
       "      <th>row_number</th>\n",
       "      <th>customer_id</th>\n",
       "      <th>surname</th>\n",
       "      <th>credit_score</th>\n",
       "      <th>geography</th>\n",
       "      <th>gender</th>\n",
       "      <th>age</th>\n",
       "      <th>tenure</th>\n",
       "      <th>balance</th>\n",
       "      <th>num_of_products</th>\n",
       "      <th>has_cr_card</th>\n",
       "      <th>is_active_member</th>\n",
       "      <th>estimated_salary</th>\n",
       "      <th>exited</th>\n",
       "    </tr>\n",
       "  </thead>\n",
       "  <tbody>\n",
       "    <tr>\n",
       "      <td>3436</td>\n",
       "      <td>3437</td>\n",
       "      <td>15735632</td>\n",
       "      <td>williamson</td>\n",
       "      <td>571</td>\n",
       "      <td>france</td>\n",
       "      <td>male</td>\n",
       "      <td>41</td>\n",
       "      <td>nan</td>\n",
       "      <td>0.00</td>\n",
       "      <td>1</td>\n",
       "      <td>1</td>\n",
       "      <td>1</td>\n",
       "      <td>63,736.17</td>\n",
       "      <td>0</td>\n",
       "    </tr>\n",
       "    <tr>\n",
       "      <td>7698</td>\n",
       "      <td>7699</td>\n",
       "      <td>15691513</td>\n",
       "      <td>dawkins</td>\n",
       "      <td>592</td>\n",
       "      <td>france</td>\n",
       "      <td>male</td>\n",
       "      <td>60</td>\n",
       "      <td>nan</td>\n",
       "      <td>0.00</td>\n",
       "      <td>4</td>\n",
       "      <td>1</td>\n",
       "      <td>1</td>\n",
       "      <td>13,614.01</td>\n",
       "      <td>1</td>\n",
       "    </tr>\n",
       "    <tr>\n",
       "      <td>8890</td>\n",
       "      <td>8891</td>\n",
       "      <td>15788723</td>\n",
       "      <td>mcintyre</td>\n",
       "      <td>599</td>\n",
       "      <td>germany</td>\n",
       "      <td>female</td>\n",
       "      <td>49</td>\n",
       "      <td>nan</td>\n",
       "      <td>143,888.22</td>\n",
       "      <td>2</td>\n",
       "      <td>1</td>\n",
       "      <td>1</td>\n",
       "      <td>166,236.38</td>\n",
       "      <td>1</td>\n",
       "    </tr>\n",
       "    <tr>\n",
       "      <td>1582</td>\n",
       "      <td>1583</td>\n",
       "      <td>15631072</td>\n",
       "      <td>huie</td>\n",
       "      <td>690</td>\n",
       "      <td>france</td>\n",
       "      <td>male</td>\n",
       "      <td>38</td>\n",
       "      <td>nan</td>\n",
       "      <td>94,456.00</td>\n",
       "      <td>2</td>\n",
       "      <td>0</td>\n",
       "      <td>1</td>\n",
       "      <td>55,034.02</td>\n",
       "      <td>0</td>\n",
       "    </tr>\n",
       "    <tr>\n",
       "      <td>1957</td>\n",
       "      <td>1958</td>\n",
       "      <td>15674922</td>\n",
       "      <td>beavers</td>\n",
       "      <td>710</td>\n",
       "      <td>france</td>\n",
       "      <td>male</td>\n",
       "      <td>54</td>\n",
       "      <td>nan</td>\n",
       "      <td>171,137.62</td>\n",
       "      <td>1</td>\n",
       "      <td>1</td>\n",
       "      <td>1</td>\n",
       "      <td>167,023.95</td>\n",
       "      <td>1</td>\n",
       "    </tr>\n",
       "  </tbody>\n",
       "</table>\n",
       "</div>"
      ],
      "text/plain": [
       "      row_number  customer_id     surname  credit_score geography  gender  \\\n",
       "3436        3437     15735632  williamson           571    france    male   \n",
       "7698        7699     15691513     dawkins           592    france    male   \n",
       "8890        8891     15788723    mcintyre           599   germany  female   \n",
       "1582        1583     15631072        huie           690    france    male   \n",
       "1957        1958     15674922     beavers           710    france    male   \n",
       "\n",
       "      age  tenure    balance  num_of_products  has_cr_card  is_active_member  \\\n",
       "3436   41     nan       0.00                1            1                 1   \n",
       "7698   60     nan       0.00                4            1                 1   \n",
       "8890   49     nan 143,888.22                2            1                 1   \n",
       "1582   38     nan  94,456.00                2            0                 1   \n",
       "1957   54     nan 171,137.62                1            1                 1   \n",
       "\n",
       "      estimated_salary  exited  \n",
       "3436         63,736.17       0  \n",
       "7698         13,614.01       1  \n",
       "8890        166,236.38       1  \n",
       "1582         55,034.02       0  \n",
       "1957        167,023.95       1  "
      ]
     },
     "execution_count": 158,
     "metadata": {},
     "output_type": "execute_result"
    }
   ],
   "source": [
    "df[df['tenure'].isna()].sample(5)"
   ]
  },
  {
   "cell_type": "markdown",
   "metadata": {},
   "source": [
    "Посмотрим, как распределяются клиенты по числу лет взаимоотношений с банком:"
   ]
  },
  {
   "cell_type": "code",
   "execution_count": 159,
   "metadata": {},
   "outputs": [
    {
     "data": {
      "text/html": [
       "<div>\n",
       "<style scoped>\n",
       "    .dataframe tbody tr th:only-of-type {\n",
       "        vertical-align: middle;\n",
       "    }\n",
       "\n",
       "    .dataframe tbody tr th {\n",
       "        vertical-align: top;\n",
       "    }\n",
       "\n",
       "    .dataframe thead th {\n",
       "        text-align: right;\n",
       "    }\n",
       "</style>\n",
       "<table border=\"1\" class=\"dataframe\">\n",
       "  <thead>\n",
       "    <tr style=\"text-align: right;\">\n",
       "      <th>tenure</th>\n",
       "      <th>0.00</th>\n",
       "      <th>1.00</th>\n",
       "      <th>2.00</th>\n",
       "      <th>3.00</th>\n",
       "      <th>4.00</th>\n",
       "      <th>5.00</th>\n",
       "      <th>6.00</th>\n",
       "      <th>7.00</th>\n",
       "      <th>8.00</th>\n",
       "      <th>9.00</th>\n",
       "      <th>10.00</th>\n",
       "    </tr>\n",
       "  </thead>\n",
       "  <tbody>\n",
       "    <tr>\n",
       "      <td>customer_id</td>\n",
       "      <td>382</td>\n",
       "      <td>952</td>\n",
       "      <td>950</td>\n",
       "      <td>928</td>\n",
       "      <td>885</td>\n",
       "      <td>927</td>\n",
       "      <td>881</td>\n",
       "      <td>925</td>\n",
       "      <td>933</td>\n",
       "      <td>882</td>\n",
       "      <td>446</td>\n",
       "    </tr>\n",
       "  </tbody>\n",
       "</table>\n",
       "</div>"
      ],
      "text/plain": [
       "tenure       0.00   1.00   2.00   3.00   4.00   5.00   6.00   7.00   8.00   \\\n",
       "customer_id    382    952    950    928    885    927    881    925    933   \n",
       "\n",
       "tenure       9.00   10.00  \n",
       "customer_id    882    446  "
      ]
     },
     "execution_count": 159,
     "metadata": {},
     "output_type": "execute_result"
    }
   ],
   "source": [
    "df.pivot_table(index='tenure', values='customer_id', aggfunc='count').T"
   ]
  },
  {
   "cell_type": "code",
   "execution_count": 160,
   "metadata": {
    "scrolled": false
   },
   "outputs": [
    {
     "data": {
      "text/plain": [
       "Text(0, 0.5, 'Число клиентов, чел.')"
      ]
     },
     "execution_count": 160,
     "metadata": {},
     "output_type": "execute_result"
    },
    {
     "data": {
      "image/png": "[encoded data removed]",
      "text/plain": [
       "<Figure size 576x288 with 1 Axes>"
      ]
     },
     "metadata": {
      "needs_background": "light"
     },
     "output_type": "display_data"
    }
   ],
   "source": [
    "df.pivot_table(index='tenure', values='customer_id', aggfunc='count').plot.bar(figsize=(8,4))\n",
    "plt.xlabel('Срок взаимоотношений клиента с банком, лет')\n",
    "plt.ylabel('Число клиентов, чел.')"
   ]
  },
  {
   "cell_type": "markdown",
   "metadata": {},
   "source": [
    "Интересно, что группы от 1 до 9 лет имеют примерно одинаковый объем клиентов, а новые клиенты и клиенты с 10-летним стажем в 2 раза ниже по количеству. Заменить пропуски на среднее значение кажется неправильным, так как это может сильно исказить выборку.\n",
    "\n",
    "Источник данных: https://www.kaggle.com/barelydedicated/bank-customer-churn-modeling\n",
    "Давайте проверим, может часть пропусков есть в оригинальном источнике. Данные я предварительно сохранила в docs.google:"
   ]
  },
  {
   "cell_type": "code",
   "execution_count": 161,
   "metadata": {},
   "outputs": [],
   "source": [
    "spreadsheet_id = '10vmWpvCWG8v2ObRbJw0NKQcHH57Ym04Lnzhk3U4QACE'\n",
    "file_name = 'https://docs.google.com/spreadsheets/d/{}/export?format=csv'.format(spreadsheet_id)\n",
    "r = requests.get(file_name)\n",
    "df_original = pd.read_csv(BytesIO(r.content))"
   ]
  },
  {
   "cell_type": "code",
   "execution_count": 162,
   "metadata": {},
   "outputs": [
    {
     "name": "stdout",
     "output_type": "stream",
     "text": [
      "<class 'pandas.core.frame.DataFrame'>\n",
      "RangeIndex: 10000 entries, 0 to 9999\n",
      "Data columns (total 14 columns):\n",
      "RowNumber          10000 non-null int64\n",
      "CustomerId         10000 non-null int64\n",
      "Surname            10000 non-null object\n",
      "CreditScore        10000 non-null int64\n",
      "Geography          10000 non-null object\n",
      "Gender             10000 non-null object\n",
      "Age                10000 non-null int64\n",
      "Tenure             10000 non-null int64\n",
      "Balance            10000 non-null float64\n",
      "NumOfProducts      10000 non-null int64\n",
      "HasCrCard          10000 non-null int64\n",
      "IsActiveMember     10000 non-null int64\n",
      "EstimatedSalary    10000 non-null float64\n",
      "Exited             10000 non-null int64\n",
      "dtypes: float64(2), int64(9), object(3)\n",
      "memory usage: 1.1+ MB\n"
     ]
    },
    {
     "data": {
      "text/plain": [
       "None"
      ]
     },
     "metadata": {},
     "output_type": "display_data"
    },
    {
     "data": {
      "text/html": [
       "<div>\n",
       "<style scoped>\n",
       "    .dataframe tbody tr th:only-of-type {\n",
       "        vertical-align: middle;\n",
       "    }\n",
       "\n",
       "    .dataframe tbody tr th {\n",
       "        vertical-align: top;\n",
       "    }\n",
       "\n",
       "    .dataframe thead th {\n",
       "        text-align: right;\n",
       "    }\n",
       "</style>\n",
       "<table border=\"1\" class=\"dataframe\">\n",
       "  <thead>\n",
       "    <tr style=\"text-align: right;\">\n",
       "      <th></th>\n",
       "      <th>RowNumber</th>\n",
       "      <th>CustomerId</th>\n",
       "      <th>Surname</th>\n",
       "      <th>CreditScore</th>\n",
       "      <th>Geography</th>\n",
       "      <th>Gender</th>\n",
       "      <th>Age</th>\n",
       "      <th>Tenure</th>\n",
       "      <th>Balance</th>\n",
       "      <th>NumOfProducts</th>\n",
       "      <th>HasCrCard</th>\n",
       "      <th>IsActiveMember</th>\n",
       "      <th>EstimatedSalary</th>\n",
       "      <th>Exited</th>\n",
       "    </tr>\n",
       "  </thead>\n",
       "  <tbody>\n",
       "    <tr>\n",
       "      <td>0</td>\n",
       "      <td>1</td>\n",
       "      <td>15634602</td>\n",
       "      <td>Hargrave</td>\n",
       "      <td>619</td>\n",
       "      <td>France</td>\n",
       "      <td>Female</td>\n",
       "      <td>42</td>\n",
       "      <td>2</td>\n",
       "      <td>0.00</td>\n",
       "      <td>1</td>\n",
       "      <td>1</td>\n",
       "      <td>1</td>\n",
       "      <td>101,348.88</td>\n",
       "      <td>1</td>\n",
       "    </tr>\n",
       "    <tr>\n",
       "      <td>1</td>\n",
       "      <td>2</td>\n",
       "      <td>15647311</td>\n",
       "      <td>Hill</td>\n",
       "      <td>608</td>\n",
       "      <td>Spain</td>\n",
       "      <td>Female</td>\n",
       "      <td>41</td>\n",
       "      <td>1</td>\n",
       "      <td>83,807.86</td>\n",
       "      <td>1</td>\n",
       "      <td>0</td>\n",
       "      <td>1</td>\n",
       "      <td>112,542.58</td>\n",
       "      <td>0</td>\n",
       "    </tr>\n",
       "    <tr>\n",
       "      <td>2</td>\n",
       "      <td>3</td>\n",
       "      <td>15619304</td>\n",
       "      <td>Onio</td>\n",
       "      <td>502</td>\n",
       "      <td>France</td>\n",
       "      <td>Female</td>\n",
       "      <td>42</td>\n",
       "      <td>8</td>\n",
       "      <td>159,660.80</td>\n",
       "      <td>3</td>\n",
       "      <td>1</td>\n",
       "      <td>0</td>\n",
       "      <td>113,931.57</td>\n",
       "      <td>1</td>\n",
       "    </tr>\n",
       "    <tr>\n",
       "      <td>3</td>\n",
       "      <td>4</td>\n",
       "      <td>15701354</td>\n",
       "      <td>Boni</td>\n",
       "      <td>699</td>\n",
       "      <td>France</td>\n",
       "      <td>Female</td>\n",
       "      <td>39</td>\n",
       "      <td>1</td>\n",
       "      <td>0.00</td>\n",
       "      <td>2</td>\n",
       "      <td>0</td>\n",
       "      <td>0</td>\n",
       "      <td>93,826.63</td>\n",
       "      <td>0</td>\n",
       "    </tr>\n",
       "    <tr>\n",
       "      <td>4</td>\n",
       "      <td>5</td>\n",
       "      <td>15737888</td>\n",
       "      <td>Mitchell</td>\n",
       "      <td>850</td>\n",
       "      <td>Spain</td>\n",
       "      <td>Female</td>\n",
       "      <td>43</td>\n",
       "      <td>2</td>\n",
       "      <td>125,510.82</td>\n",
       "      <td>1</td>\n",
       "      <td>1</td>\n",
       "      <td>1</td>\n",
       "      <td>79,084.10</td>\n",
       "      <td>0</td>\n",
       "    </tr>\n",
       "  </tbody>\n",
       "</table>\n",
       "</div>"
      ],
      "text/plain": [
       "   RowNumber  CustomerId   Surname  CreditScore Geography  Gender  Age  \\\n",
       "0          1    15634602  Hargrave          619    France  Female   42   \n",
       "1          2    15647311      Hill          608     Spain  Female   41   \n",
       "2          3    15619304      Onio          502    France  Female   42   \n",
       "3          4    15701354      Boni          699    France  Female   39   \n",
       "4          5    15737888  Mitchell          850     Spain  Female   43   \n",
       "\n",
       "   Tenure    Balance  NumOfProducts  HasCrCard  IsActiveMember  \\\n",
       "0       2       0.00              1          1               1   \n",
       "1       1  83,807.86              1          0               1   \n",
       "2       8 159,660.80              3          1               0   \n",
       "3       1       0.00              2          0               0   \n",
       "4       2 125,510.82              1          1               1   \n",
       "\n",
       "   EstimatedSalary  Exited  \n",
       "0       101,348.88       1  \n",
       "1       112,542.58       0  \n",
       "2       113,931.57       1  \n",
       "3        93,826.63       0  \n",
       "4        79,084.10       0  "
      ]
     },
     "execution_count": 162,
     "metadata": {},
     "output_type": "execute_result"
    }
   ],
   "source": [
    "display(df_original.info())\n",
    "df_original.head()"
   ]
  },
  {
   "cell_type": "markdown",
   "metadata": {},
   "source": [
    "Как и ожидалось, пропусков в данных из оригинального источника - нет. Создадим таблицу `tenure` с данными по id клиента и сроке взаимоотношений с банком"
   ]
  },
  {
   "cell_type": "code",
   "execution_count": 163,
   "metadata": {},
   "outputs": [
    {
     "data": {
      "text/html": [
       "<div>\n",
       "<style scoped>\n",
       "    .dataframe tbody tr th:only-of-type {\n",
       "        vertical-align: middle;\n",
       "    }\n",
       "\n",
       "    .dataframe tbody tr th {\n",
       "        vertical-align: top;\n",
       "    }\n",
       "\n",
       "    .dataframe thead th {\n",
       "        text-align: right;\n",
       "    }\n",
       "</style>\n",
       "<table border=\"1\" class=\"dataframe\">\n",
       "  <thead>\n",
       "    <tr style=\"text-align: right;\">\n",
       "      <th></th>\n",
       "      <th>customer_id</th>\n",
       "      <th>tenure</th>\n",
       "    </tr>\n",
       "  </thead>\n",
       "  <tbody>\n",
       "    <tr>\n",
       "      <td>0</td>\n",
       "      <td>15634602</td>\n",
       "      <td>2</td>\n",
       "    </tr>\n",
       "    <tr>\n",
       "      <td>1</td>\n",
       "      <td>15647311</td>\n",
       "      <td>1</td>\n",
       "    </tr>\n",
       "    <tr>\n",
       "      <td>2</td>\n",
       "      <td>15619304</td>\n",
       "      <td>8</td>\n",
       "    </tr>\n",
       "    <tr>\n",
       "      <td>3</td>\n",
       "      <td>15701354</td>\n",
       "      <td>1</td>\n",
       "    </tr>\n",
       "    <tr>\n",
       "      <td>4</td>\n",
       "      <td>15737888</td>\n",
       "      <td>2</td>\n",
       "    </tr>\n",
       "  </tbody>\n",
       "</table>\n",
       "</div>"
      ],
      "text/plain": [
       "   customer_id  tenure\n",
       "0     15634602       2\n",
       "1     15647311       1\n",
       "2     15619304       8\n",
       "3     15701354       1\n",
       "4     15737888       2"
      ]
     },
     "execution_count": 163,
     "metadata": {},
     "output_type": "execute_result"
    }
   ],
   "source": [
    "tenure = df_original[['CustomerId','Tenure']]\n",
    "tenure.columns = ['customer_id', 'tenure']\n",
    "tenure.head()"
   ]
  },
  {
   "cell_type": "markdown",
   "metadata": {},
   "source": [
    "Добавим данные о сроке взаимоотношений клиента с банком по номеру id клиента:"
   ]
  },
  {
   "cell_type": "code",
   "execution_count": 164,
   "metadata": {
    "scrolled": false
   },
   "outputs": [
    {
     "data": {
      "text/html": [
       "<div>\n",
       "<style scoped>\n",
       "    .dataframe tbody tr th:only-of-type {\n",
       "        vertical-align: middle;\n",
       "    }\n",
       "\n",
       "    .dataframe tbody tr th {\n",
       "        vertical-align: top;\n",
       "    }\n",
       "\n",
       "    .dataframe thead th {\n",
       "        text-align: right;\n",
       "    }\n",
       "</style>\n",
       "<table border=\"1\" class=\"dataframe\">\n",
       "  <thead>\n",
       "    <tr style=\"text-align: right;\">\n",
       "      <th></th>\n",
       "      <th>row_number</th>\n",
       "      <th>customer_id</th>\n",
       "      <th>surname</th>\n",
       "      <th>credit_score</th>\n",
       "      <th>geography</th>\n",
       "      <th>gender</th>\n",
       "      <th>age</th>\n",
       "      <th>tenure_x</th>\n",
       "      <th>balance</th>\n",
       "      <th>num_of_products</th>\n",
       "      <th>has_cr_card</th>\n",
       "      <th>is_active_member</th>\n",
       "      <th>estimated_salary</th>\n",
       "      <th>exited</th>\n",
       "      <th>tenure_y</th>\n",
       "    </tr>\n",
       "  </thead>\n",
       "  <tbody>\n",
       "    <tr>\n",
       "      <td>0</td>\n",
       "      <td>1</td>\n",
       "      <td>15634602</td>\n",
       "      <td>hargrave</td>\n",
       "      <td>619</td>\n",
       "      <td>france</td>\n",
       "      <td>female</td>\n",
       "      <td>42</td>\n",
       "      <td>2.00</td>\n",
       "      <td>0.00</td>\n",
       "      <td>1</td>\n",
       "      <td>1</td>\n",
       "      <td>1</td>\n",
       "      <td>101,348.88</td>\n",
       "      <td>1</td>\n",
       "      <td>2</td>\n",
       "    </tr>\n",
       "    <tr>\n",
       "      <td>1</td>\n",
       "      <td>2</td>\n",
       "      <td>15647311</td>\n",
       "      <td>hill</td>\n",
       "      <td>608</td>\n",
       "      <td>spain</td>\n",
       "      <td>female</td>\n",
       "      <td>41</td>\n",
       "      <td>1.00</td>\n",
       "      <td>83,807.86</td>\n",
       "      <td>1</td>\n",
       "      <td>0</td>\n",
       "      <td>1</td>\n",
       "      <td>112,542.58</td>\n",
       "      <td>0</td>\n",
       "      <td>1</td>\n",
       "    </tr>\n",
       "    <tr>\n",
       "      <td>2</td>\n",
       "      <td>3</td>\n",
       "      <td>15619304</td>\n",
       "      <td>onio</td>\n",
       "      <td>502</td>\n",
       "      <td>france</td>\n",
       "      <td>female</td>\n",
       "      <td>42</td>\n",
       "      <td>8.00</td>\n",
       "      <td>159,660.80</td>\n",
       "      <td>3</td>\n",
       "      <td>1</td>\n",
       "      <td>0</td>\n",
       "      <td>113,931.57</td>\n",
       "      <td>1</td>\n",
       "      <td>8</td>\n",
       "    </tr>\n",
       "    <tr>\n",
       "      <td>3</td>\n",
       "      <td>4</td>\n",
       "      <td>15701354</td>\n",
       "      <td>boni</td>\n",
       "      <td>699</td>\n",
       "      <td>france</td>\n",
       "      <td>female</td>\n",
       "      <td>39</td>\n",
       "      <td>1.00</td>\n",
       "      <td>0.00</td>\n",
       "      <td>2</td>\n",
       "      <td>0</td>\n",
       "      <td>0</td>\n",
       "      <td>93,826.63</td>\n",
       "      <td>0</td>\n",
       "      <td>1</td>\n",
       "    </tr>\n",
       "    <tr>\n",
       "      <td>4</td>\n",
       "      <td>5</td>\n",
       "      <td>15737888</td>\n",
       "      <td>mitchell</td>\n",
       "      <td>850</td>\n",
       "      <td>spain</td>\n",
       "      <td>female</td>\n",
       "      <td>43</td>\n",
       "      <td>2.00</td>\n",
       "      <td>125,510.82</td>\n",
       "      <td>1</td>\n",
       "      <td>1</td>\n",
       "      <td>1</td>\n",
       "      <td>79,084.10</td>\n",
       "      <td>0</td>\n",
       "      <td>2</td>\n",
       "    </tr>\n",
       "  </tbody>\n",
       "</table>\n",
       "</div>"
      ],
      "text/plain": [
       "   row_number  customer_id   surname  credit_score geography  gender  age  \\\n",
       "0           1     15634602  hargrave           619    france  female   42   \n",
       "1           2     15647311      hill           608     spain  female   41   \n",
       "2           3     15619304      onio           502    france  female   42   \n",
       "3           4     15701354      boni           699    france  female   39   \n",
       "4           5     15737888  mitchell           850     spain  female   43   \n",
       "\n",
       "   tenure_x    balance  num_of_products  has_cr_card  is_active_member  \\\n",
       "0      2.00       0.00                1            1                 1   \n",
       "1      1.00  83,807.86                1            0                 1   \n",
       "2      8.00 159,660.80                3            1                 0   \n",
       "3      1.00       0.00                2            0                 0   \n",
       "4      2.00 125,510.82                1            1                 1   \n",
       "\n",
       "   estimated_salary  exited  tenure_y  \n",
       "0        101,348.88       1         2  \n",
       "1        112,542.58       0         1  \n",
       "2        113,931.57       1         8  \n",
       "3         93,826.63       0         1  \n",
       "4         79,084.10       0         2  "
      ]
     },
     "execution_count": 164,
     "metadata": {},
     "output_type": "execute_result"
    }
   ],
   "source": [
    "df = df.merge(tenure, on = 'customer_id', how = 'outer')\n",
    "df.head()"
   ]
  },
  {
   "cell_type": "markdown",
   "metadata": {},
   "source": [
    "Убедимся, что нет ли различий в исходных данных в `df` и добавленных данных по столбцам 'tenure_x' и 'tenure_y':"
   ]
  },
  {
   "cell_type": "code",
   "execution_count": 165,
   "metadata": {},
   "outputs": [
    {
     "name": "stdout",
     "output_type": "stream",
     "text": [
      "Число совпадающих значений tenure: 9091\n",
      "Число совпадающих различий tenure: 909\n"
     ]
    },
    {
     "data": {
      "text/html": [
       "<div>\n",
       "<style scoped>\n",
       "    .dataframe tbody tr th:only-of-type {\n",
       "        vertical-align: middle;\n",
       "    }\n",
       "\n",
       "    .dataframe tbody tr th {\n",
       "        vertical-align: top;\n",
       "    }\n",
       "\n",
       "    .dataframe thead th {\n",
       "        text-align: right;\n",
       "    }\n",
       "</style>\n",
       "<table border=\"1\" class=\"dataframe\">\n",
       "  <thead>\n",
       "    <tr style=\"text-align: right;\">\n",
       "      <th></th>\n",
       "      <th>row_number</th>\n",
       "      <th>customer_id</th>\n",
       "      <th>surname</th>\n",
       "      <th>credit_score</th>\n",
       "      <th>geography</th>\n",
       "      <th>gender</th>\n",
       "      <th>age</th>\n",
       "      <th>tenure_x</th>\n",
       "      <th>balance</th>\n",
       "      <th>num_of_products</th>\n",
       "      <th>has_cr_card</th>\n",
       "      <th>is_active_member</th>\n",
       "      <th>estimated_salary</th>\n",
       "      <th>exited</th>\n",
       "      <th>tenure_y</th>\n",
       "    </tr>\n",
       "  </thead>\n",
       "  <tbody>\n",
       "    <tr>\n",
       "      <td>30</td>\n",
       "      <td>31</td>\n",
       "      <td>15589475</td>\n",
       "      <td>azikiwe</td>\n",
       "      <td>591</td>\n",
       "      <td>spain</td>\n",
       "      <td>female</td>\n",
       "      <td>39</td>\n",
       "      <td>nan</td>\n",
       "      <td>0.00</td>\n",
       "      <td>3</td>\n",
       "      <td>1</td>\n",
       "      <td>0</td>\n",
       "      <td>140,469.38</td>\n",
       "      <td>1</td>\n",
       "      <td>3</td>\n",
       "    </tr>\n",
       "    <tr>\n",
       "      <td>48</td>\n",
       "      <td>49</td>\n",
       "      <td>15766205</td>\n",
       "      <td>yin</td>\n",
       "      <td>550</td>\n",
       "      <td>germany</td>\n",
       "      <td>male</td>\n",
       "      <td>38</td>\n",
       "      <td>nan</td>\n",
       "      <td>103,391.38</td>\n",
       "      <td>1</td>\n",
       "      <td>0</td>\n",
       "      <td>1</td>\n",
       "      <td>90,878.13</td>\n",
       "      <td>0</td>\n",
       "      <td>2</td>\n",
       "    </tr>\n",
       "    <tr>\n",
       "      <td>51</td>\n",
       "      <td>52</td>\n",
       "      <td>15768193</td>\n",
       "      <td>trevisani</td>\n",
       "      <td>585</td>\n",
       "      <td>germany</td>\n",
       "      <td>male</td>\n",
       "      <td>36</td>\n",
       "      <td>nan</td>\n",
       "      <td>146,050.97</td>\n",
       "      <td>2</td>\n",
       "      <td>0</td>\n",
       "      <td>0</td>\n",
       "      <td>86,424.57</td>\n",
       "      <td>0</td>\n",
       "      <td>5</td>\n",
       "    </tr>\n",
       "    <tr>\n",
       "      <td>53</td>\n",
       "      <td>54</td>\n",
       "      <td>15702298</td>\n",
       "      <td>parkhill</td>\n",
       "      <td>655</td>\n",
       "      <td>germany</td>\n",
       "      <td>male</td>\n",
       "      <td>41</td>\n",
       "      <td>nan</td>\n",
       "      <td>125,561.97</td>\n",
       "      <td>1</td>\n",
       "      <td>0</td>\n",
       "      <td>0</td>\n",
       "      <td>164,040.94</td>\n",
       "      <td>1</td>\n",
       "      <td>8</td>\n",
       "    </tr>\n",
       "    <tr>\n",
       "      <td>60</td>\n",
       "      <td>61</td>\n",
       "      <td>15651280</td>\n",
       "      <td>hunter</td>\n",
       "      <td>742</td>\n",
       "      <td>germany</td>\n",
       "      <td>male</td>\n",
       "      <td>35</td>\n",
       "      <td>nan</td>\n",
       "      <td>136,857.00</td>\n",
       "      <td>1</td>\n",
       "      <td>0</td>\n",
       "      <td>0</td>\n",
       "      <td>84,509.57</td>\n",
       "      <td>0</td>\n",
       "      <td>5</td>\n",
       "    </tr>\n",
       "    <tr>\n",
       "      <td>82</td>\n",
       "      <td>83</td>\n",
       "      <td>15641732</td>\n",
       "      <td>mills</td>\n",
       "      <td>543</td>\n",
       "      <td>france</td>\n",
       "      <td>female</td>\n",
       "      <td>36</td>\n",
       "      <td>nan</td>\n",
       "      <td>0.00</td>\n",
       "      <td>2</td>\n",
       "      <td>0</td>\n",
       "      <td>0</td>\n",
       "      <td>26,019.59</td>\n",
       "      <td>0</td>\n",
       "      <td>3</td>\n",
       "    </tr>\n",
       "    <tr>\n",
       "      <td>85</td>\n",
       "      <td>86</td>\n",
       "      <td>15805254</td>\n",
       "      <td>ndukaku</td>\n",
       "      <td>652</td>\n",
       "      <td>spain</td>\n",
       "      <td>female</td>\n",
       "      <td>75</td>\n",
       "      <td>nan</td>\n",
       "      <td>0.00</td>\n",
       "      <td>2</td>\n",
       "      <td>1</td>\n",
       "      <td>1</td>\n",
       "      <td>114,675.75</td>\n",
       "      <td>0</td>\n",
       "      <td>10</td>\n",
       "    </tr>\n",
       "    <tr>\n",
       "      <td>94</td>\n",
       "      <td>95</td>\n",
       "      <td>15676966</td>\n",
       "      <td>capon</td>\n",
       "      <td>730</td>\n",
       "      <td>spain</td>\n",
       "      <td>male</td>\n",
       "      <td>42</td>\n",
       "      <td>nan</td>\n",
       "      <td>0.00</td>\n",
       "      <td>2</td>\n",
       "      <td>0</td>\n",
       "      <td>1</td>\n",
       "      <td>85,982.47</td>\n",
       "      <td>0</td>\n",
       "      <td>4</td>\n",
       "    </tr>\n",
       "    <tr>\n",
       "      <td>99</td>\n",
       "      <td>100</td>\n",
       "      <td>15633059</td>\n",
       "      <td>fanucci</td>\n",
       "      <td>413</td>\n",
       "      <td>france</td>\n",
       "      <td>male</td>\n",
       "      <td>34</td>\n",
       "      <td>nan</td>\n",
       "      <td>0.00</td>\n",
       "      <td>2</td>\n",
       "      <td>0</td>\n",
       "      <td>0</td>\n",
       "      <td>6,534.18</td>\n",
       "      <td>0</td>\n",
       "      <td>9</td>\n",
       "    </tr>\n",
       "    <tr>\n",
       "      <td>111</td>\n",
       "      <td>112</td>\n",
       "      <td>15665790</td>\n",
       "      <td>rowntree</td>\n",
       "      <td>538</td>\n",
       "      <td>germany</td>\n",
       "      <td>male</td>\n",
       "      <td>39</td>\n",
       "      <td>nan</td>\n",
       "      <td>108,055.10</td>\n",
       "      <td>2</td>\n",
       "      <td>1</td>\n",
       "      <td>0</td>\n",
       "      <td>27,231.26</td>\n",
       "      <td>0</td>\n",
       "      <td>7</td>\n",
       "    </tr>\n",
       "  </tbody>\n",
       "</table>\n",
       "</div>"
      ],
      "text/plain": [
       "     row_number  customer_id    surname  credit_score geography  gender  age  \\\n",
       "30           31     15589475    azikiwe           591     spain  female   39   \n",
       "48           49     15766205        yin           550   germany    male   38   \n",
       "51           52     15768193  trevisani           585   germany    male   36   \n",
       "53           54     15702298   parkhill           655   germany    male   41   \n",
       "60           61     15651280     hunter           742   germany    male   35   \n",
       "82           83     15641732      mills           543    france  female   36   \n",
       "85           86     15805254    ndukaku           652     spain  female   75   \n",
       "94           95     15676966      capon           730     spain    male   42   \n",
       "99          100     15633059    fanucci           413    france    male   34   \n",
       "111         112     15665790   rowntree           538   germany    male   39   \n",
       "\n",
       "     tenure_x    balance  num_of_products  has_cr_card  is_active_member  \\\n",
       "30        nan       0.00                3            1                 0   \n",
       "48        nan 103,391.38                1            0                 1   \n",
       "51        nan 146,050.97                2            0                 0   \n",
       "53        nan 125,561.97                1            0                 0   \n",
       "60        nan 136,857.00                1            0                 0   \n",
       "82        nan       0.00                2            0                 0   \n",
       "85        nan       0.00                2            1                 1   \n",
       "94        nan       0.00                2            0                 1   \n",
       "99        nan       0.00                2            0                 0   \n",
       "111       nan 108,055.10                2            1                 0   \n",
       "\n",
       "     estimated_salary  exited  tenure_y  \n",
       "30         140,469.38       1         3  \n",
       "48          90,878.13       0         2  \n",
       "51          86,424.57       0         5  \n",
       "53         164,040.94       1         8  \n",
       "60          84,509.57       0         5  \n",
       "82          26,019.59       0         3  \n",
       "85         114,675.75       0        10  \n",
       "94          85,982.47       0         4  \n",
       "99           6,534.18       0         9  \n",
       "111         27,231.26       0         7  "
      ]
     },
     "execution_count": 165,
     "metadata": {},
     "output_type": "execute_result"
    }
   ],
   "source": [
    "print('Число совпадающих значений tenure:', df[df['tenure_x']==df['tenure_y']].shape[0])\n",
    "print('Число совпадающих различий tenure:', df[df['tenure_x']!=df['tenure_y']].shape[0])\n",
    "df[df['tenure_x']!=df['tenure_y']].head(10)"
   ]
  },
  {
   "cell_type": "markdown",
   "metadata": {},
   "source": [
    "Да, действительно, различия между столбцами 'tenure_x' и 'tenure_y' только в пропущенных значениях. Избавимя от ненужного столбца 'tenure_x'. Столбец 'tenure_y' переименуем."
   ]
  },
  {
   "cell_type": "code",
   "execution_count": 166,
   "metadata": {},
   "outputs": [],
   "source": [
    "df = df.drop(['tenure_x'], axis=1)"
   ]
  },
  {
   "cell_type": "code",
   "execution_count": 167,
   "metadata": {},
   "outputs": [
    {
     "name": "stdout",
     "output_type": "stream",
     "text": [
      "<class 'pandas.core.frame.DataFrame'>\n",
      "Int64Index: 10000 entries, 0 to 9999\n",
      "Data columns (total 14 columns):\n",
      "row_number          10000 non-null int64\n",
      "customer_id         10000 non-null int64\n",
      "surname             10000 non-null object\n",
      "credit_score        10000 non-null int64\n",
      "geography           10000 non-null object\n",
      "gender              10000 non-null object\n",
      "age                 10000 non-null int64\n",
      "balance             10000 non-null float64\n",
      "num_of_products     10000 non-null int64\n",
      "has_cr_card         10000 non-null int64\n",
      "is_active_member    10000 non-null int64\n",
      "estimated_salary    10000 non-null float64\n",
      "exited              10000 non-null int64\n",
      "tenure              10000 non-null int64\n",
      "dtypes: float64(2), int64(9), object(3)\n",
      "memory usage: 1.1+ MB\n"
     ]
    }
   ],
   "source": [
    "df = df.rename(columns = {'tenure_y': 'tenure'})\n",
    "df.info()"
   ]
  },
  {
   "cell_type": "markdown",
   "metadata": {},
   "source": [
    "Посмотрим, как теперь выглядит распределение клиентов по сроку отношений с банком:"
   ]
  },
  {
   "cell_type": "code",
   "execution_count": 168,
   "metadata": {
    "scrolled": true
   },
   "outputs": [
    {
     "data": {
      "text/html": [
       "<div>\n",
       "<style scoped>\n",
       "    .dataframe tbody tr th:only-of-type {\n",
       "        vertical-align: middle;\n",
       "    }\n",
       "\n",
       "    .dataframe tbody tr th {\n",
       "        vertical-align: top;\n",
       "    }\n",
       "\n",
       "    .dataframe thead th {\n",
       "        text-align: right;\n",
       "    }\n",
       "</style>\n",
       "<table border=\"1\" class=\"dataframe\">\n",
       "  <thead>\n",
       "    <tr style=\"text-align: right;\">\n",
       "      <th>tenure</th>\n",
       "      <th>0</th>\n",
       "      <th>1</th>\n",
       "      <th>2</th>\n",
       "      <th>3</th>\n",
       "      <th>4</th>\n",
       "      <th>5</th>\n",
       "      <th>6</th>\n",
       "      <th>7</th>\n",
       "      <th>8</th>\n",
       "      <th>9</th>\n",
       "      <th>10</th>\n",
       "    </tr>\n",
       "  </thead>\n",
       "  <tbody>\n",
       "    <tr>\n",
       "      <td>customer_id</td>\n",
       "      <td>413</td>\n",
       "      <td>1035</td>\n",
       "      <td>1048</td>\n",
       "      <td>1009</td>\n",
       "      <td>989</td>\n",
       "      <td>1012</td>\n",
       "      <td>967</td>\n",
       "      <td>1028</td>\n",
       "      <td>1025</td>\n",
       "      <td>984</td>\n",
       "      <td>490</td>\n",
       "    </tr>\n",
       "  </tbody>\n",
       "</table>\n",
       "</div>"
      ],
      "text/plain": [
       "tenure        0     1     2     3    4     5    6     7     8    9    10\n",
       "customer_id  413  1035  1048  1009  989  1012  967  1028  1025  984  490"
      ]
     },
     "execution_count": 168,
     "metadata": {},
     "output_type": "execute_result"
    }
   ],
   "source": [
    "df.pivot_table(index='tenure', values='customer_id', aggfunc='count').T"
   ]
  },
  {
   "cell_type": "code",
   "execution_count": 169,
   "metadata": {},
   "outputs": [
    {
     "data": {
      "text/plain": [
       "Text(0, 0.5, 'Число клиентов, чел.')"
      ]
     },
     "execution_count": 169,
     "metadata": {},
     "output_type": "execute_result"
    },
    {
     "data": {
      "image/png": "[encoded data removed]",
      "text/plain": [
       "<Figure size 576x288 with 1 Axes>"
      ]
     },
     "metadata": {
      "needs_background": "light"
     },
     "output_type": "display_data"
    }
   ],
   "source": [
    "df.pivot_table(index='tenure', values='customer_id', aggfunc='count').plot.bar(figsize=(8,4))\n",
    "plt.xlabel('Срок взаимоотношений клиента с банком, лет')\n",
    "plt.ylabel('Число клиентов, чел.')"
   ]
  },
  {
   "cell_type": "code",
   "execution_count": 170,
   "metadata": {},
   "outputs": [
    {
     "name": "stdout",
     "output_type": "stream",
     "text": [
      "Среднее число лет взаимоотношений с банком: 5.0128\n"
     ]
    }
   ],
   "source": [
    "print('Среднее число лет взаимоотношений с банком:', df['tenure'].mean())"
   ]
  },
  {
   "cell_type": "markdown",
   "metadata": {},
   "source": [
    "Среднее число лет взаимоотношений с банком осталось на уровне 5 лет. Пропуски заполнились равномерно по всем группам. Группы клиентов с 1-9 годами сохранились похожими по объему, а группы с новыми и 10-летними клиентами остались примерно в 2 раза ниже прочих.\n",
    "\n",
    "Проверим данные на наличие явных дубликатов:"
   ]
  },
  {
   "cell_type": "code",
   "execution_count": 171,
   "metadata": {
    "scrolled": true
   },
   "outputs": [
    {
     "name": "stdout",
     "output_type": "stream",
     "text": [
      "Число явных дубликатов: 0\n"
     ]
    }
   ],
   "source": [
    "print('Число явных дубликатов:', df.duplicated().sum())"
   ]
  },
  {
   "cell_type": "markdown",
   "metadata": {
    "scrolled": true
   },
   "source": [
    "Проверим наличие дубликатов без учета первых двух столбцов: \n",
    "\n",
    "- первый столбец (порядковый номер записи), \n",
    "- второй столбец (id клиента) отбросим на случай ошибочного внесения одного клиента под разными id."
   ]
  },
  {
   "cell_type": "code",
   "execution_count": 172,
   "metadata": {},
   "outputs": [
    {
     "name": "stdout",
     "output_type": "stream",
     "text": [
      "Число явных дубликатов без учета row_number и customer_id: 0\n"
     ]
    }
   ],
   "source": [
    "print('Число явных дубликатов без учета row_number и customer_id:', \n",
    "      df.drop(['row_number', 'customer_id'], axis=1).duplicated().sum())"
   ]
  },
  {
   "cell_type": "markdown",
   "metadata": {},
   "source": [
    "*Выводы*\n",
    "\n",
    "В ходе предобработки данных проделано следующее:\n",
    "- текстовые значения приведены к нижнему регистру,\n",
    "- наименования столбцов приведены к \"змеиному регистру\",\n",
    "- заполнены пропуски данных о сроке взаимоотношений клиента с банком (столбец \"tenure\"),\n",
    "- дубликаты в данных не выявлены."
   ]
  },
  {
   "cell_type": "markdown",
   "metadata": {},
   "source": [
    "### 1.3. Подготовка признаков для моделирования"
   ]
  },
  {
   "cell_type": "markdown",
   "metadata": {},
   "source": [
    "Зафиксируем признаки, которые следует использовать при построении моделей:\n",
    "- exited (*целевой признак*),\n",
    "- credit_score,\n",
    "- geography,\n",
    "- gender,\n",
    "- age,\n",
    "- balance,\n",
    "- num_of_products,\n",
    "- has_cr_card,\n",
    "- is_active_member,\n",
    "- estimated_salary,\n",
    "- tenure.\n",
    "\n",
    "Незначимые признаки, которые не будем использовать в анализе:\n",
    "- row_number (индекс строки в данных), \n",
    "- customer_id (уникальный идентификатор клиента), \n",
    "- surname (фамилия клиента).\n",
    "\n",
    "Для начала преобразуем с помощью One-Hot Encoding категориальные признаки в численные:\n",
    "- geography,\n",
    "- gender.\n",
    "\n",
    "Для начала создадим новый датафрейм `df_analize`, в котором оставим только нужные нам признаки:"
   ]
  },
  {
   "cell_type": "code",
   "execution_count": 173,
   "metadata": {},
   "outputs": [],
   "source": [
    "df_analize = df.drop(['row_number', 'customer_id', 'surname'], axis=1)"
   ]
  },
  {
   "cell_type": "code",
   "execution_count": 174,
   "metadata": {},
   "outputs": [
    {
     "data": {
      "text/html": [
       "<div>\n",
       "<style scoped>\n",
       "    .dataframe tbody tr th:only-of-type {\n",
       "        vertical-align: middle;\n",
       "    }\n",
       "\n",
       "    .dataframe tbody tr th {\n",
       "        vertical-align: top;\n",
       "    }\n",
       "\n",
       "    .dataframe thead th {\n",
       "        text-align: right;\n",
       "    }\n",
       "</style>\n",
       "<table border=\"1\" class=\"dataframe\">\n",
       "  <thead>\n",
       "    <tr style=\"text-align: right;\">\n",
       "      <th></th>\n",
       "      <th>credit_score</th>\n",
       "      <th>age</th>\n",
       "      <th>balance</th>\n",
       "      <th>num_of_products</th>\n",
       "      <th>has_cr_card</th>\n",
       "      <th>is_active_member</th>\n",
       "      <th>estimated_salary</th>\n",
       "      <th>exited</th>\n",
       "      <th>tenure</th>\n",
       "      <th>geography_germany</th>\n",
       "      <th>geography_spain</th>\n",
       "      <th>gender_male</th>\n",
       "    </tr>\n",
       "  </thead>\n",
       "  <tbody>\n",
       "    <tr>\n",
       "      <td>0</td>\n",
       "      <td>619</td>\n",
       "      <td>42</td>\n",
       "      <td>0.00</td>\n",
       "      <td>1</td>\n",
       "      <td>1</td>\n",
       "      <td>1</td>\n",
       "      <td>101,348.88</td>\n",
       "      <td>1</td>\n",
       "      <td>2</td>\n",
       "      <td>0</td>\n",
       "      <td>0</td>\n",
       "      <td>0</td>\n",
       "    </tr>\n",
       "    <tr>\n",
       "      <td>1</td>\n",
       "      <td>608</td>\n",
       "      <td>41</td>\n",
       "      <td>83,807.86</td>\n",
       "      <td>1</td>\n",
       "      <td>0</td>\n",
       "      <td>1</td>\n",
       "      <td>112,542.58</td>\n",
       "      <td>0</td>\n",
       "      <td>1</td>\n",
       "      <td>0</td>\n",
       "      <td>1</td>\n",
       "      <td>0</td>\n",
       "    </tr>\n",
       "    <tr>\n",
       "      <td>2</td>\n",
       "      <td>502</td>\n",
       "      <td>42</td>\n",
       "      <td>159,660.80</td>\n",
       "      <td>3</td>\n",
       "      <td>1</td>\n",
       "      <td>0</td>\n",
       "      <td>113,931.57</td>\n",
       "      <td>1</td>\n",
       "      <td>8</td>\n",
       "      <td>0</td>\n",
       "      <td>0</td>\n",
       "      <td>0</td>\n",
       "    </tr>\n",
       "    <tr>\n",
       "      <td>3</td>\n",
       "      <td>699</td>\n",
       "      <td>39</td>\n",
       "      <td>0.00</td>\n",
       "      <td>2</td>\n",
       "      <td>0</td>\n",
       "      <td>0</td>\n",
       "      <td>93,826.63</td>\n",
       "      <td>0</td>\n",
       "      <td>1</td>\n",
       "      <td>0</td>\n",
       "      <td>0</td>\n",
       "      <td>0</td>\n",
       "    </tr>\n",
       "    <tr>\n",
       "      <td>4</td>\n",
       "      <td>850</td>\n",
       "      <td>43</td>\n",
       "      <td>125,510.82</td>\n",
       "      <td>1</td>\n",
       "      <td>1</td>\n",
       "      <td>1</td>\n",
       "      <td>79,084.10</td>\n",
       "      <td>0</td>\n",
       "      <td>2</td>\n",
       "      <td>0</td>\n",
       "      <td>1</td>\n",
       "      <td>0</td>\n",
       "    </tr>\n",
       "  </tbody>\n",
       "</table>\n",
       "</div>"
      ],
      "text/plain": [
       "   credit_score  age    balance  num_of_products  has_cr_card  \\\n",
       "0           619   42       0.00                1            1   \n",
       "1           608   41  83,807.86                1            0   \n",
       "2           502   42 159,660.80                3            1   \n",
       "3           699   39       0.00                2            0   \n",
       "4           850   43 125,510.82                1            1   \n",
       "\n",
       "   is_active_member  estimated_salary  exited  tenure  geography_germany  \\\n",
       "0                 1        101,348.88       1       2                  0   \n",
       "1                 1        112,542.58       0       1                  0   \n",
       "2                 0        113,931.57       1       8                  0   \n",
       "3                 0         93,826.63       0       1                  0   \n",
       "4                 1         79,084.10       0       2                  0   \n",
       "\n",
       "   geography_spain  gender_male  \n",
       "0                0            0  \n",
       "1                1            0  \n",
       "2                0            0  \n",
       "3                0            0  \n",
       "4                1            0  "
      ]
     },
     "execution_count": 174,
     "metadata": {},
     "output_type": "execute_result"
    }
   ],
   "source": [
    "df_analize = pd.get_dummies(df_analize, drop_first=True)\n",
    "df_analize.head()"
   ]
  },
  {
   "cell_type": "markdown",
   "metadata": {},
   "source": [
    "Теперь все признаки представлены в числовом формате.\n",
    "\n",
    "Для дальнейшего иследования разделим исходные данные на 3 выборки:\n",
    "- обучающая выборка `train` (60% исходных данных),\n",
    "- валидационная выборка `valid` (20% исходных данных),\n",
    "- тестовая выборка `test`(20% исходных данных).\n",
    "\n",
    "Для начала отделим `train`, оставшиеся данные запишем в `valid_test`:"
   ]
  },
  {
   "cell_type": "code",
   "execution_count": 175,
   "metadata": {},
   "outputs": [],
   "source": [
    "target = df_analize['exited']\n",
    "features = df_analize.drop('exited', axis=1)\n",
    "features_train, features_valid_test, target_train, target_valid_test = train_test_split(\n",
    "    features, target, test_size=0.4, random_state=12345, stratify=target)"
   ]
  },
  {
   "cell_type": "markdown",
   "metadata": {},
   "source": [
    "Теперь разделим выборки `valid_test` на `valid` и `test`"
   ]
  },
  {
   "cell_type": "code",
   "execution_count": 176,
   "metadata": {},
   "outputs": [
    {
     "name": "stdout",
     "output_type": "stream",
     "text": [
      "Число наблюдений в обучающей выборке: 6000\n",
      "Число наблюдений в валидационной выборке: 2000\n",
      "Число наблюдений в тестовой выборке: 2000\n"
     ]
    }
   ],
   "source": [
    "features_valid, features_test, target_valid, target_test = train_test_split(\n",
    "    features_valid_test, target_valid_test, test_size=0.5, random_state=12345, stratify=target_valid_test)\n",
    "print('Число наблюдений в обучающей выборке:', features_train.shape[0])\n",
    "print('Число наблюдений в валидационной выборке:', features_valid.shape[0])\n",
    "print('Число наблюдений в тестовой выборке:', features_test.shape[0])"
   ]
  },
  {
   "cell_type": "markdown",
   "metadata": {},
   "source": [
    "У количественных признаков 'credit_score', 'age', 'balance', 'estimated_salary', 'num_of_products', 'tenure' разный масштаб. Поэтому стандартизируем их с помощью StandardScaler.\n",
    "\n"
   ]
  },
  {
   "cell_type": "code",
   "execution_count": 177,
   "metadata": {
    "scrolled": true
   },
   "outputs": [
    {
     "data": {
      "text/html": [
       "<div>\n",
       "<style scoped>\n",
       "    .dataframe tbody tr th:only-of-type {\n",
       "        vertical-align: middle;\n",
       "    }\n",
       "\n",
       "    .dataframe tbody tr th {\n",
       "        vertical-align: top;\n",
       "    }\n",
       "\n",
       "    .dataframe thead th {\n",
       "        text-align: right;\n",
       "    }\n",
       "</style>\n",
       "<table border=\"1\" class=\"dataframe\">\n",
       "  <thead>\n",
       "    <tr style=\"text-align: right;\">\n",
       "      <th></th>\n",
       "      <th>credit_score</th>\n",
       "      <th>age</th>\n",
       "      <th>balance</th>\n",
       "      <th>num_of_products</th>\n",
       "      <th>has_cr_card</th>\n",
       "      <th>is_active_member</th>\n",
       "      <th>estimated_salary</th>\n",
       "      <th>tenure</th>\n",
       "      <th>geography_germany</th>\n",
       "      <th>geography_spain</th>\n",
       "      <th>gender_male</th>\n",
       "    </tr>\n",
       "  </thead>\n",
       "  <tbody>\n",
       "    <tr>\n",
       "      <td>2837</td>\n",
       "      <td>-1.04</td>\n",
       "      <td>0.95</td>\n",
       "      <td>0.77</td>\n",
       "      <td>-0.91</td>\n",
       "      <td>0</td>\n",
       "      <td>1</td>\n",
       "      <td>-0.12</td>\n",
       "      <td>0.34</td>\n",
       "      <td>1</td>\n",
       "      <td>0</td>\n",
       "      <td>0</td>\n",
       "    </tr>\n",
       "    <tr>\n",
       "      <td>9925</td>\n",
       "      <td>0.45</td>\n",
       "      <td>-0.10</td>\n",
       "      <td>1.91</td>\n",
       "      <td>-0.91</td>\n",
       "      <td>1</td>\n",
       "      <td>1</td>\n",
       "      <td>-0.26</td>\n",
       "      <td>-0.01</td>\n",
       "      <td>0</td>\n",
       "      <td>0</td>\n",
       "      <td>0</td>\n",
       "    </tr>\n",
       "    <tr>\n",
       "      <td>8746</td>\n",
       "      <td>0.10</td>\n",
       "      <td>-0.48</td>\n",
       "      <td>0.48</td>\n",
       "      <td>0.82</td>\n",
       "      <td>0</td>\n",
       "      <td>1</td>\n",
       "      <td>1.42</td>\n",
       "      <td>1.03</td>\n",
       "      <td>0</td>\n",
       "      <td>0</td>\n",
       "      <td>1</td>\n",
       "    </tr>\n",
       "    <tr>\n",
       "      <td>660</td>\n",
       "      <td>-0.18</td>\n",
       "      <td>0.19</td>\n",
       "      <td>0.09</td>\n",
       "      <td>-0.91</td>\n",
       "      <td>1</td>\n",
       "      <td>1</td>\n",
       "      <td>-1.16</td>\n",
       "      <td>-0.70</td>\n",
       "      <td>1</td>\n",
       "      <td>0</td>\n",
       "      <td>0</td>\n",
       "    </tr>\n",
       "    <tr>\n",
       "      <td>3610</td>\n",
       "      <td>-0.72</td>\n",
       "      <td>1.62</td>\n",
       "      <td>0.88</td>\n",
       "      <td>-0.91</td>\n",
       "      <td>1</td>\n",
       "      <td>0</td>\n",
       "      <td>0.11</td>\n",
       "      <td>-1.39</td>\n",
       "      <td>0</td>\n",
       "      <td>0</td>\n",
       "      <td>0</td>\n",
       "    </tr>\n",
       "  </tbody>\n",
       "</table>\n",
       "</div>"
      ],
      "text/plain": [
       "      credit_score   age  balance  num_of_products  has_cr_card  \\\n",
       "2837         -1.04  0.95     0.77            -0.91            0   \n",
       "9925          0.45 -0.10     1.91            -0.91            1   \n",
       "8746          0.10 -0.48     0.48             0.82            0   \n",
       "660          -0.18  0.19     0.09            -0.91            1   \n",
       "3610         -0.72  1.62     0.88            -0.91            1   \n",
       "\n",
       "      is_active_member  estimated_salary  tenure  geography_germany  \\\n",
       "2837                 1             -0.12    0.34                  1   \n",
       "9925                 1             -0.26   -0.01                  0   \n",
       "8746                 1              1.42    1.03                  0   \n",
       "660                  1             -1.16   -0.70                  1   \n",
       "3610                 0              0.11   -1.39                  0   \n",
       "\n",
       "      geography_spain  gender_male  \n",
       "2837                0            0  \n",
       "9925                0            0  \n",
       "8746                0            1  \n",
       "660                 0            0  \n",
       "3610                0            0  "
      ]
     },
     "execution_count": 177,
     "metadata": {},
     "output_type": "execute_result"
    }
   ],
   "source": [
    "numeric = ['credit_score', 'age', 'balance', 'estimated_salary', 'num_of_products', 'tenure'] # список количественных признаков\n",
    "scaler = StandardScaler()\n",
    "scaler.fit(features_train[numeric])\n",
    "features_train[numeric]= scaler.transform(features_train[numeric])\n",
    "features_valid[numeric]= scaler.transform(features_valid[numeric])\n",
    "features_test[numeric]= scaler.transform(features_test[numeric])\n",
    "\n",
    "# первые 5 строк обучающей выборки\n",
    "features_train.head()"
   ]
  },
  {
   "cell_type": "markdown",
   "metadata": {},
   "source": [
    "*Выводы*\n",
    "\n",
    "Признаки для построения модели подготовлены: категориальные переведены в численные, произведено масштабирование количественных признаков. Данные разделены на обучающую `train`, валидационную `valid` и тестовую `test` выборки."
   ]
  },
  {
   "cell_type": "markdown",
   "metadata": {},
   "source": [
    "## 2. Исследование задачи"
   ]
  },
  {
   "cell_type": "markdown",
   "metadata": {},
   "source": [
    "Исследуем баланс классов по целевому признаку (exited): класс с меткой «1» называется положительным, с меткой «0» — отрицательным. При разделении данных на несколько выборок мы использовали параметр \"stratify\", поэтому доля ушедших клиентов должна быть примерно одинаковой во всех выборках."
   ]
  },
  {
   "cell_type": "code",
   "execution_count": 178,
   "metadata": {},
   "outputs": [
    {
     "name": "stdout",
     "output_type": "stream",
     "text": [
      "Доля ушедших клиентов во всем датасете: 20.4%\n",
      "Доля ушедших клиентов в обучающей выборке: 20.4%\n",
      "Доля ушедших клиентов в валидационной выборке: 20.4%\n",
      "Доля ушедших клиентов в тестовой выборке: 20.3%\n"
     ]
    }
   ],
   "source": [
    "print(f'Доля ушедших клиентов во всем датасете: {round(target.mean()*100,1)}%')\n",
    "print(f'Доля ушедших клиентов в обучающей выборке: {round(target_train.mean()*100,1)}%')\n",
    "print(f'Доля ушедших клиентов в валидационной выборке: {round(target_valid.mean()*100,1)}%')\n",
    "print(f'Доля ушедших клиентов в тестовой выборке: {round(target_test.mean()*100,1)}%')"
   ]
  },
  {
   "cell_type": "markdown",
   "metadata": {},
   "source": [
    "Наблюдается дисбаланс классов: положительный класс в 4 раза меньше отрицательного.\n",
    "\n",
    "Построим модели классификации без учета дисбаланса (imbalance) классов: логистическую регрессию `model_regres_imb`, случайный лес `model_forest_imb`, дерево решений `model_tree_imb`."
   ]
  },
  {
   "cell_type": "markdown",
   "metadata": {},
   "source": [
    "### 2.1. Дерево решений"
   ]
  },
  {
   "cell_type": "markdown",
   "metadata": {},
   "source": [
    "Построим дерево решений `model_tree_imb` с выбором оптимальной глубины в диапазоне от 1 до 10. Для выбора отимальной глубины будем ориентироваться на максимальное значение F1-меры."
   ]
  },
  {
   "cell_type": "code",
   "execution_count": 179,
   "metadata": {},
   "outputs": [
    {
     "name": "stdout",
     "output_type": "stream",
     "text": [
      "Значение F1-меры лучшей модели дерева решений на валидационной выборке: 0.5974025974025974\n",
      "Глубина лучшей модели дерева решений: 7\n",
      "Значение AUC-ROC: 0.8287077236673563\n"
     ]
    }
   ],
   "source": [
    "model_tree_imb = None\n",
    "f_score_tree = 0\n",
    "depth_tree = 0\n",
    "for depth in range(1, 11):\n",
    "    model = DecisionTreeClassifier(random_state=12345, max_depth=depth) # модель с заданной глубиной дерева\n",
    "    model.fit(features_train, target_train)\n",
    "    f_score = f1_score(target_valid, model.predict(features_valid))\n",
    "    if f_score > f_score_tree:\n",
    "        model_tree_imb = model\n",
    "        f_score_tree = f_score\n",
    "        depth_tree = depth\n",
    "\n",
    "print(\"Значение F1-меры лучшей модели дерева решений на валидационной выборке:\", f_score_tree)\n",
    "print(\"Глубина лучшей модели дерева решений:\", depth_tree)\n",
    "print(\"Значение AUC-ROC:\", roc_auc_score(target_valid, (model_tree_imb.predict_proba(features_valid)[:,1])))"
   ]
  },
  {
   "cell_type": "markdown",
   "metadata": {},
   "source": [
    "### 2.2. Случайный лес"
   ]
  },
  {
   "cell_type": "markdown",
   "metadata": {},
   "source": [
    "Построим в цикле модель случайного леса `model_forest_imb` с выбором оптимального количества деревьев (от 1 до 101 с шагом 5) и оптимальной глубины (от 1 до 10) по значению F1-меры:"
   ]
  },
  {
   "cell_type": "code",
   "execution_count": 180,
   "metadata": {
    "scrolled": true
   },
   "outputs": [
    {
     "name": "stdout",
     "output_type": "stream",
     "text": [
      "Значение F1-меры лучшей модели случайного леса на валидационной выборке: 0.6099706744868035\n",
      "Количество деревьев лучшей модели случайного леса: 11\n",
      "Глубина лучшей модели случайного леса: 8\n",
      "Значение AUC-ROC: 0.8640198541728249\n"
     ]
    }
   ],
   "source": [
    "model_forest_imb = None\n",
    "f_score_forest = 0\n",
    "estimators_forest = 0\n",
    "depth_forest = 0\n",
    "for est in range(1, 102, 5):\n",
    "    for depth in range(1, 11):\n",
    "        model = RandomForestClassifier(random_state=12345, n_estimators=est, max_depth=depth)\n",
    "        model.fit(features_train, target_train)\n",
    "        f_score = f1_score(target_valid, model.predict(features_valid))\n",
    "        if f_score > f_score_forest:\n",
    "            model_forest_imb = model\n",
    "            f_score_forest = f_score\n",
    "            estimators_forest = est\n",
    "            depth_forest = depth\n",
    "\n",
    "print(\"Значение F1-меры лучшей модели случайного леса на валидационной выборке:\", f_score_forest)\n",
    "print(\"Количество деревьев лучшей модели случайного леса:\", estimators_forest)\n",
    "print(\"Глубина лучшей модели случайного леса:\", depth_forest)\n",
    "print(\"Значение AUC-ROC:\", roc_auc_score(target_valid, (model_forest_imb.predict_proba(features_valid)[:,1])))"
   ]
  },
  {
   "cell_type": "markdown",
   "metadata": {},
   "source": [
    "### 2.3. Логистическая регрессия"
   ]
  },
  {
   "cell_type": "markdown",
   "metadata": {},
   "source": [
    "Построим логистическую регрессию `model_regres_imb`"
   ]
  },
  {
   "cell_type": "code",
   "execution_count": 181,
   "metadata": {},
   "outputs": [
    {
     "name": "stdout",
     "output_type": "stream",
     "text": [
      "Значение F1-меры логистической регрессии на валидационной выборке: 0.3076923076923077\n",
      "Значение AUC-ROC: 0.7874113213124446\n"
     ]
    }
   ],
   "source": [
    "model_regres_imb = LogisticRegression(random_state=12345, solver='liblinear')\n",
    "model_regres_imb.fit(features_train, target_train)\n",
    "f_score_regres = f1_score(target_valid, model_regres_imb.predict(features_valid))\n",
    "print(\"Значение F1-меры логистической регрессии на валидационной выборке:\", f_score_regres)\n",
    "print(\"Значение AUC-ROC:\", roc_auc_score(target_valid, (model_regres_imb.predict_proba(features_valid)[:,1])))"
   ]
  },
  {
   "cell_type": "markdown",
   "metadata": {},
   "source": [
    "*Выводы*\n",
    "\n",
    "Худшей моделью оказалась логистическая регрессия. Лучшей моделью классификации без учета дисбаланса классов стала модель случайного леса `model_forest_imb` с 11 деревьями. Значение F1-меры = 0.6262 для такой модели, AUC-ROC = 0.8438."
   ]
  },
  {
   "cell_type": "markdown",
   "metadata": {},
   "source": [
    "## 3. Борьба с дисбалансом"
   ]
  },
  {
   "cell_type": "markdown",
   "metadata": {},
   "source": [
    "Ранее мы отмечали, что в данных есть дисбаланс: число наблюдений положительного класса (ушедшие клиенты) в 4 раза меньше числа наблюдений отрицательного класса.\n",
    "\n",
    "Для борьбы с дисбалансом будем использовать 3 способа:\n",
    "\n",
    "1. Использование параметра class_weight\n",
    "2. Увеличение выборки (upsampling)\n",
    "3. Уменьшение выборки (downsampling)"
   ]
  },
  {
   "cell_type": "markdown",
   "metadata": {},
   "source": [
    "### 3.1. Использование параметра class_weight"
   ]
  },
  {
   "cell_type": "markdown",
   "metadata": {},
   "source": [
    "Построим те же модели, что и в предыдущем разделе, но с учетом параметра class_weight='balanced'.\n",
    "\n",
    "*1. Дерево решений `model_tree_cw` с выбором глубины в диапазоне от 1 до 10*"
   ]
  },
  {
   "cell_type": "code",
   "execution_count": 182,
   "metadata": {},
   "outputs": [
    {
     "name": "stdout",
     "output_type": "stream",
     "text": [
      "Значение F1-меры лучшей модели дерева решений на валидационной выборке: 0.575925925925926\n",
      "Глубина лучшей модели дерева решений: 6\n",
      "Значение AUC-ROC: 0.8271165878411666\n"
     ]
    }
   ],
   "source": [
    "model_tree_cw = None\n",
    "f_score_tree_cw = 0\n",
    "depth_tree_cw = 0\n",
    "for depth in range(1, 11):\n",
    "    model = DecisionTreeClassifier(random_state=12345, max_depth=depth, class_weight='balanced')\n",
    "    model.fit(features_train, target_train)\n",
    "    f_score = f1_score(target_valid, model.predict(features_valid))\n",
    "    if f_score > f_score_tree_cw:\n",
    "        model_tree_cw = model\n",
    "        f_score_tree_cw = f_score\n",
    "        depth_tree_cw = depth\n",
    "\n",
    "print(\"Значение F1-меры лучшей модели дерева решений на валидационной выборке:\", f_score_tree_cw)\n",
    "print(\"Глубина лучшей модели дерева решений:\", depth_tree_cw)\n",
    "print(\"Значение AUC-ROC:\", roc_auc_score(target_valid, (model_tree_cw.predict_proba(features_valid)[:,1])))"
   ]
  },
  {
   "cell_type": "markdown",
   "metadata": {},
   "source": [
    "*2. Случайный лес `model_forest_cw` с количеством деревьев от 1 до 101 с шагом 5 c глубиной от 1 до 10*"
   ]
  },
  {
   "cell_type": "code",
   "execution_count": 183,
   "metadata": {},
   "outputs": [
    {
     "name": "stdout",
     "output_type": "stream",
     "text": [
      "Значение F1-меры лучшей модели случайного леса на валидационной выборке: 0.6439135381114903\n",
      "Количество деревьев лучшей модели случайного леса: 101\n",
      "Глубина лучшей модели случайного леса: 9\n",
      "Значение AUC-ROC: 0.8690788501330181\n"
     ]
    }
   ],
   "source": [
    "model_forest_cw = None\n",
    "f_score_forest_cw = 0\n",
    "estimators_forest_cw = 0\n",
    "depth_forest_cw = 0\n",
    "for est in range(1, 102, 5):\n",
    "    for depth in range(1, 11):\n",
    "        model = RandomForestClassifier(random_state=12345, n_estimators=est, max_depth=depth, class_weight='balanced') \n",
    "        model.fit(features_train, target_train)\n",
    "        f_score = f1_score(target_valid, model.predict(features_valid))\n",
    "        if f_score > f_score_forest_cw:\n",
    "            model_forest_cw = model\n",
    "            f_score_forest_cw = f_score\n",
    "            estimators_forest_cw = est\n",
    "            depth_forest_cw = depth\n",
    "\n",
    "print(\"Значение F1-меры лучшей модели случайного леса на валидационной выборке:\", f_score_forest_cw)\n",
    "print(\"Количество деревьев лучшей модели случайного леса:\", estimators_forest_cw)\n",
    "print(\"Глубина лучшей модели случайного леса:\", depth_forest_cw)\n",
    "print(\"Значение AUC-ROC:\", roc_auc_score(target_valid, (model_forest_cw.predict_proba(features_valid)[:,1])))"
   ]
  },
  {
   "cell_type": "markdown",
   "metadata": {},
   "source": [
    "*3. Логистическая регрессия `model_regres_cw`*"
   ]
  },
  {
   "cell_type": "code",
   "execution_count": 184,
   "metadata": {},
   "outputs": [
    {
     "name": "stdout",
     "output_type": "stream",
     "text": [
      "Значение F1-меры логистической регрессии на валидационной выборке: 0.5299295774647889\n",
      "Значение AUC-ROC: 0.7936419228495418\n"
     ]
    }
   ],
   "source": [
    "model_regres_cw = LogisticRegression(random_state=12345, solver='liblinear', class_weight='balanced')\n",
    "model_regres_cw.fit(features_train, target_train)\n",
    "f_score_regres_cw = f1_score(target_valid, model_regres_cw.predict(features_valid))\n",
    "print(\"Значение F1-меры логистической регрессии на валидационной выборке:\", f_score_regres_cw)\n",
    "print(\"Значение AUC-ROC:\", roc_auc_score(target_valid, (model_regres_cw.predict_proba(features_valid)[:,1])))"
   ]
  },
  {
   "cell_type": "markdown",
   "metadata": {},
   "source": [
    "*Выводы*\n",
    "\n",
    "Параметр class_weight='balanced' помог улучшить значение F1-меры логистической регрессии с 0.31 до 0.53. Однако в других моделях значение F1-меры немного снизилось.\n",
    "Худшей моделью осталась логистическая регрессия. Лучшей моделью классификации с параметром class_weight='balanced' стала модель случайного леса model_forest_imb с 11 деревьями. Значение F1-меры = 0.6086 для такой модели, AUC-ROC = 0.8680."
   ]
  },
  {
   "cell_type": "markdown",
   "metadata": {},
   "source": [
    "### 3.2. Увеличение выборки (upsampling)"
   ]
  },
  {
   "cell_type": "markdown",
   "metadata": {},
   "source": [
    "Класс \"1\" меньше класса \"0\" в 4 раза, поэтому будем увеличивать его объем. Зададим разделение классов:"
   ]
  },
  {
   "cell_type": "code",
   "execution_count": 185,
   "metadata": {},
   "outputs": [],
   "source": [
    "features_1 = features_train[target_train==1]\n",
    "features_0 = features_train[target_train==0]\n",
    "target_1 = target_train[target_train==1]\n",
    "target_0 = target_train[target_train==0]"
   ]
  },
  {
   "cell_type": "markdown",
   "metadata": {},
   "source": [
    "Создадим новые признаки, увеличив объем класса \"1\" в 4 раза:"
   ]
  },
  {
   "cell_type": "code",
   "execution_count": 186,
   "metadata": {},
   "outputs": [
    {
     "name": "stdout",
     "output_type": "stream",
     "text": [
      "Число наблюдений в увеличенной обучающей выборке: 9666\n"
     ]
    }
   ],
   "source": [
    "features_upsampled = pd.concat([features_0] + [features_1]*4)\n",
    "target_upsampled = pd.concat([target_0] + [target_1]*4)\n",
    "# перемешаем данные\n",
    "features_upsampled, target_upsampled = shuffle (features_upsampled, target_upsampled, random_state=12345)\n",
    "print('Число наблюдений в увеличенной обучающей выборке:', features_upsampled.shape[0])"
   ]
  },
  {
   "cell_type": "markdown",
   "metadata": {},
   "source": [
    "Построим те же три модели, что и в предыдущем разделе, но с учетом увеличенной выборки.\n",
    "\n",
    "*1. Дерево решений `model_tree_up` с выбором глубины в диапазоне от 1 до 10*"
   ]
  },
  {
   "cell_type": "code",
   "execution_count": 187,
   "metadata": {},
   "outputs": [
    {
     "name": "stdout",
     "output_type": "stream",
     "text": [
      "Значение F1-меры лучшей модели дерева решений на валидационной выборке: 0.575925925925926\n",
      "Глубина лучшей модели дерева решений: 6\n",
      "Значение AUC-ROC: 0.827131983446645\n"
     ]
    }
   ],
   "source": [
    "model_tree_up = None\n",
    "f_score_tree_up = 0\n",
    "depth_tree_up = 0\n",
    "for depth in range(1, 11):\n",
    "    model = DecisionTreeClassifier(random_state=12345, max_depth=depth)\n",
    "    model.fit(features_upsampled, target_upsampled)\n",
    "    f_score = f1_score(target_valid, model.predict(features_valid))\n",
    "    if f_score > f_score_tree_up:\n",
    "        model_tree_up = model\n",
    "        f_score_tree_up = f_score\n",
    "        depth_tree_up = depth\n",
    "\n",
    "print(\"Значение F1-меры лучшей модели дерева решений на валидационной выборке:\", f_score_tree_up)\n",
    "print(\"Глубина лучшей модели дерева решений:\", depth_tree_up)\n",
    "print(\"Значение AUC-ROC:\", roc_auc_score(target_valid, (model_tree_up.predict_proba(features_valid)[:,1])))"
   ]
  },
  {
   "cell_type": "markdown",
   "metadata": {},
   "source": [
    "*2. Случайный лес `model_forest_up` с количеством деревьев от 1 до 101 с шагом 5 c глубиной от 1 до 10*"
   ]
  },
  {
   "cell_type": "code",
   "execution_count": 188,
   "metadata": {},
   "outputs": [
    {
     "name": "stdout",
     "output_type": "stream",
     "text": [
      "Значение F1-меры лучшей модели случайного леса на валидационной выборке: 0.6580921757770632\n",
      "Количество деревьев лучшей модели случайного леса: 81\n",
      "Глубина лучшей модели случайного леса: 9\n",
      "Значение AUC-ROC: 0.876031505567051\n"
     ]
    }
   ],
   "source": [
    "model_forest_up = None\n",
    "f_score_forest_up = 0\n",
    "estimators_forest_up = 0\n",
    "depth_forest_up = 0\n",
    "for est in range(1, 102, 5):\n",
    "    for depth in range(1, 11):\n",
    "        model = RandomForestClassifier(random_state=12345, n_estimators=est, max_depth=depth) \n",
    "        model.fit(features_upsampled, target_upsampled)\n",
    "        f_score = f1_score(target_valid, model.predict(features_valid))\n",
    "        if f_score > f_score_forest_up:\n",
    "            model_forest_up = model\n",
    "            f_score_forest_up = f_score\n",
    "            estimators_forest_up = est\n",
    "            depth_forest_up = depth\n",
    "\n",
    "print(\"Значение F1-меры лучшей модели случайного леса на валидационной выборке:\", f_score_forest_up)\n",
    "print(\"Количество деревьев лучшей модели случайного леса:\", estimators_forest_up)\n",
    "print(\"Глубина лучшей модели случайного леса:\", depth_forest_up)\n",
    "print(\"Значение AUC-ROC:\", roc_auc_score(target_valid, (model_forest_up.predict_proba(features_valid)[:,1])))"
   ]
  },
  {
   "cell_type": "markdown",
   "metadata": {},
   "source": [
    "*3. Логистическая регрессия `model_regres_up`*"
   ]
  },
  {
   "cell_type": "code",
   "execution_count": 189,
   "metadata": {},
   "outputs": [
    {
     "name": "stdout",
     "output_type": "stream",
     "text": [
      "Значение F1-меры логистической регрессии на валидационной выборке: 0.5233968804159445\n",
      "Значение AUC-ROC: 0.7937081239530989\n"
     ]
    }
   ],
   "source": [
    "model_regres_up = LogisticRegression(random_state=12345, solver='liblinear')\n",
    "model_regres_up.fit(features_upsampled, target_upsampled)\n",
    "f_score_regres_up = f1_score(target_valid, model_regres_up.predict(features_valid))\n",
    "print(\"Значение F1-меры логистической регрессии на валидационной выборке:\", f_score_regres_up)\n",
    "print(\"Значение AUC-ROC:\", roc_auc_score(target_valid, (model_regres_up.predict_proba(features_valid)[:,1])))"
   ]
  },
  {
   "cell_type": "markdown",
   "metadata": {},
   "source": [
    "### 3.3. Уменьшение выборки (downsampling)"
   ]
  },
  {
   "cell_type": "markdown",
   "metadata": {},
   "source": [
    "Создадим новые признаки, уменьшив объем класса \"0\" в 4 раза:"
   ]
  },
  {
   "cell_type": "code",
   "execution_count": 190,
   "metadata": {},
   "outputs": [
    {
     "name": "stdout",
     "output_type": "stream",
     "text": [
      "Число наблюдений в уменьшенной обучающей выборке: 2416\n"
     ]
    }
   ],
   "source": [
    "features_downsampled = pd.concat([features_0.sample(frac=0.25, random_state=12345)] + [features_1])\n",
    "target_downsampled = pd.concat([target_0.sample(frac=0.25, random_state=12345)] + [target_1])\n",
    "# перемешаем данные\n",
    "features_downsampled, target_downsampled = shuffle (features_downsampled, target_downsampled, random_state=12345)\n",
    "print('Число наблюдений в уменьшенной обучающей выборке:', features_downsampled.shape[0])"
   ]
  },
  {
   "cell_type": "markdown",
   "metadata": {},
   "source": [
    "Построим те же три модели, что и в предыдущем разделе, но с учетом увеличенной выборки.\n",
    "\n",
    "*1. Дерево решений `model_tree_down` с выбором глубины в диапазоне от 1 до 10*"
   ]
  },
  {
   "cell_type": "code",
   "execution_count": 191,
   "metadata": {},
   "outputs": [
    {
     "name": "stdout",
     "output_type": "stream",
     "text": [
      "Значение F1-меры лучшей модели дерева решений на валидационной выборке: 0.5977229601518027\n",
      "Глубина лучшей модели дерева решений: 6\n",
      "Значение AUC-ROC: 0.8552012513548135\n"
     ]
    }
   ],
   "source": [
    "model_tree_down = None\n",
    "f_score_tree_down = 0\n",
    "depth_tree_down = 0\n",
    "for depth in range(1, 11):\n",
    "    model = DecisionTreeClassifier(random_state=12345, max_depth=depth)\n",
    "    model.fit(features_downsampled, target_downsampled)\n",
    "    f_score = f1_score(target_valid, model.predict(features_valid))\n",
    "    if f_score > f_score_tree_down:\n",
    "        model_tree_down = model\n",
    "        f_score_tree_down = f_score\n",
    "        depth_tree_down = depth\n",
    "\n",
    "print(\"Значение F1-меры лучшей модели дерева решений на валидационной выборке:\", f_score_tree_down)\n",
    "print(\"Глубина лучшей модели дерева решений:\", depth_tree_down)\n",
    "print(\"Значение AUC-ROC:\", roc_auc_score(target_valid, (model_tree_down.predict_proba(features_valid)[:,1])))"
   ]
  },
  {
   "cell_type": "markdown",
   "metadata": {},
   "source": [
    "*2. Случайный лес `model_forest_down` с количеством деревьев от 1 до 101 с шагом 5 и глубиной от 1 до 10*"
   ]
  },
  {
   "cell_type": "code",
   "execution_count": 192,
   "metadata": {},
   "outputs": [
    {
     "name": "stdout",
     "output_type": "stream",
     "text": [
      "Значение F1-меры лучшей модели случайного леса на валидационной выборке: 0.6259541984732824\n",
      "Количество деревьев лучшей модели случайного леса: 61\n",
      "Глубина лучшей модели случайного леса: 7\n",
      "Значение AUC-ROC: 0.8672560104443787\n"
     ]
    }
   ],
   "source": [
    "model_forest_down = None\n",
    "f_score_forest_down = 0\n",
    "estimators_forest_down = 0\n",
    "depth_forest_down = 0\n",
    "for est in range(1, 102, 5):\n",
    "    for depth in range(1, 11):\n",
    "        model = RandomForestClassifier(random_state=12345, n_estimators=est, max_depth=depth) \n",
    "        model.fit(features_downsampled, target_downsampled)\n",
    "        f_score = f1_score(target_valid, model.predict(features_valid))\n",
    "        if f_score > f_score_forest_down:\n",
    "            model_forest_down = model\n",
    "            f_score_forest_down = f_score\n",
    "            estimators_forest_down = est\n",
    "            depth_forest_down = depth\n",
    "\n",
    "print(\"Значение F1-меры лучшей модели случайного леса на валидационной выборке:\", f_score_forest_down)\n",
    "print(\"Количество деревьев лучшей модели случайного леса:\", estimators_forest_down)\n",
    "print(\"Глубина лучшей модели случайного леса:\", depth_forest_down)\n",
    "print(\"Значение AUC-ROC:\", roc_auc_score(target_valid, (model_forest_down.predict_proba(features_valid)[:,1])))"
   ]
  },
  {
   "cell_type": "markdown",
   "metadata": {},
   "source": [
    "*3. Логистическая регрессия `model_regres_down`*"
   ]
  },
  {
   "cell_type": "code",
   "execution_count": 193,
   "metadata": {
    "scrolled": true
   },
   "outputs": [
    {
     "name": "stdout",
     "output_type": "stream",
     "text": [
      "Значение F1-меры логистической регрессии на валидационной выборке: 0.5275862068965517\n",
      "Значение AUC-ROC: 0.7925457557394817\n"
     ]
    }
   ],
   "source": [
    "model_regres_down = LogisticRegression(random_state=12345, solver='liblinear')\n",
    "model_regres_down.fit(features_downsampled, target_downsampled)\n",
    "f_score_regres_down = f1_score(target_valid, model_regres_down.predict(features_valid))\n",
    "print(\"Значение F1-меры логистической регрессии на валидационной выборке:\", f_score_regres_down)\n",
    "print(\"Значение AUC-ROC:\", roc_auc_score(target_valid, (model_regres_down.predict_proba(features_valid)[:,1])))"
   ]
  },
  {
   "cell_type": "markdown",
   "metadata": {},
   "source": [
    "## 4. Выбор лучшей модели"
   ]
  },
  {
   "cell_type": "markdown",
   "metadata": {},
   "source": [
    "Выберем лучшую модель по значение F1-меры. Для начала создадим датафрейм `f_score` со значениями F1-меры всех построенных моделей:"
   ]
  },
  {
   "cell_type": "code",
   "execution_count": 194,
   "metadata": {},
   "outputs": [
    {
     "data": {
      "text/html": [
       "<div>\n",
       "<style scoped>\n",
       "    .dataframe tbody tr th:only-of-type {\n",
       "        vertical-align: middle;\n",
       "    }\n",
       "\n",
       "    .dataframe tbody tr th {\n",
       "        vertical-align: top;\n",
       "    }\n",
       "\n",
       "    .dataframe thead th {\n",
       "        text-align: right;\n",
       "    }\n",
       "</style>\n",
       "<table border=\"1\" class=\"dataframe\">\n",
       "  <thead>\n",
       "    <tr style=\"text-align: right;\">\n",
       "      <th></th>\n",
       "      <th>imbalance</th>\n",
       "      <th>class_weight</th>\n",
       "      <th>upsampling</th>\n",
       "      <th>downsampling</th>\n",
       "    </tr>\n",
       "  </thead>\n",
       "  <tbody>\n",
       "    <tr>\n",
       "      <td>decision_tree</td>\n",
       "      <td>0.60</td>\n",
       "      <td>0.58</td>\n",
       "      <td>0.58</td>\n",
       "      <td>0.60</td>\n",
       "    </tr>\n",
       "    <tr>\n",
       "      <td>random_forest</td>\n",
       "      <td>0.61</td>\n",
       "      <td>0.64</td>\n",
       "      <td>0.66</td>\n",
       "      <td>0.63</td>\n",
       "    </tr>\n",
       "    <tr>\n",
       "      <td>logistic_regression</td>\n",
       "      <td>0.31</td>\n",
       "      <td>0.53</td>\n",
       "      <td>0.52</td>\n",
       "      <td>0.53</td>\n",
       "    </tr>\n",
       "  </tbody>\n",
       "</table>\n",
       "</div>"
      ],
      "text/plain": [
       "                     imbalance  class_weight  upsampling  downsampling\n",
       "decision_tree             0.60          0.58        0.58          0.60\n",
       "random_forest             0.61          0.64        0.66          0.63\n",
       "logistic_regression       0.31          0.53        0.52          0.53"
      ]
     },
     "execution_count": 194,
     "metadata": {},
     "output_type": "execute_result"
    }
   ],
   "source": [
    "f_score = pd.DataFrame({'imbalance': [f_score_tree, f_score_forest, f_score_regres],\n",
    "                        'class_weight': [f_score_tree_cw, f_score_forest_cw, f_score_regres_cw],\n",
    "                        'upsampling': [f_score_tree_up, f_score_forest_up, f_score_regres_up],\n",
    "                        'downsampling': [f_score_tree_down, f_score_forest_down, f_score_regres_down]},\n",
    "                index= ['decision_tree', 'random_forest', 'logistic_regression'])\n",
    "f_score"
   ]
  },
  {
   "cell_type": "markdown",
   "metadata": {},
   "source": [
    "Максимальные значения F1-меры для каждой модели:"
   ]
  },
  {
   "cell_type": "code",
   "execution_count": 195,
   "metadata": {
    "scrolled": true
   },
   "outputs": [
    {
     "data": {
      "text/plain": [
       "decision_tree          downsampling\n",
       "random_forest            upsampling\n",
       "logistic_regression    class_weight\n",
       "dtype: object"
      ]
     },
     "execution_count": 195,
     "metadata": {},
     "output_type": "execute_result"
    }
   ],
   "source": [
    "f_score.idxmax(axis=1)"
   ]
  },
  {
   "cell_type": "markdown",
   "metadata": {},
   "source": [
    "*Выводы*\n",
    "\n",
    "Таким образом, модели с лучшими значениями F1-меры на валидационной выборке:\n",
    "\n",
    "- для дерева решений лучшее значение F1-меры = 0.5977 при использовании техники downsampling. Глубина = 6.\n",
    "- для случайного леса лучшее значение F1-меры = 0.6581 при использовании техники upsampling.\n",
    "- для логистической регрессии лучшее значение F1-меры = 0.5299 при использовании параметра class_weight.\n",
    "\n",
    "Моделью с наилучшими значениями F1-меры = 0.6581 на валидационной выборке является модель случайного леса с 81 деревом и глубиной = 9, построенная с применением техники upsampling. Значение AUC-ROC для этой модели = 0.876."
   ]
  },
  {
   "cell_type": "markdown",
   "metadata": {},
   "source": [
    "## 5. Тестирование лучшей модели"
   ]
  },
  {
   "cell_type": "markdown",
   "metadata": {},
   "source": [
    "Моделью с наилучшими значениями F1-меры на валидационной выборке является модель случайного леса с 81 деревом и глубиной=9, построенная с применением техники upsampling. \n",
    "Проверим модель `model_forest_up` на тестовой выборке:"
   ]
  },
  {
   "cell_type": "code",
   "execution_count": 196,
   "metadata": {
    "scrolled": true
   },
   "outputs": [
    {
     "name": "stdout",
     "output_type": "stream",
     "text": [
      "Значение F1-меры лучшей модели случайного леса на тестовой выборке: 0.6038961038961039\n"
     ]
    }
   ],
   "source": [
    "print(\"Значение F1-меры лучшей модели случайного леса на тестовой выборке:\", \n",
    "     f1_score(target_test, model_forest_up.predict(features_test)))"
   ]
  },
  {
   "cell_type": "markdown",
   "metadata": {},
   "source": [
    "Построим ROC-кривую для тестовой выборки и рассчитаем значение AUC-ROC:"
   ]
  },
  {
   "cell_type": "code",
   "execution_count": 197,
   "metadata": {
    "scrolled": true
   },
   "outputs": [
    {
     "data": {
      "image/png": "[encoded data removed]",
      "text/plain": [
       "<Figure size 432x288 with 1 Axes>"
      ]
     },
     "metadata": {
      "needs_background": "light"
     },
     "output_type": "display_data"
    },
    {
     "name": "stdout",
     "output_type": "stream",
     "text": [
      "Значение AUC-ROC на тестовой выборке: 0.8541299388757015\n"
     ]
    }
   ],
   "source": [
    "fpr, tpr, thresholds = roc_curve(target_test, \n",
    "                                 (model_forest_up.predict_proba(features_test)[:,1]))\n",
    "\n",
    "plt.plot([0, 1], [0, 1], linestyle='--') # ROC-кривая случайной модели\n",
    "plt.plot(fpr, tpr)\n",
    "plt.xlim([0.0, 1.0])\n",
    "plt.ylim([0.0, 1.0])\n",
    "plt.xlabel('False Positive Rate')\n",
    "plt.ylabel('True Positive Rate')\n",
    "plt.title('ROC-кривая на тестовой выборке')\n",
    "plt.show()\n",
    "\n",
    "print(\"Значение AUC-ROC на тестовой выборке:\", \n",
    "      roc_auc_score(target_test, (model_forest_up.predict_proba(features_test)[:,1])))"
   ]
  },
  {
   "cell_type": "markdown",
   "metadata": {},
   "source": [
    "Попробуем улучшить качество, обучив модель `model_forest_up` на объединенной выборке обучающих и валидационных признаков. Обученную модель перезапишем в переменную `model_best`:"
   ]
  },
  {
   "cell_type": "code",
   "execution_count": 198,
   "metadata": {},
   "outputs": [
    {
     "name": "stdout",
     "output_type": "stream",
     "text": [
      "Accuracy лучшей модели на тестовой выборке: 0.83\n",
      "Precision лучшей модели на тестовой выборке: 0.5717344753747323\n",
      "Recall лучшей модели на тестовой выборке: 0.6560196560196561\n",
      "Значение F1-меры лучшей модели на тестовой выборке: 0.6109839816933639\n"
     ]
    }
   ],
   "source": [
    "features_best = pd.concat([features_upsampled] + [features_valid]) # объединение выборок\n",
    "target_best = pd.concat([target_upsampled] + [target_valid]) # объединение выборок\n",
    "model_best = model_forest_up \n",
    "model_best.fit(features_best, target_best)\n",
    "\n",
    "print(\"Accuracy лучшей модели на тестовой выборке:\", model_best.score(features_test,target_test))\n",
    "print(\"Precision лучшей модели на тестовой выборке:\", precision_score(target_test, model_best.predict(features_test)))\n",
    "print(\"Recall лучшей модели на тестовой выборке:\", recall_score(target_test, model_best.predict(features_test)))\n",
    "print(\"Значение F1-меры лучшей модели на тестовой выборке:\", f1_score(target_test, model_best.predict(features_test)))"
   ]
  },
  {
   "cell_type": "code",
   "execution_count": 199,
   "metadata": {
    "scrolled": true
   },
   "outputs": [
    {
     "data": {
      "image/png": "[encoded data removed]",
      "text/plain": [
       "<Figure size 432x288 with 1 Axes>"
      ]
     },
     "metadata": {
      "needs_background": "light"
     },
     "output_type": "display_data"
    },
    {
     "name": "stdout",
     "output_type": "stream",
     "text": [
      "Значение AUC-ROC на тестовой выборке: 0.859275299953266\n"
     ]
    }
   ],
   "source": [
    "fpr_best, tpr_best, thresholds_best = roc_curve(target_test, \n",
    "                                 (model_best.predict_proba(features_test)[:,1]))\n",
    "\n",
    "plt.plot([0, 1], [0, 1], linestyle='--') # ROC-кривая случайной модели\n",
    "plt.plot(fpr_best, tpr_best)\n",
    "plt.xlim([0.0, 1.0])\n",
    "plt.ylim([0.0, 1.0])\n",
    "plt.xlabel('False Positive Rate')\n",
    "plt.ylabel('True Positive Rate')\n",
    "plt.title('ROC-кривая на тестовой выборке для лучшей модели')\n",
    "plt.show()\n",
    "\n",
    "print(\"Значение AUC-ROC на тестовой выборке:\", \n",
    "      roc_auc_score(target_test, (model_best.predict_proba(features_test)[:,1])))"
   ]
  },
  {
   "cell_type": "markdown",
   "metadata": {},
   "source": [
    "*Вывод*\n",
    "\n",
    "Качество модели на тестовых данных улучшилось после обучения на объединенной выборке: F1-мера лучшей модели выросла с 0.604 до 0.611, значение AUC-ROC на тестовой выборке выросло с 0.854 до 0.859."
   ]
  },
  {
   "cell_type": "markdown",
   "metadata": {},
   "source": [
    "## 6. Общий вывод"
   ]
  },
  {
   "cell_type": "markdown",
   "metadata": {},
   "source": [
    "В ходе исследования были изучены данные о поведении клиентов «Бета-Банка» и расторжении ими договоров.\n",
    "\n",
    "Для решения задачи классификации, которая будет предсказывать уход клиента, были использованы 3 метода классификации: дерево решений, случайный лес и логистическая регрессия. \n",
    "\n",
    "Так как исходные данные не были сбалансированными (класс ушедших клиентов в 4 раза меньше класса оставшихся), при построении моделей были протестированы различные методы борьбы с дисбалансом классов: использование параметра class_weight, увеличение выборки (upsampling), уменьшение выборки (downsampling).\n",
    "\n",
    "В общей сложности было протестировано (без учета дисбаланса и с тремя методами борьбы с дисбалансом):\n",
    "- 40 моделей дерева решений (глубина от 1 до 10), \n",
    "- 800 моделей случайного леса (число деревьев от 1 до 101 с шагом 5, глубина от 1 до 10), \n",
    "- 4 модели логистической регресии.\n",
    "\n",
    "Наилучшее качество показала модель случайного леса `model_best` с 81 деревом и глубиной=9, построенная с применением техники upsampling. \n",
    "- Accuracy лучшей модели на тестовой выборке: 0.830\n",
    "- Precision лучшей модели на тестовой выборке: 0.572\n",
    "- Recall лучшей модели на тестовой выборке: 0.656\n",
    "- Значение F1-меры лучшей модели на тестовой выборке: 0.611\n",
    "- Значение AUC-ROC на тестовой выборке: 0.859"
   ]
  }
 ],
 "metadata": {
  "ExecuteTimeLog": [
   {
    "duration": 1092,
    "start_time": "2022-02-15T15:14:38.141Z"
   },
   {
    "duration": 41,
    "start_time": "2022-02-15T15:14:45.227Z"
   },
   {
    "duration": 34,
    "start_time": "2022-02-15T15:15:02.124Z"
   },
   {
    "duration": 23,
    "start_time": "2022-02-15T15:15:47.227Z"
   },
   {
    "duration": 10,
    "start_time": "2022-02-15T15:16:10.954Z"
   },
   {
    "duration": 9,
    "start_time": "2022-02-15T15:16:42.651Z"
   },
   {
    "duration": 6,
    "start_time": "2022-02-15T15:16:54.123Z"
   },
   {
    "duration": 16,
    "start_time": "2022-02-15T15:17:39.813Z"
   },
   {
    "duration": 15,
    "start_time": "2022-02-15T15:18:18.979Z"
   },
   {
    "duration": 14,
    "start_time": "2022-02-15T15:18:23.643Z"
   },
   {
    "duration": 4,
    "start_time": "2022-02-15T15:29:26.991Z"
   },
   {
    "duration": 4,
    "start_time": "2022-02-15T15:29:30.966Z"
   },
   {
    "duration": 3,
    "start_time": "2022-02-15T15:31:39.079Z"
   },
   {
    "duration": 32,
    "start_time": "2022-02-15T15:31:41.661Z"
   },
   {
    "duration": 14,
    "start_time": "2022-02-15T15:31:45.654Z"
   },
   {
    "duration": 38,
    "start_time": "2022-02-15T15:34:03.629Z"
   },
   {
    "duration": 12,
    "start_time": "2022-02-15T15:36:57.748Z"
   },
   {
    "duration": 3,
    "start_time": "2022-02-15T16:53:07.128Z"
   },
   {
    "duration": 4,
    "start_time": "2022-02-15T16:53:25.064Z"
   },
   {
    "duration": 6,
    "start_time": "2022-02-15T16:53:34.264Z"
   },
   {
    "duration": 4,
    "start_time": "2022-02-15T16:54:22.144Z"
   },
   {
    "duration": 6,
    "start_time": "2022-02-15T16:54:30.152Z"
   },
   {
    "duration": 6,
    "start_time": "2022-02-15T16:54:37.311Z"
   },
   {
    "duration": 12,
    "start_time": "2022-02-15T16:55:44.351Z"
   },
   {
    "duration": 14,
    "start_time": "2022-02-15T16:57:39.791Z"
   },
   {
    "duration": 6,
    "start_time": "2022-02-15T16:59:16.366Z"
   },
   {
    "duration": 6,
    "start_time": "2022-02-15T16:59:44.337Z"
   },
   {
    "duration": 6,
    "start_time": "2022-02-15T16:59:52.423Z"
   },
   {
    "duration": 5,
    "start_time": "2022-02-15T17:00:22.301Z"
   },
   {
    "duration": 6,
    "start_time": "2022-02-15T17:00:31.541Z"
   },
   {
    "duration": 6,
    "start_time": "2022-02-15T17:00:37.310Z"
   },
   {
    "duration": 15,
    "start_time": "2022-02-15T17:01:01.998Z"
   },
   {
    "duration": 16,
    "start_time": "2022-02-15T17:02:26.654Z"
   },
   {
    "duration": 8,
    "start_time": "2022-02-15T17:03:26.414Z"
   },
   {
    "duration": 7,
    "start_time": "2022-02-15T17:03:54.956Z"
   },
   {
    "duration": 4,
    "start_time": "2022-02-15T17:04:49.991Z"
   },
   {
    "duration": 13,
    "start_time": "2022-02-15T17:04:49.997Z"
   },
   {
    "duration": 39,
    "start_time": "2022-02-15T17:04:50.012Z"
   },
   {
    "duration": 15,
    "start_time": "2022-02-15T17:04:50.053Z"
   },
   {
    "duration": 21,
    "start_time": "2022-02-15T17:04:50.070Z"
   },
   {
    "duration": 45,
    "start_time": "2022-02-15T17:04:50.094Z"
   },
   {
    "duration": 6,
    "start_time": "2022-02-15T17:04:56.589Z"
   },
   {
    "duration": 8,
    "start_time": "2022-02-15T17:05:43.356Z"
   },
   {
    "duration": 11,
    "start_time": "2022-02-15T17:05:53.941Z"
   },
   {
    "duration": 9,
    "start_time": "2022-02-15T17:06:06.020Z"
   },
   {
    "duration": 9,
    "start_time": "2022-02-15T17:06:21.541Z"
   },
   {
    "duration": 82,
    "start_time": "2022-02-15T17:06:28.428Z"
   },
   {
    "duration": 9,
    "start_time": "2022-02-15T17:06:30.573Z"
   },
   {
    "duration": 9,
    "start_time": "2022-02-15T17:06:36.197Z"
   },
   {
    "duration": 14,
    "start_time": "2022-02-15T17:09:01.837Z"
   },
   {
    "duration": 24,
    "start_time": "2022-02-15T17:09:44.723Z"
   },
   {
    "duration": 19,
    "start_time": "2022-02-15T17:10:13.756Z"
   },
   {
    "duration": 18,
    "start_time": "2022-02-15T17:10:17.340Z"
   },
   {
    "duration": 40,
    "start_time": "2022-02-15T17:10:42.691Z"
   },
   {
    "duration": 40,
    "start_time": "2022-02-15T17:11:09.435Z"
   },
   {
    "duration": 51,
    "start_time": "2022-02-15T17:11:15.953Z"
   },
   {
    "duration": 37,
    "start_time": "2022-02-15T17:11:54.571Z"
   },
   {
    "duration": 38,
    "start_time": "2022-02-15T17:12:20.403Z"
   },
   {
    "duration": 40,
    "start_time": "2022-02-15T17:12:53.988Z"
   },
   {
    "duration": 37,
    "start_time": "2022-02-15T17:13:31.051Z"
   },
   {
    "duration": 39,
    "start_time": "2022-02-15T17:14:32.363Z"
   },
   {
    "duration": 345,
    "start_time": "2022-02-15T17:18:04.273Z"
   },
   {
    "duration": 38,
    "start_time": "2022-02-15T17:18:08.090Z"
   },
   {
    "duration": 53,
    "start_time": "2022-02-15T17:20:34.594Z"
   },
   {
    "duration": 39,
    "start_time": "2022-02-15T17:20:38.152Z"
   },
   {
    "duration": 51,
    "start_time": "2022-02-15T17:25:10.665Z"
   },
   {
    "duration": 40,
    "start_time": "2022-02-15T17:25:15.592Z"
   },
   {
    "duration": 8,
    "start_time": "2022-02-15T17:31:31.942Z"
   },
   {
    "duration": 10,
    "start_time": "2022-02-15T17:32:52.103Z"
   },
   {
    "duration": 11,
    "start_time": "2022-02-15T17:38:30.315Z"
   },
   {
    "duration": 25,
    "start_time": "2022-02-15T17:38:30.348Z"
   },
   {
    "duration": 20,
    "start_time": "2022-02-15T17:38:30.375Z"
   },
   {
    "duration": 22,
    "start_time": "2022-02-15T17:48:47.376Z"
   },
   {
    "duration": 5,
    "start_time": "2022-02-15T17:48:49.514Z"
   },
   {
    "duration": 17,
    "start_time": "2022-02-15T17:48:50.754Z"
   },
   {
    "duration": 5,
    "start_time": "2022-02-15T17:48:54.882Z"
   },
   {
    "duration": 15,
    "start_time": "2022-02-15T17:48:56.364Z"
   },
   {
    "duration": 15,
    "start_time": "2022-02-15T17:49:25.587Z"
   },
   {
    "duration": 6,
    "start_time": "2022-02-15T17:52:48.497Z"
   },
   {
    "duration": 14,
    "start_time": "2022-02-15T18:17:03.804Z"
   },
   {
    "duration": 18,
    "start_time": "2022-02-15T18:19:15.125Z"
   },
   {
    "duration": 16,
    "start_time": "2022-02-15T18:19:31.325Z"
   },
   {
    "duration": 6,
    "start_time": "2022-02-15T18:51:48.938Z"
   },
   {
    "duration": 85,
    "start_time": "2022-02-15T18:53:21.546Z"
   },
   {
    "duration": 169,
    "start_time": "2022-02-15T18:53:35.129Z"
   },
   {
    "duration": 178,
    "start_time": "2022-02-15T18:53:46.145Z"
   },
   {
    "duration": 6,
    "start_time": "2022-02-15T18:54:04.609Z"
   },
   {
    "duration": 221,
    "start_time": "2022-02-15T18:57:52.481Z"
   },
   {
    "duration": -318,
    "start_time": "2022-02-15T18:57:53.022Z"
   },
   {
    "duration": -322,
    "start_time": "2022-02-15T18:57:53.027Z"
   },
   {
    "duration": -327,
    "start_time": "2022-02-15T18:57:53.033Z"
   },
   {
    "duration": -333,
    "start_time": "2022-02-15T18:57:53.039Z"
   },
   {
    "duration": -336,
    "start_time": "2022-02-15T18:57:53.043Z"
   },
   {
    "duration": 76,
    "start_time": "2022-02-15T18:57:52.766Z"
   },
   {
    "duration": -230,
    "start_time": "2022-02-15T18:57:53.074Z"
   },
   {
    "duration": -237,
    "start_time": "2022-02-15T18:57:53.082Z"
   },
   {
    "duration": -242,
    "start_time": "2022-02-15T18:57:53.088Z"
   },
   {
    "duration": 272,
    "start_time": "2022-02-15T18:58:29.801Z"
   },
   {
    "duration": 4,
    "start_time": "2022-02-15T18:58:37.306Z"
   },
   {
    "duration": 5,
    "start_time": "2022-02-15T18:58:37.312Z"
   },
   {
    "duration": 38,
    "start_time": "2022-02-15T18:58:37.319Z"
   },
   {
    "duration": 12,
    "start_time": "2022-02-15T18:58:37.359Z"
   },
   {
    "duration": 60,
    "start_time": "2022-02-15T18:58:37.373Z"
   },
   {
    "duration": 44,
    "start_time": "2022-02-15T18:58:37.435Z"
   },
   {
    "duration": 9,
    "start_time": "2022-02-15T18:58:37.481Z"
   },
   {
    "duration": 9,
    "start_time": "2022-02-15T18:58:37.492Z"
   },
   {
    "duration": 40,
    "start_time": "2022-02-15T18:58:41.200Z"
   },
   {
    "duration": 22,
    "start_time": "2022-02-15T19:00:51.144Z"
   },
   {
    "duration": 21,
    "start_time": "2022-02-15T19:01:06.271Z"
   },
   {
    "duration": 12,
    "start_time": "2022-02-15T19:01:14.744Z"
   },
   {
    "duration": 18,
    "start_time": "2022-02-15T19:01:28.033Z"
   },
   {
    "duration": 19,
    "start_time": "2022-02-15T19:02:04.584Z"
   },
   {
    "duration": 4,
    "start_time": "2022-02-15T19:04:49.655Z"
   },
   {
    "duration": 5,
    "start_time": "2022-02-15T19:04:51.415Z"
   },
   {
    "duration": 14,
    "start_time": "2022-02-15T19:04:53.103Z"
   },
   {
    "duration": 7,
    "start_time": "2022-02-15T19:05:07.247Z"
   },
   {
    "duration": 5,
    "start_time": "2022-02-15T19:05:50.327Z"
   },
   {
    "duration": 14,
    "start_time": "2022-02-15T19:05:54.822Z"
   },
   {
    "duration": 14,
    "start_time": "2022-02-15T19:05:58.927Z"
   },
   {
    "duration": 13,
    "start_time": "2022-02-15T19:06:01.968Z"
   },
   {
    "duration": 11,
    "start_time": "2022-02-15T19:09:10.838Z"
   },
   {
    "duration": 219,
    "start_time": "2022-02-15T19:09:38.069Z"
   },
   {
    "duration": 232,
    "start_time": "2022-02-15T19:11:18.086Z"
   },
   {
    "duration": 227,
    "start_time": "2022-02-15T19:11:41.013Z"
   },
   {
    "duration": 269,
    "start_time": "2022-02-15T19:12:10.525Z"
   },
   {
    "duration": 12,
    "start_time": "2022-02-15T19:12:28.220Z"
   },
   {
    "duration": 14,
    "start_time": "2022-02-15T19:12:37.198Z"
   },
   {
    "duration": 240,
    "start_time": "2022-02-15T19:15:43.932Z"
   },
   {
    "duration": 20,
    "start_time": "2022-02-15T19:17:56.515Z"
   },
   {
    "duration": 88,
    "start_time": "2022-02-15T19:18:58.940Z"
   },
   {
    "duration": 23,
    "start_time": "2022-02-15T19:19:07.955Z"
   },
   {
    "duration": 1514,
    "start_time": "2022-02-15T19:29:14.297Z"
   },
   {
    "duration": 1613,
    "start_time": "2022-02-15T19:29:26.856Z"
   },
   {
    "duration": 2079,
    "start_time": "2022-02-15T19:38:24.966Z"
   },
   {
    "duration": 1235,
    "start_time": "2022-02-15T19:38:44.551Z"
   },
   {
    "duration": 4,
    "start_time": "2022-02-15T19:43:12.676Z"
   },
   {
    "duration": 1482,
    "start_time": "2022-02-15T19:43:20.205Z"
   },
   {
    "duration": 1402,
    "start_time": "2022-02-15T19:43:55.477Z"
   },
   {
    "duration": 1443,
    "start_time": "2022-02-15T19:44:04.740Z"
   },
   {
    "duration": 17,
    "start_time": "2022-02-15T19:44:27.924Z"
   },
   {
    "duration": 589,
    "start_time": "2022-02-15T19:45:48.419Z"
   },
   {
    "duration": 232,
    "start_time": "2022-02-15T19:45:51.827Z"
   },
   {
    "duration": 5301,
    "start_time": "2022-02-15T19:46:17.492Z"
   },
   {
    "duration": 4,
    "start_time": "2022-02-15T19:46:24.836Z"
   },
   {
    "duration": 4,
    "start_time": "2022-02-15T19:46:39.470Z"
   },
   {
    "duration": 6,
    "start_time": "2022-02-15T19:46:39.476Z"
   },
   {
    "duration": 50,
    "start_time": "2022-02-15T19:46:39.484Z"
   },
   {
    "duration": 14,
    "start_time": "2022-02-15T19:46:39.536Z"
   },
   {
    "duration": 51,
    "start_time": "2022-02-15T19:46:39.552Z"
   },
   {
    "duration": 40,
    "start_time": "2022-02-15T19:46:39.605Z"
   },
   {
    "duration": 12,
    "start_time": "2022-02-15T19:46:39.671Z"
   },
   {
    "duration": 10,
    "start_time": "2022-02-15T19:46:39.686Z"
   },
   {
    "duration": 25,
    "start_time": "2022-02-15T19:46:39.698Z"
   },
   {
    "duration": 5,
    "start_time": "2022-02-15T19:46:39.724Z"
   },
   {
    "duration": 39,
    "start_time": "2022-02-15T19:46:39.730Z"
   },
   {
    "duration": 15,
    "start_time": "2022-02-15T19:46:39.771Z"
   },
   {
    "duration": 7,
    "start_time": "2022-02-15T19:46:39.788Z"
   },
   {
    "duration": 15,
    "start_time": "2022-02-15T19:46:39.796Z"
   },
   {
    "duration": 14,
    "start_time": "2022-02-15T19:46:39.812Z"
   },
   {
    "duration": 255,
    "start_time": "2022-02-15T19:46:39.827Z"
   },
   {
    "duration": 1338,
    "start_time": "2022-02-15T19:46:40.084Z"
   },
   {
    "duration": 15,
    "start_time": "2022-02-15T19:46:41.425Z"
   },
   {
    "duration": 3,
    "start_time": "2022-02-15T19:52:05.787Z"
   },
   {
    "duration": 5,
    "start_time": "2022-02-15T19:52:15.418Z"
   },
   {
    "duration": 5928,
    "start_time": "2022-02-15T19:52:28.443Z"
   },
   {
    "duration": 4,
    "start_time": "2022-02-15T19:52:35.242Z"
   },
   {
    "duration": 7,
    "start_time": "2022-02-15T19:52:37.337Z"
   },
   {
    "duration": 4,
    "start_time": "2022-02-15T19:52:52.674Z"
   },
   {
    "duration": 11,
    "start_time": "2022-02-15T19:53:45.530Z"
   },
   {
    "duration": 9,
    "start_time": "2022-02-15T19:54:18.258Z"
   },
   {
    "duration": 9,
    "start_time": "2022-02-15T19:54:22.634Z"
   },
   {
    "duration": 10,
    "start_time": "2022-02-15T19:54:28.994Z"
   },
   {
    "duration": 6,
    "start_time": "2022-02-15T19:54:32.410Z"
   },
   {
    "duration": 4,
    "start_time": "2022-02-15T19:55:06.916Z"
   },
   {
    "duration": 8,
    "start_time": "2022-02-15T19:55:16.981Z"
   },
   {
    "duration": 22,
    "start_time": "2022-02-15T19:59:02.553Z"
   },
   {
    "duration": 5307,
    "start_time": "2022-02-15T20:00:04.289Z"
   },
   {
    "duration": 11,
    "start_time": "2022-02-15T20:00:44.073Z"
   },
   {
    "duration": 227,
    "start_time": "2022-02-15T20:01:12.800Z"
   },
   {
    "duration": 22,
    "start_time": "2022-02-15T20:01:30.025Z"
   },
   {
    "duration": 19,
    "start_time": "2022-02-15T20:02:01.608Z"
   },
   {
    "duration": 25,
    "start_time": "2022-02-15T20:04:26.823Z"
   },
   {
    "duration": 20,
    "start_time": "2022-02-15T20:04:32.927Z"
   },
   {
    "duration": 23,
    "start_time": "2022-02-15T20:05:24.193Z"
   },
   {
    "duration": 20,
    "start_time": "2022-02-15T20:08:10.934Z"
   },
   {
    "duration": 22,
    "start_time": "2022-02-15T20:08:49.262Z"
   },
   {
    "duration": 26,
    "start_time": "2022-02-15T20:08:52.718Z"
   },
   {
    "duration": 5,
    "start_time": "2022-02-15T20:09:10.176Z"
   },
   {
    "duration": 14,
    "start_time": "2022-02-15T20:09:10.183Z"
   },
   {
    "duration": 43,
    "start_time": "2022-02-15T20:09:10.200Z"
   },
   {
    "duration": 12,
    "start_time": "2022-02-15T20:09:10.245Z"
   },
   {
    "duration": 53,
    "start_time": "2022-02-15T20:09:10.259Z"
   },
   {
    "duration": 39,
    "start_time": "2022-02-15T20:09:10.314Z"
   },
   {
    "duration": 20,
    "start_time": "2022-02-15T20:09:10.355Z"
   },
   {
    "duration": 24,
    "start_time": "2022-02-15T20:09:10.378Z"
   },
   {
    "duration": 30,
    "start_time": "2022-02-15T20:09:10.405Z"
   },
   {
    "duration": 7,
    "start_time": "2022-02-15T20:09:10.437Z"
   },
   {
    "duration": 12,
    "start_time": "2022-02-15T20:09:10.446Z"
   },
   {
    "duration": 26,
    "start_time": "2022-02-15T20:09:10.460Z"
   },
   {
    "duration": 12,
    "start_time": "2022-02-15T20:09:10.488Z"
   },
   {
    "duration": 21,
    "start_time": "2022-02-15T20:09:10.502Z"
   },
   {
    "duration": 23,
    "start_time": "2022-02-15T20:09:10.525Z"
   },
   {
    "duration": 237,
    "start_time": "2022-02-15T20:09:10.549Z"
   },
   {
    "duration": 2020,
    "start_time": "2022-02-15T20:09:10.789Z"
   },
   {
    "duration": 18,
    "start_time": "2022-02-15T20:09:12.811Z"
   },
   {
    "duration": 8,
    "start_time": "2022-02-15T20:09:12.830Z"
   },
   {
    "duration": 22,
    "start_time": "2022-02-15T20:09:17.479Z"
   },
   {
    "duration": 10,
    "start_time": "2022-02-15T20:11:44.638Z"
   },
   {
    "duration": 6,
    "start_time": "2022-02-15T20:11:54.989Z"
   },
   {
    "duration": 6,
    "start_time": "2022-02-15T20:14:36.485Z"
   },
   {
    "duration": 8,
    "start_time": "2022-02-15T20:14:58.509Z"
   },
   {
    "duration": 19,
    "start_time": "2022-02-15T20:15:24.884Z"
   },
   {
    "duration": 13,
    "start_time": "2022-02-15T20:17:04.989Z"
   },
   {
    "duration": 222,
    "start_time": "2022-02-15T20:19:17.997Z"
   },
   {
    "duration": 243,
    "start_time": "2022-02-15T20:19:34.500Z"
   },
   {
    "duration": 2510,
    "start_time": "2022-02-15T20:19:54.108Z"
   },
   {
    "duration": 4,
    "start_time": "2022-02-15T20:20:35.975Z"
   },
   {
    "duration": 6,
    "start_time": "2022-02-15T20:20:35.981Z"
   },
   {
    "duration": 38,
    "start_time": "2022-02-15T20:20:35.989Z"
   },
   {
    "duration": 12,
    "start_time": "2022-02-15T20:20:36.029Z"
   },
   {
    "duration": 50,
    "start_time": "2022-02-15T20:20:36.043Z"
   },
   {
    "duration": 38,
    "start_time": "2022-02-15T20:20:36.095Z"
   },
   {
    "duration": 11,
    "start_time": "2022-02-15T20:20:36.135Z"
   },
   {
    "duration": 13,
    "start_time": "2022-02-15T20:20:36.169Z"
   },
   {
    "duration": 18,
    "start_time": "2022-02-15T20:20:36.184Z"
   },
   {
    "duration": 4,
    "start_time": "2022-02-15T20:20:36.204Z"
   },
   {
    "duration": 7,
    "start_time": "2022-02-15T20:20:36.210Z"
   },
   {
    "duration": 23,
    "start_time": "2022-02-15T20:20:36.218Z"
   },
   {
    "duration": 29,
    "start_time": "2022-02-15T20:20:36.243Z"
   },
   {
    "duration": 15,
    "start_time": "2022-02-15T20:20:36.273Z"
   },
   {
    "duration": 14,
    "start_time": "2022-02-15T20:20:36.290Z"
   },
   {
    "duration": 248,
    "start_time": "2022-02-15T20:20:36.306Z"
   },
   {
    "duration": 1781,
    "start_time": "2022-02-15T20:20:36.555Z"
   },
   {
    "duration": 16,
    "start_time": "2022-02-15T20:20:38.339Z"
   },
   {
    "duration": 27,
    "start_time": "2022-02-15T20:20:38.357Z"
   },
   {
    "duration": 37,
    "start_time": "2022-02-15T20:20:38.386Z"
   },
   {
    "duration": 39,
    "start_time": "2022-02-15T20:20:38.425Z"
   },
   {
    "duration": 5,
    "start_time": "2022-02-15T20:20:45.913Z"
   },
   {
    "duration": 13,
    "start_time": "2022-02-15T20:20:48.611Z"
   },
   {
    "duration": 10,
    "start_time": "2022-02-15T20:21:26.203Z"
   },
   {
    "duration": 21,
    "start_time": "2022-02-15T20:21:53.571Z"
   },
   {
    "duration": 5,
    "start_time": "2022-02-15T20:23:28.107Z"
   },
   {
    "duration": 237,
    "start_time": "2022-02-15T20:24:21.282Z"
   },
   {
    "duration": 224,
    "start_time": "2022-02-15T20:24:32.059Z"
   },
   {
    "duration": 14,
    "start_time": "2022-02-15T20:24:35.587Z"
   },
   {
    "duration": 4,
    "start_time": "2022-02-15T20:25:14.859Z"
   },
   {
    "duration": 6,
    "start_time": "2022-02-15T20:33:11.281Z"
   },
   {
    "duration": 5,
    "start_time": "2022-02-15T20:33:35.089Z"
   },
   {
    "duration": 13,
    "start_time": "2022-02-15T20:33:55.225Z"
   },
   {
    "duration": 235,
    "start_time": "2022-02-15T20:38:26.609Z"
   },
   {
    "duration": 237,
    "start_time": "2022-02-15T20:38:57.440Z"
   },
   {
    "duration": 5,
    "start_time": "2022-02-15T20:39:49.172Z"
   },
   {
    "duration": 13,
    "start_time": "2022-02-15T20:39:49.180Z"
   },
   {
    "duration": 38,
    "start_time": "2022-02-15T20:39:49.195Z"
   },
   {
    "duration": 12,
    "start_time": "2022-02-15T20:39:49.235Z"
   },
   {
    "duration": 56,
    "start_time": "2022-02-15T20:39:49.249Z"
   },
   {
    "duration": 64,
    "start_time": "2022-02-15T20:39:49.307Z"
   },
   {
    "duration": 15,
    "start_time": "2022-02-15T20:39:49.374Z"
   },
   {
    "duration": 14,
    "start_time": "2022-02-15T20:39:49.392Z"
   },
   {
    "duration": 75,
    "start_time": "2022-02-15T20:39:49.409Z"
   },
   {
    "duration": 7,
    "start_time": "2022-02-15T20:39:49.486Z"
   },
   {
    "duration": 9,
    "start_time": "2022-02-15T20:39:49.496Z"
   },
   {
    "duration": 20,
    "start_time": "2022-02-15T20:39:49.508Z"
   },
   {
    "duration": 12,
    "start_time": "2022-02-15T20:39:49.530Z"
   },
   {
    "duration": 36,
    "start_time": "2022-02-15T20:39:49.544Z"
   },
   {
    "duration": 17,
    "start_time": "2022-02-15T20:39:49.582Z"
   },
   {
    "duration": 275,
    "start_time": "2022-02-15T20:39:49.601Z"
   },
   {
    "duration": 2588,
    "start_time": "2022-02-15T20:39:49.878Z"
   },
   {
    "duration": 19,
    "start_time": "2022-02-15T20:39:52.468Z"
   },
   {
    "duration": 8,
    "start_time": "2022-02-15T20:39:52.489Z"
   },
   {
    "duration": 26,
    "start_time": "2022-02-15T20:39:52.499Z"
   },
   {
    "duration": 141,
    "start_time": "2022-02-15T20:39:52.528Z"
   },
   {
    "duration": 5,
    "start_time": "2022-02-15T20:39:52.673Z"
   },
   {
    "duration": 17,
    "start_time": "2022-02-15T20:39:52.680Z"
   },
   {
    "duration": 19,
    "start_time": "2022-02-15T20:39:52.699Z"
   },
   {
    "duration": 295,
    "start_time": "2022-02-15T20:39:52.720Z"
   },
   {
    "duration": 4,
    "start_time": "2022-02-15T20:39:53.017Z"
   },
   {
    "duration": -56,
    "start_time": "2022-02-15T20:40:46.830Z"
   },
   {
    "duration": 41,
    "start_time": "2022-02-15T20:41:21.744Z"
   },
   {
    "duration": 40,
    "start_time": "2022-02-15T20:41:28.487Z"
   },
   {
    "duration": 1562,
    "start_time": "2022-02-16T17:53:34.231Z"
   },
   {
    "duration": 4,
    "start_time": "2022-02-16T17:53:35.795Z"
   },
   {
    "duration": 52,
    "start_time": "2022-02-16T17:53:35.802Z"
   },
   {
    "duration": 24,
    "start_time": "2022-02-16T17:53:35.857Z"
   },
   {
    "duration": 75,
    "start_time": "2022-02-16T17:53:35.883Z"
   },
   {
    "duration": 77,
    "start_time": "2022-02-16T17:53:35.960Z"
   },
   {
    "duration": 15,
    "start_time": "2022-02-16T17:53:36.040Z"
   },
   {
    "duration": 14,
    "start_time": "2022-02-16T17:53:36.061Z"
   },
   {
    "duration": 30,
    "start_time": "2022-02-16T17:53:36.111Z"
   },
   {
    "duration": 6,
    "start_time": "2022-02-16T17:53:36.144Z"
   },
   {
    "duration": 8,
    "start_time": "2022-02-16T17:53:36.152Z"
   },
   {
    "duration": 58,
    "start_time": "2022-02-16T17:53:36.162Z"
   },
   {
    "duration": 9,
    "start_time": "2022-02-16T17:53:36.223Z"
   },
   {
    "duration": 20,
    "start_time": "2022-02-16T17:53:36.235Z"
   },
   {
    "duration": 54,
    "start_time": "2022-02-16T17:53:36.258Z"
   },
   {
    "duration": 356,
    "start_time": "2022-02-16T17:53:36.315Z"
   },
   {
    "duration": 1599,
    "start_time": "2022-02-16T17:53:36.674Z"
   },
   {
    "duration": 25,
    "start_time": "2022-02-16T17:53:38.275Z"
   },
   {
    "duration": 11,
    "start_time": "2022-02-16T17:53:38.302Z"
   },
   {
    "duration": 39,
    "start_time": "2022-02-16T17:53:38.315Z"
   },
   {
    "duration": 53,
    "start_time": "2022-02-16T17:53:38.357Z"
   },
   {
    "duration": 6,
    "start_time": "2022-02-16T17:53:38.412Z"
   },
   {
    "duration": 15,
    "start_time": "2022-02-16T17:53:38.422Z"
   },
   {
    "duration": 20,
    "start_time": "2022-02-16T17:53:38.440Z"
   },
   {
    "duration": 375,
    "start_time": "2022-02-16T17:53:38.463Z"
   },
   {
    "duration": 6,
    "start_time": "2022-02-16T17:53:38.841Z"
   },
   {
    "duration": 12,
    "start_time": "2022-02-16T17:54:39.951Z"
   },
   {
    "duration": 16,
    "start_time": "2022-02-16T18:00:41.519Z"
   },
   {
    "duration": 25,
    "start_time": "2022-02-16T18:04:08.005Z"
   },
   {
    "duration": 21,
    "start_time": "2022-02-16T19:08:36.101Z"
   },
   {
    "duration": 6,
    "start_time": "2022-02-16T19:09:33.040Z"
   },
   {
    "duration": 8,
    "start_time": "2022-02-16T19:09:33.049Z"
   },
   {
    "duration": 45,
    "start_time": "2022-02-16T19:09:33.060Z"
   },
   {
    "duration": 20,
    "start_time": "2022-02-16T19:09:33.108Z"
   },
   {
    "duration": 57,
    "start_time": "2022-02-16T19:09:33.132Z"
   },
   {
    "duration": 63,
    "start_time": "2022-02-16T19:09:33.211Z"
   },
   {
    "duration": 36,
    "start_time": "2022-02-16T19:09:33.277Z"
   },
   {
    "duration": 14,
    "start_time": "2022-02-16T19:09:33.316Z"
   },
   {
    "duration": 34,
    "start_time": "2022-02-16T19:09:33.333Z"
   },
   {
    "duration": 6,
    "start_time": "2022-02-16T19:09:33.369Z"
   },
   {
    "duration": 38,
    "start_time": "2022-02-16T19:09:33.378Z"
   },
   {
    "duration": 23,
    "start_time": "2022-02-16T19:09:33.419Z"
   },
   {
    "duration": 7,
    "start_time": "2022-02-16T19:09:33.444Z"
   },
   {
    "duration": 64,
    "start_time": "2022-02-16T19:09:33.453Z"
   },
   {
    "duration": 25,
    "start_time": "2022-02-16T19:09:33.520Z"
   },
   {
    "duration": 378,
    "start_time": "2022-02-16T19:09:33.548Z"
   },
   {
    "duration": 1925,
    "start_time": "2022-02-16T19:09:33.928Z"
   },
   {
    "duration": 28,
    "start_time": "2022-02-16T19:09:35.855Z"
   },
   {
    "duration": 23,
    "start_time": "2022-02-16T19:09:35.887Z"
   },
   {
    "duration": 33,
    "start_time": "2022-02-16T19:09:35.913Z"
   },
   {
    "duration": 33,
    "start_time": "2022-02-16T19:09:35.948Z"
   },
   {
    "duration": 7,
    "start_time": "2022-02-16T19:09:36.012Z"
   },
   {
    "duration": 18,
    "start_time": "2022-02-16T19:09:36.023Z"
   },
   {
    "duration": 22,
    "start_time": "2022-02-16T19:09:36.044Z"
   },
   {
    "duration": 476,
    "start_time": "2022-02-16T19:09:36.069Z"
   },
   {
    "duration": 5,
    "start_time": "2022-02-16T19:09:36.547Z"
   },
   {
    "duration": 20,
    "start_time": "2022-02-16T19:09:36.555Z"
   },
   {
    "duration": 47,
    "start_time": "2022-02-16T19:09:36.577Z"
   },
   {
    "duration": 7,
    "start_time": "2022-02-16T19:14:15.020Z"
   },
   {
    "duration": 19,
    "start_time": "2022-02-16T19:14:29.923Z"
   },
   {
    "duration": 57,
    "start_time": "2022-02-16T19:14:34.883Z"
   },
   {
    "duration": 30,
    "start_time": "2022-02-16T19:15:11.348Z"
   },
   {
    "duration": 7,
    "start_time": "2022-02-16T19:17:40.586Z"
   },
   {
    "duration": 496,
    "start_time": "2022-02-16T19:28:17.756Z"
   },
   {
    "duration": 354,
    "start_time": "2022-02-16T19:29:58.148Z"
   },
   {
    "duration": 11,
    "start_time": "2022-02-16T19:31:24.911Z"
   },
   {
    "duration": 119,
    "start_time": "2022-02-16T19:31:40.927Z"
   },
   {
    "duration": 11,
    "start_time": "2022-02-16T19:31:43.886Z"
   },
   {
    "duration": 11,
    "start_time": "2022-02-16T19:32:18.579Z"
   },
   {
    "duration": 11,
    "start_time": "2022-02-16T19:43:21.765Z"
   },
   {
    "duration": 11,
    "start_time": "2022-02-16T19:43:46.683Z"
   },
   {
    "duration": 12,
    "start_time": "2022-02-16T19:45:57.620Z"
   },
   {
    "duration": 9,
    "start_time": "2022-02-16T19:46:14.347Z"
   },
   {
    "duration": 26,
    "start_time": "2022-02-16T19:46:26.427Z"
   },
   {
    "duration": 6,
    "start_time": "2022-02-16T19:46:33.848Z"
   },
   {
    "duration": 7,
    "start_time": "2022-02-16T19:46:33.857Z"
   },
   {
    "duration": 50,
    "start_time": "2022-02-16T19:46:33.867Z"
   },
   {
    "duration": 20,
    "start_time": "2022-02-16T19:46:33.920Z"
   },
   {
    "duration": 100,
    "start_time": "2022-02-16T19:46:33.943Z"
   },
   {
    "duration": 81,
    "start_time": "2022-02-16T19:46:34.045Z"
   },
   {
    "duration": 15,
    "start_time": "2022-02-16T19:46:34.129Z"
   },
   {
    "duration": 14,
    "start_time": "2022-02-16T19:46:34.146Z"
   },
   {
    "duration": 67,
    "start_time": "2022-02-16T19:46:34.163Z"
   },
   {
    "duration": 7,
    "start_time": "2022-02-16T19:46:34.235Z"
   },
   {
    "duration": 7,
    "start_time": "2022-02-16T19:46:34.244Z"
   },
   {
    "duration": 21,
    "start_time": "2022-02-16T19:46:34.253Z"
   },
   {
    "duration": 7,
    "start_time": "2022-02-16T19:46:34.311Z"
   },
   {
    "duration": 20,
    "start_time": "2022-02-16T19:46:34.320Z"
   },
   {
    "duration": 28,
    "start_time": "2022-02-16T19:46:34.343Z"
   },
   {
    "duration": 384,
    "start_time": "2022-02-16T19:46:34.374Z"
   },
   {
    "duration": 4357,
    "start_time": "2022-02-16T19:46:34.760Z"
   },
   {
    "duration": 27,
    "start_time": "2022-02-16T19:46:39.119Z"
   },
   {
    "duration": 95,
    "start_time": "2022-02-16T19:46:39.149Z"
   },
   {
    "duration": 33,
    "start_time": "2022-02-16T19:46:39.247Z"
   },
   {
    "duration": 32,
    "start_time": "2022-02-16T19:46:39.282Z"
   },
   {
    "duration": 6,
    "start_time": "2022-02-16T19:46:39.317Z"
   },
   {
    "duration": 16,
    "start_time": "2022-02-16T19:46:39.325Z"
   },
   {
    "duration": 21,
    "start_time": "2022-02-16T19:46:39.344Z"
   },
   {
    "duration": 396,
    "start_time": "2022-02-16T19:46:39.367Z"
   },
   {
    "duration": 6,
    "start_time": "2022-02-16T19:46:39.765Z"
   },
   {
    "duration": 36,
    "start_time": "2022-02-16T19:46:39.776Z"
   },
   {
    "duration": 19,
    "start_time": "2022-02-16T19:46:39.815Z"
   },
   {
    "duration": 6,
    "start_time": "2022-02-16T19:46:39.837Z"
   },
   {
    "duration": 67,
    "start_time": "2022-02-16T19:46:39.845Z"
   },
   {
    "duration": 13,
    "start_time": "2022-02-16T19:46:39.915Z"
   },
   {
    "duration": 23,
    "start_time": "2022-02-16T19:46:47.707Z"
   },
   {
    "duration": 34,
    "start_time": "2022-02-16T19:48:04.839Z"
   },
   {
    "duration": 5,
    "start_time": "2022-02-16T19:49:33.083Z"
   },
   {
    "duration": 6,
    "start_time": "2022-02-16T19:49:40.355Z"
   },
   {
    "duration": 7,
    "start_time": "2022-02-16T19:49:48.418Z"
   },
   {
    "duration": 15,
    "start_time": "2022-02-16T19:50:02.107Z"
   },
   {
    "duration": 6,
    "start_time": "2022-02-16T19:50:45.618Z"
   },
   {
    "duration": 66,
    "start_time": "2022-02-16T19:51:04.284Z"
   },
   {
    "duration": 35,
    "start_time": "2022-02-16T19:51:45.570Z"
   },
   {
    "duration": 23,
    "start_time": "2022-02-16T19:59:53.279Z"
   },
   {
    "duration": 6,
    "start_time": "2022-02-16T20:00:06.956Z"
   },
   {
    "duration": 7,
    "start_time": "2022-02-16T20:00:06.965Z"
   },
   {
    "duration": 50,
    "start_time": "2022-02-16T20:00:06.975Z"
   },
   {
    "duration": 20,
    "start_time": "2022-02-16T20:00:07.028Z"
   },
   {
    "duration": 88,
    "start_time": "2022-02-16T20:00:07.051Z"
   },
   {
    "duration": 77,
    "start_time": "2022-02-16T20:00:07.141Z"
   },
   {
    "duration": 18,
    "start_time": "2022-02-16T20:00:07.221Z"
   },
   {
    "duration": 27,
    "start_time": "2022-02-16T20:00:07.243Z"
   },
   {
    "duration": 50,
    "start_time": "2022-02-16T20:00:07.273Z"
   },
   {
    "duration": 7,
    "start_time": "2022-02-16T20:00:07.326Z"
   },
   {
    "duration": 11,
    "start_time": "2022-02-16T20:00:07.336Z"
   },
   {
    "duration": 23,
    "start_time": "2022-02-16T20:00:07.350Z"
   },
   {
    "duration": 36,
    "start_time": "2022-02-16T20:00:07.376Z"
   },
   {
    "duration": 22,
    "start_time": "2022-02-16T20:00:07.415Z"
   },
   {
    "duration": 23,
    "start_time": "2022-02-16T20:00:07.439Z"
   },
   {
    "duration": 384,
    "start_time": "2022-02-16T20:00:07.465Z"
   },
   {
    "duration": 2505,
    "start_time": "2022-02-16T20:00:07.852Z"
   },
   {
    "duration": 28,
    "start_time": "2022-02-16T20:00:10.360Z"
   },
   {
    "duration": 20,
    "start_time": "2022-02-16T20:00:10.390Z"
   },
   {
    "duration": 30,
    "start_time": "2022-02-16T20:00:10.413Z"
   },
   {
    "duration": 66,
    "start_time": "2022-02-16T20:00:10.445Z"
   },
   {
    "duration": 7,
    "start_time": "2022-02-16T20:00:10.518Z"
   },
   {
    "duration": 14,
    "start_time": "2022-02-16T20:00:10.529Z"
   },
   {
    "duration": 22,
    "start_time": "2022-02-16T20:00:10.546Z"
   },
   {
    "duration": 390,
    "start_time": "2022-02-16T20:00:10.570Z"
   },
   {
    "duration": 5,
    "start_time": "2022-02-16T20:00:10.962Z"
   },
   {
    "duration": 17,
    "start_time": "2022-02-16T20:00:10.970Z"
   },
   {
    "duration": 19,
    "start_time": "2022-02-16T20:00:11.011Z"
   },
   {
    "duration": 7,
    "start_time": "2022-02-16T20:00:11.032Z"
   },
   {
    "duration": 34,
    "start_time": "2022-02-16T20:00:11.041Z"
   },
   {
    "duration": 14,
    "start_time": "2022-02-16T20:00:11.110Z"
   },
   {
    "duration": 55,
    "start_time": "2022-02-16T20:00:11.126Z"
   },
   {
    "duration": 41,
    "start_time": "2022-02-16T20:00:33.543Z"
   },
   {
    "duration": 1624,
    "start_time": "2022-02-17T17:23:46.638Z"
   },
   {
    "duration": 4,
    "start_time": "2022-02-17T17:23:48.265Z"
   },
   {
    "duration": 51,
    "start_time": "2022-02-17T17:23:48.272Z"
   },
   {
    "duration": 22,
    "start_time": "2022-02-17T17:23:48.326Z"
   },
   {
    "duration": 84,
    "start_time": "2022-02-17T17:23:48.350Z"
   },
   {
    "duration": 104,
    "start_time": "2022-02-17T17:23:48.438Z"
   },
   {
    "duration": 14,
    "start_time": "2022-02-17T17:23:48.544Z"
   },
   {
    "duration": 14,
    "start_time": "2022-02-17T17:23:48.563Z"
   },
   {
    "duration": 31,
    "start_time": "2022-02-17T17:23:48.612Z"
   },
   {
    "duration": 7,
    "start_time": "2022-02-17T17:23:48.646Z"
   },
   {
    "duration": 6,
    "start_time": "2022-02-17T17:23:48.656Z"
   },
   {
    "duration": 58,
    "start_time": "2022-02-17T17:23:48.665Z"
   },
   {
    "duration": 9,
    "start_time": "2022-02-17T17:23:48.725Z"
   },
   {
    "duration": 18,
    "start_time": "2022-02-17T17:23:48.736Z"
   },
   {
    "duration": 20,
    "start_time": "2022-02-17T17:23:48.757Z"
   },
   {
    "duration": 392,
    "start_time": "2022-02-17T17:23:48.779Z"
   },
   {
    "duration": 2272,
    "start_time": "2022-02-17T17:23:49.173Z"
   },
   {
    "duration": 32,
    "start_time": "2022-02-17T17:23:51.448Z"
   },
   {
    "duration": 31,
    "start_time": "2022-02-17T17:23:51.483Z"
   },
   {
    "duration": 39,
    "start_time": "2022-02-17T17:23:51.517Z"
   },
   {
    "duration": 59,
    "start_time": "2022-02-17T17:23:51.560Z"
   },
   {
    "duration": 6,
    "start_time": "2022-02-17T17:23:51.622Z"
   },
   {
    "duration": 15,
    "start_time": "2022-02-17T17:23:51.633Z"
   },
   {
    "duration": 62,
    "start_time": "2022-02-17T17:23:51.652Z"
   },
   {
    "duration": 359,
    "start_time": "2022-02-17T17:23:51.716Z"
   },
   {
    "duration": 6,
    "start_time": "2022-02-17T17:23:52.077Z"
   },
   {
    "duration": 37,
    "start_time": "2022-02-17T17:23:52.085Z"
   },
   {
    "duration": 17,
    "start_time": "2022-02-17T17:23:52.124Z"
   },
   {
    "duration": 5,
    "start_time": "2022-02-17T17:23:52.144Z"
   },
   {
    "duration": 62,
    "start_time": "2022-02-17T17:23:52.152Z"
   },
   {
    "duration": 13,
    "start_time": "2022-02-17T17:23:52.217Z"
   },
   {
    "duration": 41,
    "start_time": "2022-02-17T17:23:52.232Z"
   },
   {
    "duration": 4401,
    "start_time": "2022-02-17T17:30:20.069Z"
   },
   {
    "duration": 13,
    "start_time": "2022-02-17T17:30:31.366Z"
   },
   {
    "duration": 5,
    "start_time": "2022-02-17T17:31:49.997Z"
   },
   {
    "duration": 6,
    "start_time": "2022-02-17T17:33:22.861Z"
   },
   {
    "duration": 109,
    "start_time": "2022-02-17T17:33:57.486Z"
   },
   {
    "duration": 1122,
    "start_time": "2022-02-17T17:34:13.604Z"
   },
   {
    "duration": 18,
    "start_time": "2022-02-17T17:34:32.101Z"
   },
   {
    "duration": 18,
    "start_time": "2022-02-17T17:34:40.388Z"
   },
   {
    "duration": 41,
    "start_time": "2022-02-17T17:34:46.956Z"
   },
   {
    "duration": 7,
    "start_time": "2022-02-17T17:34:49.828Z"
   },
   {
    "duration": 7,
    "start_time": "2022-02-17T17:48:14.184Z"
   },
   {
    "duration": 424,
    "start_time": "2022-02-17T17:48:20.927Z"
   },
   {
    "duration": 66,
    "start_time": "2022-02-17T17:48:32.368Z"
   },
   {
    "duration": 57,
    "start_time": "2022-02-17T17:48:46.311Z"
   },
   {
    "duration": 6,
    "start_time": "2022-02-17T17:49:31.560Z"
   },
   {
    "duration": 6,
    "start_time": "2022-02-17T17:50:17.632Z"
   },
   {
    "duration": 399,
    "start_time": "2022-02-17T17:51:46.318Z"
   },
   {
    "duration": 57,
    "start_time": "2022-02-17T17:52:04.319Z"
   },
   {
    "duration": 8,
    "start_time": "2022-02-17T17:52:16.983Z"
   },
   {
    "duration": 9,
    "start_time": "2022-02-17T17:52:27.102Z"
   },
   {
    "duration": 110,
    "start_time": "2022-02-17T17:52:35.390Z"
   },
   {
    "duration": 8,
    "start_time": "2022-02-17T17:52:44.351Z"
   },
   {
    "duration": 10,
    "start_time": "2022-02-17T17:53:09.574Z"
   },
   {
    "duration": 62,
    "start_time": "2022-02-17T17:53:34.758Z"
   },
   {
    "duration": 486,
    "start_time": "2022-02-17T18:03:05.742Z"
   },
   {
    "duration": 396,
    "start_time": "2022-02-17T18:04:30.476Z"
   },
   {
    "duration": 388,
    "start_time": "2022-02-17T18:05:19.060Z"
   },
   {
    "duration": 7,
    "start_time": "2022-02-17T18:05:37.504Z"
   },
   {
    "duration": 9,
    "start_time": "2022-02-17T18:05:37.514Z"
   },
   {
    "duration": 46,
    "start_time": "2022-02-17T18:05:37.526Z"
   },
   {
    "duration": 40,
    "start_time": "2022-02-17T18:05:37.575Z"
   },
   {
    "duration": 62,
    "start_time": "2022-02-17T18:05:37.618Z"
   },
   {
    "duration": 86,
    "start_time": "2022-02-17T18:05:37.683Z"
   },
   {
    "duration": 12,
    "start_time": "2022-02-17T18:05:37.772Z"
   },
   {
    "duration": 34,
    "start_time": "2022-02-17T18:05:37.788Z"
   },
   {
    "duration": 31,
    "start_time": "2022-02-17T18:05:37.825Z"
   },
   {
    "duration": 6,
    "start_time": "2022-02-17T18:05:37.859Z"
   },
   {
    "duration": 44,
    "start_time": "2022-02-17T18:05:37.868Z"
   },
   {
    "duration": 23,
    "start_time": "2022-02-17T18:05:37.916Z"
   },
   {
    "duration": 7,
    "start_time": "2022-02-17T18:05:37.942Z"
   },
   {
    "duration": 59,
    "start_time": "2022-02-17T18:05:37.952Z"
   },
   {
    "duration": 23,
    "start_time": "2022-02-17T18:05:38.014Z"
   },
   {
    "duration": 361,
    "start_time": "2022-02-17T18:05:38.039Z"
   },
   {
    "duration": 2175,
    "start_time": "2022-02-17T18:05:38.403Z"
   },
   {
    "duration": 26,
    "start_time": "2022-02-17T18:05:40.580Z"
   },
   {
    "duration": 10,
    "start_time": "2022-02-17T18:05:40.609Z"
   },
   {
    "duration": 32,
    "start_time": "2022-02-17T18:05:40.621Z"
   },
   {
    "duration": 133,
    "start_time": "2022-02-17T18:05:40.655Z"
   },
   {
    "duration": 20,
    "start_time": "2022-02-17T18:05:40.791Z"
   },
   {
    "duration": 15,
    "start_time": "2022-02-17T18:05:40.815Z"
   },
   {
    "duration": 27,
    "start_time": "2022-02-17T18:05:40.833Z"
   },
   {
    "duration": 414,
    "start_time": "2022-02-17T18:05:40.863Z"
   },
   {
    "duration": 8,
    "start_time": "2022-02-17T18:05:41.280Z"
   },
   {
    "duration": 41,
    "start_time": "2022-02-17T18:05:41.290Z"
   },
   {
    "duration": 21,
    "start_time": "2022-02-17T18:05:41.334Z"
   },
   {
    "duration": 8,
    "start_time": "2022-02-17T18:05:41.358Z"
   },
   {
    "duration": 64,
    "start_time": "2022-02-17T18:05:41.369Z"
   },
   {
    "duration": 18,
    "start_time": "2022-02-17T18:05:41.435Z"
   },
   {
    "duration": 65,
    "start_time": "2022-02-17T18:05:41.455Z"
   },
   {
    "duration": 7,
    "start_time": "2022-02-17T18:05:41.522Z"
   },
   {
    "duration": 72,
    "start_time": "2022-02-17T18:05:45.107Z"
   },
   {
    "duration": 479,
    "start_time": "2022-02-17T18:05:46.763Z"
   },
   {
    "duration": 364,
    "start_time": "2022-02-17T18:06:25.555Z"
   },
   {
    "duration": 374,
    "start_time": "2022-02-17T18:06:37.931Z"
   },
   {
    "duration": 7,
    "start_time": "2022-02-17T18:06:46.527Z"
   },
   {
    "duration": 8,
    "start_time": "2022-02-17T18:06:46.537Z"
   },
   {
    "duration": 58,
    "start_time": "2022-02-17T18:06:46.549Z"
   },
   {
    "duration": 20,
    "start_time": "2022-02-17T18:06:46.610Z"
   },
   {
    "duration": 81,
    "start_time": "2022-02-17T18:06:46.632Z"
   },
   {
    "duration": 60,
    "start_time": "2022-02-17T18:06:46.716Z"
   },
   {
    "duration": 35,
    "start_time": "2022-02-17T18:06:46.778Z"
   },
   {
    "duration": 13,
    "start_time": "2022-02-17T18:06:46.818Z"
   },
   {
    "duration": 29,
    "start_time": "2022-02-17T18:06:46.834Z"
   },
   {
    "duration": 47,
    "start_time": "2022-02-17T18:06:46.865Z"
   },
   {
    "duration": 7,
    "start_time": "2022-02-17T18:06:46.914Z"
   },
   {
    "duration": 24,
    "start_time": "2022-02-17T18:06:46.923Z"
   },
   {
    "duration": 9,
    "start_time": "2022-02-17T18:06:46.949Z"
   },
   {
    "duration": 63,
    "start_time": "2022-02-17T18:06:46.960Z"
   },
   {
    "duration": 25,
    "start_time": "2022-02-17T18:06:47.026Z"
   },
   {
    "duration": 351,
    "start_time": "2022-02-17T18:06:47.054Z"
   },
   {
    "duration": 1334,
    "start_time": "2022-02-17T18:06:47.411Z"
   },
   {
    "duration": 29,
    "start_time": "2022-02-17T18:06:48.748Z"
   },
   {
    "duration": 31,
    "start_time": "2022-02-17T18:06:48.779Z"
   },
   {
    "duration": 33,
    "start_time": "2022-02-17T18:06:48.813Z"
   },
   {
    "duration": 35,
    "start_time": "2022-02-17T18:06:48.848Z"
   },
   {
    "duration": 27,
    "start_time": "2022-02-17T18:06:48.889Z"
   },
   {
    "duration": 16,
    "start_time": "2022-02-17T18:06:48.919Z"
   },
   {
    "duration": 21,
    "start_time": "2022-02-17T18:06:48.938Z"
   },
   {
    "duration": 375,
    "start_time": "2022-02-17T18:06:48.961Z"
   },
   {
    "duration": 5,
    "start_time": "2022-02-17T18:06:49.338Z"
   },
   {
    "duration": 23,
    "start_time": "2022-02-17T18:06:49.345Z"
   },
   {
    "duration": 40,
    "start_time": "2022-02-17T18:06:49.370Z"
   },
   {
    "duration": 5,
    "start_time": "2022-02-17T18:06:49.413Z"
   },
   {
    "duration": 34,
    "start_time": "2022-02-17T18:06:49.421Z"
   },
   {
    "duration": 17,
    "start_time": "2022-02-17T18:06:49.457Z"
   },
   {
    "duration": 69,
    "start_time": "2022-02-17T18:06:49.477Z"
   },
   {
    "duration": 6,
    "start_time": "2022-02-17T18:06:49.548Z"
   },
   {
    "duration": 89,
    "start_time": "2022-02-17T18:06:49.557Z"
   },
   {
    "duration": 33,
    "start_time": "2022-02-17T18:07:15.099Z"
   },
   {
    "duration": 402,
    "start_time": "2022-02-17T18:07:57.579Z"
   },
   {
    "duration": 331,
    "start_time": "2022-02-17T18:08:07.994Z"
   },
   {
    "duration": 330,
    "start_time": "2022-02-17T18:08:44.484Z"
   },
   {
    "duration": 261,
    "start_time": "2022-02-17T18:10:06.506Z"
   },
   {
    "duration": 254,
    "start_time": "2022-02-17T18:10:21.522Z"
   },
   {
    "duration": 428,
    "start_time": "2022-02-17T18:11:09.163Z"
   },
   {
    "duration": 458,
    "start_time": "2022-02-17T18:11:46.210Z"
   },
   {
    "duration": 422,
    "start_time": "2022-02-17T18:12:04.634Z"
   },
   {
    "duration": 376,
    "start_time": "2022-02-17T18:12:43.027Z"
   },
   {
    "duration": 6,
    "start_time": "2022-02-17T18:13:03.967Z"
   },
   {
    "duration": 6,
    "start_time": "2022-02-17T18:13:03.976Z"
   },
   {
    "duration": 44,
    "start_time": "2022-02-17T18:13:03.985Z"
   },
   {
    "duration": 19,
    "start_time": "2022-02-17T18:13:04.032Z"
   },
   {
    "duration": 88,
    "start_time": "2022-02-17T18:13:04.053Z"
   },
   {
    "duration": 80,
    "start_time": "2022-02-17T18:13:04.144Z"
   },
   {
    "duration": 14,
    "start_time": "2022-02-17T18:13:04.227Z"
   },
   {
    "duration": 12,
    "start_time": "2022-02-17T18:13:04.244Z"
   },
   {
    "duration": 59,
    "start_time": "2022-02-17T18:13:04.258Z"
   },
   {
    "duration": 6,
    "start_time": "2022-02-17T18:13:04.319Z"
   },
   {
    "duration": 8,
    "start_time": "2022-02-17T18:13:04.327Z"
   },
   {
    "duration": 18,
    "start_time": "2022-02-17T18:13:04.338Z"
   },
   {
    "duration": 9,
    "start_time": "2022-02-17T18:13:04.358Z"
   },
   {
    "duration": 56,
    "start_time": "2022-02-17T18:13:04.369Z"
   },
   {
    "duration": 22,
    "start_time": "2022-02-17T18:13:04.427Z"
   },
   {
    "duration": 346,
    "start_time": "2022-02-17T18:13:04.451Z"
   },
   {
    "duration": 2105,
    "start_time": "2022-02-17T18:13:04.800Z"
   },
   {
    "duration": 27,
    "start_time": "2022-02-17T18:13:06.910Z"
   },
   {
    "duration": 12,
    "start_time": "2022-02-17T18:13:06.941Z"
   },
   {
    "duration": 67,
    "start_time": "2022-02-17T18:13:06.956Z"
   },
   {
    "duration": 31,
    "start_time": "2022-02-17T18:13:07.026Z"
   },
   {
    "duration": 6,
    "start_time": "2022-02-17T18:13:07.059Z"
   },
   {
    "duration": 49,
    "start_time": "2022-02-17T18:13:07.068Z"
   },
   {
    "duration": 24,
    "start_time": "2022-02-17T18:13:07.120Z"
   },
   {
    "duration": 365,
    "start_time": "2022-02-17T18:13:07.148Z"
   },
   {
    "duration": 5,
    "start_time": "2022-02-17T18:13:07.515Z"
   },
   {
    "duration": 19,
    "start_time": "2022-02-17T18:13:07.523Z"
   },
   {
    "duration": 19,
    "start_time": "2022-02-17T18:13:07.544Z"
   },
   {
    "duration": 44,
    "start_time": "2022-02-17T18:13:07.566Z"
   },
   {
    "duration": 33,
    "start_time": "2022-02-17T18:13:07.613Z"
   },
   {
    "duration": 19,
    "start_time": "2022-02-17T18:13:07.649Z"
   },
   {
    "duration": 75,
    "start_time": "2022-02-17T18:13:07.671Z"
   },
   {
    "duration": 6,
    "start_time": "2022-02-17T18:13:07.749Z"
   },
   {
    "duration": 85,
    "start_time": "2022-02-17T18:13:07.757Z"
   },
   {
    "duration": 37,
    "start_time": "2022-02-17T18:13:13.217Z"
   },
   {
    "duration": 35,
    "start_time": "2022-02-17T18:13:21.833Z"
   },
   {
    "duration": 33,
    "start_time": "2022-02-17T18:13:27.040Z"
   },
   {
    "duration": 39,
    "start_time": "2022-02-17T18:13:31.601Z"
   },
   {
    "duration": 255,
    "start_time": "2022-02-17T18:13:40.826Z"
   },
   {
    "duration": 126,
    "start_time": "2022-02-17T18:14:15.171Z"
   },
   {
    "duration": 267,
    "start_time": "2022-02-17T18:14:36.458Z"
   },
   {
    "duration": 268,
    "start_time": "2022-02-17T18:16:52.578Z"
   },
   {
    "duration": 268,
    "start_time": "2022-02-17T18:17:37.769Z"
   },
   {
    "duration": 270,
    "start_time": "2022-02-17T18:17:55.562Z"
   },
   {
    "duration": 7000,
    "start_time": "2022-02-17T19:47:15.498Z"
   },
   {
    "duration": 7059,
    "start_time": "2022-02-17T19:47:45.890Z"
   },
   {
    "duration": 13728,
    "start_time": "2022-02-17T19:48:01.388Z"
   },
   {
    "duration": 265,
    "start_time": "2022-02-17T19:49:44.491Z"
   },
   {
    "duration": 14262,
    "start_time": "2022-02-17T19:49:51.665Z"
   },
   {
    "duration": 123,
    "start_time": "2022-02-17T19:54:45.993Z"
   },
   {
    "duration": 26722,
    "start_time": "2022-02-17T19:55:11.404Z"
   },
   {
    "duration": 13437,
    "start_time": "2022-02-17T19:58:46.346Z"
   },
   {
    "duration": 19,
    "start_time": "2022-02-17T20:03:03.982Z"
   },
   {
    "duration": 17,
    "start_time": "2022-02-17T20:05:03.340Z"
   },
   {
    "duration": 13,
    "start_time": "2022-02-17T20:07:18.492Z"
   },
   {
    "duration": 13,
    "start_time": "2022-02-17T20:07:25.811Z"
   },
   {
    "duration": 51,
    "start_time": "2022-02-17T20:08:25.836Z"
   },
   {
    "duration": 46,
    "start_time": "2022-02-17T20:08:31.435Z"
   },
   {
    "duration": 41,
    "start_time": "2022-02-17T20:08:59.309Z"
   },
   {
    "duration": 7,
    "start_time": "2022-02-17T20:09:19.819Z"
   },
   {
    "duration": 7,
    "start_time": "2022-02-17T20:09:24.853Z"
   },
   {
    "duration": 235,
    "start_time": "2022-02-17T20:10:32.052Z"
   },
   {
    "duration": 11378,
    "start_time": "2022-02-17T20:10:38.834Z"
   },
   {
    "duration": 43,
    "start_time": "2022-02-17T20:11:04.571Z"
   },
   {
    "duration": 34,
    "start_time": "2022-02-17T20:17:38.305Z"
   },
   {
    "duration": 251,
    "start_time": "2022-02-17T20:35:19.118Z"
   },
   {
    "duration": 243,
    "start_time": "2022-02-17T20:38:04.059Z"
   },
   {
    "duration": 10448,
    "start_time": "2022-02-17T20:38:15.157Z"
   },
   {
    "duration": 70,
    "start_time": "2022-02-17T20:41:29.250Z"
   },
   {
    "duration": 1612,
    "start_time": "2022-02-18T05:43:17.860Z"
   },
   {
    "duration": 11,
    "start_time": "2022-02-18T05:47:28.574Z"
   },
   {
    "duration": 101,
    "start_time": "2022-02-18T05:47:28.589Z"
   },
   {
    "duration": 150,
    "start_time": "2022-02-18T05:47:28.694Z"
   },
   {
    "duration": 23,
    "start_time": "2022-02-18T05:47:28.846Z"
   },
   {
    "duration": 73,
    "start_time": "2022-02-18T05:47:28.872Z"
   },
   {
    "duration": 74,
    "start_time": "2022-02-18T05:47:28.947Z"
   },
   {
    "duration": 14,
    "start_time": "2022-02-18T05:47:29.023Z"
   },
   {
    "duration": 14,
    "start_time": "2022-02-18T05:47:29.040Z"
   },
   {
    "duration": 62,
    "start_time": "2022-02-18T05:47:29.058Z"
   },
   {
    "duration": 6,
    "start_time": "2022-02-18T05:47:29.123Z"
   },
   {
    "duration": 12,
    "start_time": "2022-02-18T05:47:29.132Z"
   },
   {
    "duration": 19,
    "start_time": "2022-02-18T05:47:29.147Z"
   },
   {
    "duration": 8,
    "start_time": "2022-02-18T05:47:29.169Z"
   },
   {
    "duration": 20,
    "start_time": "2022-02-18T05:47:29.211Z"
   },
   {
    "duration": 21,
    "start_time": "2022-02-18T05:47:29.233Z"
   },
   {
    "duration": 359,
    "start_time": "2022-02-18T05:47:29.256Z"
   },
   {
    "duration": 2462,
    "start_time": "2022-02-18T05:47:29.617Z"
   },
   {
    "duration": 25,
    "start_time": "2022-02-18T05:47:32.081Z"
   },
   {
    "duration": 11,
    "start_time": "2022-02-18T05:47:32.108Z"
   },
   {
    "duration": 29,
    "start_time": "2022-02-18T05:47:32.121Z"
   },
   {
    "duration": 30,
    "start_time": "2022-02-18T05:47:32.153Z"
   },
   {
    "duration": 27,
    "start_time": "2022-02-18T05:47:32.186Z"
   },
   {
    "duration": 16,
    "start_time": "2022-02-18T05:47:32.216Z"
   },
   {
    "duration": 22,
    "start_time": "2022-02-18T05:47:32.235Z"
   },
   {
    "duration": 374,
    "start_time": "2022-02-18T05:47:32.260Z"
   },
   {
    "duration": 7,
    "start_time": "2022-02-18T05:47:32.637Z"
   },
   {
    "duration": 17,
    "start_time": "2022-02-18T05:47:32.651Z"
   },
   {
    "duration": 53,
    "start_time": "2022-02-18T05:47:32.672Z"
   },
   {
    "duration": 5,
    "start_time": "2022-02-18T05:47:32.728Z"
   },
   {
    "duration": 32,
    "start_time": "2022-02-18T05:47:32.736Z"
   },
   {
    "duration": 46,
    "start_time": "2022-02-18T05:47:32.771Z"
   },
   {
    "duration": 12,
    "start_time": "2022-02-18T05:47:32.820Z"
   },
   {
    "duration": 47,
    "start_time": "2022-02-18T05:47:32.835Z"
   },
   {
    "duration": 7,
    "start_time": "2022-02-18T05:47:32.911Z"
   },
   {
    "duration": 249,
    "start_time": "2022-02-18T05:47:32.920Z"
   },
   {
    "duration": 10978,
    "start_time": "2022-02-18T05:47:33.172Z"
   },
   {
    "duration": 63,
    "start_time": "2022-02-18T05:47:44.154Z"
   },
   {
    "duration": 439,
    "start_time": "2022-02-18T05:47:44.221Z"
   },
   {
    "duration": 10250,
    "start_time": "2022-02-18T05:47:44.663Z"
   },
   {
    "duration": 102,
    "start_time": "2022-02-18T05:47:54.916Z"
   },
   {
    "duration": 16,
    "start_time": "2022-02-18T05:47:55.111Z"
   },
   {
    "duration": 9,
    "start_time": "2022-02-18T05:48:03.944Z"
   },
   {
    "duration": 9,
    "start_time": "2022-02-18T05:49:34.680Z"
   },
   {
    "duration": 13,
    "start_time": "2022-02-18T05:50:10.369Z"
   },
   {
    "duration": 337,
    "start_time": "2022-02-18T05:53:12.463Z"
   },
   {
    "duration": 308,
    "start_time": "2022-02-18T05:53:52.591Z"
   },
   {
    "duration": 14,
    "start_time": "2022-02-18T05:55:12.574Z"
   },
   {
    "duration": 13,
    "start_time": "2022-02-18T05:55:23.136Z"
   },
   {
    "duration": 15674,
    "start_time": "2022-02-18T05:56:24.495Z"
   },
   {
    "duration": 163,
    "start_time": "2022-02-18T05:57:40.951Z"
   },
   {
    "duration": 1162,
    "start_time": "2022-02-18T15:20:26.894Z"
   },
   {
    "duration": 3,
    "start_time": "2022-02-18T15:20:28.057Z"
   },
   {
    "duration": 36,
    "start_time": "2022-02-18T15:20:28.061Z"
   },
   {
    "duration": 14,
    "start_time": "2022-02-18T15:20:28.099Z"
   },
   {
    "duration": 48,
    "start_time": "2022-02-18T15:20:28.115Z"
   },
   {
    "duration": 40,
    "start_time": "2022-02-18T15:20:28.164Z"
   },
   {
    "duration": 24,
    "start_time": "2022-02-18T15:20:28.206Z"
   },
   {
    "duration": 10,
    "start_time": "2022-02-18T15:20:28.233Z"
   },
   {
    "duration": 20,
    "start_time": "2022-02-18T15:20:28.245Z"
   },
   {
    "duration": 5,
    "start_time": "2022-02-18T15:20:28.266Z"
   },
   {
    "duration": 5,
    "start_time": "2022-02-18T15:20:28.272Z"
   },
   {
    "duration": 15,
    "start_time": "2022-02-18T15:20:28.278Z"
   },
   {
    "duration": 35,
    "start_time": "2022-02-18T15:20:28.295Z"
   },
   {
    "duration": 15,
    "start_time": "2022-02-18T15:20:28.332Z"
   },
   {
    "duration": 14,
    "start_time": "2022-02-18T15:20:28.348Z"
   },
   {
    "duration": 221,
    "start_time": "2022-02-18T15:20:28.364Z"
   },
   {
    "duration": 1591,
    "start_time": "2022-02-18T15:20:28.586Z"
   },
   {
    "duration": 18,
    "start_time": "2022-02-18T15:20:30.178Z"
   },
   {
    "duration": 8,
    "start_time": "2022-02-18T15:20:30.197Z"
   },
   {
    "duration": 27,
    "start_time": "2022-02-18T15:20:30.206Z"
   },
   {
    "duration": 24,
    "start_time": "2022-02-18T15:20:30.235Z"
   },
   {
    "duration": 4,
    "start_time": "2022-02-18T15:20:30.260Z"
   },
   {
    "duration": 15,
    "start_time": "2022-02-18T15:20:30.268Z"
   },
   {
    "duration": 30,
    "start_time": "2022-02-18T15:20:30.285Z"
   },
   {
    "duration": 223,
    "start_time": "2022-02-18T15:20:30.317Z"
   },
   {
    "duration": 4,
    "start_time": "2022-02-18T15:20:30.542Z"
   },
   {
    "duration": 34,
    "start_time": "2022-02-18T15:20:30.548Z"
   },
   {
    "duration": 12,
    "start_time": "2022-02-18T15:20:30.583Z"
   },
   {
    "duration": 8,
    "start_time": "2022-02-18T15:20:30.597Z"
   },
   {
    "duration": 29,
    "start_time": "2022-02-18T15:20:30.607Z"
   },
   {
    "duration": 13,
    "start_time": "2022-02-18T15:20:30.637Z"
   },
   {
    "duration": 11,
    "start_time": "2022-02-18T15:20:30.651Z"
   },
   {
    "duration": 30,
    "start_time": "2022-02-18T15:20:30.664Z"
   },
   {
    "duration": 5,
    "start_time": "2022-02-18T15:20:30.695Z"
   },
   {
    "duration": 163,
    "start_time": "2022-02-18T15:20:30.730Z"
   },
   {
    "duration": 7074,
    "start_time": "2022-02-18T15:20:30.895Z"
   },
   {
    "duration": 65,
    "start_time": "2022-02-18T15:20:37.970Z"
   },
   {
    "duration": 298,
    "start_time": "2022-02-18T15:20:38.037Z"
   },
   {
    "duration": 6949,
    "start_time": "2022-02-18T15:20:38.337Z"
   },
   {
    "duration": 144,
    "start_time": "2022-02-18T15:20:45.287Z"
   },
   {
    "duration": 94,
    "start_time": "2022-02-18T15:20:45.437Z"
   },
   {
    "duration": 12,
    "start_time": "2022-02-18T15:20:45.533Z"
   },
   {
    "duration": 236,
    "start_time": "2022-02-18T15:20:45.547Z"
   },
   {
    "duration": 9826,
    "start_time": "2022-02-18T15:20:45.785Z"
   },
   {
    "duration": 44,
    "start_time": "2022-02-18T15:20:55.613Z"
   },
   {
    "duration": 11,
    "start_time": "2022-02-18T15:21:02.368Z"
   },
   {
    "duration": 89,
    "start_time": "2022-02-18T15:33:31.230Z"
   },
   {
    "duration": 3624,
    "start_time": "2022-02-18T15:38:12.157Z"
   },
   {
    "duration": 19,
    "start_time": "2022-02-18T15:39:36.519Z"
   },
   {
    "duration": 4,
    "start_time": "2022-02-18T16:24:33.048Z"
   },
   {
    "duration": 10,
    "start_time": "2022-02-18T16:24:37.951Z"
   },
   {
    "duration": 3,
    "start_time": "2022-02-18T16:24:55.959Z"
   },
   {
    "duration": 9,
    "start_time": "2022-02-18T16:25:03.383Z"
   },
   {
    "duration": 3,
    "start_time": "2022-02-18T16:25:30.007Z"
   },
   {
    "duration": 9,
    "start_time": "2022-02-18T16:25:35.799Z"
   },
   {
    "duration": 268,
    "start_time": "2022-02-18T16:28:52.383Z"
   },
   {
    "duration": 144,
    "start_time": "2022-02-18T16:29:17.038Z"
   },
   {
    "duration": 5,
    "start_time": "2022-02-18T16:29:35.733Z"
   },
   {
    "duration": 15,
    "start_time": "2022-02-18T16:29:40.325Z"
   },
   {
    "duration": 41,
    "start_time": "2022-02-18T16:29:49.399Z"
   },
   {
    "duration": 18,
    "start_time": "2022-02-18T16:29:55.222Z"
   },
   {
    "duration": 18,
    "start_time": "2022-02-18T16:30:14.526Z"
   },
   {
    "duration": 145,
    "start_time": "2022-02-18T16:30:24.822Z"
   },
   {
    "duration": 9,
    "start_time": "2022-02-18T16:30:47.175Z"
   },
   {
    "duration": 192,
    "start_time": "2022-02-18T16:30:48.766Z"
   },
   {
    "duration": 181,
    "start_time": "2022-02-18T16:30:59.447Z"
   },
   {
    "duration": 7,
    "start_time": "2022-02-18T16:31:31.871Z"
   },
   {
    "duration": 20,
    "start_time": "2022-02-18T16:32:01.485Z"
   },
   {
    "duration": 21,
    "start_time": "2022-02-18T16:32:45.909Z"
   },
   {
    "duration": 20,
    "start_time": "2022-02-18T16:33:16.261Z"
   },
   {
    "duration": 21,
    "start_time": "2022-02-18T16:33:19.148Z"
   },
   {
    "duration": 20,
    "start_time": "2022-02-18T16:33:39.030Z"
   },
   {
    "duration": 151,
    "start_time": "2022-02-18T16:34:31.156Z"
   },
   {
    "duration": 5,
    "start_time": "2022-02-18T16:34:39.996Z"
   },
   {
    "duration": 20,
    "start_time": "2022-02-18T16:34:54.028Z"
   },
   {
    "duration": 20,
    "start_time": "2022-02-18T16:35:00.956Z"
   },
   {
    "duration": 37,
    "start_time": "2022-02-18T16:35:19.117Z"
   },
   {
    "duration": 34,
    "start_time": "2022-02-18T16:35:28.558Z"
   },
   {
    "duration": 146,
    "start_time": "2022-02-18T16:37:38.588Z"
   },
   {
    "duration": 132,
    "start_time": "2022-02-18T16:39:00.605Z"
   },
   {
    "duration": 142,
    "start_time": "2022-02-18T16:39:03.028Z"
   },
   {
    "duration": 158,
    "start_time": "2022-02-18T16:40:51.181Z"
   },
   {
    "duration": 180,
    "start_time": "2022-02-18T16:41:31.828Z"
   },
   {
    "duration": 145,
    "start_time": "2022-02-18T16:41:50.028Z"
   },
   {
    "duration": 43,
    "start_time": "2022-02-18T16:42:50.787Z"
   },
   {
    "duration": 332,
    "start_time": "2022-02-18T16:43:07.883Z"
   },
   {
    "duration": 9,
    "start_time": "2022-02-18T16:43:49.354Z"
   },
   {
    "duration": 6,
    "start_time": "2022-02-18T16:43:54.531Z"
   },
   {
    "duration": 9,
    "start_time": "2022-02-18T16:44:21.859Z"
   },
   {
    "duration": 5,
    "start_time": "2022-02-18T16:45:32.262Z"
   },
   {
    "duration": 349,
    "start_time": "2022-02-18T17:01:59.181Z"
   },
   {
    "duration": 34,
    "start_time": "2022-02-18T17:02:17.559Z"
   },
   {
    "duration": 133,
    "start_time": "2022-02-18T17:03:29.758Z"
   },
   {
    "duration": 12,
    "start_time": "2022-02-18T17:04:03.294Z"
   },
   {
    "duration": 10028,
    "start_time": "2022-02-18T17:08:42.388Z"
   },
   {
    "duration": 6863,
    "start_time": "2022-02-18T17:09:49.131Z"
   },
   {
    "duration": 3618,
    "start_time": "2022-02-18T17:10:20.524Z"
   },
   {
    "duration": 360,
    "start_time": "2022-02-18T17:11:29.723Z"
   },
   {
    "duration": 49392,
    "start_time": "2022-02-18T17:12:45.322Z"
   },
   {
    "duration": 30,
    "start_time": "2022-02-18T17:14:04.386Z"
   },
   {
    "duration": 263,
    "start_time": "2022-02-18T17:17:56.558Z"
   },
   {
    "duration": 165,
    "start_time": "2022-02-18T17:18:20.554Z"
   },
   {
    "duration": 20,
    "start_time": "2022-02-18T17:21:10.144Z"
   },
   {
    "duration": 19,
    "start_time": "2022-02-18T17:21:20.391Z"
   },
   {
    "duration": 179,
    "start_time": "2022-02-18T17:23:33.151Z"
   },
   {
    "duration": 131,
    "start_time": "2022-02-18T17:25:48.378Z"
   },
   {
    "duration": 5,
    "start_time": "2022-02-18T17:26:35.263Z"
   },
   {
    "duration": 184,
    "start_time": "2022-02-18T17:26:39.135Z"
   },
   {
    "duration": 206,
    "start_time": "2022-02-18T17:27:01.750Z"
   },
   {
    "duration": 189,
    "start_time": "2022-02-18T17:28:12.094Z"
   },
   {
    "duration": 206,
    "start_time": "2022-02-18T17:28:22.998Z"
   },
   {
    "duration": 176,
    "start_time": "2022-02-18T17:29:16.526Z"
   },
   {
    "duration": 150,
    "start_time": "2022-02-18T17:31:05.190Z"
   },
   {
    "duration": 328,
    "start_time": "2022-02-18T17:31:12.310Z"
   },
   {
    "duration": 189,
    "start_time": "2022-02-18T17:31:17.366Z"
   },
   {
    "duration": 198,
    "start_time": "2022-02-18T17:33:21.726Z"
   },
   {
    "duration": 97798,
    "start_time": "2022-02-18T17:40:42.886Z"
   },
   {
    "duration": 39805,
    "start_time": "2022-02-18T17:42:21.076Z"
   },
   {
    "duration": 4,
    "start_time": "2022-02-18T17:43:15.170Z"
   },
   {
    "duration": 3,
    "start_time": "2022-02-18T17:43:27.739Z"
   },
   {
    "duration": 4,
    "start_time": "2022-02-18T17:43:35.298Z"
   },
   {
    "duration": 40061,
    "start_time": "2022-02-18T17:46:07.931Z"
   },
   {
    "duration": 55709,
    "start_time": "2022-02-18T17:49:51.721Z"
   },
   {
    "duration": 23933,
    "start_time": "2022-02-18T17:52:00.553Z"
   },
   {
    "duration": 8,
    "start_time": "2022-02-18T17:52:46.397Z"
   },
   {
    "duration": 5,
    "start_time": "2022-02-18T17:52:51.864Z"
   },
   {
    "duration": 29,
    "start_time": "2022-02-18T17:55:10.261Z"
   },
   {
    "duration": 214,
    "start_time": "2022-02-18T17:55:19.087Z"
   },
   {
    "duration": 42,
    "start_time": "2022-02-18T18:02:20.589Z"
   },
   {
    "duration": 92,
    "start_time": "2022-02-18T18:02:34.532Z"
   },
   {
    "duration": 651,
    "start_time": "2022-02-18T18:02:41.221Z"
   },
   {
    "duration": 28,
    "start_time": "2022-02-18T18:03:10.180Z"
   },
   {
    "duration": 55,
    "start_time": "2022-02-18T18:03:30.532Z"
   },
   {
    "duration": 716,
    "start_time": "2022-02-18T18:03:37.781Z"
   },
   {
    "duration": 207,
    "start_time": "2022-02-18T18:05:31.828Z"
   },
   {
    "duration": 679,
    "start_time": "2022-02-18T18:05:44.140Z"
   },
   {
    "duration": 695,
    "start_time": "2022-02-18T18:07:34.884Z"
   },
   {
    "duration": 671,
    "start_time": "2022-02-18T18:07:54.138Z"
   },
   {
    "duration": 251,
    "start_time": "2022-02-18T18:09:20.979Z"
   },
   {
    "duration": 6,
    "start_time": "2022-02-18T18:10:40.011Z"
   },
   {
    "duration": 153,
    "start_time": "2022-02-18T18:15:14.193Z"
   },
   {
    "duration": 153,
    "start_time": "2022-02-18T18:15:34.737Z"
   },
   {
    "duration": 81,
    "start_time": "2022-02-18T18:16:39.073Z"
   },
   {
    "duration": 773,
    "start_time": "2022-02-18T18:17:27.584Z"
   },
   {
    "duration": 4,
    "start_time": "2022-02-18T18:29:02.507Z"
   },
   {
    "duration": 9,
    "start_time": "2022-02-18T18:29:02.513Z"
   },
   {
    "duration": 31,
    "start_time": "2022-02-18T18:29:02.524Z"
   },
   {
    "duration": 12,
    "start_time": "2022-02-18T18:29:02.556Z"
   },
   {
    "duration": 37,
    "start_time": "2022-02-18T18:29:02.570Z"
   },
   {
    "duration": 56,
    "start_time": "2022-02-18T18:29:02.609Z"
   },
   {
    "duration": 10,
    "start_time": "2022-02-18T18:29:02.668Z"
   },
   {
    "duration": 9,
    "start_time": "2022-02-18T18:29:02.680Z"
   },
   {
    "duration": 53,
    "start_time": "2022-02-18T18:29:02.690Z"
   },
   {
    "duration": 5,
    "start_time": "2022-02-18T18:29:02.745Z"
   },
   {
    "duration": 8,
    "start_time": "2022-02-18T18:29:02.752Z"
   },
   {
    "duration": 17,
    "start_time": "2022-02-18T18:29:02.762Z"
   },
   {
    "duration": 7,
    "start_time": "2022-02-18T18:29:02.781Z"
   },
   {
    "duration": 40,
    "start_time": "2022-02-18T18:29:02.792Z"
   },
   {
    "duration": 15,
    "start_time": "2022-02-18T18:29:02.835Z"
   },
   {
    "duration": 223,
    "start_time": "2022-02-18T18:29:02.852Z"
   },
   {
    "duration": 1909,
    "start_time": "2022-02-18T18:29:03.077Z"
   },
   {
    "duration": 18,
    "start_time": "2022-02-18T18:29:04.988Z"
   },
   {
    "duration": 9,
    "start_time": "2022-02-18T18:29:05.008Z"
   },
   {
    "duration": 22,
    "start_time": "2022-02-18T18:29:05.019Z"
   },
   {
    "duration": 21,
    "start_time": "2022-02-18T18:29:05.043Z"
   },
   {
    "duration": 5,
    "start_time": "2022-02-18T18:29:05.066Z"
   },
   {
    "duration": 11,
    "start_time": "2022-02-18T18:29:05.073Z"
   },
   {
    "duration": 14,
    "start_time": "2022-02-18T18:29:05.086Z"
   },
   {
    "duration": 218,
    "start_time": "2022-02-18T18:29:05.131Z"
   },
   {
    "duration": 4,
    "start_time": "2022-02-18T18:29:05.351Z"
   },
   {
    "duration": 19,
    "start_time": "2022-02-18T18:29:05.357Z"
   },
   {
    "duration": 16,
    "start_time": "2022-02-18T18:29:05.378Z"
   },
   {
    "duration": 4,
    "start_time": "2022-02-18T18:29:05.396Z"
   },
   {
    "duration": 43,
    "start_time": "2022-02-18T18:29:05.402Z"
   },
   {
    "duration": 11,
    "start_time": "2022-02-18T18:29:05.447Z"
   },
   {
    "duration": 8,
    "start_time": "2022-02-18T18:29:05.459Z"
   },
   {
    "duration": 29,
    "start_time": "2022-02-18T18:29:05.469Z"
   },
   {
    "duration": 32,
    "start_time": "2022-02-18T18:29:05.499Z"
   },
   {
    "duration": 165,
    "start_time": "2022-02-18T18:29:05.533Z"
   },
   {
    "duration": 39942,
    "start_time": "2022-02-18T18:29:05.700Z"
   },
   {
    "duration": 88,
    "start_time": "2022-02-18T18:29:45.644Z"
   },
   {
    "duration": 264,
    "start_time": "2022-02-18T18:29:45.738Z"
   },
   {
    "duration": 41119,
    "start_time": "2022-02-18T18:29:46.004Z"
   },
   {
    "duration": 30,
    "start_time": "2022-02-18T18:30:27.125Z"
   },
   {
    "duration": 98,
    "start_time": "2022-02-18T18:30:27.232Z"
   },
   {
    "duration": 10,
    "start_time": "2022-02-18T18:30:27.332Z"
   },
   {
    "duration": 224,
    "start_time": "2022-02-18T18:30:27.343Z"
   },
   {
    "duration": 57846,
    "start_time": "2022-02-18T18:30:27.569Z"
   },
   {
    "duration": 115,
    "start_time": "2022-02-18T18:31:25.417Z"
   },
   {
    "duration": 101,
    "start_time": "2022-02-18T18:31:25.535Z"
   },
   {
    "duration": 112,
    "start_time": "2022-02-18T18:31:25.638Z"
   },
   {
    "duration": 25184,
    "start_time": "2022-02-18T18:31:25.755Z"
   },
   {
    "duration": 91,
    "start_time": "2022-02-18T18:31:50.940Z"
   },
   {
    "duration": 105,
    "start_time": "2022-02-18T18:31:51.035Z"
   },
   {
    "duration": 8,
    "start_time": "2022-02-18T18:31:51.142Z"
   },
   {
    "duration": 28,
    "start_time": "2022-02-18T18:31:51.152Z"
   },
   {
    "duration": 225,
    "start_time": "2022-02-18T18:31:51.182Z"
   },
   {
    "duration": 761,
    "start_time": "2022-02-18T18:31:51.409Z"
   },
   {
    "duration": 216,
    "start_time": "2022-02-18T18:31:52.172Z"
   }
  ],
  "kernelspec": {
   "display_name": "Python 3 (ipykernel)",
   "language": "python",
   "name": "python3"
  },
  "language_info": {
   "codemirror_mode": {
    "name": "ipython",
    "version": 3
   },
   "file_extension": ".py",
   "mimetype": "text/x-python",
   "name": "python",
   "nbconvert_exporter": "python",
   "pygments_lexer": "ipython3",
   "version": "3.9.7"
  },
  "toc": {
   "base_numbering": 1,
   "nav_menu": {},
   "number_sections": true,
   "sideBar": true,
   "skip_h1_title": true,
   "title_cell": "Содержание",
   "title_sidebar": "Contents",
   "toc_cell": true,
   "toc_position": {
    "height": "calc(100% - 180px)",
    "left": "10px",
    "top": "150px",
    "width": "366.391px"
   },
   "toc_section_display": true,
   "toc_window_display": false
  }
 },
 "nbformat": 4,
 "nbformat_minor": 2
}
